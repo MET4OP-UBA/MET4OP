{
 "cells": [
  {
   "cell_type": "markdown",
   "id": "b1ed8ec2-9391-4ceb-a7ca-c7ac9ba97ca8",
   "metadata": {},
   "source": [
    "EJERCICIOS DE SUMATORIA"
   ]
  },
  {
   "cell_type": "code",
   "execution_count": 3,
   "id": "eff8d67d-d11d-4456-a4de-6ee61e50a5e7",
   "metadata": {},
   "outputs": [
    {
     "data": {
      "text/plain": [
       "1240"
      ]
     },
     "execution_count": 3,
     "metadata": {},
     "output_type": "execute_result"
    }
   ],
   "source": [
    "caso1 = 1**2 + 2**2 + 3**2 + 4**2 + 5**2 + 6**2 + 7**2 + 8**2 + 9**2 +10**2 + 11**2 + 12**2 + 13**2 + 14**2 + 15**2\n",
    "caso1"
   ]
  },
  {
   "cell_type": "code",
   "execution_count": 4,
   "id": "1dd3f66b-0c7e-46f5-acd8-ad4cd9daec91",
   "metadata": {},
   "outputs": [
    {
     "data": {
      "text/plain": [
       "1240"
      ]
     },
     "execution_count": 4,
     "metadata": {},
     "output_type": "execute_result"
    }
   ],
   "source": [
    "\n",
    "caso1 = 0\n",
    "for x in range(1, 16):\n",
    "    caso1 += x**2\n",
    "\n",
    "caso1\n"
   ]
  },
  {
   "cell_type": "code",
   "execution_count": 43,
   "id": "96bbdd7b-604c-4f14-9bf0-3b4c8dcc54ff",
   "metadata": {},
   "outputs": [
    {
     "name": "stdout",
     "output_type": "stream",
     "text": [
      "20\n",
      "20\n"
     ]
    }
   ],
   "source": [
    "a = 2\n",
    "caso2 = sum(x * a for x in range(1, 5))\n",
    "print(caso2)\n",
    "\n",
    "print(1*2+2*2+3*2+4*2)"
   ]
  },
  {
   "cell_type": "code",
   "execution_count": null,
   "id": "71c93e18-9c81-4937-bebe-da537ef7563f",
   "metadata": {},
   "outputs": [],
   "source": []
  },
  {
   "cell_type": "markdown",
   "id": "9bc67a03-9f93-47ba-838a-b8ba53eec019",
   "metadata": {},
   "source": [
    "ej 2"
   ]
  },
  {
   "cell_type": "code",
   "execution_count": 11,
   "id": "a3a6816f-b75a-4493-abb1-f4a171fa9031",
   "metadata": {},
   "outputs": [],
   "source": [
    "observaciones = (2, 3, 1, 2, 2, 4, 8, 5, 5, 3, 4, 6, 3, 5, 0)"
   ]
  },
  {
   "cell_type": "code",
   "execution_count": 14,
   "id": "e3bd1df8-746e-4110-a72f-a0effcc18022",
   "metadata": {},
   "outputs": [
    {
     "data": {
      "text/plain": [
       "53"
      ]
     },
     "execution_count": 14,
     "metadata": {},
     "output_type": "execute_result"
    }
   ],
   "source": [
    "caso1=0\n",
    "caso1 = sum(observaciones)\n",
    "caso1"
   ]
  },
  {
   "cell_type": "code",
   "execution_count": 13,
   "id": "729c8b16-440e-472f-8c45-f35ea7440e48",
   "metadata": {},
   "outputs": [
    {
     "data": {
      "text/plain": [
       "22"
      ]
     },
     "execution_count": 13,
     "metadata": {},
     "output_type": "execute_result"
    }
   ],
   "source": [
    "caso2=sum(x**2 for x in observaciones[:5])\n",
    "caso2"
   ]
  },
  {
   "cell_type": "code",
   "execution_count": 17,
   "id": "6b9d8fae-9a15-4a56-ac51-12b0795d6ea8",
   "metadata": {},
   "outputs": [
    {
     "data": {
      "text/plain": [
       "19"
      ]
     },
     "execution_count": 17,
     "metadata": {},
     "output_type": "execute_result"
    }
   ],
   "source": [
    "caso3=sum(x for x in observaciones[4:8])\n",
    "caso3"
   ]
  },
  {
   "cell_type": "code",
   "execution_count": 18,
   "id": "ebcc2299-36e0-47f6-9d6c-0cf690f92856",
   "metadata": {},
   "outputs": [
    {
     "data": {
      "text/plain": [
       "48"
      ]
     },
     "execution_count": 18,
     "metadata": {},
     "output_type": "execute_result"
    }
   ],
   "source": [
    "caso4=sum(x*3 for x in observaciones[9:13])\n",
    "caso4"
   ]
  },
  {
   "cell_type": "code",
   "execution_count": 23,
   "id": "b209ba60-9771-4987-8688-a892b40a8645",
   "metadata": {},
   "outputs": [
    {
     "data": {
      "text/plain": [
       "0.32"
      ]
     },
     "execution_count": 23,
     "metadata": {},
     "output_type": "execute_result"
    }
   ],
   "source": [
    "caso5=sum(x for x in observaciones[:4])/sum(x for x in observaciones[1:8])\n",
    "caso5"
   ]
  },
  {
   "cell_type": "code",
   "execution_count": 28,
   "id": "ad82e84e-05cc-4680-b8c3-8302ff1e32be",
   "metadata": {},
   "outputs": [
    {
     "data": {
      "text/plain": [
       "12"
      ]
     },
     "execution_count": 28,
     "metadata": {},
     "output_type": "execute_result"
    }
   ],
   "source": [
    "caso6= sum(observaciones[i] ** (i + 1) for i in range(3))\n",
    "caso6"
   ]
  },
  {
   "cell_type": "markdown",
   "id": "c7586984-6930-4d35-ad64-6a7dc19e3576",
   "metadata": {},
   "source": [
    "Ejercicios de distribucion"
   ]
  },
  {
   "cell_type": "code",
   "execution_count": 31,
   "id": "d3aa18be-03ef-422a-b689-5433fab6e3d2",
   "metadata": {},
   "outputs": [],
   "source": [
    "import numpy as np\n",
    "import pandas as pd"
   ]
  },
  {
   "cell_type": "markdown",
   "id": "62039888-2f47-406d-ba93-27dc3662f721",
   "metadata": {},
   "source": [
    "1. calcular la frecuencia acumulada"
   ]
  },
  {
   "cell_type": "code",
   "execution_count": 34,
   "id": "69cd2dc3-e716-4651-90a3-39865be0f96f",
   "metadata": {},
   "outputs": [
    {
     "data": {
      "text/html": [
       "<div>\n",
       "<style scoped>\n",
       "    .dataframe tbody tr th:only-of-type {\n",
       "        vertical-align: middle;\n",
       "    }\n",
       "\n",
       "    .dataframe tbody tr th {\n",
       "        vertical-align: top;\n",
       "    }\n",
       "\n",
       "    .dataframe thead th {\n",
       "        text-align: right;\n",
       "    }\n",
       "</style>\n",
       "<table border=\"1\" class=\"dataframe\">\n",
       "  <thead>\n",
       "    <tr style=\"text-align: right;\">\n",
       "      <th></th>\n",
       "      <th>xi</th>\n",
       "      <th>ni</th>\n",
       "      <th>Ni</th>\n",
       "    </tr>\n",
       "  </thead>\n",
       "  <tbody>\n",
       "    <tr>\n",
       "      <th>0</th>\n",
       "      <td>1</td>\n",
       "      <td>12</td>\n",
       "      <td>12</td>\n",
       "    </tr>\n",
       "    <tr>\n",
       "      <th>1</th>\n",
       "      <td>2</td>\n",
       "      <td>48</td>\n",
       "      <td>60</td>\n",
       "    </tr>\n",
       "    <tr>\n",
       "      <th>2</th>\n",
       "      <td>3</td>\n",
       "      <td>12</td>\n",
       "      <td>72</td>\n",
       "    </tr>\n",
       "    <tr>\n",
       "      <th>3</th>\n",
       "      <td>4</td>\n",
       "      <td>36</td>\n",
       "      <td>108</td>\n",
       "    </tr>\n",
       "    <tr>\n",
       "      <th>4</th>\n",
       "      <td>5</td>\n",
       "      <td>6</td>\n",
       "      <td>114</td>\n",
       "    </tr>\n",
       "    <tr>\n",
       "      <th>5</th>\n",
       "      <td>6</td>\n",
       "      <td>6</td>\n",
       "      <td>120</td>\n",
       "    </tr>\n",
       "  </tbody>\n",
       "</table>\n",
       "</div>"
      ],
      "text/plain": [
       "   xi  ni   Ni\n",
       "0   1  12   12\n",
       "1   2  48   60\n",
       "2   3  12   72\n",
       "3   4  36  108\n",
       "4   5   6  114\n",
       "5   6   6  120"
      ]
     },
     "execution_count": 34,
     "metadata": {},
     "output_type": "execute_result"
    }
   ],
   "source": [
    "data = {\n",
    "    'xi': [1, 2, 3, 4, 5, 6],\n",
    "    'ni': [12, 48, 12, 36, 6, 6]\n",
    "}\n",
    "df = pd.DataFrame(data)\n",
    "\n",
    "df['Ni'] = df['ni'].cumsum()\n",
    "\n",
    "df"
   ]
  },
  {
   "cell_type": "code",
   "execution_count": 36,
   "id": "a2aa5529-09ae-43e8-b32d-f8f483c2dc03",
   "metadata": {},
   "outputs": [
    {
     "name": "stdout",
     "output_type": "stream",
     "text": [
      "Modo: 2\n",
      "Mediana: 2\n",
      "Promedio: 2.95\n"
     ]
    }
   ],
   "source": [
    "data = {\n",
    "    'xi': [1, 2, 3, 4, 5, 6],\n",
    "    'fi': [0.10, 0.40, 0.10, 0.30, 0.05, 0.05]\n",
    "}\n",
    "df = pd.DataFrame(data)\n",
    "\n",
    "# Calcular el modo, la mediana y el promedio (media ponderada)\n",
    "moda = df.loc[df['fi'].idxmax(), 'xi']  # El modo es el xi con mayor frecuencia\n",
    "mediana = df.loc[(df['fi'].cumsum() >= 0.5).idxmax(), 'xi']  # Mediana cuando la acumulada pasa 0.5\n",
    "promedio = (df['xi'] * df['fi']).sum()  # Promedio ponderado\n",
    "\n",
    "print(f\"Modo: {moda}\")\n",
    "print(f\"Mediana: {mediana}\")\n",
    "print(f\"Promedio: {promedio}\")"
   ]
  },
  {
   "cell_type": "code",
   "execution_count": null,
   "id": "2b304ce3-dd2c-4f12-97d9-69f2de908e14",
   "metadata": {},
   "outputs": [],
   "source": []
  }
 ],
 "metadata": {
  "kernelspec": {
   "display_name": "Python 3 (ipykernel)",
   "language": "python",
   "name": "python3"
  },
  "language_info": {
   "codemirror_mode": {
    "name": "ipython",
    "version": 3
   },
   "file_extension": ".py",
   "mimetype": "text/x-python",
   "name": "python",
   "nbconvert_exporter": "python",
   "pygments_lexer": "ipython3",
   "version": "3.9.15"
  }
 },
 "nbformat": 4,
 "nbformat_minor": 5
}
