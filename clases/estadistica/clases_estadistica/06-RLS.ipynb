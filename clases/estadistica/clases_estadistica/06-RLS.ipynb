{
 "cells": [
  {
   "cell_type": "code",
   "execution_count": 14,
   "id": "6afd32e7-44d6-4d68-bab2-ea278b3ec6ed",
   "metadata": {},
   "outputs": [],
   "source": [
    "import numpy as np\n",
    "import pandas as pd\n",
    "import statsmodels.api as sm\n",
    "import matplotlib.pyplot as plt\n",
    "import seaborn as sns\n",
    "\n",
    "KENYA_NIGERIA = pd.read_excel('data/Kenya-Nigeria.xlsx')"
   ]
  },
  {
   "cell_type": "code",
   "execution_count": 27,
   "id": "db8474e1-a9e5-4df7-9ef7-fc4bf8ddb361",
   "metadata": {},
   "outputs": [
    {
     "data": {
      "text/html": [
       "<div>\n",
       "<style scoped>\n",
       "    .dataframe tbody tr th:only-of-type {\n",
       "        vertical-align: middle;\n",
       "    }\n",
       "\n",
       "    .dataframe tbody tr th {\n",
       "        vertical-align: top;\n",
       "    }\n",
       "\n",
       "    .dataframe thead th {\n",
       "        text-align: right;\n",
       "    }\n",
       "</style>\n",
       "<table border=\"1\" class=\"dataframe\">\n",
       "  <thead>\n",
       "    <tr style=\"text-align: right;\">\n",
       "      <th></th>\n",
       "      <th>Year</th>\n",
       "      <th>Kenya GDP Growth</th>\n",
       "      <th>Kenya Trade Volume</th>\n",
       "      <th>Nigeria GDP Growth</th>\n",
       "      <th>Nigeria Trade Volume</th>\n",
       "      <th>Combined GDP Growth</th>\n",
       "      <th>Combined Trade Volume</th>\n",
       "      <th>Inflation Rate</th>\n",
       "      <th>Employment Rate</th>\n",
       "      <th>Export Volume</th>\n",
       "    </tr>\n",
       "  </thead>\n",
       "  <tbody>\n",
       "    <tr>\n",
       "      <th>0</th>\n",
       "      <td>2003</td>\n",
       "      <td>4.70</td>\n",
       "      <td>15.00</td>\n",
       "      <td>7.20</td>\n",
       "      <td>30.00</td>\n",
       "      <td>11.90</td>\n",
       "      <td>45.00</td>\n",
       "      <td>1.81</td>\n",
       "      <td>97.27</td>\n",
       "      <td>8.53</td>\n",
       "    </tr>\n",
       "    <tr>\n",
       "      <th>1</th>\n",
       "      <td>2004</td>\n",
       "      <td>5.10</td>\n",
       "      <td>15.50</td>\n",
       "      <td>6.90</td>\n",
       "      <td>30.50</td>\n",
       "      <td>12.00</td>\n",
       "      <td>46.00</td>\n",
       "      <td>1.84</td>\n",
       "      <td>94.31</td>\n",
       "      <td>9.58</td>\n",
       "    </tr>\n",
       "    <tr>\n",
       "      <th>2</th>\n",
       "      <td>2005</td>\n",
       "      <td>5.40</td>\n",
       "      <td>16.00</td>\n",
       "      <td>6.60</td>\n",
       "      <td>31.00</td>\n",
       "      <td>12.00</td>\n",
       "      <td>47.00</td>\n",
       "      <td>1.47</td>\n",
       "      <td>92.02</td>\n",
       "      <td>9.97</td>\n",
       "    </tr>\n",
       "    <tr>\n",
       "      <th>3</th>\n",
       "      <td>2006</td>\n",
       "      <td>6.00</td>\n",
       "      <td>16.50</td>\n",
       "      <td>6.30</td>\n",
       "      <td>31.50</td>\n",
       "      <td>12.30</td>\n",
       "      <td>48.00</td>\n",
       "      <td>2.75</td>\n",
       "      <td>94.07</td>\n",
       "      <td>6.37</td>\n",
       "    </tr>\n",
       "    <tr>\n",
       "      <th>4</th>\n",
       "      <td>2007</td>\n",
       "      <td>7.00</td>\n",
       "      <td>17.00</td>\n",
       "      <td>6.00</td>\n",
       "      <td>32.00</td>\n",
       "      <td>13.00</td>\n",
       "      <td>49.00</td>\n",
       "      <td>1.69</td>\n",
       "      <td>97.35</td>\n",
       "      <td>7.13</td>\n",
       "    </tr>\n",
       "    <tr>\n",
       "      <th>5</th>\n",
       "      <td>2008</td>\n",
       "      <td>1.50</td>\n",
       "      <td>17.50</td>\n",
       "      <td>5.90</td>\n",
       "      <td>32.50</td>\n",
       "      <td>7.40</td>\n",
       "      <td>50.00</td>\n",
       "      <td>2.99</td>\n",
       "      <td>95.27</td>\n",
       "      <td>7.93</td>\n",
       "    </tr>\n",
       "    <tr>\n",
       "      <th>6</th>\n",
       "      <td>2009</td>\n",
       "      <td>2.70</td>\n",
       "      <td>18.00</td>\n",
       "      <td>6.30</td>\n",
       "      <td>33.00</td>\n",
       "      <td>9.00</td>\n",
       "      <td>51.00</td>\n",
       "      <td>2.76</td>\n",
       "      <td>97.38</td>\n",
       "      <td>6.46</td>\n",
       "    </tr>\n",
       "    <tr>\n",
       "      <th>7</th>\n",
       "      <td>2010</td>\n",
       "      <td>4.60</td>\n",
       "      <td>18.50</td>\n",
       "      <td>7.00</td>\n",
       "      <td>33.50</td>\n",
       "      <td>11.60</td>\n",
       "      <td>52.00</td>\n",
       "      <td>1.32</td>\n",
       "      <td>97.29</td>\n",
       "      <td>5.97</td>\n",
       "    </tr>\n",
       "    <tr>\n",
       "      <th>8</th>\n",
       "      <td>2011</td>\n",
       "      <td>5.30</td>\n",
       "      <td>19.00</td>\n",
       "      <td>8.00</td>\n",
       "      <td>34.00</td>\n",
       "      <td>13.30</td>\n",
       "      <td>53.00</td>\n",
       "      <td>1.65</td>\n",
       "      <td>99.83</td>\n",
       "      <td>5.02</td>\n",
       "    </tr>\n",
       "    <tr>\n",
       "      <th>9</th>\n",
       "      <td>2012</td>\n",
       "      <td>4.80</td>\n",
       "      <td>19.50</td>\n",
       "      <td>7.70</td>\n",
       "      <td>34.50</td>\n",
       "      <td>12.50</td>\n",
       "      <td>54.00</td>\n",
       "      <td>1.05</td>\n",
       "      <td>93.43</td>\n",
       "      <td>9.36</td>\n",
       "    </tr>\n",
       "    <tr>\n",
       "      <th>10</th>\n",
       "      <td>2013</td>\n",
       "      <td>5.90</td>\n",
       "      <td>20.50</td>\n",
       "      <td>5.40</td>\n",
       "      <td>40.00</td>\n",
       "      <td>11.30</td>\n",
       "      <td>60.50</td>\n",
       "      <td>2.08</td>\n",
       "      <td>95.59</td>\n",
       "      <td>8.85</td>\n",
       "    </tr>\n",
       "    <tr>\n",
       "      <th>11</th>\n",
       "      <td>2014</td>\n",
       "      <td>5.40</td>\n",
       "      <td>21.00</td>\n",
       "      <td>6.30</td>\n",
       "      <td>42.00</td>\n",
       "      <td>11.70</td>\n",
       "      <td>63.00</td>\n",
       "      <td>1.39</td>\n",
       "      <td>95.51</td>\n",
       "      <td>8.98</td>\n",
       "    </tr>\n",
       "    <tr>\n",
       "      <th>12</th>\n",
       "      <td>2015</td>\n",
       "      <td>5.70</td>\n",
       "      <td>21.50</td>\n",
       "      <td>2.70</td>\n",
       "      <td>38.00</td>\n",
       "      <td>8.40</td>\n",
       "      <td>59.50</td>\n",
       "      <td>1.54</td>\n",
       "      <td>93.53</td>\n",
       "      <td>8.70</td>\n",
       "    </tr>\n",
       "    <tr>\n",
       "      <th>13</th>\n",
       "      <td>2016</td>\n",
       "      <td>5.90</td>\n",
       "      <td>20.00</td>\n",
       "      <td>-1.60</td>\n",
       "      <td>35.00</td>\n",
       "      <td>4.30</td>\n",
       "      <td>55.00</td>\n",
       "      <td>1.03</td>\n",
       "      <td>95.63</td>\n",
       "      <td>7.88</td>\n",
       "    </tr>\n",
       "    <tr>\n",
       "      <th>14</th>\n",
       "      <td>2017</td>\n",
       "      <td>4.90</td>\n",
       "      <td>19.50</td>\n",
       "      <td>0.80</td>\n",
       "      <td>36.50</td>\n",
       "      <td>5.70</td>\n",
       "      <td>56.00</td>\n",
       "      <td>2.19</td>\n",
       "      <td>94.34</td>\n",
       "      <td>5.94</td>\n",
       "    </tr>\n",
       "    <tr>\n",
       "      <th>15</th>\n",
       "      <td>2018</td>\n",
       "      <td>6.30</td>\n",
       "      <td>18.00</td>\n",
       "      <td>1.90</td>\n",
       "      <td>37.00</td>\n",
       "      <td>8.20</td>\n",
       "      <td>55.00</td>\n",
       "      <td>2.75</td>\n",
       "      <td>98.30</td>\n",
       "      <td>8.50</td>\n",
       "    </tr>\n",
       "    <tr>\n",
       "      <th>16</th>\n",
       "      <td>2019</td>\n",
       "      <td>5.40</td>\n",
       "      <td>22.00</td>\n",
       "      <td>2.20</td>\n",
       "      <td>39.00</td>\n",
       "      <td>7.60</td>\n",
       "      <td>61.00</td>\n",
       "      <td>2.62</td>\n",
       "      <td>90.31</td>\n",
       "      <td>6.20</td>\n",
       "    </tr>\n",
       "    <tr>\n",
       "      <th>17</th>\n",
       "      <td>2020</td>\n",
       "      <td>-0.30</td>\n",
       "      <td>23.00</td>\n",
       "      <td>-1.80</td>\n",
       "      <td>38.00</td>\n",
       "      <td>-2.10</td>\n",
       "      <td>61.00</td>\n",
       "      <td>1.47</td>\n",
       "      <td>90.85</td>\n",
       "      <td>7.16</td>\n",
       "    </tr>\n",
       "    <tr>\n",
       "      <th>18</th>\n",
       "      <td>2021</td>\n",
       "      <td>5.00</td>\n",
       "      <td>24.00</td>\n",
       "      <td>3.40</td>\n",
       "      <td>40.50</td>\n",
       "      <td>8.40</td>\n",
       "      <td>64.50</td>\n",
       "      <td>2.45</td>\n",
       "      <td>96.24</td>\n",
       "      <td>8.11</td>\n",
       "    </tr>\n",
       "    <tr>\n",
       "      <th>19</th>\n",
       "      <td>2022</td>\n",
       "      <td>6.00</td>\n",
       "      <td>25.00</td>\n",
       "      <td>3.60</td>\n",
       "      <td>41.00</td>\n",
       "      <td>9.60</td>\n",
       "      <td>66.00</td>\n",
       "      <td>2.82</td>\n",
       "      <td>97.80</td>\n",
       "      <td>7.10</td>\n",
       "    </tr>\n",
       "    <tr>\n",
       "      <th>20</th>\n",
       "      <td>2023</td>\n",
       "      <td>5.50</td>\n",
       "      <td>26.00</td>\n",
       "      <td>3.20</td>\n",
       "      <td>42.50</td>\n",
       "      <td>8.70</td>\n",
       "      <td>68.50</td>\n",
       "      <td>1.20</td>\n",
       "      <td>94.38</td>\n",
       "      <td>6.42</td>\n",
       "    </tr>\n",
       "  </tbody>\n",
       "</table>\n",
       "</div>"
      ],
      "text/plain": [
       "    Year  Kenya GDP Growth  Kenya Trade Volume  Nigeria GDP Growth  \\\n",
       "0   2003              4.70               15.00                7.20   \n",
       "1   2004              5.10               15.50                6.90   \n",
       "2   2005              5.40               16.00                6.60   \n",
       "3   2006              6.00               16.50                6.30   \n",
       "4   2007              7.00               17.00                6.00   \n",
       "5   2008              1.50               17.50                5.90   \n",
       "6   2009              2.70               18.00                6.30   \n",
       "7   2010              4.60               18.50                7.00   \n",
       "8   2011              5.30               19.00                8.00   \n",
       "9   2012              4.80               19.50                7.70   \n",
       "10  2013              5.90               20.50                5.40   \n",
       "11  2014              5.40               21.00                6.30   \n",
       "12  2015              5.70               21.50                2.70   \n",
       "13  2016              5.90               20.00               -1.60   \n",
       "14  2017              4.90               19.50                0.80   \n",
       "15  2018              6.30               18.00                1.90   \n",
       "16  2019              5.40               22.00                2.20   \n",
       "17  2020             -0.30               23.00               -1.80   \n",
       "18  2021              5.00               24.00                3.40   \n",
       "19  2022              6.00               25.00                3.60   \n",
       "20  2023              5.50               26.00                3.20   \n",
       "\n",
       "    Nigeria Trade Volume  Combined GDP Growth  Combined Trade Volume  \\\n",
       "0                  30.00                11.90                  45.00   \n",
       "1                  30.50                12.00                  46.00   \n",
       "2                  31.00                12.00                  47.00   \n",
       "3                  31.50                12.30                  48.00   \n",
       "4                  32.00                13.00                  49.00   \n",
       "5                  32.50                 7.40                  50.00   \n",
       "6                  33.00                 9.00                  51.00   \n",
       "7                  33.50                11.60                  52.00   \n",
       "8                  34.00                13.30                  53.00   \n",
       "9                  34.50                12.50                  54.00   \n",
       "10                 40.00                11.30                  60.50   \n",
       "11                 42.00                11.70                  63.00   \n",
       "12                 38.00                 8.40                  59.50   \n",
       "13                 35.00                 4.30                  55.00   \n",
       "14                 36.50                 5.70                  56.00   \n",
       "15                 37.00                 8.20                  55.00   \n",
       "16                 39.00                 7.60                  61.00   \n",
       "17                 38.00                -2.10                  61.00   \n",
       "18                 40.50                 8.40                  64.50   \n",
       "19                 41.00                 9.60                  66.00   \n",
       "20                 42.50                 8.70                  68.50   \n",
       "\n",
       "    Inflation Rate  Employment Rate  Export Volume  \n",
       "0             1.81            97.27           8.53  \n",
       "1             1.84            94.31           9.58  \n",
       "2             1.47            92.02           9.97  \n",
       "3             2.75            94.07           6.37  \n",
       "4             1.69            97.35           7.13  \n",
       "5             2.99            95.27           7.93  \n",
       "6             2.76            97.38           6.46  \n",
       "7             1.32            97.29           5.97  \n",
       "8             1.65            99.83           5.02  \n",
       "9             1.05            93.43           9.36  \n",
       "10            2.08            95.59           8.85  \n",
       "11            1.39            95.51           8.98  \n",
       "12            1.54            93.53           8.70  \n",
       "13            1.03            95.63           7.88  \n",
       "14            2.19            94.34           5.94  \n",
       "15            2.75            98.30           8.50  \n",
       "16            2.62            90.31           6.20  \n",
       "17            1.47            90.85           7.16  \n",
       "18            2.45            96.24           8.11  \n",
       "19            2.82            97.80           7.10  \n",
       "20            1.20            94.38           6.42  "
      ]
     },
     "execution_count": 27,
     "metadata": {},
     "output_type": "execute_result"
    }
   ],
   "source": [
    "KENYA_NIGERIA"
   ]
  },
  {
   "cell_type": "markdown",
   "id": "6d40f36e-c9b6-4d23-b9b9-5e123db27734",
   "metadata": {},
   "source": [
    "Asociacion entre variables cuantitativas\n",
    "\n",
    "enfoque grafico\n",
    "\n",
    "graficos de dispersión"
   ]
  },
  {
   "cell_type": "code",
   "execution_count": 33,
   "id": "60672c35-b741-460b-86dc-6b7c4150f76a",
   "metadata": {},
   "outputs": [
    {
     "data": {
      "text/plain": [
       "Text(0, 0.5, 'Combined GDP Growth')"
      ]
     },
     "execution_count": 33,
     "metadata": {},
     "output_type": "execute_result"
    },
    {
     "data": {
      "image/png": "[encoded data removed]",
      "text/plain": [
       "<Figure size 800x600 with 1 Axes>"
      ]
     },
     "metadata": {},
     "output_type": "display_data"
    }
   ],
   "source": [
    "# Usamos tus variables seleccionadas\n",
    "x_var = 'Nigeria GDP Growth'\n",
    "y_var = 'Combined GDP Growth'\n",
    "\n",
    "# Paso 1: Gráfico de dispersión\n",
    "plt.figure(figsize=(8, 6))\n",
    "sns.scatterplot(x=KENYA_NIGERIA[x_var], y=KENYA_NIGERIA[y_var], s=50, color='blue')\n",
    "\n",
    "# Etiquetas y título del gráfico\n",
    "plt.title(f'Relación entre {x_var} y {y_var}', fontsize=14)\n",
    "plt.xlabel(x_var, fontsize=12)\n",
    "plt.ylabel(y_var, fontsize=12)"
   ]
  },
  {
   "cell_type": "markdown",
   "id": "4d3e525a-4d3f-4544-97ef-55b75059f21e",
   "metadata": {},
   "source": [
    "Enfoque numerico.\n",
    "\n",
    "Covarianza\n",
    "Mide asociación de tipo lineal\n",
    "Puede tomar cualquier valor\n",
    "Depende de las unidades de medida de las variables\n",
    "\n",
    "Es un promedio donde cada individuo aporta el producto de la distancia de su variable X respecto a la media * su variable y respecto a la media. Si estas co-variaciones tienen siempre la misma orientación, hablamos de una asociación de tipo lineal.\n",
    "Si priman las covariaciones positivas, tenemos relación directa\n",
    "Si priman la covariaciones negativas tenemos relación inversa\n",
    "Y si nos encontramos en torno al 0 no hay relacion\n",
    "\n",
    "(dibujo 1)"
   ]
  },
  {
   "cell_type": "markdown",
   "id": "9b82fc8e-8d77-45e7-83dc-017646f5da6a",
   "metadata": {},
   "source": [
    "Limitaciones de la covarianza…\n",
    "1.\tLa covarianza pude tomar cualquier valor entre -inf y +inf\n",
    "covarianza de 5 puede ser mas que de 1200\n",
    "2.\tLa covarianza depende del nivel de medición de las variables\n",
    "la covarianza entre altura en Cm y peso en Kg es distinta que la covarianza entre pies y libras cuando todas las mediciones se hacen sobre los mismo individuos\n",
    "\n"
   ]
  },
  {
   "cell_type": "markdown",
   "id": "502ca64c-3fd8-4b83-995d-d18047b60b5e",
   "metadata": {},
   "source": [
    "Indice de correlación lineal de Pearson.\n",
    "\n",
    "Es la covarianza dividia por el producto de los desvíos estándar de las dos variables.\n",
    "-1<= r <= 1\n",
    "- es independiente de las unidades de medida de las variables\n",
    "\n",
    "Como divide por un termino que es positivo, el signo del r viene dado por le signo de la covarianza  \n",
    "r+ asociación lineal directa  \n",
    "r- asociación lineal invers  a\n",
    "r=0 perfecta independencia  \n",
    "\n",
    "(dibujo 2)\n",
    "\n",
    "El coeficiente de correlación de Pearson solo nos sirve para indicar asociaciones de tipo lineal entre variables cuantitativas y esa es su  única utilidad. Un par de variables pueden tener un coeficiente de Pearson 0 y sin embargo tener otro tipo de asociación no lineal"
   ]
  },
  {
   "cell_type": "code",
   "execution_count": 34,
   "id": "06c92407-1a6c-44d4-8314-a5e1dff08b88",
   "metadata": {},
   "outputs": [
    {
     "name": "stdout",
     "output_type": "stream",
     "text": [
      "Correlación de Pearson entre Nigeria GDP Growth y Combined GDP Growth: 0.89\n"
     ]
    }
   ],
   "source": [
    "# Paso 2: Calcular la correlación de Pearson\n",
    "correlacion_pearson = KENYA_NIGERIA[x_var].corr(KENYA_NIGERIA[y_var])\n",
    "print(f'Correlación de Pearson entre {x_var} y {y_var}: {correlacion_pearson:.2f}')"
   ]
  },
  {
   "cell_type": "markdown",
   "id": "c4498062-17a3-4b7f-9ba3-781ba7c186ae",
   "metadata": {},
   "source": [
    "Regresion lineal\n",
    "Buscamos predecir la variable dependiente a través de la variable independiente o predictora\n",
    "\n",
    "El error se supone aleatorio y de media 0 para todo i\n",
    "ALFA y BETA son parámetros poblacionales desconcidos. Y uno propone estimadores/\n",
    "\n",
    "Puedo calcular el predictor de Y para cada individuo\n",
    "\n",
    "La diferencia entre el valor observado y el valor predicho se denomina RESIDUO\n",
    "Estimacion por minimos cuadrados> se busca la recata donde los los erroes son los minimos posibles. Siempre es calculable a través de este método\n",
    "\n",
    "Se deben plastear test de hipótesis para testear al significacia de  los estimadoresmde beta y alfa y descartar que no sean nulos\n",
    "\n",
    "Para la evaluación de los estimadores si necesitamos supuestos\n",
    "Que los errores siguen una distirbucion normal y con desvio sigma cuadrado y que esos errores son independientes entre si. Si se cumplen\n",
    "Podemos definir un estadístico de pueba T  que tiene distribución T de student\n",
    "Por que es importante todo esto? Porque si el estimador de BETA es 0, no podemos predecir.\n",
    "Ocurre algo idéntico en alfa, para saber si al ordenanada al origen no es 0. También podemos calcular une stadistico con distribución t de student\n",
    "Analisis de la varianza en regresión lineal= \n",
    "Test F \n",
    "\n",
    "Función OLS= \n",
    "Estimador de alfa=> const\n",
    "Estimador de beta =>v dependiente \n",
    "El estaditico t es = estimado/error estándar"
   ]
  },
  {
   "cell_type": "code",
   "execution_count": 35,
   "id": "8feddac5-3604-4379-965e-21dbee49a83c",
   "metadata": {},
   "outputs": [
    {
     "name": "stdout",
     "output_type": "stream",
     "text": [
      "                             OLS Regression Results                            \n",
      "===============================================================================\n",
      "Dep. Variable:     Combined GDP Growth   R-squared:                       0.793\n",
      "Model:                             OLS   Adj. R-squared:                  0.782\n",
      "Method:                  Least Squares   F-statistic:                     72.84\n",
      "Date:                 Sun, 22 Sep 2024   Prob (F-statistic):           6.33e-08\n",
      "Time:                         20:54:21   Log-Likelihood:                -39.795\n",
      "No. Observations:                   21   AIC:                             83.59\n",
      "Df Residuals:                       19   BIC:                             85.68\n",
      "Df Model:                            1                                         \n",
      "Covariance Type:             nonrobust                                         \n",
      "======================================================================================\n",
      "                         coef    std err          t      P>|t|      [0.025      0.975]\n",
      "--------------------------------------------------------------------------------------\n",
      "const                  4.4207      0.688      6.429      0.000       2.981       5.860\n",
      "Nigeria GDP Growth     1.1060      0.130      8.534      0.000       0.835       1.377\n",
      "==============================================================================\n",
      "Omnibus:                       12.091   Durbin-Watson:                   1.761\n",
      "Prob(Omnibus):                  0.002   Jarque-Bera (JB):                9.894\n",
      "Skew:                          -1.483   Prob(JB):                      0.00710\n",
      "Kurtosis:                       4.586   Cond. No.                         10.1\n",
      "==============================================================================\n",
      "\n",
      "Notes:\n",
      "[1] Standard Errors assume that the covariance matrix of the errors is correctly specified.\n"
     ]
    }
   ],
   "source": [
    "# Paso 3: Ajustar el modelo de regresión lineal\n",
    "X_simple = sm.add_constant(KENYA_NIGERIA[x_var])\n",
    "y_simple = KENYA_NIGERIA[y_var]\n",
    "\n",
    "modelo_simple = sm.OLS(y_simple, X_simple).fit()\n",
    "\n",
    "# Mostrar el resumen del modelo\n",
    "print(modelo_simple.summary())\n",
    "\n"
   ]
  },
  {
   "cell_type": "code",
   "execution_count": 37,
   "id": "06f725ee-32a1-409b-beed-c190a4afbc20",
   "metadata": {},
   "outputs": [
    {
     "data": {
      "image/png": "[encoded data removed]",
      "text/plain": [
       "<Figure size 640x480 with 1 Axes>"
      ]
     },
     "metadata": {},
     "output_type": "display_data"
    }
   ],
   "source": [
    "# Paso 4: Generar la recta de regresión\n",
    "# Gráfico de dispersión\n",
    "plt.scatter(KENYA_NIGERIA[x_var], KENYA_NIGERIA[y_var], label='Datos reales', color='blue')\n",
    "\n",
    "# Generar la recta de regresión\n",
    "intercepto, pendiente = modelo_simple.params\n",
    "x_vals = np.linspace(KENYA_NIGERIA[x_var].min(), KENYA_NIGERIA[x_var].max(), 100)\n",
    "y_vals = intercepto + pendiente * x_vals\n",
    "\n",
    "#  Dibujar la recta de regresión en el gráfico de dispersión\n",
    "plt.plot(x_vals, y_vals, color='red', label=f'Recta de regresión (pendiente={pendiente:.2f})')\n",
    "\n",
    "# Paso 4: Personalizar el gráfico\n",
    "plt.xlabel(x_var)\n",
    "plt.ylabel(y_var)\n",
    "plt.title('Regresion lineal de Crecimiento de Nigeria contra Crecimiento combinado ')\n",
    "plt.legend()\n",
    "\n",
    "# Mostrar el gráfico final\n",
    "plt.show()"
   ]
  },
  {
   "cell_type": "markdown",
   "id": "0a02a7f8-6931-45c9-a3ed-aff9f4c0a42b",
   "metadata": {},
   "source": [
    "Hasta aca solo nos dice si beta predice, no si la predicción es buena o mala\n",
    "\n",
    "La calidad de laprediccion se da por el R cuadrado y R cuadrado ajustado"
   ]
  },
  {
   "cell_type": "code",
   "execution_count": 38,
   "id": "50558c2f-43e3-40f9-b5da-42549e15a5d6",
   "metadata": {},
   "outputs": [
    {
     "data": {
      "text/plain": [
       "<matplotlib.collections.PathCollection at 0x1262448e450>"
      ]
     },
     "execution_count": 38,
     "metadata": {},
     "output_type": "execute_result"
    },
    {
     "data": {
      "image/png": "[encoded data removed]",
      "text/plain": [
       "<Figure size 640x480 with 1 Axes>"
      ]
     },
     "metadata": {},
     "output_type": "display_data"
    }
   ],
   "source": [
    "x_secundaria = 'Kenya GDP Growth'\n",
    "y_var = 'Combined GDP Growth'\n",
    "\n",
    "# Paso 1: Gráfico de dispersión\n",
    "plt.scatter(KENYA_NIGERIA[x_secundaria], KENYA_NIGERIA[y_var], label='Datos reales', color='blue')\n",
    "\n"
   ]
  },
  {
   "cell_type": "code",
   "execution_count": 39,
   "id": "eabd8684-d783-4d4c-b41e-3abf2fd4c1f1",
   "metadata": {},
   "outputs": [
    {
     "name": "stdout",
     "output_type": "stream",
     "text": [
      "Correlación de Pearson entre Kenya GDP Growth y Combined GDP Growth: 0.61\n"
     ]
    }
   ],
   "source": [
    "# Paso 2: Calcular la correlación de Pearson\n",
    "correlacion_pearson = KENYA_NIGERIA[x_secundaria].corr(KENYA_NIGERIA[y_var])\n",
    "print(f'Correlación de Pearson entre {x_secundaria} y {y_var}: {correlacion_pearson:.2f}')"
   ]
  },
  {
   "cell_type": "code",
   "execution_count": 40,
   "id": "84964220-9686-4126-830d-95a0624df070",
   "metadata": {},
   "outputs": [],
   "source": [
    "# Paso 2: Ajustar el modelo de regresión lineal\n",
    "X_simple_secundaria = sm.add_constant(KENYA_NIGERIA[x_secundaria])  # Añadir la constante\n",
    "modelo_simple_secundaria = sm.OLS(KENYA_NIGERIA[y_var], X_simple_secundaria).fit()"
   ]
  },
  {
   "cell_type": "code",
   "execution_count": 42,
   "id": "9bbd1059-533f-42e9-ba1a-21ff507ff93c",
   "metadata": {},
   "outputs": [
    {
     "data": {
      "image/png": "[encoded data removed]",
      "text/plain": [
       "<Figure size 640x480 with 1 Axes>"
      ]
     },
     "metadata": {},
     "output_type": "display_data"
    }
   ],
   "source": [
    "# Paso 3: Generar la recta de regresión\n",
    "plt.scatter(KENYA_NIGERIA[x_secundaria], KENYA_NIGERIA[y_var], label='Datos reales', color='blue')\n",
    "\n",
    "\n",
    "intercepto, pendiente = modelo_simple_secundaria.params\n",
    "x_vals = np.linspace(KENYA_NIGERIA[x_secundaria].min(), KENYA_NIGERIA[x_secundaria].max(), 100)\n",
    "y_vals = intercepto + pendiente * x_vals\n",
    "\n",
    "# Paso 4: Dibujar la recta de regresión en el gráfico de dispersión\n",
    "plt.plot(x_vals, y_vals, color='red', label=f'Recta de regresión (pendiente={pendiente:.2f})')\n",
    "\n",
    "# Paso 5: Personalizar el gráfico\n",
    "plt.xlabel(x_secundaria)\n",
    "plt.ylabel(y_var)\n",
    "plt.title('Gráfico de dispersión con recta de regresión')\n",
    "plt.legend()\n",
    "\n",
    "# Mostrar el gráfico final\n",
    "plt.show()\n"
   ]
  },
  {
   "cell_type": "code",
   "execution_count": 43,
   "id": "d0c5826b-051a-4561-8807-c0f1873ae7da",
   "metadata": {},
   "outputs": [
    {
     "name": "stdout",
     "output_type": "stream",
     "text": [
      "                             OLS Regression Results                            \n",
      "===============================================================================\n",
      "Dep. Variable:     Combined GDP Growth   R-squared:                       0.374\n",
      "Model:                             OLS   Adj. R-squared:                  0.341\n",
      "Method:                  Least Squares   F-statistic:                     11.34\n",
      "Date:                 Sun, 22 Sep 2024   Prob (F-statistic):            0.00324\n",
      "Time:                         21:10:46   Log-Likelihood:                -51.425\n",
      "No. Observations:                   21   AIC:                             106.8\n",
      "Df Residuals:                       19   BIC:                             108.9\n",
      "Df Model:                            1                                         \n",
      "Covariance Type:             nonrobust                                         \n",
      "====================================================================================\n",
      "                       coef    std err          t      P>|t|      [0.025      0.975]\n",
      "------------------------------------------------------------------------------------\n",
      "const                2.9052      2.025      1.435      0.168      -1.333       7.144\n",
      "Kenya GDP Growth     1.3209      0.392      3.367      0.003       0.500       2.142\n",
      "==============================================================================\n",
      "Omnibus:                        2.220   Durbin-Watson:                   0.428\n",
      "Prob(Omnibus):                  0.330   Jarque-Bera (JB):                1.857\n",
      "Skew:                          -0.633   Prob(JB):                        0.395\n",
      "Kurtosis:                       2.281   Cond. No.                         16.8\n",
      "==============================================================================\n",
      "\n",
      "Notes:\n",
      "[1] Standard Errors assume that the covariance matrix of the errors is correctly specified.\n"
     ]
    }
   ],
   "source": [
    "# Paso 6: Mostrar el resumen del modelo\n",
    "print(modelo_simple_secundaria.summary())"
   ]
  },
  {
   "cell_type": "code",
   "execution_count": 45,
   "id": "e739d781-1499-4fb7-8a1c-2285559025f9",
   "metadata": {},
   "outputs": [
    {
     "data": {
      "text/plain": [
       "<matplotlib.collections.PathCollection at 0x1262abb0680>"
      ]
     },
     "execution_count": 45,
     "metadata": {},
     "output_type": "execute_result"
    },
    {
     "data": {
      "image/png": "[encoded data removed]",
      "text/plain": [
       "<Figure size 640x480 with 1 Axes>"
      ]
     },
     "metadata": {},
     "output_type": "display_data"
    }
   ],
   "source": [
    "# Bonus track\n",
    "plt.scatter(KENYA_NIGERIA[x_var], KENYA_NIGERIA[y_var], label='Nigeria GDP Growth', color='blue')\n",
    "plt.scatter(KENYA_NIGERIA[x_secundaria], KENYA_NIGERIA[y_var], label='Kenya GDP Growth', color='green')\n",
    "# Etiquetas y título del gráfico\n",
    "plt.title(f'Relación entre {x_var} y {y_var}', fontsize=14)\n",
    "plt.xlabel(x_var, fontsize=12)\n",
    "plt.ylabel(y_var, fontsize=12)"
   ]
  },
  {
   "cell_type": "markdown",
   "id": "4ce9d195-96c4-46ae-b051-f5119065438a",
   "metadata": {},
   "source": [
    "el modelo de regresion propuesto solo sirve para estimar dentro del rango de valores propuestos en la muestra"
   ]
  },
  {
   "cell_type": "code",
   "execution_count": null,
   "id": "5440e549-e03a-43fb-8c2e-6e7aeccdb46d",
   "metadata": {},
   "outputs": [],
   "source": []
  },
  {
   "cell_type": "markdown",
   "id": "dc69bfe0-4d1a-4611-9eb1-09ffe716db77",
   "metadata": {},
   "source": []
  },
  {
   "cell_type": "code",
   "execution_count": null,
   "id": "4b6eff6b-abd0-41bb-800a-6548ddeed965",
   "metadata": {},
   "outputs": [],
   "source": []
  },
  {
   "cell_type": "markdown",
   "id": "79e6ccca-50e4-4551-8519-d272eda4a1a4",
   "metadata": {},
   "source": [
    "\n"
   ]
  },
  {
   "cell_type": "markdown",
   "id": "fe500f89-5bd9-4c6d-bdbe-9f9a4ac8b164",
   "metadata": {},
   "source": [
    "\n"
   ]
  }
 ],
 "metadata": {
  "kernelspec": {
   "display_name": "Python 3 (ipykernel)",
   "language": "python",
   "name": "python3"
  },
  "language_info": {
   "codemirror_mode": {
    "name": "ipython",
    "version": 3
   },
   "file_extension": ".py",
   "mimetype": "text/x-python",
   "name": "python",
   "nbconvert_exporter": "python",
   "pygments_lexer": "ipython3",
   "version": "3.9.15"
  }
 },
 "nbformat": 4,
 "nbformat_minor": 5
}
