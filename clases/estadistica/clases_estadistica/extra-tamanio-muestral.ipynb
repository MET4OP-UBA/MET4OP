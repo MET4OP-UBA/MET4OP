{
 "cells": [
  {
   "cell_type": "code",
   "execution_count": 9,
   "id": "8fb267ff-4117-4851-85cc-2cca88b700c4",
   "metadata": {},
   "outputs": [],
   "source": [
    "import pandas as pd\n",
    "import pingouin as pg\n",
    "import scipy.stats as stats\n",
    "import matplotlib.pyplot as plt\n",
    "import seaborn as sns\n",
    "from statsmodels.graphics.gofplots import qqplot\n",
    "from statsmodels.stats.power import TTestIndPower, TTestPower, zt_ind_solve_power, GofChisquarePower, FTestAnovaPower\n",
    "import statsmodels.api as sm"
   ]
  },
  {
   "cell_type": "markdown",
   "id": "4cf8dac8-ab62-4790-b068-a1c48f09a72c",
   "metadata": {},
   "source": [
    "Calculo del tamaño muestral"
   ]
  },
  {
   "cell_type": "code",
   "execution_count": 26,
   "id": "6e16bc06-5c5b-4bec-82df-a75348645349",
   "metadata": {},
   "outputs": [
    {
     "name": "stdout",
     "output_type": "stream",
     "text": [
      "Tamaño muestral para comparación de dos medias: 69.1978232639795\n"
     ]
    }
   ],
   "source": [
    "# Cálculo del tamaño del efecto. d=(mediah0-mediah1)/desvío\n",
    "\n",
    "# Cálculo del tamaño muestral para comparación de dos medias\n",
    "effect_size = 0.5\n",
    "alpha = 0.05\n",
    "power = 0.9\n",
    "\n",
    "analysis = TTestIndPower()\n",
    "sample_size = analysis.solve_power(effect_size=effect_size, alpha=alpha, power=power, alternative='larger')\n",
    "print(f\"Tamaño muestral para comparación de dos medias: {sample_size}\")\n"
   ]
  },
  {
   "cell_type": "code",
   "execution_count": 27,
   "id": "f19d7f71-5bb4-4482-a283-6c30c3e8ceae",
   "metadata": {},
   "outputs": [
    {
     "name": "stdout",
     "output_type": "stream",
     "text": [
      "Tamaño muestral para comparación de dos medias apareadas: 33.36713142751995\n"
     ]
    }
   ],
   "source": [
    "# Cálculo del tamaño muestral para comparación de dos medias en muestras apareadas\n",
    "paired_analysis = TTestPower()\n",
    "sample_size_paired = paired_analysis.solve_power(effect_size=0.5, alpha=0.05, power=0.8, alternative='two-sided')\n",
    "print(f\"Tamaño muestral para comparación de dos medias apareadas: {sample_size_paired}\")\n"
   ]
  },
  {
   "cell_type": "code",
   "execution_count": 28,
   "id": "8d202822-1d10-44fd-8612-0a277de2cb48",
   "metadata": {},
   "outputs": [
    {
     "name": "stdout",
     "output_type": "stream",
     "text": [
      "Tamaño muestral para comparación de dos proporciones: 392.4430232577885\n"
     ]
    }
   ],
   "source": [
    "# Cálculo del tamaño muestral para comparación de dos proporciones (equivalente a Z-test)\n",
    "proportion_size = zt_ind_solve_power(effect_size=0.2, alpha=0.05, power=0.8, alternative='two-sided')\n",
    "print(f\"Tamaño muestral para comparación de dos proporciones: {proportion_size}\")\n"
   ]
  },
  {
   "cell_type": "code",
   "execution_count": 30,
   "id": "ff47212e-08f6-45dc-86f7-00174948fbac",
   "metadata": {},
   "outputs": [
    {
     "name": "stdout",
     "output_type": "stream",
     "text": [
      "Tamaño muestral para test chi cuadrado: 121.13959210672556\n"
     ]
    }
   ],
   "source": [
    "# Cálculo del tamaño muestral para test chi cuadrado\n",
    "chisq_analysis = GofChisquarePower()\n",
    "sample_size_chisq = chisq_analysis.solve_power(effect_size=0.3, n_bins=4, alpha=0.05, power=0.8)\n",
    "print(f\"Tamaño muestral para test chi cuadrado: {sample_size_chisq}\")"
   ]
  },
  {
   "cell_type": "code",
   "execution_count": 31,
   "id": "ff018265-9663-4778-8e21-ab02204ac21e",
   "metadata": {},
   "outputs": [
    {
     "name": "stdout",
     "output_type": "stream",
     "text": [
      "Tamaño muestral para ANOVA de un factor: 1288.295613567869\n"
     ]
    }
   ],
   "source": [
    "# Cálculo del tamaño muestral para ANOVA de un factor\n",
    "anova_analysis = FTestAnovaPower()\n",
    "sample_size_anova = anova_analysis.solve_power(effect_size=0.1, k_groups=6, alpha=0.05, power=0.8)\n",
    "print(f\"Tamaño muestral para ANOVA de un factor: {sample_size_anova}\")"
   ]
  },
  {
   "cell_type": "code",
   "execution_count": null,
   "id": "1590badb-5084-4fc6-9059-180b5fc4498c",
   "metadata": {},
   "outputs": [],
   "source": []
  },
  {
   "cell_type": "code",
   "execution_count": null,
   "id": "87022d95-ee3e-4b7d-bdd2-f623438255ed",
   "metadata": {},
   "outputs": [],
   "source": []
  },
  {
   "cell_type": "code",
   "execution_count": null,
   "id": "07098824-07cf-4dd5-8bd3-9e3c922bfedb",
   "metadata": {},
   "outputs": [],
   "source": []
  }
 ],
 "metadata": {
  "kernelspec": {
   "display_name": "Python 3 (ipykernel)",
   "language": "python",
   "name": "python3"
  },
  "language_info": {
   "codemirror_mode": {
    "name": "ipython",
    "version": 3
   },
   "file_extension": ".py",
   "mimetype": "text/x-python",
   "name": "python",
   "nbconvert_exporter": "python",
   "pygments_lexer": "ipython3",
   "version": "3.12.4"
  }
 },
 "nbformat": 4,
 "nbformat_minor": 5
}
