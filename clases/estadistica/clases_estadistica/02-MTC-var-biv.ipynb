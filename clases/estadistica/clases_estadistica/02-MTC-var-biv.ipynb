{
 "cells": [
  {
   "cell_type": "code",
   "execution_count": 1,
   "id": "114db294-472d-4e16-9853-6c25f498cc99",
   "metadata": {},
   "outputs": [],
   "source": [
    "import pandas as pd\n",
    "import numpy as np\n",
    "import matplotlib.pyplot as plt\n",
    "import seaborn as sns\n",
    "from scipy import stats"
   ]
  },
  {
   "cell_type": "markdown",
   "id": "3a77a276-1d90-4920-873f-928a2f6705ba",
   "metadata": {},
   "source": [
    "<img src=\"img/DIAPOS1.png\">"
   ]
  },
  {
   "cell_type": "markdown",
   "id": "7a8fe6f5-7825-4000-8cfd-3a0d4d0336e9",
   "metadata": {},
   "source": [
    "<img src=\"img/DIAPOS2.png\">"
   ]
  },
  {
   "cell_type": "markdown",
   "id": "af0689d2-22ff-4310-ad44-5e7612cdcfac",
   "metadata": {},
   "source": [
    "<img src=\"img/DIAPOS.pptx.png\">"
   ]
  },
  {
   "cell_type": "markdown",
   "id": "e3a1f227-5df1-45a9-b61a-4146296ae915",
   "metadata": {},
   "source": [
    "<img src=\"img/DIAPOS.pptx (2).png\">"
   ]
  },
  {
   "cell_type": "markdown",
   "id": "3f355dad-fcee-460b-bf7c-dbd08ef1f10c",
   "metadata": {},
   "source": [
    "A la par de las ddiapositivas, relaizaremos ejercitaciones con nuestro dataset de ACV."
   ]
  },
  {
   "cell_type": "code",
   "execution_count": 2,
   "id": "0cd51968-0f02-409a-9a02-31529285b815",
   "metadata": {},
   "outputs": [],
   "source": [
    "# Importación de la tabla de datos\n",
    "ejercicio = pd.read_excel(\"data/ejercicio.xlsx\")\n",
    "cadenita=\"===========================================\""
   ]
  },
  {
   "cell_type": "code",
   "execution_count": 3,
   "id": "d14fe410-1d17-4cfd-acea-99fea133119b",
   "metadata": {},
   "outputs": [],
   "source": [
    "# Calcular la Moda\n",
    "moda_edad = ejercicio['Edad'].mode()[0]\n",
    "moda_sexo = ejercicio['Sexo'].mode()[0]\n",
    "moda_vivo = ejercicio['Vivo'].mode()[0]\n",
    "moda_acv = ejercicio['ACV'].mode()[0]\n",
    "moda_TAs = ejercicio['TAs'].mode()[0]\n",
    "moda_TAd = ejercicio['TAd'].mode()[0]"
   ]
  },
  {
   "cell_type": "code",
   "execution_count": 4,
   "id": "6827ba6b-a677-42b8-9bd6-13fff3983e40",
   "metadata": {},
   "outputs": [
    {
     "name": "stdout",
     "output_type": "stream",
     "text": [
      "Moda de Edad: 75\n",
      "Moda de Sexo: F\n",
      "Moda de Vivo: S\n",
      "Moda de ACV: N\n",
      "Moda de TAs: 180\n",
      "Moda de TAd: 100\n"
     ]
    }
   ],
   "source": [
    "print(f\"Moda de Edad: {moda_edad}\")\n",
    "print(f\"Moda de Sexo: {moda_sexo}\")\n",
    "print(f\"Moda de Vivo: {moda_vivo}\")\n",
    "print(f\"Moda de ACV: {moda_acv}\")\n",
    "print(f\"Moda de TAs: {moda_TAs}\")\n",
    "print(f\"Moda de TAd: {moda_TAd}\")"
   ]
  },
  {
   "cell_type": "markdown",
   "id": "15c2c62e-e434-4c59-8df6-0859faf94c35",
   "metadata": {},
   "source": [
    "<img src=\"img/DIAPOS.pptx (3).png\">"
   ]
  },
  {
   "cell_type": "code",
   "execution_count": null,
   "id": "c9c732af-95b0-479c-bdbc-e3b8e329e314",
   "metadata": {},
   "outputs": [],
   "source": []
  },
  {
   "cell_type": "markdown",
   "id": "4f84309f-c8ed-41dd-b5f0-d0454571fee3",
   "metadata": {},
   "source": [
    "<img src=\"img/DIAPOS.pptx (4).png\">"
   ]
  },
  {
   "cell_type": "markdown",
   "id": "09368423-4f97-42eb-b6fb-5b7704e3f400",
   "metadata": {},
   "source": [
    "<img src=\"img/DIAPOS.pptx (5).png\">"
   ]
  },
  {
   "cell_type": "code",
   "execution_count": 5,
   "id": "27f75664-1572-477c-b325-4ac5ecaeaac9",
   "metadata": {},
   "outputs": [],
   "source": [
    "# Calcular la Mediana\n",
    "mediana_edad = ejercicio['Edad'].median()\n",
    "mediana_TAs = ejercicio['TAs'].median()\n",
    "mediana_TAd = ejercicio['TAd'].median()"
   ]
  },
  {
   "cell_type": "code",
   "execution_count": 6,
   "id": "90818123-c2dd-47d8-a5d0-ece4a4e80662",
   "metadata": {},
   "outputs": [
    {
     "name": "stdout",
     "output_type": "stream",
     "text": [
      "Mediana de Edad: 74.0\n",
      "Mediana de TAs: 180.0\n",
      "Mediana de TAd: 100.0\n"
     ]
    }
   ],
   "source": [
    "print(f\"Mediana de Edad: {mediana_edad}\")\n",
    "print(f\"Mediana de TAs: {mediana_TAs}\")\n",
    "print(f\"Mediana de TAd: {mediana_TAd}\")"
   ]
  },
  {
   "cell_type": "markdown",
   "id": "db64b25d-bc77-45c6-b93f-9acc8977fba6",
   "metadata": {},
   "source": [
    "<img src=\"img/DIAPOS.pptx (6).png\">"
   ]
  },
  {
   "cell_type": "markdown",
   "id": "3dca24c5-3862-4c1c-b977-ba458734b2fc",
   "metadata": {},
   "source": [
    "<img src=\"img/DIAPOS.pptx (7).png\">"
   ]
  },
  {
   "cell_type": "markdown",
   "id": "aa1ce01f-6316-4573-bfae-92c1c12632b2",
   "metadata": {},
   "source": [
    "<img src=\"img/DIAPOS.pptx (8).png\">"
   ]
  },
  {
   "cell_type": "markdown",
   "id": "10730b51-ee2e-4bb5-9585-b7fdba64d9cd",
   "metadata": {},
   "source": [
    "<img src=\"img/DIAPOS.pptx (9).png\">"
   ]
  },
  {
   "cell_type": "code",
   "execution_count": 7,
   "id": "9de02907-992f-4286-b006-76dd4ba53d42",
   "metadata": {},
   "outputs": [],
   "source": [
    "# Calcular los cuartiles para la columna 'Edad'\n",
    "Q1_edad = ejercicio['Edad'].quantile(0.25)\n",
    "Q2_edad = ejercicio['Edad'].quantile(0.50)  # Esto es equivalente a la mediana\n",
    "Q3_edad = ejercicio['Edad'].quantile(0.75)\n",
    "\n",
    "# Calcular los cuartiles para la columna 'TAs'\n",
    "Q1_TAs = ejercicio['TAs'].quantile(0.25)\n",
    "Q2_TAs = ejercicio['TAs'].quantile(0.50)  # Esto es equivalente a la mediana\n",
    "Q3_TAs = ejercicio['TAs'].quantile(0.75)\n",
    "\n",
    "# Calcular los cuartiles para la columna 'TAd'\n",
    "Q1_TAd = ejercicio['TAd'].quantile(0.25)\n",
    "Q2_TAd = ejercicio['TAd'].quantile(0.50)  # Esto es equivalente a la mediana\n",
    "Q3_TAd = ejercicio['TAd'].quantile(0.75)\n"
   ]
  },
  {
   "cell_type": "code",
   "execution_count": 8,
   "id": "1ec77639-5e0c-4289-ac58-fa50aa473711",
   "metadata": {},
   "outputs": [
    {
     "name": "stdout",
     "output_type": "stream",
     "text": [
      "Cuartiles de Edad: Q1=65.5, Q2=74.0 (Mediana), Q3=80.5\n",
      "Cuartiles de TAs: Q1=160.0, Q2=180.0 (Mediana), Q3=200.0\n",
      "Cuartiles de TAd: Q1=90.0, Q2=100.0 (Mediana), Q3=110.0\n"
     ]
    }
   ],
   "source": [
    "\n",
    "# Mostrar los resultados\n",
    "print(f\"Cuartiles de Edad: Q1={Q1_edad}, Q2={Q2_edad} (Mediana), Q3={Q3_edad}\")\n",
    "print(f\"Cuartiles de TAs: Q1={Q1_TAs}, Q2={Q2_TAs} (Mediana), Q3={Q3_TAs}\")\n",
    "print(f\"Cuartiles de TAd: Q1={Q1_TAd}, Q2={Q2_TAd} (Mediana), Q3={Q3_TAd}\")"
   ]
  },
  {
   "cell_type": "markdown",
   "id": "fe3421c8-b9af-4cac-bce1-8a36a9f3a722",
   "metadata": {},
   "source": [
    "<img src=\"img/DIAPOS.pptx (10).png\">"
   ]
  },
  {
   "cell_type": "code",
   "execution_count": 9,
   "id": "0107d066-3ff5-4d2f-ac5a-a5eecb18a43d",
   "metadata": {},
   "outputs": [
    {
     "data": {
      "image/png": "[encoded data removed]",
      "text/plain": [
       "<Figure size 600x400 with 1 Axes>"
      ]
     },
     "metadata": {},
     "output_type": "display_data"
    }
   ],
   "source": [
    "# Configuración del estilo del gráfico\n",
    "sns.set(style=\"whitegrid\")\n",
    "\n",
    "# Gráfico de boxplot para la variable 'Edad'\n",
    "plt.figure(figsize=(6, 4))\n",
    "sns.boxplot(x=ejercicio['Edad'],color=\"pink\")\n",
    "plt.title('Boxplot de Edad')\n",
    "plt.xlabel('Edad')\n",
    "plt.show()"
   ]
  },
  {
   "cell_type": "code",
   "execution_count": 10,
   "id": "452edd49-14fe-4728-b8ed-46a84345c60c",
   "metadata": {},
   "outputs": [
    {
     "data": {
      "image/png": "[encoded data removed]",
      "text/plain": [
       "<Figure size 800x600 with 1 Axes>"
      ]
     },
     "metadata": {},
     "output_type": "display_data"
    }
   ],
   "source": [
    "# Gráfico de boxplot para las variables 'TAs' y 'TAd' en el mismo gráfico\n",
    "plt.figure(figsize=(8, 6))\n",
    "sns.boxplot(data=ejercicio[['TAs', 'TAd']])\n",
    "plt.title('Boxplot de TAs y TAd')\n",
    "plt.show()"
   ]
  },
  {
   "cell_type": "markdown",
   "id": "97a6d262-9848-4cb7-818e-b0a6879a474e",
   "metadata": {},
   "source": [
    "<img src=\"img/DIAPOS.pptx (11).png\">"
   ]
  },
  {
   "cell_type": "markdown",
   "id": "95ba4603-652c-459c-86a9-21d44960e7cf",
   "metadata": {},
   "source": [
    "<img src=\"img/DIAPOS.pptx (12).png\">"
   ]
  },
  {
   "cell_type": "markdown",
   "id": "563cdae7-f8d0-4712-a475-f8f1cd6e2bf2",
   "metadata": {},
   "source": [
    "<img src=\"img/DIAPOS.pptx (13).png\">"
   ]
  },
  {
   "cell_type": "code",
   "execution_count": 11,
   "id": "3e5dc386-8761-4c1d-90f3-aa31c0a0ec66",
   "metadata": {},
   "outputs": [],
   "source": [
    "# Calcular la Media Aritmética\n",
    "media_edad = ejercicio['Edad'].mean()\n",
    "media_TAs = ejercicio['TAs'].mean()\n",
    "media_TAd = ejercicio['TAd'].mean()"
   ]
  },
  {
   "cell_type": "code",
   "execution_count": 12,
   "id": "33c66054-e844-4dc4-9d6c-2cafef9461e2",
   "metadata": {},
   "outputs": [
    {
     "name": "stdout",
     "output_type": "stream",
     "text": [
      "Media de Edad: 72.38974358974359\n"
     ]
    }
   ],
   "source": [
    "print(f\"Media de Edad: {media_edad}\")"
   ]
  },
  {
   "cell_type": "code",
   "execution_count": 13,
   "id": "fec7a3bf-a7b3-4fa2-a4c1-cce6bbb10238",
   "metadata": {},
   "outputs": [
    {
     "name": "stdout",
     "output_type": "stream",
     "text": [
      "Media de TAs: 178.6102564102564\n"
     ]
    }
   ],
   "source": [
    "print(f\"Media de TAs: {media_TAs}\")"
   ]
  },
  {
   "cell_type": "code",
   "execution_count": 14,
   "id": "0fb9dc9a-6725-4b50-9b99-d84e0d27985e",
   "metadata": {},
   "outputs": [
    {
     "name": "stdout",
     "output_type": "stream",
     "text": [
      "Media de TAd: 101.73846153846154\n"
     ]
    }
   ],
   "source": [
    "print(f\"Media de TAd: {media_TAd}\")"
   ]
  },
  {
   "cell_type": "markdown",
   "id": "e761d84b-12b2-4889-a5f7-44921075f02f",
   "metadata": {},
   "source": [
    "<img src=\"img/prop_dela_media.png\">"
   ]
  },
  {
   "cell_type": "markdown",
   "id": "19fce887-115a-4076-b580-24a9e9a2d81d",
   "metadata": {},
   "source": [
    "Pongamos a prueba la propiedad 2"
   ]
  },
  {
   "cell_type": "code",
   "execution_count": 15,
   "id": "a001e4ba-8ae3-49a4-a252-61b67dcae00a",
   "metadata": {},
   "outputs": [
    {
     "name": "stdout",
     "output_type": "stream",
     "text": [
      "195\n",
      "178.6102564102564\n",
      "34829\n",
      "34829.0\n"
     ]
    }
   ],
   "source": [
    "N=ejercicio[\"TAs\"].count()\n",
    "media_TAs=ejercicio[\"TAs\"].mean()\n",
    "SUMA=ejercicio[\"TAs\"].sum()\n",
    "print(N)\n",
    "print(media_TAs)\n",
    "print(SUMA)\n",
    "print(N*media_TAs)"
   ]
  },
  {
   "cell_type": "markdown",
   "id": "3af9c6e9-54df-4541-a1be-97405b2a08c1",
   "metadata": {},
   "source": [
    "<img src=\"img/DIAPOS.pptx (14).png\">"
   ]
  },
  {
   "cell_type": "markdown",
   "id": "da7a3cc7-7f67-4bad-bf5f-902f2b2cac51",
   "metadata": {},
   "source": [
    "<img src=\"img/add.png\">"
   ]
  },
  {
   "cell_type": "markdown",
   "id": "33dbdc79-7aa6-41c5-953f-5fe0f010d51f",
   "metadata": {},
   "source": [
    "<img src=\"img/DIAPOS.pptx (15).png\">"
   ]
  },
  {
   "cell_type": "markdown",
   "id": "430d8ea5-d6cb-4812-9e95-f15a039491c6",
   "metadata": {},
   "source": [
    "<img src=\"img/add (2).png\">"
   ]
  },
  {
   "cell_type": "markdown",
   "id": "a27cf9fc-5499-4934-bb1c-3cdfdc3dc2cb",
   "metadata": {},
   "source": [
    "<img src=\"img/DIAPOS.pptx (16).png\">"
   ]
  },
  {
   "cell_type": "markdown",
   "id": "03bda1aa-ce34-48f4-95fd-fcbb9d91c1b2",
   "metadata": {},
   "source": [
    "<img src=\"img/DIAPOS.pptx (17).png\">"
   ]
  },
  {
   "cell_type": "markdown",
   "id": "e386e7ec-5066-4a35-8fa9-1e985f795a81",
   "metadata": {},
   "source": [
    "<img src=\"img/add (3).png\">"
   ]
  },
  {
   "cell_type": "markdown",
   "id": "bfc4d71f-480f-43ef-8aee-e65667d45b6e",
   "metadata": {},
   "source": [
    "<img src=\"img/DIAPOS.pptx (18).png\">"
   ]
  },
  {
   "cell_type": "markdown",
   "id": "6c1f25df-ae6e-4332-a15e-aaa3f1d2bfcd",
   "metadata": {},
   "source": [
    "<img src=\"img/add (4).png\">"
   ]
  },
  {
   "cell_type": "markdown",
   "id": "add40efd-2109-4c46-8333-375938d2c93b",
   "metadata": {},
   "source": [
    "<img src=\"img/DIAPOS.pptx (19).png\">"
   ]
  },
  {
   "cell_type": "markdown",
   "id": "2bfa2c48-146d-478b-b5c2-1e54a05f6c09",
   "metadata": {},
   "source": [
    "<img src=\"img/DIAPOS.pptx (20).png\">"
   ]
  },
  {
   "cell_type": "markdown",
   "id": "d692de3b-6f3b-4292-8bc3-d8d3b639433a",
   "metadata": {},
   "source": [
    "<img src=\"img/DIAPOS.pptx (21).png\">"
   ]
  },
  {
   "cell_type": "markdown",
   "id": "9be8c155-78d7-4891-a51f-c2abeab97316",
   "metadata": {},
   "source": [
    "<img src=\"img/DIAPOS.pptx (22).png\">"
   ]
  },
  {
   "cell_type": "markdown",
   "id": "7b2b5ff5-bd47-4ce5-b21b-c8a7f566565d",
   "metadata": {},
   "source": [
    "<img src=\"img/add (5).png\">"
   ]
  },
  {
   "cell_type": "markdown",
   "id": "84321eee-218a-4faa-adeb-e92d7bd74f9b",
   "metadata": {},
   "source": [
    "<img src=\"img/DIAPOS.pptx (23).png\">"
   ]
  },
  {
   "cell_type": "markdown",
   "id": "20c28113-2036-4ca9-9198-18d3c68b3086",
   "metadata": {},
   "source": [
    "<img src=\"img/add (6).png\">"
   ]
  },
  {
   "cell_type": "markdown",
   "id": "b2344556-db2d-4a77-9e20-29573946c003",
   "metadata": {},
   "source": [
    "<img src=\"img/DIAPOS.pptx (24).png\">"
   ]
  },
  {
   "cell_type": "markdown",
   "id": "497f75f6-ee44-4174-85d2-96b4a6024cb1",
   "metadata": {},
   "source": [
    "<img src=\"img/add (7).png\">"
   ]
  },
  {
   "cell_type": "markdown",
   "id": "6909ac11-48fb-43d8-94f9-9b1bd082ce64",
   "metadata": {},
   "source": [
    "<img src=\"img/DIAPOS.pptx (25).png\">"
   ]
  },
  {
   "cell_type": "markdown",
   "id": "dd283135-1588-4a0f-ad3f-839246461db3",
   "metadata": {},
   "source": [
    "<img src=\"img/add (8).png\">"
   ]
  },
  {
   "cell_type": "code",
   "execution_count": 16,
   "id": "eb8774e7-d51b-4f5d-9f30-270026c69c47",
   "metadata": {},
   "outputs": [],
   "source": [
    "# Medidas de dispersión: Varianza y Desviación Estándar\n",
    "varianza_edad = ejercicio['Edad'].var()\n",
    "varianza_TAs = ejercicio['TAs'].var()\n",
    "varianza_TAd = ejercicio['TAd'].var()\n",
    "\n",
    "desviacion_estandar_edad = ejercicio['Edad'].std()\n",
    "desviacion_estandar_TAs = ejercicio['TAs'].std()\n",
    "desviacion_estandar_TAd = ejercicio['TAd'].std()"
   ]
  },
  {
   "cell_type": "markdown",
   "id": "67e7811a-5465-432d-b8c1-5d9b79828ced",
   "metadata": {},
   "source": [
    "<img src=\"img/DIAPOS.pptx (26).png\">"
   ]
  },
  {
   "cell_type": "code",
   "execution_count": 17,
   "id": "fa838357-006a-45cf-b968-fdb39b2065f5",
   "metadata": {},
   "outputs": [
    {
     "name": "stdout",
     "output_type": "stream",
     "text": [
      "Varianza de Edad: 141.94010044937886\n",
      "Varianza de TAs: 1166.393708696803\n",
      "Varianza de TAd: 408.6992862807294\n"
     ]
    }
   ],
   "source": [
    "print(f\"Varianza de Edad: {varianza_edad}\")\n",
    "print(f\"Varianza de TAs: {varianza_TAs}\")\n",
    "print(f\"Varianza de TAd: {varianza_TAd}\")"
   ]
  },
  {
   "cell_type": "code",
   "execution_count": 18,
   "id": "252d19fe-eca4-4973-bfd0-e17f1dc591a9",
   "metadata": {},
   "outputs": [
    {
     "name": "stdout",
     "output_type": "stream",
     "text": [
      "Desviación Estándar de Edad: 11.91386169339643\n",
      "Desviación Estándar de TAs: 34.15250662391859\n",
      "Desviación Estándar de TAd: 20.216312380865343\n"
     ]
    }
   ],
   "source": [
    "\n",
    "print(f\"Desviación Estándar de Edad: {desviacion_estandar_edad}\")\n",
    "print(f\"Desviación Estándar de TAs: {desviacion_estandar_TAs}\")\n",
    "print(f\"Desviación Estándar de TAd: {desviacion_estandar_TAd}\")"
   ]
  },
  {
   "cell_type": "markdown",
   "id": "01e45f8d-869b-4d2b-9064-c29d4aecc5f7",
   "metadata": {},
   "source": [
    "<img src=\"img/add (9).png\">"
   ]
  },
  {
   "cell_type": "markdown",
   "id": "9c0bf71d-3632-4d21-9991-b850156e46bd",
   "metadata": {},
   "source": [
    "<img src=\"img/DIAPOS.pptx (27).png\">"
   ]
  },
  {
   "cell_type": "markdown",
   "id": "35d49cfb-55b0-4e01-804a-13ea00b2cf4c",
   "metadata": {},
   "source": [
    "<img src=\"img/DIAPOS.pptx (28).png\">"
   ]
  },
  {
   "cell_type": "markdown",
   "id": "96deaa35-d669-4dd1-8a99-171fe1f80818",
   "metadata": {},
   "source": [
    "<img src=\"img/add (10).png\">"
   ]
  },
  {
   "cell_type": "code",
   "execution_count": 19,
   "id": "e40d125e-0338-455e-a826-75600b214c17",
   "metadata": {},
   "outputs": [
    {
     "name": "stdout",
     "output_type": "stream",
     "text": [
      "Coeficiente de Variación de Edad: 16.46%\n",
      "Coeficiente de Variación de TAs: 19.12%\n",
      "Coeficiente de Variación de TAd: 19.87%\n"
     ]
    }
   ],
   "source": [
    "\n",
    "# Calcular el coeficiente de variación para cada variable usando las desviaciones estándar previamente calculadas\n",
    "cv_edad = (desviacion_estandar_edad / media_edad) * 100\n",
    "cv_TAs = (desviacion_estandar_TAs / media_TAs) * 100\n",
    "cv_TAd = (desviacion_estandar_TAd / media_TAd) * 100\n",
    "\n",
    "# Mostrar los resultados\n",
    "print(f\"Coeficiente de Variación de Edad: {cv_edad:.2f}%\")\n",
    "print(f\"Coeficiente de Variación de TAs: {cv_TAs:.2f}%\")\n",
    "print(f\"Coeficiente de Variación de TAd: {cv_TAd:.2f}%\")"
   ]
  },
  {
   "cell_type": "markdown",
   "id": "c6f25dfb-3cea-42d0-8b86-50e05d8b5adf",
   "metadata": {},
   "source": [
    "Volvamos a presentar nuestras medidas"
   ]
  },
  {
   "cell_type": "code",
   "execution_count": 20,
   "id": "9d103121-2239-4ee4-a080-6f7e8c936895",
   "metadata": {},
   "outputs": [
    {
     "name": "stdout",
     "output_type": "stream",
     "text": [
      "MEDIDAS DE EDAD\n",
      "Media de Edad: 72.38974358974359\n",
      "Varianza de Edad: 141.94010044937886\n",
      "Desviación Estándar de Edad: 11.91386169339643\n",
      "Coeficiente de Variación de Edad: 16.46%\n",
      "===========================================\n",
      "MEDIDAS DE TAs\n",
      "Media de TAs: 178.6102564102564\n",
      "Varianza de TAs: 1166.393708696803\n",
      "Desviación Estándar de TAs: 34.15250662391859\n",
      "Coeficiente de Variación de TAs: 19.12%\n",
      "===========================================\n",
      "MEDIDAS DE TAd\n",
      "Media de TAd: 101.73846153846154\n",
      "Varianza de TAd: 408.6992862807294\n",
      "Desviación Estándar de TAd: 20.216312380865343\n",
      "Coeficiente de Variación de TAd: 19.87%\n"
     ]
    }
   ],
   "source": [
    "#EDAD\n",
    "print(\"MEDIDAS DE EDAD\")\n",
    "print(f\"Media de Edad: {media_edad}\")\n",
    "print(f\"Varianza de Edad: {varianza_edad}\")\n",
    "print(f\"Desviación Estándar de Edad: {desviacion_estandar_edad}\")\n",
    "print(f\"Coeficiente de Variación de Edad: {cv_edad:.2f}%\")\n",
    "print(cadenita)\n",
    "\n",
    "#TAs\n",
    "print(\"MEDIDAS DE TAs\")\n",
    "print(f\"Media de TAs: {media_TAs}\")\n",
    "print(f\"Varianza de TAs: {varianza_TAs}\")\n",
    "print(f\"Desviación Estándar de TAs: {desviacion_estandar_TAs}\")\n",
    "print(f\"Coeficiente de Variación de TAs: {cv_TAs:.2f}%\")\n",
    "print(cadenita)\n",
    "#TAd\n",
    "print(\"MEDIDAS DE TAd\")\n",
    "print(f\"Media de TAd: {media_TAd}\")\n",
    "print(f\"Varianza de TAd: {varianza_TAd}\")\n",
    "print(f\"Desviación Estándar de TAd: {desviacion_estandar_TAd}\")\n",
    "print(f\"Coeficiente de Variación de TAd: {cv_TAd:.2f}%\")"
   ]
  },
  {
   "cell_type": "markdown",
   "id": "7729beda-ba00-4bba-8c56-61e4fbc79c6d",
   "metadata": {},
   "source": [
    "<img src=\"img/DIAPOS.pptx (29).png\">"
   ]
  },
  {
   "cell_type": "code",
   "execution_count": 21,
   "id": "7e269943-5405-4fe2-9f88-c5fd61e27bcb",
   "metadata": {},
   "outputs": [],
   "source": [
    "# Calcular el rango para cada variable numérica\n",
    "rango_edad = ejercicio['Edad'].max() - ejercicio['Edad'].min()\n",
    "rango_TAs = ejercicio['TAs'].max() - ejercicio['TAs'].min()\n",
    "rango_TAd = ejercicio['TAd'].max() - ejercicio['TAd'].min()\n",
    "\n",
    "# Rango Intercuartílico\n",
    "rango_intercuartilico_edad = stats.iqr(ejercicio['Edad'])\n",
    "rango_intercuartilico_TAs = stats.iqr(ejercicio['TAs'])\n",
    "rango_intercuartilico_TAd = stats.iqr(ejercicio['TAd'])"
   ]
  },
  {
   "cell_type": "code",
   "execution_count": 22,
   "id": "4ff683a3-eaf8-42e9-9328-17229c7e9181",
   "metadata": {},
   "outputs": [
    {
     "name": "stdout",
     "output_type": "stream",
     "text": [
      "Rango de Edad: 59\n",
      "Rango de TAs: 200\n",
      "Rango de TAd: 130\n"
     ]
    }
   ],
   "source": [
    "print(f\"Rango de Edad: {rango_edad}\")\n",
    "print(f\"Rango de TAs: {rango_TAs}\")\n",
    "print(f\"Rango de TAd: {rango_TAd}\")"
   ]
  },
  {
   "cell_type": "code",
   "execution_count": 23,
   "id": "5b3655e2-6b61-4077-bb90-b3cfa90efaa8",
   "metadata": {},
   "outputs": [
    {
     "name": "stdout",
     "output_type": "stream",
     "text": [
      "Rango Intercuartílico de Edad: 15.0\n",
      "Rango Intercuartílico de TAs: 40.0\n",
      "Rango Intercuartílico de TAd: 20.0\n"
     ]
    }
   ],
   "source": [
    "print(f\"Rango Intercuartílico de Edad: {rango_intercuartilico_edad}\")\n",
    "print(f\"Rango Intercuartílico de TAs: {rango_intercuartilico_TAs}\")\n",
    "print(f\"Rango Intercuartílico de TAd: {rango_intercuartilico_TAd}\")"
   ]
  },
  {
   "cell_type": "markdown",
   "id": "b4f2f895-0a67-4dd6-958f-38788f79bbe0",
   "metadata": {},
   "source": [
    "<img src=\"img/add (11).png\">"
   ]
  },
  {
   "cell_type": "markdown",
   "id": "2645c08d-cd1e-4bea-9eab-b04b061a0b3e",
   "metadata": {},
   "source": [
    "<img src=\"img/DIAPOS.pptx (30).png\">"
   ]
  },
  {
   "cell_type": "markdown",
   "id": "7ddfdedb-2529-4a45-9b17-7279b2b12684",
   "metadata": {},
   "source": [
    "<img src=\"img/DIAPOS.pptx (31).png\">"
   ]
  },
  {
   "cell_type": "markdown",
   "id": "d9dda0d9-ed11-4b5b-895f-e27ddbd85ad0",
   "metadata": {},
   "source": [
    "<img src=\"img/add (12).png\">"
   ]
  },
  {
   "cell_type": "markdown",
   "id": "623b544d-8f41-45a7-a30d-477dc55cb09d",
   "metadata": {},
   "source": [
    "<img src=\"img/DIAPOS.pptx (32).png\">"
   ]
  },
  {
   "cell_type": "markdown",
   "id": "f2f98766-d2b7-4be9-afa5-3ccc782d3983",
   "metadata": {},
   "source": [
    "<img src=\"img/DIAPOS.pptx (33).png\">"
   ]
  },
  {
   "cell_type": "markdown",
   "id": "28484a7a-6116-473d-8dce-0966c78e4ff6",
   "metadata": {},
   "source": [
    "<img src=\"img/add (13).png\">"
   ]
  },
  {
   "cell_type": "markdown",
   "id": "9cf12454-4a9a-4594-9c01-03e787c89d0d",
   "metadata": {},
   "source": [
    "<img src=\"img/DIAPOS.pptx (34).png\">"
   ]
  },
  {
   "cell_type": "markdown",
   "id": "cd4b378e-1de0-4dd4-9c4e-7f750c7d6618",
   "metadata": {},
   "source": [
    "<img src=\"img/add (14).png\">"
   ]
  },
  {
   "cell_type": "code",
   "execution_count": 24,
   "id": "69833506-ddff-4d6d-9169-33bac43d6ed6",
   "metadata": {},
   "outputs": [
    {
     "name": "stdout",
     "output_type": "stream",
     "text": [
      "ACVTIPO  HEMORRAGICO  ISQUEMICO  NOCORRES       TIA\n",
      "Sexo                                               \n",
      "F           0.050000   0.060000  0.870000  0.020000\n",
      "M           0.010526   0.136842  0.810526  0.042105\n"
     ]
    }
   ],
   "source": [
    "print(pd.crosstab(ejercicio['Sexo'], ejercicio['ACVTIPO'], normalize='all').apply(lambda r: r/r.sum(), axis=1))"
   ]
  },
  {
   "cell_type": "markdown",
   "id": "e4aaf8d0-fe4d-46b8-84ad-66786284bfd7",
   "metadata": {},
   "source": [
    "<img src=\"img/DIAPOS.pptx (35).png\">"
   ]
  },
  {
   "cell_type": "code",
   "execution_count": 26,
   "id": "1de4cc20-3e0e-4f1c-b2eb-21aa6ded4748",
   "metadata": {},
   "outputs": [
    {
     "name": "stdout",
     "output_type": "stream",
     "text": [
      "ACVTIPO  HEMORRAGICO  ISQUEMICO  NOCORRES       TIA\n",
      "Sexo                                               \n",
      "F           0.050000   0.060000  0.870000  0.020000\n",
      "M           0.010526   0.136842  0.810526  0.042105\n"
     ]
    }
   ],
   "source": [
    "print(pd.crosstab(ejercicio['Sexo'], ejercicio['ACVTIPO'], normalize='index').apply(lambda r: r/r.sum(), axis=1))"
   ]
  },
  {
   "cell_type": "markdown",
   "id": "4944a8cd-d0cc-4e3a-bd86-ba09c47b9c9f",
   "metadata": {},
   "source": [
    "<img src=\"img/add (15).png\">"
   ]
  },
  {
   "cell_type": "code",
   "execution_count": 25,
   "id": "997dcf74-c9a5-46b3-a763-39fd5ed37d13",
   "metadata": {},
   "outputs": [
    {
     "name": "stdout",
     "output_type": "stream",
     "text": [
      "ACVTIPO  HEMORRAGICO  ISQUEMICO  NOCORRES       TIA\n",
      "Sexo                                               \n",
      "F           0.833333   0.315789  0.530488  0.333333\n",
      "M           0.166667   0.684211  0.469512  0.666667\n"
     ]
    }
   ],
   "source": [
    "print(pd.crosstab(ejercicio['Sexo'], ejercicio['ACVTIPO'], normalize='columns').apply(lambda r: r/r.sum(), axis=0))"
   ]
  },
  {
   "cell_type": "markdown",
   "id": "2a735033-818c-4cc8-9955-c8cd106dfd89",
   "metadata": {},
   "source": [
    "<img src=\"img/DIAPOS.pptx (36).png\">"
   ]
  },
  {
   "cell_type": "code",
   "execution_count": null,
   "id": "85624270-366a-430e-b432-590c3b6a5a5f",
   "metadata": {},
   "outputs": [],
   "source": []
  }
 ],
 "metadata": {
  "kernelspec": {
   "display_name": "Python 3 (ipykernel)",
   "language": "python",
   "name": "python3"
  },
  "language_info": {
   "codemirror_mode": {
    "name": "ipython",
    "version": 3
   },
   "file_extension": ".py",
   "mimetype": "text/x-python",
   "name": "python",
   "nbconvert_exporter": "python",
   "pygments_lexer": "ipython3",
   "version": "3.9.15"
  }
 },
 "nbformat": 4,
 "nbformat_minor": 5
}
