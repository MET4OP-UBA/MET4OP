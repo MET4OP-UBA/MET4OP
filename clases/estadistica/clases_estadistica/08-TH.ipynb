{
 "cells": [
  {
   "cell_type": "markdown",
   "id": "11e213f3-20a7-4597-9655-feada0f12698",
   "metadata": {},
   "source": [
    "# Test de hipotesís\n",
    "0. Machete con librerías a utilizar\n",
    "1. Tests de Hipotesís parametricos  \n",
    "   a. Comparación de la media poblacional contra un valor fijo  \n",
    "   b. Comparación de medias de dos muestras independientes  \n",
    "2. Test de hipotesís no parametricos  \n",
    "   c. Variables categoricas\n",
    "3. Ensayo: Tests parametricos VS no paremtricos  \n",
    "   d.I. Comparación de medias para dos muestras independientes (parametrico)  \n",
    "   d.II. Comparación de medias para dos muestras independientes (NO parametrico)  \n",
    "   f.I. Comparacíon de medias para muestras apareadas (parametrico)  \n",
    "   f.II. Comparacíon de medias para muestras apareadas (NO parametrico)"
   ]
  },
  {
   "cell_type": "markdown",
   "id": "f2e63c32-838d-4c8f-b078-1b479fe969b0",
   "metadata": {},
   "source": [
    "### 0. Machete con librerías a utilizar"
   ]
  },
  {
   "cell_type": "markdown",
   "id": "5bf9f460-2850-43b6-96ae-a74241ad2341",
   "metadata": {},
   "source": [
    " 1. **pandas:** Proporciona estructuras de datos rápidas y flexibles para la manipulación de datos tabulares.\n",
    "import pandas as pd\n",
    "\n",
    " 2. **scipy.stats:** Módulo estadístico de SciPy que incluye diversas funciones y pruebas estadísticas.\n",
    "    - ttest_1samp: Prueba t para una muestra.\n",
    "    - ttest_ind: Prueba t independiente entre dos muestras.\n",
    "    - chi2_contingency: Prueba de chi-cuadrado para tablas de contingencia.\n",
    "    - fisher_exact: Prueba exacta de Fisher para tablas 2x2.\n",
    "    - wilcoxon: Prueba de rangos con signo de Wilcoxon para datos emparejados.\n",
    "    - ranksums: Prueba de suma de rangos de Wilcoxon-Mann-Whitney para dos muestras independientes.\n",
    "    \n",
    "    from scipy.stats import ttest_1samp, ttest_ind, chi2_contingency, fisher_exact, wilcoxon, ranksums\n",
    "\n",
    " 3. **matplotlib.pyplot:** Biblioteca para generar visualizaciones gráficas (gráficos de líneas, barras, etc.).\n",
    "import matplotlib.pyplot as plt\n",
    "\n",
    " 4. **seaborn:** Biblioteca de visualización de datos que facilita la creación de gráficos estadísticos complejos.\n",
    "import seaborn as sns\n",
    "\n",
    " 5. **numpy:** Proporciona soporte para arreglos multidimensionales y funciones matemáticas eficientes.\n",
    "import numpy as np\n",
    "\n",
    " 6. **pingouin:** Biblioteca estadística para análisis robusto y fácil de usar.\n",
    "import pingouin as pg"
   ]
  },
  {
   "cell_type": "markdown",
   "id": "6c281a88-7bee-4c8b-bdf7-ba8853f3ebc7",
   "metadata": {
    "jp-MarkdownHeadingCollapsed": true,
    "tags": []
   },
   "source": [
    "## 1.Tests de Hipotesís parametricos"
   ]
  },
  {
   "cell_type": "code",
   "execution_count": 1,
   "id": "e8b8ea41-d8aa-464a-8a7a-a9511f826c59",
   "metadata": {},
   "outputs": [],
   "source": [
    "import pandas as pd\n",
    "from scipy.stats import ttest_1samp, ttest_ind"
   ]
  },
  {
   "cell_type": "code",
   "execution_count": 2,
   "id": "5492ef30-db54-4667-9479-66686f7b92d9",
   "metadata": {},
   "outputs": [],
   "source": [
    "LOWBWT= pd.read_excel(\"data/LOWBWT.xlsx\")"
   ]
  },
  {
   "cell_type": "code",
   "execution_count": 3,
   "id": "9f5cf3c3-dfcb-4905-a475-1ccb8369bb96",
   "metadata": {},
   "outputs": [
    {
     "data": {
      "text/html": [
       "<div>\n",
       "<style scoped>\n",
       "    .dataframe tbody tr th:only-of-type {\n",
       "        vertical-align: middle;\n",
       "    }\n",
       "\n",
       "    .dataframe tbody tr th {\n",
       "        vertical-align: top;\n",
       "    }\n",
       "\n",
       "    .dataframe thead th {\n",
       "        text-align: right;\n",
       "    }\n",
       "</style>\n",
       "<table border=\"1\" class=\"dataframe\">\n",
       "  <thead>\n",
       "    <tr style=\"text-align: right;\">\n",
       "      <th></th>\n",
       "      <th>ID</th>\n",
       "      <th>LOW</th>\n",
       "      <th>AGE</th>\n",
       "      <th>LWT</th>\n",
       "      <th>RACE</th>\n",
       "      <th>SMOKE</th>\n",
       "      <th>PTL</th>\n",
       "      <th>HT</th>\n",
       "      <th>UI</th>\n",
       "      <th>FTV</th>\n",
       "      <th>BWT</th>\n",
       "    </tr>\n",
       "  </thead>\n",
       "  <tbody>\n",
       "    <tr>\n",
       "      <th>0</th>\n",
       "      <td>4</td>\n",
       "      <td>1</td>\n",
       "      <td>28</td>\n",
       "      <td>120</td>\n",
       "      <td>3</td>\n",
       "      <td>1</td>\n",
       "      <td>1</td>\n",
       "      <td>0</td>\n",
       "      <td>1</td>\n",
       "      <td>0</td>\n",
       "      <td>709</td>\n",
       "    </tr>\n",
       "    <tr>\n",
       "      <th>1</th>\n",
       "      <td>10</td>\n",
       "      <td>1</td>\n",
       "      <td>29</td>\n",
       "      <td>130</td>\n",
       "      <td>1</td>\n",
       "      <td>0</td>\n",
       "      <td>0</td>\n",
       "      <td>0</td>\n",
       "      <td>1</td>\n",
       "      <td>2</td>\n",
       "      <td>1021</td>\n",
       "    </tr>\n",
       "    <tr>\n",
       "      <th>2</th>\n",
       "      <td>11</td>\n",
       "      <td>1</td>\n",
       "      <td>34</td>\n",
       "      <td>187</td>\n",
       "      <td>2</td>\n",
       "      <td>1</td>\n",
       "      <td>0</td>\n",
       "      <td>1</td>\n",
       "      <td>0</td>\n",
       "      <td>0</td>\n",
       "      <td>1135</td>\n",
       "    </tr>\n",
       "    <tr>\n",
       "      <th>3</th>\n",
       "      <td>13</td>\n",
       "      <td>1</td>\n",
       "      <td>25</td>\n",
       "      <td>105</td>\n",
       "      <td>3</td>\n",
       "      <td>0</td>\n",
       "      <td>1</td>\n",
       "      <td>1</td>\n",
       "      <td>0</td>\n",
       "      <td>0</td>\n",
       "      <td>1330</td>\n",
       "    </tr>\n",
       "    <tr>\n",
       "      <th>4</th>\n",
       "      <td>15</td>\n",
       "      <td>1</td>\n",
       "      <td>25</td>\n",
       "      <td>85</td>\n",
       "      <td>3</td>\n",
       "      <td>0</td>\n",
       "      <td>0</td>\n",
       "      <td>0</td>\n",
       "      <td>1</td>\n",
       "      <td>0</td>\n",
       "      <td>1474</td>\n",
       "    </tr>\n",
       "  </tbody>\n",
       "</table>\n",
       "</div>"
      ],
      "text/plain": [
       "   ID  LOW  AGE  LWT  RACE  SMOKE  PTL  HT  UI  FTV   BWT\n",
       "0   4    1   28  120     3      1    1   0   1    0   709\n",
       "1  10    1   29  130     1      0    0   0   1    2  1021\n",
       "2  11    1   34  187     2      1    0   1   0    0  1135\n",
       "3  13    1   25  105     3      0    1   1   0    0  1330\n",
       "4  15    1   25   85     3      0    0   0   1    0  1474"
      ]
     },
     "execution_count": 3,
     "metadata": {},
     "output_type": "execute_result"
    }
   ],
   "source": [
    "LOWBWT.head()"
   ]
  },
  {
   "cell_type": "code",
   "execution_count": 4,
   "id": "077f1e6d-db7d-4c9f-a995-55cd0f258224",
   "metadata": {},
   "outputs": [
    {
     "data": {
      "text/plain": [
       "ID       int64\n",
       "LOW      int64\n",
       "AGE      int64\n",
       "LWT      int64\n",
       "RACE     int64\n",
       "SMOKE    int64\n",
       "PTL      int64\n",
       "HT       int64\n",
       "UI       int64\n",
       "FTV      int64\n",
       "BWT      int64\n",
       "dtype: object"
      ]
     },
     "execution_count": 4,
     "metadata": {},
     "output_type": "execute_result"
    }
   ],
   "source": [
    "LOWBWT.dtypes"
   ]
  },
  {
   "cell_type": "code",
   "execution_count": 5,
   "id": "3d2e5597-a579-4f1a-88d3-a0e9e427a3aa",
   "metadata": {},
   "outputs": [
    {
     "data": {
      "text/html": [
       "<div>\n",
       "<style scoped>\n",
       "    .dataframe tbody tr th:only-of-type {\n",
       "        vertical-align: middle;\n",
       "    }\n",
       "\n",
       "    .dataframe tbody tr th {\n",
       "        vertical-align: top;\n",
       "    }\n",
       "\n",
       "    .dataframe thead th {\n",
       "        text-align: right;\n",
       "    }\n",
       "</style>\n",
       "<table border=\"1\" class=\"dataframe\">\n",
       "  <thead>\n",
       "    <tr style=\"text-align: right;\">\n",
       "      <th></th>\n",
       "      <th>AGE</th>\n",
       "      <th>LWT</th>\n",
       "      <th>BWT</th>\n",
       "    </tr>\n",
       "  </thead>\n",
       "  <tbody>\n",
       "    <tr>\n",
       "      <th>count</th>\n",
       "      <td>189.000000</td>\n",
       "      <td>189.000000</td>\n",
       "      <td>189.000000</td>\n",
       "    </tr>\n",
       "    <tr>\n",
       "      <th>mean</th>\n",
       "      <td>23.238095</td>\n",
       "      <td>129.814815</td>\n",
       "      <td>2944.656085</td>\n",
       "    </tr>\n",
       "    <tr>\n",
       "      <th>std</th>\n",
       "      <td>5.298678</td>\n",
       "      <td>30.579380</td>\n",
       "      <td>729.022417</td>\n",
       "    </tr>\n",
       "    <tr>\n",
       "      <th>min</th>\n",
       "      <td>14.000000</td>\n",
       "      <td>80.000000</td>\n",
       "      <td>709.000000</td>\n",
       "    </tr>\n",
       "    <tr>\n",
       "      <th>25%</th>\n",
       "      <td>19.000000</td>\n",
       "      <td>110.000000</td>\n",
       "      <td>2414.000000</td>\n",
       "    </tr>\n",
       "    <tr>\n",
       "      <th>50%</th>\n",
       "      <td>23.000000</td>\n",
       "      <td>121.000000</td>\n",
       "      <td>2977.000000</td>\n",
       "    </tr>\n",
       "    <tr>\n",
       "      <th>75%</th>\n",
       "      <td>26.000000</td>\n",
       "      <td>140.000000</td>\n",
       "      <td>3475.000000</td>\n",
       "    </tr>\n",
       "    <tr>\n",
       "      <th>max</th>\n",
       "      <td>45.000000</td>\n",
       "      <td>250.000000</td>\n",
       "      <td>4990.000000</td>\n",
       "    </tr>\n",
       "  </tbody>\n",
       "</table>\n",
       "</div>"
      ],
      "text/plain": [
       "              AGE         LWT          BWT\n",
       "count  189.000000  189.000000   189.000000\n",
       "mean    23.238095  129.814815  2944.656085\n",
       "std      5.298678   30.579380   729.022417\n",
       "min     14.000000   80.000000   709.000000\n",
       "25%     19.000000  110.000000  2414.000000\n",
       "50%     23.000000  121.000000  2977.000000\n",
       "75%     26.000000  140.000000  3475.000000\n",
       "max     45.000000  250.000000  4990.000000"
      ]
     },
     "execution_count": 5,
     "metadata": {},
     "output_type": "execute_result"
    }
   ],
   "source": [
    "LOWBWT[['AGE','LWT','BWT']].describe()"
   ]
  },
  {
   "cell_type": "markdown",
   "id": "3adc59c7-e2f5-4c3a-9d7b-9dff1019f4d3",
   "metadata": {},
   "source": [
    "### Problema 1\n",
    "### Comparacion de la media poblacional contra un valor fijo"
   ]
  },
  {
   "cell_type": "markdown",
   "id": "4bdb35cb-54a0-410c-b628-27a438fc26cf",
   "metadata": {},
   "source": [
    "Conocemos el promedio de nuestra muestra el cual es"
   ]
  },
  {
   "cell_type": "code",
   "execution_count": 6,
   "id": "e9d598de-6aeb-47fe-9893-552a88fcbf0d",
   "metadata": {},
   "outputs": [
    {
     "name": "stdout",
     "output_type": "stream",
     "text": [
      "23.238095238095237\n"
     ]
    }
   ],
   "source": [
    "print(LOWBWT[\"AGE\"].mean())"
   ]
  },
  {
   "cell_type": "markdown",
   "id": "ba509a8e-c27d-4882-8137-a0e5ec849392",
   "metadata": {},
   "source": [
    "Se busca poder afirmar si la media poblacional de las madres es 23"
   ]
  },
  {
   "cell_type": "code",
   "execution_count": 7,
   "id": "ecbafcad-088f-42b2-b02a-9c3596b78279",
   "metadata": {},
   "outputs": [
    {
     "data": {
      "text/plain": [
       "TtestResult(statistic=0.617751898620659, pvalue=0.5374864692542367, df=188)"
      ]
     },
     "execution_count": 7,
     "metadata": {},
     "output_type": "execute_result"
    }
   ],
   "source": [
    "# One-sample t-test\n",
    "ttest_1samp(LOWBWT['AGE'], 23)"
   ]
  },
  {
   "cell_type": "code",
   "execution_count": 8,
   "id": "48e7749c-cd3e-4898-a89e-0b879377ad96",
   "metadata": {},
   "outputs": [
    {
     "name": "stdout",
     "output_type": "stream",
     "text": [
      "One-sample t-test:\n",
      "t-statistic: 0.617751898620659\n",
      "p-value: 0.5374864692542367\n"
     ]
    }
   ],
   "source": [
    "# Lo mismo pero presentado en una forma mas estetica\n",
    "tstat, pval = ttest_1samp(LOWBWT['AGE'], 23,alternative='two-sided')\n",
    "print(\"One-sample t-test:\")\n",
    "print(\"t-statistic:\", tstat)\n",
    "print(\"p-value:\", pval)"
   ]
  },
  {
   "cell_type": "markdown",
   "id": "99526a5a-0f97-4a74-abbe-b2dfe9a431ff",
   "metadata": {},
   "source": [
    "Especificandolo o no, hemos realizado el test de hipotesis contra H1 \"two-sided\" es decir, la hipotesis alternativa es que la media poblacional pueda ser tanto mayor como menor a 23.\n",
    "\n",
    "**Obtenemos como resultado que no podemos rechazar la hipotesis nula de que 23 sea la media poblacional**"
   ]
  },
  {
   "cell_type": "code",
   "execution_count": 9,
   "id": "8fc8d3a3-5740-42c7-897d-c2c5c0031fd9",
   "metadata": {},
   "outputs": [
    {
     "data": {
      "text/plain": [
       "TtestResult(statistic=0.617751898620659, pvalue=0.26874323462711835, df=188)"
      ]
     },
     "execution_count": 9,
     "metadata": {},
     "output_type": "execute_result"
    }
   ],
   "source": [
    "ttest_1samp(LOWBWT['AGE'], 23, alternative='greater')"
   ]
  },
  {
   "cell_type": "markdown",
   "id": "af6ef15e-61cc-449e-9003-6a087a65af17",
   "metadata": {},
   "source": [
    "Cuando nuesta hipotesis alternativa es que la media sea mayor a 23, tampoco podemos rechazar la hipotesis nula, pero el grado de significacian= es menor"
   ]
  },
  {
   "cell_type": "code",
   "execution_count": 10,
   "id": "b459a4f2-cc74-4841-b49a-8e0d7431091c",
   "metadata": {},
   "outputs": [
    {
     "data": {
      "text/plain": [
       "TtestResult(statistic=0.617751898620659, pvalue=0.7312567653728816, df=188)"
      ]
     },
     "execution_count": 10,
     "metadata": {},
     "output_type": "execute_result"
    }
   ],
   "source": [
    "ttest_1samp(LOWBWT['AGE'], 23, alternative='less')"
   ]
  },
  {
   "cell_type": "markdown",
   "id": "67f87fe4-a4ef-4074-90b4-f58d5192d448",
   "metadata": {},
   "source": [
    "Finalmente, tenemos mas de un 73% de probabilidades de equivocarnos al afirmar que la media poblacional no es igual o mayor a 23"
   ]
  },
  {
   "cell_type": "markdown",
   "id": "7f6b4125-8da5-48b4-8e76-254173715b70",
   "metadata": {},
   "source": [
    "### Conclusión.\n",
    "Los 3 tests nos confirman que no existe evidencia estadistica para afirmar a partid de esta muestra, que la media poblacional de las madres no sea 23."
   ]
  },
  {
   "cell_type": "markdown",
   "id": "9535c0e7-62ff-4906-9d05-a07f19571953",
   "metadata": {},
   "source": [
    "### Problema 2\n",
    "### Comparacion de medias de dos muestras independientes"
   ]
  },
  {
   "cell_type": "code",
   "execution_count": 11,
   "id": "f87c7870-fb65-4d94-ab4d-d308c0c75475",
   "metadata": {},
   "outputs": [
    {
     "name": "stdout",
     "output_type": "stream",
     "text": [
      "Independent two-sample t-test:\n",
      "t-statistic: 1.638098209333269\n",
      "p-value: 0.10308272124541072\n"
     ]
    }
   ],
   "source": [
    "tstat, pval = ttest_ind(LOWBWT['AGE'][LOWBWT['LOW'] == 0], LOWBWT['AGE'][LOWBWT['LOW'] == 1])\n",
    "print(\"Independent two-sample t-test:\")\n",
    "print(\"t-statistic:\", tstat)\n",
    "print(\"p-value:\", pval)"
   ]
  },
  {
   "cell_type": "markdown",
   "id": "516df8ab-27c2-42c0-b5f0-285d2f4e05eb",
   "metadata": {},
   "source": [
    "#### Cuidado!\n",
    "**Si no se especifica, Python entiende que ambos grupos cuentan con igualdad de varianza. en este caso, las varianzas no son iguales**"
   ]
  },
  {
   "cell_type": "code",
   "execution_count": 12,
   "id": "7772524f-8b46-4b34-ab56-fc5163b9c9ec",
   "metadata": {},
   "outputs": [
    {
     "data": {
      "text/html": [
       "<div>\n",
       "<style scoped>\n",
       "    .dataframe tbody tr th:only-of-type {\n",
       "        vertical-align: middle;\n",
       "    }\n",
       "\n",
       "    .dataframe tbody tr th {\n",
       "        vertical-align: top;\n",
       "    }\n",
       "\n",
       "    .dataframe thead th {\n",
       "        text-align: right;\n",
       "    }\n",
       "</style>\n",
       "<table border=\"1\" class=\"dataframe\">\n",
       "  <thead>\n",
       "    <tr style=\"text-align: right;\">\n",
       "      <th></th>\n",
       "      <th>mean</th>\n",
       "      <th>std</th>\n",
       "      <th>var</th>\n",
       "    </tr>\n",
       "    <tr>\n",
       "      <th>LOW</th>\n",
       "      <th></th>\n",
       "      <th></th>\n",
       "      <th></th>\n",
       "    </tr>\n",
       "  </thead>\n",
       "  <tbody>\n",
       "    <tr>\n",
       "      <th>0</th>\n",
       "      <td>23.661538</td>\n",
       "      <td>5.584522</td>\n",
       "      <td>31.186881</td>\n",
       "    </tr>\n",
       "    <tr>\n",
       "      <th>1</th>\n",
       "      <td>22.305085</td>\n",
       "      <td>4.511496</td>\n",
       "      <td>20.353594</td>\n",
       "    </tr>\n",
       "  </tbody>\n",
       "</table>\n",
       "</div>"
      ],
      "text/plain": [
       "          mean       std        var\n",
       "LOW                                \n",
       "0    23.661538  5.584522  31.186881\n",
       "1    22.305085  4.511496  20.353594"
      ]
     },
     "execution_count": 12,
     "metadata": {},
     "output_type": "execute_result"
    }
   ],
   "source": [
    "LOWBWT.groupby('LOW')['AGE'].agg(['mean', 'std', 'var'])"
   ]
  },
  {
   "cell_type": "markdown",
   "id": "eb31a4a6-c664-4714-8962-9d268c7a851c",
   "metadata": {},
   "source": [
    "Mas adelante testearemos si la diferencia en la varianza es significativa o no con un test de Levene, pero por el momento, asumamos que es una diferencia significativa. Es necesario especificar esto en Python para que ejecute un \"Welchs t - test\" y obtengamos un resultado mas apropiado"
   ]
  },
  {
   "cell_type": "code",
   "execution_count": 13,
   "id": "fd952384-3f8a-4eb7-9cad-fbf004268237",
   "metadata": {},
   "outputs": [
    {
     "name": "stdout",
     "output_type": "stream",
     "text": [
      "Independent two-sample welch s t-test:\n",
      "t-statistic: 1.7736721740512977\n",
      "p-value: 0.07834003320663521\n"
     ]
    }
   ],
   "source": [
    "tstat, pval = ttest_ind(LOWBWT['AGE'][LOWBWT['LOW'] == 0], LOWBWT['AGE'][LOWBWT['LOW'] == 1], equal_var=False)\n",
    "print(\"Independent two-sample welch s t-test:\")\n",
    "print(\"t-statistic:\", tstat)\n",
    "print(\"p-value:\", pval)"
   ]
  },
  {
   "cell_type": "markdown",
   "id": "83962d11-7211-42ec-9ca4-089390cd1b6c",
   "metadata": {},
   "source": [
    "**Trabajando con un nivel de significancia del 95% no podemos afirmar que las medias de las edades de las madres que tuvieron hijos por debajo y por sobre el umbral de bajo peso sean distintas.\n",
    "En otras palabras, La edad de las madres pareceria no ser un factor de alta incidencia en los nacimientos con bajo peso**"
   ]
  },
  {
   "cell_type": "markdown",
   "id": "a12ae7d6-1830-4a1f-a7ec-4db0810f3994",
   "metadata": {
    "jp-MarkdownHeadingCollapsed": true,
    "tags": []
   },
   "source": [
    "## 2.Test de hipotesis no parametricos"
   ]
  },
  {
   "cell_type": "markdown",
   "id": "344d5e3b-73a3-4fe2-84bc-35ca3998c0c9",
   "metadata": {},
   "source": [
    "**lectura y preparacion preliminar de datos**"
   ]
  },
  {
   "cell_type": "code",
   "execution_count": 14,
   "id": "90e0376b-806b-4024-90c7-2ce6d79cb280",
   "metadata": {},
   "outputs": [],
   "source": [
    "import matplotlib.pyplot as plt\n",
    "import scipy.stats as stats\n",
    "import seaborn as sns\n",
    "import numpy as np\n",
    "from scipy.stats import chi2_contingency, fisher_exact"
   ]
  },
  {
   "cell_type": "code",
   "execution_count": 15,
   "id": "b5a98059-17b2-4485-bbf8-934e8c83a619",
   "metadata": {},
   "outputs": [],
   "source": [
    "aprobacion = pd.read_excel(\"data/aprobacion.xlsx\")"
   ]
  },
  {
   "cell_type": "code",
   "execution_count": 16,
   "id": "19de4c9f-2b37-4a75-b362-ead886203a02",
   "metadata": {},
   "outputs": [
    {
     "data": {
      "text/html": [
       "<div>\n",
       "<style scoped>\n",
       "    .dataframe tbody tr th:only-of-type {\n",
       "        vertical-align: middle;\n",
       "    }\n",
       "\n",
       "    .dataframe tbody tr th {\n",
       "        vertical-align: top;\n",
       "    }\n",
       "\n",
       "    .dataframe thead th {\n",
       "        text-align: right;\n",
       "    }\n",
       "</style>\n",
       "<table border=\"1\" class=\"dataframe\">\n",
       "  <thead>\n",
       "    <tr style=\"text-align: right;\">\n",
       "      <th></th>\n",
       "      <th>pais</th>\n",
       "      <th>anio</th>\n",
       "      <th>trimestre</th>\n",
       "      <th>presidente</th>\n",
       "      <th>presidente_genero</th>\n",
       "      <th>aprobacion_neta</th>\n",
       "      <th>pib</th>\n",
       "      <th>corrupcion</th>\n",
       "      <th>poblacion</th>\n",
       "      <th>desempleo</th>\n",
       "      <th>crecimiento_pib</th>\n",
       "    </tr>\n",
       "  </thead>\n",
       "  <tbody>\n",
       "    <tr>\n",
       "      <th>0</th>\n",
       "      <td>Argentina</td>\n",
       "      <td>2000</td>\n",
       "      <td>1</td>\n",
       "      <td>Fernando de la Rúa</td>\n",
       "      <td>Masculino</td>\n",
       "      <td>40.125999</td>\n",
       "      <td>14.015253</td>\n",
       "      <td>5.521512e+11</td>\n",
       "      <td>37057452</td>\n",
       "      <td>15.000000</td>\n",
       "      <td>-0.8</td>\n",
       "    </tr>\n",
       "    <tr>\n",
       "      <th>1</th>\n",
       "      <td>Argentina</td>\n",
       "      <td>2000</td>\n",
       "      <td>2</td>\n",
       "      <td>Fernando de la Rúa</td>\n",
       "      <td>Masculino</td>\n",
       "      <td>16.389999</td>\n",
       "      <td>14.015253</td>\n",
       "      <td>5.521512e+11</td>\n",
       "      <td>37057452</td>\n",
       "      <td>15.000000</td>\n",
       "      <td>-0.8</td>\n",
       "    </tr>\n",
       "    <tr>\n",
       "      <th>2</th>\n",
       "      <td>Argentina</td>\n",
       "      <td>2000</td>\n",
       "      <td>3</td>\n",
       "      <td>Fernando de la Rúa</td>\n",
       "      <td>Masculino</td>\n",
       "      <td>23.968000</td>\n",
       "      <td>14.015253</td>\n",
       "      <td>5.521512e+11</td>\n",
       "      <td>37057452</td>\n",
       "      <td>15.000000</td>\n",
       "      <td>-0.8</td>\n",
       "    </tr>\n",
       "    <tr>\n",
       "      <th>3</th>\n",
       "      <td>Argentina</td>\n",
       "      <td>2000</td>\n",
       "      <td>4</td>\n",
       "      <td>Fernando de la Rúa</td>\n",
       "      <td>Masculino</td>\n",
       "      <td>-18.254000</td>\n",
       "      <td>14.015253</td>\n",
       "      <td>5.521512e+11</td>\n",
       "      <td>37057452</td>\n",
       "      <td>15.000000</td>\n",
       "      <td>-0.8</td>\n",
       "    </tr>\n",
       "    <tr>\n",
       "      <th>4</th>\n",
       "      <td>Argentina</td>\n",
       "      <td>2001</td>\n",
       "      <td>1</td>\n",
       "      <td>Fernando de la Rúa</td>\n",
       "      <td>Masculino</td>\n",
       "      <td>-6.973000</td>\n",
       "      <td>14.015253</td>\n",
       "      <td>5.278078e+11</td>\n",
       "      <td>37471509</td>\n",
       "      <td>18.299999</td>\n",
       "      <td>-4.4</td>\n",
       "    </tr>\n",
       "  </tbody>\n",
       "</table>\n",
       "</div>"
      ],
      "text/plain": [
       "        pais  anio  trimestre          presidente presidente_genero  \\\n",
       "0  Argentina  2000          1  Fernando de la Rúa         Masculino   \n",
       "1  Argentina  2000          2  Fernando de la Rúa         Masculino   \n",
       "2  Argentina  2000          3  Fernando de la Rúa         Masculino   \n",
       "3  Argentina  2000          4  Fernando de la Rúa         Masculino   \n",
       "4  Argentina  2001          1  Fernando de la Rúa         Masculino   \n",
       "\n",
       "   aprobacion_neta        pib    corrupcion  poblacion  desempleo  \\\n",
       "0        40.125999  14.015253  5.521512e+11   37057452  15.000000   \n",
       "1        16.389999  14.015253  5.521512e+11   37057452  15.000000   \n",
       "2        23.968000  14.015253  5.521512e+11   37057452  15.000000   \n",
       "3       -18.254000  14.015253  5.521512e+11   37057452  15.000000   \n",
       "4        -6.973000  14.015253  5.278078e+11   37471509  18.299999   \n",
       "\n",
       "   crecimiento_pib  \n",
       "0             -0.8  \n",
       "1             -0.8  \n",
       "2             -0.8  \n",
       "3             -0.8  \n",
       "4             -4.4  "
      ]
     },
     "execution_count": 16,
     "metadata": {},
     "output_type": "execute_result"
    }
   ],
   "source": [
    "aprobacion.head()"
   ]
  },
  {
   "cell_type": "code",
   "execution_count": 17,
   "id": "a488a556-f3c4-4c08-abb6-6636aed5b038",
   "metadata": {},
   "outputs": [],
   "source": [
    "#seteamos para que todos los float muestren solo 2 decimales\n",
    "pd.set_option('display.float_format', lambda x: f'{x:.2f}')"
   ]
  },
  {
   "cell_type": "markdown",
   "id": "f02c8a1f-b57e-4dd5-953e-435dfee99842",
   "metadata": {},
   "source": [
    "En clases pasadas, vimos que la columna pib no tenia mucho sentido,\n",
    "y la columna corrupcion que debiera tomar valores entre 0 y 100 en relaidad mostraba numeros largos en notacion cientifica,\n",
    "llegamos a la conclusion de que hay un error en los datos y que si intercmabiamos los valores de dichas columnas todo parece tener mas sentido."
   ]
  },
  {
   "cell_type": "code",
   "execution_count": 18,
   "id": "f87e4f95-fbee-4148-a236-64fdd68615e9",
   "metadata": {},
   "outputs": [],
   "source": [
    "# Renombrar las columnas cruzadas\n",
    "aprobacion.rename(columns={'corrupcion': 'temp', 'pib': 'corrupcion'}, inplace=True)\n",
    "aprobacion.rename(columns={'temp': 'pib'}, inplace=True)"
   ]
  },
  {
   "cell_type": "code",
   "execution_count": 19,
   "id": "dd20fe18-b7ea-4c27-b869-b20f2a416830",
   "metadata": {},
   "outputs": [
    {
     "data": {
      "text/html": [
       "<div>\n",
       "<style scoped>\n",
       "    .dataframe tbody tr th:only-of-type {\n",
       "        vertical-align: middle;\n",
       "    }\n",
       "\n",
       "    .dataframe tbody tr th {\n",
       "        vertical-align: top;\n",
       "    }\n",
       "\n",
       "    .dataframe thead th {\n",
       "        text-align: right;\n",
       "    }\n",
       "</style>\n",
       "<table border=\"1\" class=\"dataframe\">\n",
       "  <thead>\n",
       "    <tr style=\"text-align: right;\">\n",
       "      <th></th>\n",
       "      <th>pais</th>\n",
       "      <th>anio</th>\n",
       "      <th>trimestre</th>\n",
       "      <th>presidente</th>\n",
       "      <th>presidente_genero</th>\n",
       "      <th>aprobacion_neta</th>\n",
       "      <th>corrupcion</th>\n",
       "      <th>pib</th>\n",
       "      <th>poblacion</th>\n",
       "      <th>desempleo</th>\n",
       "      <th>crecimiento_pib</th>\n",
       "    </tr>\n",
       "  </thead>\n",
       "  <tbody>\n",
       "    <tr>\n",
       "      <th>0</th>\n",
       "      <td>Argentina</td>\n",
       "      <td>2000</td>\n",
       "      <td>1</td>\n",
       "      <td>Fernando de la Rúa</td>\n",
       "      <td>Masculino</td>\n",
       "      <td>40.13</td>\n",
       "      <td>14.02</td>\n",
       "      <td>552151219031.11</td>\n",
       "      <td>37057452</td>\n",
       "      <td>15.00</td>\n",
       "      <td>-0.80</td>\n",
       "    </tr>\n",
       "    <tr>\n",
       "      <th>1</th>\n",
       "      <td>Argentina</td>\n",
       "      <td>2000</td>\n",
       "      <td>2</td>\n",
       "      <td>Fernando de la Rúa</td>\n",
       "      <td>Masculino</td>\n",
       "      <td>16.39</td>\n",
       "      <td>14.02</td>\n",
       "      <td>552151219031.11</td>\n",
       "      <td>37057452</td>\n",
       "      <td>15.00</td>\n",
       "      <td>-0.80</td>\n",
       "    </tr>\n",
       "    <tr>\n",
       "      <th>2</th>\n",
       "      <td>Argentina</td>\n",
       "      <td>2000</td>\n",
       "      <td>3</td>\n",
       "      <td>Fernando de la Rúa</td>\n",
       "      <td>Masculino</td>\n",
       "      <td>23.97</td>\n",
       "      <td>14.02</td>\n",
       "      <td>552151219031.11</td>\n",
       "      <td>37057452</td>\n",
       "      <td>15.00</td>\n",
       "      <td>-0.80</td>\n",
       "    </tr>\n",
       "    <tr>\n",
       "      <th>3</th>\n",
       "      <td>Argentina</td>\n",
       "      <td>2000</td>\n",
       "      <td>4</td>\n",
       "      <td>Fernando de la Rúa</td>\n",
       "      <td>Masculino</td>\n",
       "      <td>-18.25</td>\n",
       "      <td>14.02</td>\n",
       "      <td>552151219031.11</td>\n",
       "      <td>37057452</td>\n",
       "      <td>15.00</td>\n",
       "      <td>-0.80</td>\n",
       "    </tr>\n",
       "    <tr>\n",
       "      <th>4</th>\n",
       "      <td>Argentina</td>\n",
       "      <td>2001</td>\n",
       "      <td>1</td>\n",
       "      <td>Fernando de la Rúa</td>\n",
       "      <td>Masculino</td>\n",
       "      <td>-6.97</td>\n",
       "      <td>14.02</td>\n",
       "      <td>527807756978.58</td>\n",
       "      <td>37471509</td>\n",
       "      <td>18.30</td>\n",
       "      <td>-4.40</td>\n",
       "    </tr>\n",
       "  </tbody>\n",
       "</table>\n",
       "</div>"
      ],
      "text/plain": [
       "        pais  anio  trimestre          presidente presidente_genero  \\\n",
       "0  Argentina  2000          1  Fernando de la Rúa         Masculino   \n",
       "1  Argentina  2000          2  Fernando de la Rúa         Masculino   \n",
       "2  Argentina  2000          3  Fernando de la Rúa         Masculino   \n",
       "3  Argentina  2000          4  Fernando de la Rúa         Masculino   \n",
       "4  Argentina  2001          1  Fernando de la Rúa         Masculino   \n",
       "\n",
       "   aprobacion_neta  corrupcion             pib  poblacion  desempleo  \\\n",
       "0            40.13       14.02 552151219031.11   37057452      15.00   \n",
       "1            16.39       14.02 552151219031.11   37057452      15.00   \n",
       "2            23.97       14.02 552151219031.11   37057452      15.00   \n",
       "3           -18.25       14.02 552151219031.11   37057452      15.00   \n",
       "4            -6.97       14.02 527807756978.58   37471509      18.30   \n",
       "\n",
       "   crecimiento_pib  \n",
       "0            -0.80  \n",
       "1            -0.80  \n",
       "2            -0.80  \n",
       "3            -0.80  \n",
       "4            -4.40  "
      ]
     },
     "execution_count": 19,
     "metadata": {},
     "output_type": "execute_result"
    }
   ],
   "source": [
    "aprobacion.head()"
   ]
  },
  {
   "cell_type": "code",
   "execution_count": 20,
   "id": "2cffe38c-2b75-455f-86e2-408bdc32ff25",
   "metadata": {},
   "outputs": [
    {
     "data": {
      "text/html": [
       "<div>\n",
       "<style scoped>\n",
       "    .dataframe tbody tr th:only-of-type {\n",
       "        vertical-align: middle;\n",
       "    }\n",
       "\n",
       "    .dataframe tbody tr th {\n",
       "        vertical-align: top;\n",
       "    }\n",
       "\n",
       "    .dataframe thead th {\n",
       "        text-align: right;\n",
       "    }\n",
       "</style>\n",
       "<table border=\"1\" class=\"dataframe\">\n",
       "  <thead>\n",
       "    <tr style=\"text-align: right;\">\n",
       "      <th></th>\n",
       "      <th>corrupcion</th>\n",
       "      <th>pib</th>\n",
       "    </tr>\n",
       "  </thead>\n",
       "  <tbody>\n",
       "    <tr>\n",
       "      <th>count</th>\n",
       "      <td>1020.00</td>\n",
       "      <td>1020.00</td>\n",
       "    </tr>\n",
       "    <tr>\n",
       "      <th>mean</th>\n",
       "      <td>43.35</td>\n",
       "      <td>411402368992.31</td>\n",
       "    </tr>\n",
       "    <tr>\n",
       "      <th>std</th>\n",
       "      <td>26.90</td>\n",
       "      <td>687789664894.59</td>\n",
       "    </tr>\n",
       "    <tr>\n",
       "      <th>min</th>\n",
       "      <td>2.13</td>\n",
       "      <td>17373017701.64</td>\n",
       "    </tr>\n",
       "    <tr>\n",
       "      <th>25%</th>\n",
       "      <td>19.57</td>\n",
       "      <td>40130146628.88</td>\n",
       "    </tr>\n",
       "    <tr>\n",
       "      <th>50%</th>\n",
       "      <td>39.98</td>\n",
       "      <td>91972026249.69</td>\n",
       "    </tr>\n",
       "    <tr>\n",
       "      <th>75%</th>\n",
       "      <td>66.62</td>\n",
       "      <td>400986433731.57</td>\n",
       "    </tr>\n",
       "    <tr>\n",
       "      <th>max</th>\n",
       "      <td>94.42</td>\n",
       "      <td>3139626109942.67</td>\n",
       "    </tr>\n",
       "  </tbody>\n",
       "</table>\n",
       "</div>"
      ],
      "text/plain": [
       "       corrupcion              pib\n",
       "count     1020.00          1020.00\n",
       "mean        43.35  411402368992.31\n",
       "std         26.90  687789664894.59\n",
       "min          2.13   17373017701.64\n",
       "25%         19.57   40130146628.88\n",
       "50%         39.98   91972026249.69\n",
       "75%         66.62  400986433731.57\n",
       "max         94.42 3139626109942.67"
      ]
     },
     "execution_count": 20,
     "metadata": {},
     "output_type": "execute_result"
    }
   ],
   "source": [
    "aprobacion[[\"corrupcion\",\"pib\"]].describe()"
   ]
  },
  {
   "cell_type": "code",
   "execution_count": 21,
   "id": "1d4805f8-9fc7-4402-85d3-6094b86a6cf3",
   "metadata": {},
   "outputs": [],
   "source": [
    "### Recategorización de varibales"
   ]
  },
  {
   "cell_type": "code",
   "execution_count": 22,
   "id": "320f25ba-2b69-4b83-9c1a-2acf99bd4fe0",
   "metadata": {},
   "outputs": [
    {
     "data": {
      "text/plain": [
       "count   1020.00\n",
       "mean       3.77\n",
       "std        3.54\n",
       "min      -10.90\n",
       "25%        2.31\n",
       "50%        4.06\n",
       "75%        5.63\n",
       "max       18.29\n",
       "Name: crecimiento_pib, dtype: float64"
      ]
     },
     "execution_count": 22,
     "metadata": {},
     "output_type": "execute_result"
    }
   ],
   "source": [
    "aprobacion[\"crecimiento_pib\"].describe()"
   ]
  },
  {
   "cell_type": "markdown",
   "id": "e676f304-f69e-4182-82bf-a4c1ae54962e",
   "metadata": {},
   "source": [
    "Aplicamos la funcion describe para tener una idea de la distribucíon de la variable, y tener un criterio en el cual basarnos para recategorizarla como haremos a continuación"
   ]
  },
  {
   "cell_type": "code",
   "execution_count": 23,
   "id": "56848587-cce3-4709-8dcb-fe54c9832374",
   "metadata": {},
   "outputs": [],
   "source": [
    "# Función para categorizar el crecimiento\n",
    "def categorizar_crecimiento(crecimiento):\n",
    "    if crecimiento < -2:\n",
    "        return \"desastre\"\n",
    "    elif -2 <= crecimiento < 0:\n",
    "        return \"malo\"\n",
    "    elif 0 <= crecimiento < 2.309:\n",
    "        return \"flojo\"\n",
    "    elif 2.309 <= crecimiento <= 5.63:\n",
    "        return \"promedio\"\n",
    "    elif 5.63 < crecimiento < 10:\n",
    "        return \"locura\"\n",
    "    else:\n",
    "        return \"wtf\"\n"
   ]
  },
  {
   "cell_type": "code",
   "execution_count": 24,
   "id": "385adfb0-b0ca-43fc-a36f-b1ac004b03b0",
   "metadata": {},
   "outputs": [],
   "source": [
    "# Aplicar la función a la columna \"crecimiento_pib\" y crear la nueva columna\n",
    "aprobacion['tipo_crecimiento'] = aprobacion['crecimiento_pib'].apply(categorizar_crecimiento)"
   ]
  },
  {
   "cell_type": "code",
   "execution_count": 25,
   "id": "6052a653-06ae-44fe-8a2d-7db57a0a0657",
   "metadata": {},
   "outputs": [
    {
     "name": "stdout",
     "output_type": "stream",
     "text": [
      "   crecimiento_pib tipo_crecimiento\n",
      "0            -0.80             malo\n",
      "1            -0.80             malo\n",
      "2            -0.80             malo\n",
      "3            -0.80             malo\n",
      "4            -4.40         desastre\n",
      "      crecimiento_pib tipo_crecimiento\n",
      "1015             1.34            flojo\n",
      "1016            -3.89         desastre\n",
      "1017            -3.89         desastre\n",
      "1018            -3.89         desastre\n",
      "1019            -3.89         desastre\n"
     ]
    }
   ],
   "source": [
    "print(aprobacion[[\"crecimiento_pib\",\"tipo_crecimiento\"]].head())\n",
    "print(aprobacion[[\"crecimiento_pib\",\"tipo_crecimiento\"]].tail())"
   ]
  },
  {
   "cell_type": "code",
   "execution_count": 26,
   "id": "ec477436-12ab-4efd-a431-134099d13d2e",
   "metadata": {},
   "outputs": [
    {
     "data": {
      "text/html": [
       "<div>\n",
       "<style scoped>\n",
       "    .dataframe tbody tr th:only-of-type {\n",
       "        vertical-align: middle;\n",
       "    }\n",
       "\n",
       "    .dataframe tbody tr th {\n",
       "        vertical-align: top;\n",
       "    }\n",
       "\n",
       "    .dataframe thead th {\n",
       "        text-align: right;\n",
       "    }\n",
       "</style>\n",
       "<table border=\"1\" class=\"dataframe\">\n",
       "  <thead>\n",
       "    <tr style=\"text-align: right;\">\n",
       "      <th></th>\n",
       "      <th>pais</th>\n",
       "      <th>anio</th>\n",
       "      <th>trimestre</th>\n",
       "      <th>presidente</th>\n",
       "      <th>presidente_genero</th>\n",
       "      <th>aprobacion_neta</th>\n",
       "      <th>corrupcion</th>\n",
       "      <th>pib</th>\n",
       "      <th>poblacion</th>\n",
       "      <th>desempleo</th>\n",
       "      <th>crecimiento_pib</th>\n",
       "      <th>tipo_crecimiento</th>\n",
       "    </tr>\n",
       "  </thead>\n",
       "  <tbody>\n",
       "    <tr>\n",
       "      <th>40</th>\n",
       "      <td>Argentina</td>\n",
       "      <td>2010</td>\n",
       "      <td>1</td>\n",
       "      <td>Cristina Fernández de Kirchner</td>\n",
       "      <td>Femenino</td>\n",
       "      <td>-18.48</td>\n",
       "      <td>52.37</td>\n",
       "      <td>771384011261.41</td>\n",
       "      <td>41223889</td>\n",
       "      <td>8.28</td>\n",
       "      <td>10.10</td>\n",
       "      <td>wtf</td>\n",
       "    </tr>\n",
       "    <tr>\n",
       "      <th>41</th>\n",
       "      <td>Argentina</td>\n",
       "      <td>2010</td>\n",
       "      <td>2</td>\n",
       "      <td>Cristina Fernández de Kirchner</td>\n",
       "      <td>Femenino</td>\n",
       "      <td>-3.43</td>\n",
       "      <td>52.37</td>\n",
       "      <td>771384011261.41</td>\n",
       "      <td>41223889</td>\n",
       "      <td>7.85</td>\n",
       "      <td>10.10</td>\n",
       "      <td>wtf</td>\n",
       "    </tr>\n",
       "    <tr>\n",
       "      <th>42</th>\n",
       "      <td>Argentina</td>\n",
       "      <td>2010</td>\n",
       "      <td>3</td>\n",
       "      <td>Cristina Fernández de Kirchner</td>\n",
       "      <td>Femenino</td>\n",
       "      <td>-5.47</td>\n",
       "      <td>52.37</td>\n",
       "      <td>771384011261.41</td>\n",
       "      <td>41223889</td>\n",
       "      <td>7.44</td>\n",
       "      <td>10.10</td>\n",
       "      <td>wtf</td>\n",
       "    </tr>\n",
       "    <tr>\n",
       "      <th>43</th>\n",
       "      <td>Argentina</td>\n",
       "      <td>2010</td>\n",
       "      <td>4</td>\n",
       "      <td>Cristina Fernández de Kirchner</td>\n",
       "      <td>Femenino</td>\n",
       "      <td>29.83</td>\n",
       "      <td>52.37</td>\n",
       "      <td>771384011261.41</td>\n",
       "      <td>41223889</td>\n",
       "      <td>7.29</td>\n",
       "      <td>10.10</td>\n",
       "      <td>wtf</td>\n",
       "    </tr>\n",
       "    <tr>\n",
       "      <th>748</th>\n",
       "      <td>Panamá</td>\n",
       "      <td>2007</td>\n",
       "      <td>1</td>\n",
       "      <td>Martín Torrijos</td>\n",
       "      <td>Masculino</td>\n",
       "      <td>38.02</td>\n",
       "      <td>11.43</td>\n",
       "      <td>48374617539.00</td>\n",
       "      <td>3453807</td>\n",
       "      <td>6.40</td>\n",
       "      <td>12.10</td>\n",
       "      <td>wtf</td>\n",
       "    </tr>\n",
       "  </tbody>\n",
       "</table>\n",
       "</div>"
      ],
      "text/plain": [
       "          pais  anio  trimestre                      presidente  \\\n",
       "40   Argentina  2010          1  Cristina Fernández de Kirchner   \n",
       "41   Argentina  2010          2  Cristina Fernández de Kirchner   \n",
       "42   Argentina  2010          3  Cristina Fernández de Kirchner   \n",
       "43   Argentina  2010          4  Cristina Fernández de Kirchner   \n",
       "748     Panamá  2007          1                 Martín Torrijos   \n",
       "\n",
       "    presidente_genero  aprobacion_neta  corrupcion             pib  poblacion  \\\n",
       "40           Femenino           -18.48       52.37 771384011261.41   41223889   \n",
       "41           Femenino            -3.43       52.37 771384011261.41   41223889   \n",
       "42           Femenino            -5.47       52.37 771384011261.41   41223889   \n",
       "43           Femenino            29.83       52.37 771384011261.41   41223889   \n",
       "748         Masculino            38.02       11.43  48374617539.00    3453807   \n",
       "\n",
       "     desempleo  crecimiento_pib tipo_crecimiento  \n",
       "40        8.28            10.10              wtf  \n",
       "41        7.85            10.10              wtf  \n",
       "42        7.44            10.10              wtf  \n",
       "43        7.29            10.10              wtf  \n",
       "748       6.40            12.10              wtf  "
      ]
     },
     "execution_count": 26,
     "metadata": {},
     "output_type": "execute_result"
    }
   ],
   "source": [
    "aprobacion[aprobacion[\"tipo_crecimiento\"]== \"wtf\"].head()\n",
    "#Nada mas aplicamos esta función porque nos genera intriga saber \n",
    "#cuales son algunos de esos años con el crecimiento mas grande de la serie"
   ]
  },
  {
   "cell_type": "code",
   "execution_count": 27,
   "id": "ad60679f-d2fa-42b2-aeca-1b6820265268",
   "metadata": {},
   "outputs": [],
   "source": [
    "anual_aprobacion = aprobacion[aprobacion[\"trimestre\"]==4]"
   ]
  },
  {
   "cell_type": "code",
   "execution_count": 28,
   "id": "83d789ef-2bc5-41c7-a38b-ba0b6c6597d5",
   "metadata": {},
   "outputs": [
    {
     "data": {
      "text/html": [
       "<div>\n",
       "<style scoped>\n",
       "    .dataframe tbody tr th:only-of-type {\n",
       "        vertical-align: middle;\n",
       "    }\n",
       "\n",
       "    .dataframe tbody tr th {\n",
       "        vertical-align: top;\n",
       "    }\n",
       "\n",
       "    .dataframe thead th {\n",
       "        text-align: right;\n",
       "    }\n",
       "</style>\n",
       "<table border=\"1\" class=\"dataframe\">\n",
       "  <thead>\n",
       "    <tr style=\"text-align: right;\">\n",
       "      <th></th>\n",
       "      <th>pais</th>\n",
       "      <th>anio</th>\n",
       "      <th>trimestre</th>\n",
       "      <th>presidente</th>\n",
       "      <th>presidente_genero</th>\n",
       "      <th>aprobacion_neta</th>\n",
       "      <th>corrupcion</th>\n",
       "      <th>pib</th>\n",
       "      <th>poblacion</th>\n",
       "      <th>desempleo</th>\n",
       "      <th>crecimiento_pib</th>\n",
       "      <th>tipo_crecimiento</th>\n",
       "    </tr>\n",
       "  </thead>\n",
       "  <tbody>\n",
       "    <tr>\n",
       "      <th>3</th>\n",
       "      <td>Argentina</td>\n",
       "      <td>2000</td>\n",
       "      <td>4</td>\n",
       "      <td>Fernando de la Rúa</td>\n",
       "      <td>Masculino</td>\n",
       "      <td>-18.25</td>\n",
       "      <td>14.02</td>\n",
       "      <td>552151219031.11</td>\n",
       "      <td>37057452</td>\n",
       "      <td>15.00</td>\n",
       "      <td>-0.80</td>\n",
       "      <td>malo</td>\n",
       "    </tr>\n",
       "    <tr>\n",
       "      <th>7</th>\n",
       "      <td>Argentina</td>\n",
       "      <td>2001</td>\n",
       "      <td>4</td>\n",
       "      <td>Fernando de la Rúa</td>\n",
       "      <td>Masculino</td>\n",
       "      <td>-23.18</td>\n",
       "      <td>14.02</td>\n",
       "      <td>527807756978.58</td>\n",
       "      <td>37471509</td>\n",
       "      <td>18.30</td>\n",
       "      <td>-4.40</td>\n",
       "      <td>desastre</td>\n",
       "    </tr>\n",
       "    <tr>\n",
       "      <th>11</th>\n",
       "      <td>Argentina</td>\n",
       "      <td>2002</td>\n",
       "      <td>4</td>\n",
       "      <td>Eduardo Alberto Duhalde</td>\n",
       "      <td>Masculino</td>\n",
       "      <td>-16.83</td>\n",
       "      <td>25.00</td>\n",
       "      <td>470305820970.43</td>\n",
       "      <td>37889370</td>\n",
       "      <td>17.90</td>\n",
       "      <td>-10.90</td>\n",
       "      <td>desastre</td>\n",
       "    </tr>\n",
       "    <tr>\n",
       "      <th>15</th>\n",
       "      <td>Argentina</td>\n",
       "      <td>2003</td>\n",
       "      <td>4</td>\n",
       "      <td>Néstor Carlos Kirchner</td>\n",
       "      <td>Masculino</td>\n",
       "      <td>52.97</td>\n",
       "      <td>50.15</td>\n",
       "      <td>511866938234.46</td>\n",
       "      <td>38309379</td>\n",
       "      <td>14.45</td>\n",
       "      <td>8.80</td>\n",
       "      <td>locura</td>\n",
       "    </tr>\n",
       "    <tr>\n",
       "      <th>19</th>\n",
       "      <td>Argentina</td>\n",
       "      <td>2004</td>\n",
       "      <td>4</td>\n",
       "      <td>Néstor Carlos Kirchner</td>\n",
       "      <td>Masculino</td>\n",
       "      <td>44.90</td>\n",
       "      <td>50.15</td>\n",
       "      <td>558086338624.30</td>\n",
       "      <td>38728696</td>\n",
       "      <td>12.00</td>\n",
       "      <td>9.00</td>\n",
       "      <td>locura</td>\n",
       "    </tr>\n",
       "  </tbody>\n",
       "</table>\n",
       "</div>"
      ],
      "text/plain": [
       "         pais  anio  trimestre               presidente presidente_genero  \\\n",
       "3   Argentina  2000          4       Fernando de la Rúa         Masculino   \n",
       "7   Argentina  2001          4       Fernando de la Rúa         Masculino   \n",
       "11  Argentina  2002          4  Eduardo Alberto Duhalde         Masculino   \n",
       "15  Argentina  2003          4   Néstor Carlos Kirchner         Masculino   \n",
       "19  Argentina  2004          4   Néstor Carlos Kirchner         Masculino   \n",
       "\n",
       "    aprobacion_neta  corrupcion             pib  poblacion  desempleo  \\\n",
       "3            -18.25       14.02 552151219031.11   37057452      15.00   \n",
       "7            -23.18       14.02 527807756978.58   37471509      18.30   \n",
       "11           -16.83       25.00 470305820970.43   37889370      17.90   \n",
       "15            52.97       50.15 511866938234.46   38309379      14.45   \n",
       "19            44.90       50.15 558086338624.30   38728696      12.00   \n",
       "\n",
       "    crecimiento_pib tipo_crecimiento  \n",
       "3             -0.80             malo  \n",
       "7             -4.40         desastre  \n",
       "11           -10.90         desastre  \n",
       "15             8.80           locura  \n",
       "19             9.00           locura  "
      ]
     },
     "execution_count": 28,
     "metadata": {},
     "output_type": "execute_result"
    }
   ],
   "source": [
    "anual_aprobacion.head()"
   ]
  },
  {
   "cell_type": "markdown",
   "id": "326c5bc1-64f8-47f2-abeb-42fcc614ba83",
   "metadata": {},
   "source": [
    "### Problema 3\n",
    "### Comparación entre varibales categoricas"
   ]
  },
  {
   "cell_type": "code",
   "execution_count": 29,
   "id": "18b489e5-f6c1-4362-aa8e-bcdad40e26bf",
   "metadata": {},
   "outputs": [
    {
     "name": "stdout",
     "output_type": "stream",
     "text": [
      "Tabla de contingencia:\n",
      "presidente_genero  Femenino  Masculino\n",
      "tipo_crecimiento                      \n",
      "desastre                  2         14\n",
      "flojo                     6         30\n",
      "locura                    2         54\n",
      "malo                      2         10\n",
      "promedio                 11        117\n",
      "wtf                       1          6\n"
     ]
    }
   ],
   "source": [
    "# Crear la tabla de contingencia\n",
    "contingency_table = pd.crosstab(anual_aprobacion['tipo_crecimiento'], anual_aprobacion['presidente_genero'])\n",
    "print(\"Tabla de contingencia:\")\n",
    "print(contingency_table)"
   ]
  },
  {
   "cell_type": "code",
   "execution_count": 30,
   "id": "5cfac3ae-f22e-421e-980b-0fe04f5ce3d5",
   "metadata": {},
   "outputs": [
    {
     "name": "stdout",
     "output_type": "stream",
     "text": [
      "Estadístico de chi-cuadrado: 5.678052648616264\n",
      "p-valor: 0.33881640558402326\n",
      "Grados de libertad: 5\n",
      "Tabla de frecuencias esperadas:\n",
      "[[  1.50588235  14.49411765]\n",
      " [  3.38823529  32.61176471]\n",
      " [  5.27058824  50.72941176]\n",
      " [  1.12941176  10.87058824]\n",
      " [ 12.04705882 115.95294118]\n",
      " [  0.65882353   6.34117647]]\n"
     ]
    }
   ],
   "source": [
    "# Realizar la prueba de chi-cuadrado\n",
    "chi2_stat, p_value, dof, expected = chi2_contingency(contingency_table)\n",
    "\n",
    "print(\"Estadístico de chi-cuadrado:\", chi2_stat)\n",
    "print(\"p-valor:\", p_value)\n",
    "print(\"Grados de libertad:\", dof)\n",
    "print(\"Tabla de frecuencias esperadas:\")\n",
    "print(expected)"
   ]
  },
  {
   "cell_type": "markdown",
   "id": "99ce6cc7-88e0-4ddc-856c-0f4f07205f38",
   "metadata": {},
   "source": [
    "**Cuidado!** hay frecuencias esperadas menores a 5. Esta particularidad puede hacer fallar al test de Chi cuadrodo\n",
    "Debemos emplear entonces:  \n",
    "  El test exacto de Fischer [para tablas 2x2]  \n",
    "  El coeficiente de V de cramer [ante la presencia de mas categorias]"
   ]
  },
  {
   "cell_type": "markdown",
   "id": "7687b67b-4503-4a73-8b18-51be7834a017",
   "metadata": {},
   "source": [
    "No se encuentra facilmente una función en Python para hallar el estadisitico V de Cramer,\n",
    "pero encontre esta funcion en internet que lo calcula."
   ]
  },
  {
   "cell_type": "code",
   "execution_count": 31,
   "id": "490de626-b238-4aaf-a010-fd3d628a9fb1",
   "metadata": {},
   "outputs": [],
   "source": [
    "def cramerVgof(chi2Value, nCases, nCat, correction=None):        \n",
    "    n = nCases\n",
    "    k = nCat\n",
    "    df =  k-1\n",
    "    if correction==None:\n",
    "        CramerV = (chi2Value/(n*df))**0.5\n",
    "    elif correction=='Bergsma':\n",
    "        phi2 = chi2Value / n        \n",
    "        phi2Mean = max(0, phi2 - (k-1)/(n-1))\n",
    "        kMean = k - (k-1)**2/(n-1)        \n",
    "        CramerV = (phi2Mean / (kMean - 1))**0.5\n",
    "    return CramerV"
   ]
  },
  {
   "cell_type": "code",
   "execution_count": 32,
   "id": "c88ae219-5e57-4b67-aa12-64ef6675a200",
   "metadata": {},
   "outputs": [
    {
     "name": "stdout",
     "output_type": "stream",
     "text": [
      "0.06673360942108329\n"
     ]
    }
   ],
   "source": [
    "print(cramerVgof(5.678052648616264, 255, 6))"
   ]
  },
  {
   "cell_type": "markdown",
   "id": "6cdbc6f4-6ba9-41e0-8a0b-ac8ae8f01c26",
   "metadata": {},
   "source": [
    "![cramer](img/cramer.jpg)"
   ]
  },
  {
   "cell_type": "markdown",
   "id": "1191be94-70a8-4f69-af5f-745eaf38ccbe",
   "metadata": {},
   "source": [
    "Como estamos trabajando con 5 grados de libertad, ya que tenemos 6 filas distintas en nuestra tabla de contingencia y \n",
    "df= filas-1. el V de cramer obtenido nos indica que el grado de dependencia entre la variable genero del presidente y tipo de crecimiento esta entre pequeño e insignificante."
   ]
  },
  {
   "cell_type": "markdown",
   "id": "0ef2fcab-d04b-42d7-9bb5-88e2ba212ca4",
   "metadata": {
    "jp-MarkdownHeadingCollapsed": true,
    "tags": []
   },
   "source": [
    "## 3. Ensayo: Tests parametricos VS no parametricos"
   ]
  },
  {
   "cell_type": "code",
   "execution_count": 33,
   "id": "621c94fe-e483-4995-b631-41e86b90153a",
   "metadata": {},
   "outputs": [],
   "source": [
    "import pingouin as pg\n",
    "from scipy.stats import wilcoxon,ranksums"
   ]
  },
  {
   "cell_type": "markdown",
   "id": "ab01dbef-7e2e-4a6c-bbb6-6b8ea777a426",
   "metadata": {},
   "source": [
    "En esta clase, vamos a resolver el mismo problema utilizando test parametricos y no parameticos"
   ]
  },
  {
   "cell_type": "markdown",
   "id": "544731e3-32e4-4465-84c4-7eef369adb69",
   "metadata": {},
   "source": [
    "### problema 2 (nuevamente)\n",
    "#### Comparación de medias para 2 muestras independientes\n",
    "Se sospecha que una empresa lleva a cabo una política de discriminación, con respecto al sexo, en los sueldos de sus \n",
    "empleados. \n",
    "Se seleccionaron 12 empleados masculinos y 12 femeninos de entre los que tienen responsabilidades y experiencias \n",
    "similares en el trabajo; sus salarios anuales en miles de dólares son los siguientes:"
   ]
  },
  {
   "cell_type": "code",
   "execution_count": 34,
   "id": "70e65930-8ade-49ef-922f-f965d1cb6e3f",
   "metadata": {},
   "outputs": [],
   "source": [
    "# Datos de salarios\n",
    "salarios = pd.DataFrame({\n",
    "    'sala': [22.5, 19.8, 20.6, 24.7, 23.2, 19.2, 18.7, 20.9, 21.6, 23.5, 20.7, 21.6,\n",
    "             21.9, 21.6, 22.4, 24.0, 24.1, 23.4, 21.2, 23.9, 20.5, 24.5, 22.3, 23.6],\n",
    "    'sexo': pd.Categorical(['mujer'] * 12 + ['varón'] * 12)\n",
    "})"
   ]
  },
  {
   "cell_type": "markdown",
   "id": "a910d79d-1889-4162-a47b-22a6541ef244",
   "metadata": {},
   "source": [
    "### d.I. Test parametrico para comparación de medias independientes"
   ]
  },
  {
   "cell_type": "markdown",
   "id": "d165e1e3-1f4e-4c95-9733-43bee437264b",
   "metadata": {},
   "source": [
    "### test t de comparación de medias independientes"
   ]
  },
  {
   "cell_type": "code",
   "execution_count": 48,
   "id": "60c6ece1-f968-4927-940c-4dfe15def0a8",
   "metadata": {},
   "outputs": [
    {
     "data": {
      "text/html": [
       "<div>\n",
       "<style scoped>\n",
       "    .dataframe tbody tr th:only-of-type {\n",
       "        vertical-align: middle;\n",
       "    }\n",
       "\n",
       "    .dataframe tbody tr th {\n",
       "        vertical-align: top;\n",
       "    }\n",
       "\n",
       "    .dataframe thead th {\n",
       "        text-align: right;\n",
       "    }\n",
       "</style>\n",
       "<table border=\"1\" class=\"dataframe\">\n",
       "  <thead>\n",
       "    <tr style=\"text-align: right;\">\n",
       "      <th></th>\n",
       "      <th>T</th>\n",
       "      <th>dof</th>\n",
       "      <th>alternative</th>\n",
       "      <th>p-val</th>\n",
       "      <th>CI95%</th>\n",
       "      <th>cohen-d</th>\n",
       "      <th>BF10</th>\n",
       "      <th>power</th>\n",
       "    </tr>\n",
       "  </thead>\n",
       "  <tbody>\n",
       "    <tr>\n",
       "      <th>T-test</th>\n",
       "      <td>-2.12</td>\n",
       "      <td>22</td>\n",
       "      <td>two-sided</td>\n",
       "      <td>0.05</td>\n",
       "      <td>[-2.7, -0.03]</td>\n",
       "      <td>0.87</td>\n",
       "      <td>1.772</td>\n",
       "      <td>0.53</td>\n",
       "    </tr>\n",
       "  </tbody>\n",
       "</table>\n",
       "</div>"
      ],
      "text/plain": [
       "           T  dof alternative  p-val          CI95%  cohen-d   BF10  power\n",
       "T-test -2.12   22   two-sided   0.05  [-2.7, -0.03]     0.87  1.772   0.53"
      ]
     },
     "execution_count": 48,
     "metadata": {},
     "output_type": "execute_result"
    }
   ],
   "source": [
    "# Test t de comparación de medias independientes\n",
    "t_test_result = pg.ttest(salarios[salarios['sexo'] == 'mujer']['sala'],\n",
    "                         salarios[salarios['sexo'] == 'varón']['sala'])\n",
    "t_test_result"
   ]
  },
  {
   "cell_type": "markdown",
   "id": "3b41090f-0b10-4831-b7b6-30afcc13e60f",
   "metadata": {},
   "source": [
    "### medicion del tamaño del efecto (D de Cohen)"
   ]
  },
  {
   "cell_type": "code",
   "execution_count": 51,
   "id": "61c162f7-a0a8-48fc-a812-ead035d2935f",
   "metadata": {},
   "outputs": [
    {
     "name": "stdout",
     "output_type": "stream",
     "text": [
      "Cohen's d: -0.8672515665261484\n"
     ]
    }
   ],
   "source": [
    "# Seleccionar los valores de sala por sexo\n",
    "sala_mujer = salarios[salarios['sexo'] == 'mujer']['sala']\n",
    "sala_varon = salarios[salarios['sexo'] == 'varón']['sala']\n",
    "\n",
    "# Tamaño del efecto (Cohen's d) usando los valores numéricos\n",
    "cohens_d = pg.compute_effsize(sala_mujer, sala_varon, eftype='cohen')\n",
    "print(\"Cohen's d:\", cohens_d)"
   ]
  },
  {
   "cell_type": "markdown",
   "id": "15ea2c6f-347b-4476-a877-a3dac0ad1548",
   "metadata": {},
   "source": [
    "### Test no parametrico para comparación de medias independientes"
   ]
  },
  {
   "cell_type": "markdown",
   "id": "3996bbb8-d146-4349-b1ff-fb2ff57950ea",
   "metadata": {},
   "source": [
    "### Wilcoxon rank-sum test o test de Mann-whitney"
   ]
  },
  {
   "cell_type": "code",
   "execution_count": 47,
   "id": "7bb878fb-2aa4-4027-92e0-e44c735c315e",
   "metadata": {},
   "outputs": [
    {
     "data": {
      "text/plain": [
       "RanksumsResult(statistic=-1.9052558883257649, pvalue=0.05674681648938142)"
      ]
     },
     "execution_count": 47,
     "metadata": {},
     "output_type": "execute_result"
    }
   ],
   "source": [
    "# Test no paramétrico de comparación de medias independientes (Wilcoxon rank-sum test)\n",
    "wilcox_result = ranksums(salarios[salarios['sexo'] == 'mujer']['sala'],\n",
    "                          salarios[salarios['sexo'] == 'varón']['sala'])\n",
    "print('W-statistic:', wilcox_result.statistic)\n",
    "print('p-value:', wilcox_result.pvalue)"
   ]
  },
  {
   "cell_type": "code",
   "execution_count": 38,
   "id": "66a11858-b933-4adc-a256-4d383a243166",
   "metadata": {},
   "outputs": [],
   "source": [
    "# NO ENCUENTRO FUNICON DE TAMAÑO DEL EFECTO"
   ]
  },
  {
   "cell_type": "markdown",
   "id": "d5593063-0875-4a63-b870-fd9b8511bc59",
   "metadata": {},
   "source": [
    "### Problema 4:\n",
    "### Comparacíon de medias para muestras apareadas"
   ]
  },
  {
   "cell_type": "code",
   "execution_count": 39,
   "id": "90bb52b3-6e72-42f7-abb4-b08768b62273",
   "metadata": {},
   "outputs": [],
   "source": [
    "# Datos de hijos (Muestras apareadas)\n",
    "hijos = pd.DataFrame({\n",
    "    'numero': [3, 2, 1, 0, 0, 1, 2, 2, 2, 0, 2, 3, 2, 2, 0, 2, 1, 3, 1, 2],\n",
    "    'sexo': pd.Categorical(['mujer'] * 10 + ['varón'] * 10)\n",
    "})"
   ]
  },
  {
   "cell_type": "markdown",
   "id": "80b0fd84-e91b-4069-8c19-b252fe7c2c75",
   "metadata": {},
   "source": [
    "### f.I. Comparacíon de medias para muestras apareadas (parametrico)  "
   ]
  },
  {
   "cell_type": "code",
   "execution_count": 45,
   "id": "b73eda2f-16ef-4f5e-853c-ff52a18eb355",
   "metadata": {},
   "outputs": [
    {
     "data": {
      "text/html": [
       "<div>\n",
       "<style scoped>\n",
       "    .dataframe tbody tr th:only-of-type {\n",
       "        vertical-align: middle;\n",
       "    }\n",
       "\n",
       "    .dataframe tbody tr th {\n",
       "        vertical-align: top;\n",
       "    }\n",
       "\n",
       "    .dataframe thead th {\n",
       "        text-align: right;\n",
       "    }\n",
       "</style>\n",
       "<table border=\"1\" class=\"dataframe\">\n",
       "  <thead>\n",
       "    <tr style=\"text-align: right;\">\n",
       "      <th></th>\n",
       "      <th>T</th>\n",
       "      <th>dof</th>\n",
       "      <th>alternative</th>\n",
       "      <th>p-val</th>\n",
       "      <th>CI95%</th>\n",
       "      <th>cohen-d</th>\n",
       "      <th>BF10</th>\n",
       "      <th>power</th>\n",
       "    </tr>\n",
       "  </thead>\n",
       "  <tbody>\n",
       "    <tr>\n",
       "      <th>T-test</th>\n",
       "      <td>-1.34</td>\n",
       "      <td>9</td>\n",
       "      <td>two-sided</td>\n",
       "      <td>0.21</td>\n",
       "      <td>[-1.34, 0.34]</td>\n",
       "      <td>0.50</td>\n",
       "      <td>0.626</td>\n",
       "      <td>0.30</td>\n",
       "    </tr>\n",
       "  </tbody>\n",
       "</table>\n",
       "</div>"
      ],
      "text/plain": [
       "           T  dof alternative  p-val          CI95%  cohen-d   BF10  power\n",
       "T-test -1.34    9   two-sided   0.21  [-1.34, 0.34]     0.50  0.626   0.30"
      ]
     },
     "execution_count": 45,
     "metadata": {},
     "output_type": "execute_result"
    }
   ],
   "source": [
    "# Test t de muestras apareadas\n",
    "paired_t_test = pg.ttest(hijos[hijos['sexo'] == 'mujer']['numero'],\n",
    "                         hijos[hijos['sexo'] == 'varón']['numero'], paired=True)\n",
    "paired_t_test"
   ]
  },
  {
   "cell_type": "code",
   "execution_count": 41,
   "id": "67df9dea-b020-4685-9814-305172d009e7",
   "metadata": {},
   "outputs": [
    {
     "name": "stdout",
     "output_type": "stream",
     "text": [
      "Paired Cohen's d: 0.5042194840896107\n"
     ]
    }
   ],
   "source": [
    "# Filtrar los datos para calcular el tamaño del efecto\n",
    "numero_mujer = hijos[hijos['sexo'] == 'mujer']['numero'].values\n",
    "numero_varon = hijos[hijos['sexo'] == 'varón']['numero'].values\n",
    "\n",
    "# Tamaño del efecto (Cohen's d para muestras apareadas)\n",
    "paired_cohens_d = pg.compute_effsize( numero_varon,numero_mujer, eftype='cohen', paired=True)\n",
    "print('Paired Cohen\\'s d:', paired_cohens_d)"
   ]
  },
  {
   "cell_type": "markdown",
   "id": "72f19c83-c416-41f8-9657-72a340f7da04",
   "metadata": {},
   "source": [
    "### f.II. Comparación de medias para muestras apareadas (NO parametrico)"
   ]
  },
  {
   "cell_type": "code",
   "execution_count": 44,
   "id": "e6cee022-c6e4-4cb5-9c29-a2b68e6aea16",
   "metadata": {},
   "outputs": [
    {
     "data": {
      "text/html": [
       "<div>\n",
       "<style scoped>\n",
       "    .dataframe tbody tr th:only-of-type {\n",
       "        vertical-align: middle;\n",
       "    }\n",
       "\n",
       "    .dataframe tbody tr th {\n",
       "        vertical-align: top;\n",
       "    }\n",
       "\n",
       "    .dataframe thead th {\n",
       "        text-align: right;\n",
       "    }\n",
       "</style>\n",
       "<table border=\"1\" class=\"dataframe\">\n",
       "  <thead>\n",
       "    <tr style=\"text-align: right;\">\n",
       "      <th></th>\n",
       "      <th>W-val</th>\n",
       "      <th>alternative</th>\n",
       "      <th>p-val</th>\n",
       "      <th>RBC</th>\n",
       "      <th>CLES</th>\n",
       "    </tr>\n",
       "  </thead>\n",
       "  <tbody>\n",
       "    <tr>\n",
       "      <th>Wilcoxon</th>\n",
       "      <td>12.00</td>\n",
       "      <td>two-sided</td>\n",
       "      <td>0.21</td>\n",
       "      <td>-0.47</td>\n",
       "      <td>0.36</td>\n",
       "    </tr>\n",
       "  </tbody>\n",
       "</table>\n",
       "</div>"
      ],
      "text/plain": [
       "          W-val alternative  p-val   RBC  CLES\n",
       "Wilcoxon  12.00   two-sided   0.21 -0.47  0.36"
      ]
     },
     "execution_count": 44,
     "metadata": {},
     "output_type": "execute_result"
    }
   ],
   "source": [
    "# Test no paramétrico de muestras apareadas (Wilcoxon signed-rank test)\n",
    "paired_wilcox = pg.wilcoxon(x=numero_mujer, y=numero_varon)\n",
    "paired_wilcox"
   ]
  },
  {
   "cell_type": "code",
   "execution_count": 43,
   "id": "1bbc3a63-df0a-4097-96d6-05b605ab5b34",
   "metadata": {},
   "outputs": [],
   "source": [
    "# NO ENCUENTRO FUNCION DE TAMAÑO DEL EFECTO"
   ]
  },
  {
   "cell_type": "markdown",
   "id": "d4cd351b-c825-4643-9bc5-aa807e4d6b17",
   "metadata": {},
   "source": [
    "## Conclusiones  \n",
    "### Cuando usar uno u otro metodo\n",
    "#### Prueba T\n",
    "* Poblaciones con distribución normal\n",
    "* Muestras de gran tamaño\n",
    "\n",
    "#### Prueba del signo de Wilcoxon\n",
    "* Variables cuantitativas no normales\n",
    "* Variables cuantitativas con distribución asimétrica\n",
    "* Muestras pequeñas donde no se pueda chequear normalidad\n",
    "* Variables ordinales"
   ]
  }
 ],
 "metadata": {
  "kernelspec": {
   "display_name": "Python 3 (ipykernel)",
   "language": "python",
   "name": "python3"
  },
  "language_info": {
   "codemirror_mode": {
    "name": "ipython",
    "version": 3
   },
   "file_extension": ".py",
   "mimetype": "text/x-python",
   "name": "python",
   "nbconvert_exporter": "python",
   "pygments_lexer": "ipython3",
   "version": "3.9.15"
  }
 },
 "nbformat": 4,
 "nbformat_minor": 5
}
