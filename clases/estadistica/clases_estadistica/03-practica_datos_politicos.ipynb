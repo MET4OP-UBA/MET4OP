{
 "cells": [
  {
   "cell_type": "markdown",
   "id": "c4ca2271-eb92-4faa-a1c5-fa954369a9af",
   "metadata": {},
   "source": [
    "# Aplicando Python a datos políticos"
   ]
  },
  {
   "cell_type": "markdown",
   "id": "c449a217-2079-4367-a94e-f5699982122e",
   "metadata": {},
   "source": [
    "## INDICE"
   ]
  },
  {
   "cell_type": "markdown",
   "id": "74a50989-d686-42f2-b67e-ff0049c37c60",
   "metadata": {},
   "source": [
    "### 1. Carga de data frame con pandas (no estudiar)\n",
    "### 2. Listas\n",
    "### 3. Diccionarios\n",
    "### 4. Estructuras de control\n",
    "### 5. Funciones"
   ]
  },
  {
   "cell_type": "markdown",
   "id": "cc4c11a7-c04e-4fbe-a8a8-1c11c28aefd5",
   "metadata": {},
   "source": [
    "# ============================================="
   ]
  },
  {
   "cell_type": "markdown",
   "id": "a338bb24-01ee-4f5e-b005-d6dcd7c0ec28",
   "metadata": {
    "tags": []
   },
   "source": [
    "### 1. Carga de data frame con pandas (no estudiar)"
   ]
  },
  {
   "cell_type": "code",
   "execution_count": 1,
   "id": "d775dcf4-dc49-4fba-a1a9-f4526bbb9c8b",
   "metadata": {},
   "outputs": [],
   "source": [
    "import pandas as pd\n",
    "import numpy as np"
   ]
  },
  {
   "cell_type": "code",
   "execution_count": 2,
   "id": "93b0a78c",
   "metadata": {},
   "outputs": [],
   "source": [
    "# pip install openpyxl"
   ]
  },
  {
   "cell_type": "code",
   "execution_count": 145,
   "id": "5ee3fe8a-0735-4f08-bdb7-6f32d738af4a",
   "metadata": {},
   "outputs": [],
   "source": [
    "aprobacion= pd.read_excel(\"aprobacion.xlsx\")"
   ]
  },
  {
   "cell_type": "code",
   "execution_count": 146,
   "id": "da41d36d-7598-47eb-a441-571b7a3d8de3",
   "metadata": {},
   "outputs": [
    {
     "data": {
      "text/html": [
       "<div>\n",
       "<style scoped>\n",
       "    .dataframe tbody tr th:only-of-type {\n",
       "        vertical-align: middle;\n",
       "    }\n",
       "\n",
       "    .dataframe tbody tr th {\n",
       "        vertical-align: top;\n",
       "    }\n",
       "\n",
       "    .dataframe thead th {\n",
       "        text-align: right;\n",
       "    }\n",
       "</style>\n",
       "<table border=\"1\" class=\"dataframe\">\n",
       "  <thead>\n",
       "    <tr style=\"text-align: right;\">\n",
       "      <th></th>\n",
       "      <th>pais</th>\n",
       "      <th>anio</th>\n",
       "      <th>trimestre</th>\n",
       "      <th>presidente</th>\n",
       "      <th>presidente_genero</th>\n",
       "      <th>aprobacion_neta</th>\n",
       "      <th>pib</th>\n",
       "      <th>corrupcion</th>\n",
       "      <th>poblacion</th>\n",
       "      <th>desempleo</th>\n",
       "      <th>crecimiento_pib</th>\n",
       "    </tr>\n",
       "  </thead>\n",
       "  <tbody>\n",
       "    <tr>\n",
       "      <th>0</th>\n",
       "      <td>Argentina</td>\n",
       "      <td>2000</td>\n",
       "      <td>1</td>\n",
       "      <td>Fernando de la Rúa</td>\n",
       "      <td>Masculino</td>\n",
       "      <td>40</td>\n",
       "      <td>14</td>\n",
       "      <td>552151219031</td>\n",
       "      <td>37057452</td>\n",
       "      <td>15</td>\n",
       "      <td>-1</td>\n",
       "    </tr>\n",
       "    <tr>\n",
       "      <th>1</th>\n",
       "      <td>Argentina</td>\n",
       "      <td>2000</td>\n",
       "      <td>2</td>\n",
       "      <td>Fernando de la Rúa</td>\n",
       "      <td>Masculino</td>\n",
       "      <td>16</td>\n",
       "      <td>14</td>\n",
       "      <td>552151219031</td>\n",
       "      <td>37057452</td>\n",
       "      <td>15</td>\n",
       "      <td>-1</td>\n",
       "    </tr>\n",
       "    <tr>\n",
       "      <th>2</th>\n",
       "      <td>Argentina</td>\n",
       "      <td>2000</td>\n",
       "      <td>3</td>\n",
       "      <td>Fernando de la Rúa</td>\n",
       "      <td>Masculino</td>\n",
       "      <td>24</td>\n",
       "      <td>14</td>\n",
       "      <td>552151219031</td>\n",
       "      <td>37057452</td>\n",
       "      <td>15</td>\n",
       "      <td>-1</td>\n",
       "    </tr>\n",
       "    <tr>\n",
       "      <th>3</th>\n",
       "      <td>Argentina</td>\n",
       "      <td>2000</td>\n",
       "      <td>4</td>\n",
       "      <td>Fernando de la Rúa</td>\n",
       "      <td>Masculino</td>\n",
       "      <td>-18</td>\n",
       "      <td>14</td>\n",
       "      <td>552151219031</td>\n",
       "      <td>37057452</td>\n",
       "      <td>15</td>\n",
       "      <td>-1</td>\n",
       "    </tr>\n",
       "    <tr>\n",
       "      <th>4</th>\n",
       "      <td>Argentina</td>\n",
       "      <td>2001</td>\n",
       "      <td>1</td>\n",
       "      <td>Fernando de la Rúa</td>\n",
       "      <td>Masculino</td>\n",
       "      <td>-7</td>\n",
       "      <td>14</td>\n",
       "      <td>527807756979</td>\n",
       "      <td>37471509</td>\n",
       "      <td>18</td>\n",
       "      <td>-4</td>\n",
       "    </tr>\n",
       "  </tbody>\n",
       "</table>\n",
       "</div>"
      ],
      "text/plain": [
       "        pais  anio  trimestre          presidente presidente_genero  \\\n",
       "0  Argentina  2000          1  Fernando de la Rúa         Masculino   \n",
       "1  Argentina  2000          2  Fernando de la Rúa         Masculino   \n",
       "2  Argentina  2000          3  Fernando de la Rúa         Masculino   \n",
       "3  Argentina  2000          4  Fernando de la Rúa         Masculino   \n",
       "4  Argentina  2001          1  Fernando de la Rúa         Masculino   \n",
       "\n",
       "   aprobacion_neta  pib   corrupcion  poblacion  desempleo  crecimiento_pib  \n",
       "0               40   14 552151219031   37057452         15               -1  \n",
       "1               16   14 552151219031   37057452         15               -1  \n",
       "2               24   14 552151219031   37057452         15               -1  \n",
       "3              -18   14 552151219031   37057452         15               -1  \n",
       "4               -7   14 527807756979   37471509         18               -4  "
      ]
     },
     "execution_count": 146,
     "metadata": {},
     "output_type": "execute_result"
    }
   ],
   "source": [
    "aprobacion.head()"
   ]
  },
  {
   "cell_type": "markdown",
   "id": "dfffd5ae-cace-4122-97ee-d0e69b9af01d",
   "metadata": {},
   "source": [
    "Hay numeros que se visualizan en notacion cientifica por ser muy largos. vamos a corregirlo"
   ]
  },
  {
   "cell_type": "code",
   "execution_count": 100,
   "id": "81eaca12-1080-4779-ab01-6fb4cef8db6a",
   "metadata": {},
   "outputs": [],
   "source": [
    "pd.set_option('display.float_format', lambda x: f'{x:.0f}')"
   ]
  },
  {
   "cell_type": "code",
   "execution_count": 101,
   "id": "b581c7c0-dc00-4d13-921a-ee1f4a61705e",
   "metadata": {},
   "outputs": [
    {
     "name": "stdout",
     "output_type": "stream",
     "text": [
      "<class 'pandas.core.frame.DataFrame'>\n",
      "RangeIndex: 1020 entries, 0 to 1019\n",
      "Data columns (total 11 columns):\n",
      " #   Column             Non-Null Count  Dtype  \n",
      "---  ------             --------------  -----  \n",
      " 0   pais               1020 non-null   object \n",
      " 1   anio               1020 non-null   int64  \n",
      " 2   trimestre          1020 non-null   int64  \n",
      " 3   presidente         1020 non-null   object \n",
      " 4   presidente_genero  1020 non-null   object \n",
      " 5   aprobacion_neta    1020 non-null   float64\n",
      " 6   pib                1020 non-null   int64  \n",
      " 7   corrupcion         1020 non-null   float64\n",
      " 8   poblacion          1020 non-null   int64  \n",
      " 9   desempleo          1020 non-null   float64\n",
      " 10  crecimiento_pib    1020 non-null   float64\n",
      "dtypes: float64(4), int64(4), object(3)\n",
      "memory usage: 87.8+ KB\n"
     ]
    }
   ],
   "source": [
    "aprobacion.info()"
   ]
  },
  {
   "cell_type": "code",
   "execution_count": 102,
   "id": "1d82d4bc-5e03-4baa-8377-dff71b81b2b6",
   "metadata": {},
   "outputs": [
    {
     "data": {
      "text/html": [
       "<div>\n",
       "<style scoped>\n",
       "    .dataframe tbody tr th:only-of-type {\n",
       "        vertical-align: middle;\n",
       "    }\n",
       "\n",
       "    .dataframe tbody tr th {\n",
       "        vertical-align: top;\n",
       "    }\n",
       "\n",
       "    .dataframe thead th {\n",
       "        text-align: right;\n",
       "    }\n",
       "</style>\n",
       "<table border=\"1\" class=\"dataframe\">\n",
       "  <thead>\n",
       "    <tr style=\"text-align: right;\">\n",
       "      <th></th>\n",
       "      <th>anio</th>\n",
       "      <th>trimestre</th>\n",
       "      <th>aprobacion_neta</th>\n",
       "      <th>pib</th>\n",
       "      <th>corrupcion</th>\n",
       "      <th>poblacion</th>\n",
       "      <th>desempleo</th>\n",
       "      <th>crecimiento_pib</th>\n",
       "    </tr>\n",
       "  </thead>\n",
       "  <tbody>\n",
       "    <tr>\n",
       "      <th>count</th>\n",
       "      <td>1020</td>\n",
       "      <td>1020</td>\n",
       "      <td>1020</td>\n",
       "      <td>1020</td>\n",
       "      <td>1020</td>\n",
       "      <td>1020</td>\n",
       "      <td>1020</td>\n",
       "      <td>1020</td>\n",
       "    </tr>\n",
       "    <tr>\n",
       "      <th>mean</th>\n",
       "      <td>2007</td>\n",
       "      <td>2</td>\n",
       "      <td>15</td>\n",
       "      <td>415993735215580</td>\n",
       "      <td>411402368992</td>\n",
       "      <td>31379665</td>\n",
       "      <td>7</td>\n",
       "      <td>4</td>\n",
       "    </tr>\n",
       "    <tr>\n",
       "      <th>std</th>\n",
       "      <td>4</td>\n",
       "      <td>1</td>\n",
       "      <td>28</td>\n",
       "      <td>258665895292915</td>\n",
       "      <td>687789664895</td>\n",
       "      <td>47560715</td>\n",
       "      <td>4</td>\n",
       "      <td>4</td>\n",
       "    </tr>\n",
       "    <tr>\n",
       "      <th>min</th>\n",
       "      <td>2000</td>\n",
       "      <td>1</td>\n",
       "      <td>-66</td>\n",
       "      <td>642001953125</td>\n",
       "      <td>17373017702</td>\n",
       "      <td>3030347</td>\n",
       "      <td>1</td>\n",
       "      <td>-11</td>\n",
       "    </tr>\n",
       "    <tr>\n",
       "      <th>25%</th>\n",
       "      <td>2003</td>\n",
       "      <td>2</td>\n",
       "      <td>-7</td>\n",
       "      <td>212949919700623</td>\n",
       "      <td>40130146629</td>\n",
       "      <td>5867626</td>\n",
       "      <td>4</td>\n",
       "      <td>2</td>\n",
       "    </tr>\n",
       "    <tr>\n",
       "      <th>50%</th>\n",
       "      <td>2007</td>\n",
       "      <td>2</td>\n",
       "      <td>16</td>\n",
       "      <td>375663681030273</td>\n",
       "      <td>91972026250</td>\n",
       "      <td>13072060</td>\n",
       "      <td>6</td>\n",
       "      <td>4</td>\n",
       "    </tr>\n",
       "    <tr>\n",
       "      <th>75%</th>\n",
       "      <td>2011</td>\n",
       "      <td>3</td>\n",
       "      <td>38</td>\n",
       "      <td>662462463378906</td>\n",
       "      <td>400986433732</td>\n",
       "      <td>30317848</td>\n",
       "      <td>9</td>\n",
       "      <td>6</td>\n",
       "    </tr>\n",
       "    <tr>\n",
       "      <th>max</th>\n",
       "      <td>2014</td>\n",
       "      <td>4</td>\n",
       "      <td>87</td>\n",
       "      <td>944239273071289</td>\n",
       "      <td>3139626109943</td>\n",
       "      <td>204213133</td>\n",
       "      <td>21</td>\n",
       "      <td>18</td>\n",
       "    </tr>\n",
       "  </tbody>\n",
       "</table>\n",
       "</div>"
      ],
      "text/plain": [
       "       anio  trimestre  aprobacion_neta             pib    corrupcion  \\\n",
       "count  1020       1020             1020            1020          1020   \n",
       "mean   2007          2               15 415993735215580  411402368992   \n",
       "std       4          1               28 258665895292915  687789664895   \n",
       "min    2000          1              -66    642001953125   17373017702   \n",
       "25%    2003          2               -7 212949919700623   40130146629   \n",
       "50%    2007          2               16 375663681030273   91972026250   \n",
       "75%    2011          3               38 662462463378906  400986433732   \n",
       "max    2014          4               87 944239273071289 3139626109943   \n",
       "\n",
       "       poblacion  desempleo  crecimiento_pib  \n",
       "count       1020       1020             1020  \n",
       "mean    31379665          7                4  \n",
       "std     47560715          4                4  \n",
       "min      3030347          1              -11  \n",
       "25%      5867626          4                2  \n",
       "50%     13072060          6                4  \n",
       "75%     30317848          9                6  \n",
       "max    204213133         21               18  "
      ]
     },
     "execution_count": 102,
     "metadata": {},
     "output_type": "execute_result"
    }
   ],
   "source": [
    "aprobacion.describe()"
   ]
  },
  {
   "cell_type": "markdown",
   "id": "38a43c24-5c87-4915-9b2f-ed859aa839b8",
   "metadata": {},
   "source": [
    "### 2.Listas"
   ]
  },
  {
   "cell_type": "markdown",
   "id": "24bd6f3b-72cc-40b5-8772-c1d791f315fb",
   "metadata": {},
   "source": [
    "## Pueden repasar los metodos de creacíon de listas en el material de computación. Nosotros vamos a crarlas rapidamente desde el dataframe para trabajar sobre ellas"
   ]
  },
  {
   "cell_type": "code",
   "execution_count": 103,
   "id": "a5d64127-ceda-4671-a618-c4a5cfa0c962",
   "metadata": {},
   "outputs": [],
   "source": [
    "# Convertir cada columna a una lista\n",
    "pais_list = aprobacion['pais'].tolist()\n",
    "anio_list = aprobacion['anio'].tolist()\n",
    "trimestre_list = aprobacion['trimestre'].tolist()\n",
    "presidente_list = aprobacion['presidente'].tolist()\n",
    "presidente_genero_list = aprobacion['presidente_genero'].tolist()\n",
    "aprobacion_neta_list = aprobacion['aprobacion_neta'].tolist()\n",
    "pib_list = aprobacion['pib'].tolist()\n",
    "corrupcion_list = aprobacion['corrupcion'].tolist()\n",
    "poblacion_list = aprobacion['poblacion'].tolist()\n",
    "desempleo_list = aprobacion['desempleo'].tolist()\n",
    "crecimiento_pib_list = aprobacion['crecimiento_pib'].tolist()"
   ]
  },
  {
   "cell_type": "code",
   "execution_count": 104,
   "id": "6ac03685-052c-42a6-ba8e-f332ca96b75f",
   "metadata": {},
   "outputs": [
    {
     "data": {
      "text/plain": [
       "['Fernando de la Rúa',\n",
       " 'Fernando de la Rúa',\n",
       " 'Fernando de la Rúa',\n",
       " 'Fernando de la Rúa',\n",
       " 'Fernando de la Rúa']"
      ]
     },
     "execution_count": 104,
     "metadata": {},
     "output_type": "execute_result"
    }
   ],
   "source": [
    "presidente_list[0:5]"
   ]
  },
  {
   "cell_type": "code",
   "execution_count": 105,
   "id": "93720075-fd8e-442d-9291-83e29fe94a21",
   "metadata": {},
   "outputs": [],
   "source": [
    "pais_unique = list(set(pais_list))\n",
    "anio_unique = list(set(anio_list))\n",
    "trimestre_unique = list(set(trimestre_list))\n",
    "presidente_unique = list(set(presidente_list))\n",
    "presidente_genero_unique = list(set(presidente_genero_list))\n",
    "aprobacion_neta_unique = list(set(aprobacion_neta_list))\n",
    "pib_unique = list(set(pib_list))\n",
    "corrupcion_unique = list(set(corrupcion_list))\n",
    "poblacion_unique = list(set(poblacion_list))\n",
    "desempleo_unique = list(set(desempleo_list))\n",
    "crecimiento_pib_unique = list(set(crecimiento_pib_list))"
   ]
  },
  {
   "cell_type": "code",
   "execution_count": 106,
   "id": "840feb01-03f1-426c-bfad-83eccdf1c162",
   "metadata": {},
   "outputs": [
    {
     "data": {
      "text/plain": [
       "['Jorge Quiroga Ramírez',\n",
       " 'Porfirio Lobo Sosa',\n",
       " 'Eduardo Alberto Duhalde',\n",
       " 'Juan Orlando Hernández',\n",
       " 'Vicente Fox',\n",
       " 'Alan García',\n",
       " 'Gonzalo Sánchez de Lozada',\n",
       " 'Michelle Bachelet',\n",
       " 'Valentín Paniagua',\n",
       " 'Alberto Fujimori',\n",
       " 'Evo Morales']"
      ]
     },
     "execution_count": 106,
     "metadata": {},
     "output_type": "execute_result"
    }
   ],
   "source": [
    "presidente_unique[:11]"
   ]
  },
  {
   "cell_type": "markdown",
   "id": "20583a36-23ce-4189-9a22-0e93d61afed8",
   "metadata": {},
   "source": [
    "#### Metodos para listas"
   ]
  },
  {
   "cell_type": "code",
   "execution_count": 107,
   "id": "4c1d3ea1-457a-430b-b170-4f93e954c95e",
   "metadata": {},
   "outputs": [
    {
     "name": "stdout",
     "output_type": "stream",
     "text": [
      "17\n"
     ]
    }
   ],
   "source": [
    "# 1. Longitud de la Lista\n",
    "print(len(pais_unique))  # No modifica la lista original"
   ]
  },
  {
   "cell_type": "code",
   "execution_count": 108,
   "id": "341b5d15-4b59-4c8d-bac5-4cd890a430ab",
   "metadata": {},
   "outputs": [
    {
     "name": "stdout",
     "output_type": "stream",
     "text": [
      "['Brasil', 'Costa Rica', 'Nicaragua', 'Uruguay', 'Perú', 'Venezuela', 'Argentina', 'Chile', 'Ecuador', 'México', 'Panamá', 'Colombia', 'Paraguay', 'El Salvador', 'Bolivia', 'Honduras', 'Guatemala']\n",
      "['Argentina', 'Bolivia', 'Brasil', 'Chile', 'Colombia', 'Costa Rica', 'Ecuador', 'El Salvador', 'Guatemala', 'Honduras', 'México', 'Nicaragua', 'Panamá', 'Paraguay', 'Perú', 'Uruguay', 'Venezuela']\n",
      "['Venezuela', 'Uruguay', 'Perú', 'Paraguay', 'Panamá', 'Nicaragua', 'México', 'Honduras', 'Guatemala', 'El Salvador', 'Ecuador', 'Costa Rica', 'Colombia', 'Chile', 'Brasil', 'Bolivia', 'Argentina']\n"
     ]
    }
   ],
   "source": [
    "# 2. Ordenar la Lista\n",
    "print(pais_unique)\n",
    "\n",
    "pais_unique.sort()  # Modifica la lista original [ascendete]\n",
    "print(pais_unique)\n",
    "\n",
    "pais_unique.sort(reverse=True)  # Modifica la lista original  [descendente]\n",
    "print(pais_unique)"
   ]
  },
  {
   "cell_type": "code",
   "execution_count": 109,
   "id": "bc5ba2f6-17a6-4e99-9000-af0d6d6bcbea",
   "metadata": {},
   "outputs": [
    {
     "name": "stdout",
     "output_type": "stream",
     "text": [
      "['Argentina', 'Bolivia', 'Brasil', 'Chile', 'Colombia', 'Costa Rica', 'Ecuador', 'El Salvador', 'Guatemala', 'Honduras', 'México', 'Nicaragua', 'Panamá', 'Paraguay', 'Perú', 'Uruguay', 'Venezuela']\n"
     ]
    }
   ],
   "source": [
    "# 3. Invertir el Orden de la Lista\n",
    "pais_unique.reverse()  # Modifica la lista original\n",
    "print(pais_unique)"
   ]
  },
  {
   "cell_type": "code",
   "execution_count": 110,
   "id": "83b97289-bbc6-4001-87e4-4ef18975e1be",
   "metadata": {},
   "outputs": [
    {
     "name": "stdout",
     "output_type": "stream",
     "text": [
      "['Argentina', 'Bolivia', 'Brasil', 'Chile', 'Colombia', 'Costa Rica', 'Ecuador', 'El Salvador', 'Guatemala', 'Honduras', 'México', 'Nicaragua', 'Panamá', 'Paraguay', 'Perú', 'Uruguay', 'Venezuela', 'Jamaica']\n",
      "['Argentina', 'EEUU', 'Bolivia', 'Brasil', 'Chile', 'Colombia', 'Costa Rica', 'Ecuador', 'El Salvador', 'Guatemala', 'Honduras', 'México', 'Nicaragua', 'Panamá', 'Paraguay', 'Perú', 'Uruguay', 'Venezuela', 'Jamaica']\n"
     ]
    }
   ],
   "source": [
    "# 4. Agregar Elementos a la Lista\n",
    "pais_unique.append('Jamaica')  # Modifica la lista original\n",
    "print(pais_unique)\n",
    "\n",
    "pais_unique.insert(1, 'EEUU')  # Modifica la lista original\n",
    "print(pais_unique)"
   ]
  },
  {
   "cell_type": "code",
   "execution_count": 111,
   "id": "770a271c-734c-442d-9631-642f9fdfd462",
   "metadata": {},
   "outputs": [
    {
     "name": "stdout",
     "output_type": "stream",
     "text": [
      "['Argentina', 'EEUU', 'Bolivia', 'Brasil', 'Colombia', 'Costa Rica', 'Ecuador', 'El Salvador', 'Guatemala', 'Honduras', 'México', 'Nicaragua', 'Panamá', 'Paraguay', 'Perú', 'Uruguay', 'Venezuela', 'Jamaica']\n",
      "['Argentina', 'EEUU', 'Brasil', 'Colombia', 'Costa Rica', 'Ecuador', 'El Salvador', 'Guatemala', 'Honduras', 'México', 'Nicaragua', 'Panamá', 'Paraguay', 'Perú', 'Uruguay', 'Venezuela', 'Jamaica']\n",
      "['Argentina', 'EEUU', 'Brasil', 'Colombia', 'Costa Rica', 'Ecuador', 'El Salvador', 'Guatemala', 'Honduras', 'México', 'Nicaragua', 'Panamá', 'Paraguay', 'Perú', 'Uruguay', 'Venezuela']\n",
      "Elemento eliminado: Jamaica\n"
     ]
    }
   ],
   "source": [
    "# 5. Eliminar Elementos de la Lista\n",
    "pais_unique.remove('Chile')  # Modifica la lista original\n",
    "print(pais_unique)\n",
    "\n",
    "del pais_unique[2]  # Modifica la lista original\n",
    "print(pais_unique)\n",
    "\n",
    "last_element = pais_unique.pop()  # Modifica la lista original y guarda el elemento eliminado\n",
    "print(pais_unique)\n",
    "print(f'Elemento eliminado: {last_element}')\n"
   ]
  },
  {
   "cell_type": "code",
   "execution_count": 112,
   "id": "1327a2d4-e1ab-46a4-94f5-6ef954b42570",
   "metadata": {},
   "outputs": [
    {
     "name": "stdout",
     "output_type": "stream",
     "text": [
      "True\n",
      "Índice de Argentina: 0\n"
     ]
    }
   ],
   "source": [
    "# 6. Buscar un Elemento en la Lista\n",
    "print('Argentina' in pais_unique)  # No modifica la lista original\n",
    "\n",
    "index = pais_unique.index('Argentina')  # No modifica la lista original\n",
    "print(f'Índice de Argentina: {index}')"
   ]
  },
  {
   "cell_type": "code",
   "execution_count": 113,
   "id": "246a6f43-e4d1-4494-8f55-6b0efd8533e7",
   "metadata": {},
   "outputs": [
    {
     "name": "stdout",
     "output_type": "stream",
     "text": [
      "Cantidad de veces que aparece Argentina: 1\n"
     ]
    }
   ],
   "source": [
    "\n",
    "# 7. Contar Elementos en la Lista\n",
    "count = pais_unique.count('Argentina')  # No modifica la lista original\n",
    "print(f'Cantidad de veces que aparece Argentina: {count}')\n"
   ]
  },
  {
   "cell_type": "code",
   "execution_count": 114,
   "id": "64520cf7-d533-454b-944a-e0db58278309",
   "metadata": {},
   "outputs": [
    {
     "name": "stdout",
     "output_type": "stream",
     "text": [
      "['Argentina', 'EEUU', 'Brasil', 'Colombia', 'Costa Rica', 'Ecuador', 'El Salvador', 'Guatemala', 'Honduras', 'México', 'Nicaragua', 'Panamá', 'Paraguay', 'Perú', 'Uruguay', 'Venezuela', 2020, 2021, 2022, 2023, 2024]\n"
     ]
    }
   ],
   "source": [
    "\n",
    "# 8. Unir Listas\n",
    "anio_unique = [2020, 2021, 2022, 2023, 2024]\n",
    "combined_list = pais_unique + anio_unique  # Crea una nueva lista combinada\n",
    "print(combined_list)\n"
   ]
  },
  {
   "cell_type": "code",
   "execution_count": 115,
   "id": "f74e56d2-e1e3-48f0-aec1-d054e8548f96",
   "metadata": {},
   "outputs": [
    {
     "name": "stdout",
     "output_type": "stream",
     "text": [
      "Argentina, EEUU, Brasil, Colombia, Costa Rica, Ecuador, El Salvador, Guatemala, Honduras, México, Nicaragua, Panamá, Paraguay, Perú, Uruguay, Venezuela\n"
     ]
    },
    {
     "data": {
      "text/plain": [
       "str"
      ]
     },
     "execution_count": 115,
     "metadata": {},
     "output_type": "execute_result"
    }
   ],
   "source": [
    "# 10. Convertir la Lista a una Cadena\n",
    "pais_string = ', '.join(pais_unique)  # Crea una nueva cadena\n",
    "print(pais_string)\n",
    "type(pais_string)  #comprobamos el tipo de dato"
   ]
  },
  {
   "cell_type": "code",
   "execution_count": 116,
   "id": "e135fd6a-2322-40cb-9af7-79b49f5037dd",
   "metadata": {},
   "outputs": [
    {
     "data": {
      "text/plain": [
       "['Argentina', 'EEUU', 'Brasil']"
      ]
     },
     "execution_count": 116,
     "metadata": {},
     "output_type": "execute_result"
    }
   ],
   "source": [
    "# 10. Obtener un subconjunto de la lista\n",
    "primeros_tres = pais_unique[:3]\n",
    "primeros_tres"
   ]
  },
  {
   "cell_type": "markdown",
   "id": "83988157-f9ee-4d35-8232-7848e3613ccc",
   "metadata": {},
   "source": [
    "### algunos metodos mas pero para datos numericos"
   ]
  },
  {
   "cell_type": "code",
   "execution_count": 117,
   "id": "7f15cb75-5019-4cf8-81e4-3d7c10cade69",
   "metadata": {},
   "outputs": [
    {
     "name": "stdout",
     "output_type": "stream",
     "text": [
      "4.8\n",
      "8.3\n"
     ]
    }
   ],
   "source": [
    "desempleo_unique = [5.2, 7.1, 6.5, 4.8, 5.9, 8.3, 7.0, 5.4]\n",
    "\n",
    "# 1. Obtener el valor mínimo y máximo\n",
    "min_desempleo = min(desempleo_unique)\n",
    "print(min_desempleo)\n",
    "max_desempleo = max(desempleo_unique)\n",
    "print(max_desempleo)\n"
   ]
  },
  {
   "cell_type": "code",
   "execution_count": 118,
   "id": "6dd311a2-12e8-400c-81d5-0804950ef63b",
   "metadata": {},
   "outputs": [
    {
     "data": {
      "text/plain": [
       "50.2"
      ]
     },
     "execution_count": 118,
     "metadata": {},
     "output_type": "execute_result"
    }
   ],
   "source": [
    "# 2. Suma de todos los elementos\n",
    "suma_desempleo = sum(desempleo_unique)\n",
    "suma_desempleo\n"
   ]
  },
  {
   "cell_type": "code",
   "execution_count": 119,
   "id": "95e7b6f0-82ff-4ad0-b336-da9069520680",
   "metadata": {},
   "outputs": [
    {
     "name": "stdout",
     "output_type": "stream",
     "text": [
      "Promedio: 6.275\n"
     ]
    }
   ],
   "source": [
    "\n",
    "# 3. Promedio de los elementos\n",
    "promedio_desempleo = sum(desempleo_unique) / len(desempleo_unique)\n",
    "print(f\"Promedio: {promedio_desempleo}\")"
   ]
  },
  {
   "cell_type": "code",
   "execution_count": 120,
   "id": "0da32e64",
   "metadata": {},
   "outputs": [],
   "source": [
    "# Otra forma de calcular promedio\n",
    "\n",
    "import statistics\n"
   ]
  },
  {
   "cell_type": "code",
   "execution_count": 121,
   "id": "ac747aeb",
   "metadata": {},
   "outputs": [
    {
     "data": {
      "text/plain": [
       "6.275"
      ]
     },
     "execution_count": 121,
     "metadata": {},
     "output_type": "execute_result"
    }
   ],
   "source": [
    "statistics.mean(desempleo_unique)"
   ]
  },
  {
   "cell_type": "code",
   "execution_count": 122,
   "id": "facf6541-317f-4f98-af3b-904fda668e4a",
   "metadata": {},
   "outputs": [
    {
     "data": {
      "text/plain": [
       "[5.0, 7.0, 6.0, 5.0, 6.0, 8.0, 7.0, 5.0]"
      ]
     },
     "execution_count": 122,
     "metadata": {},
     "output_type": "execute_result"
    }
   ],
   "source": [
    "# 4. Redondear los valores\n",
    "desempleo_redondeado = [round(num, 0) for num in desempleo_unique]\n",
    "desempleo_redondeado"
   ]
  },
  {
   "cell_type": "markdown",
   "id": "2bb467e5-8c1d-4402-8a82-ceec0ee86218",
   "metadata": {},
   "source": [
    "### Diccionario a partir de listas"
   ]
  },
  {
   "cell_type": "markdown",
   "id": "35d91137-7206-40d0-91f2-3daacdfa20ae",
   "metadata": {},
   "source": [
    "Nos apuramos y qusimos generar rapidamente un diccionario con nuestras listas_unique pero hubo un problema..."
   ]
  },
  {
   "cell_type": "code",
   "execution_count": 123,
   "id": "85bf163d-9ae6-4309-a756-7bd4cff5cf90",
   "metadata": {},
   "outputs": [
    {
     "data": {
      "text/plain": [
       "{'pais': ['Argentina', 'EEUU', 'Brasil', 'Colombia', 'Costa Rica'],\n",
       " 'anio': [2020, 2021, 2022, 2023, 2024],\n",
       " 'presidente': ['Jorge Quiroga Ramírez',\n",
       "  'Porfirio Lobo Sosa',\n",
       "  'Eduardo Alberto Duhalde',\n",
       "  'Juan Orlando Hernández',\n",
       "  'Vicente Fox'],\n",
       " 'aprobacion_neta': [1.12699997425079,\n",
       "  2.927000046,\n",
       "  3.76200008392334,\n",
       "  4.059999943,\n",
       "  5.1300001139999996],\n",
       " 'pib': [666188659667969,\n",
       "  497184448242188,\n",
       "  278633213043213,\n",
       "  291961498260498,\n",
       "  702841491699219]}"
      ]
     },
     "execution_count": 123,
     "metadata": {},
     "output_type": "execute_result"
    }
   ],
   "source": [
    "# Crear un diccionario con 5 elementos\n",
    "aprobacion_dict = {\n",
    "    'pais': pais_unique[:5],  # Primeros 5 elementos de la columna 'pais'\n",
    "    'anio': anio_unique[:5],  # Primeros 5 elementos de la columna 'anio'\n",
    "    'presidente': presidente_unique[:5],  # Primeros 5 elementos de la columna 'presidente'\n",
    "    'aprobacion_neta': aprobacion_neta_unique[:5],  # Primeros 5 elementos de la columna 'aprobacion_neta'\n",
    "    'pib': pib_unique[:5]  # Primeros 5 elementos de la columna 'pib'\n",
    "}\n",
    "aprobacion_dict"
   ]
  },
  {
   "cell_type": "markdown",
   "id": "906b19c8-d291-4cd6-b665-c4ebe8b6c7f4",
   "metadata": {
    "tags": []
   },
   "source": [
    "##### Estos valores nunca van a tener sentido porque con unique rompimos la relacion original de los datos entre sí."
   ]
  },
  {
   "cell_type": "markdown",
   "id": "3e6d372a-43da-4fb6-86b6-257bd0b370f4",
   "metadata": {},
   "source": [
    "### Diccionario a partir de listas pero con datos manuales"
   ]
  },
  {
   "cell_type": "code",
   "execution_count": 124,
   "id": "be791d4b-b99c-44ac-96a5-22a04febf751",
   "metadata": {},
   "outputs": [],
   "source": [
    "# SE UTILIZAN NUMEROS AL AZAR SOLO PARA EJEMPLIFICAR\n",
    "sample_dict = {\n",
    "    'pais': ['Argentina', 'Brasil', 'Chile', 'Uruguay', 'Colombia'],\n",
    "    'presidente': ['Javier Milei', 'Lula Da Silva', 'Gabriel Boric ', 'Luis Lacalle Pou', 'Gustavo Petro'],\n",
    "    'aprobacion_neta': [50.5, 55.0, 35.2, 34.5, 41.0],\n",
    "    'pib': [100000, 300000, 90000, 30000, 60000],\n",
    "    'poblacion': [46000000, 210000000, 19000000, 3500000, 51000000],\n",
    "    'desempleo': [13.5, 3.0, 7.2, 6.1, 7.5],\n",
    "    'crecimiento_pib': [-2.5, 2.5, 1, 0.8, 0.5]\n",
    "}"
   ]
  },
  {
   "cell_type": "code",
   "execution_count": 125,
   "id": "1913f988-ad47-4e4f-807c-6ecc499332c9",
   "metadata": {},
   "outputs": [
    {
     "data": {
      "text/plain": [
       "{'pais': ['Argentina', 'Brasil', 'Chile', 'Uruguay', 'Colombia'],\n",
       " 'presidente': ['Javier Milei',\n",
       "  'Lula Da Silva',\n",
       "  'Gabriel Boric ',\n",
       "  'Luis Lacalle Pou',\n",
       "  'Gustavo Petro'],\n",
       " 'aprobacion_neta': [50.5, 55.0, 35.2, 34.5, 41.0],\n",
       " 'pib': [100000, 300000, 90000, 30000, 60000],\n",
       " 'poblacion': [46000000, 210000000, 19000000, 3500000, 51000000],\n",
       " 'desempleo': [13.5, 3.0, 7.2, 6.1, 7.5],\n",
       " 'crecimiento_pib': [-2.5, 2.5, 1, 0.8, 0.5]}"
      ]
     },
     "execution_count": 125,
     "metadata": {},
     "output_type": "execute_result"
    }
   ],
   "source": [
    "sample_dict"
   ]
  },
  {
   "cell_type": "code",
   "execution_count": 126,
   "id": "c2c6b6b1-7087-4fd6-ad1d-dabfd2ff3223",
   "metadata": {},
   "outputs": [
    {
     "name": "stdout",
     "output_type": "stream",
     "text": [
      "dict_keys(['pais', 'presidente', 'aprobacion_neta', 'pib', 'poblacion', 'desempleo', 'crecimiento_pib'])\n"
     ]
    }
   ],
   "source": [
    "# Métodos básicos de diccionarios\n",
    "print(sample_dict.keys())  # Muestra las claves\n"
   ]
  },
  {
   "cell_type": "code",
   "execution_count": 127,
   "id": "a09bd03f-ae92-4395-be58-a10ecc90bf34",
   "metadata": {},
   "outputs": [
    {
     "name": "stdout",
     "output_type": "stream",
     "text": [
      "dict_values([['Argentina', 'Brasil', 'Chile', 'Uruguay', 'Colombia'], ['Javier Milei', 'Lula Da Silva', 'Gabriel Boric ', 'Luis Lacalle Pou', 'Gustavo Petro'], [50.5, 55.0, 35.2, 34.5, 41.0], [100000, 300000, 90000, 30000, 60000], [46000000, 210000000, 19000000, 3500000, 51000000], [13.5, 3.0, 7.2, 6.1, 7.5], [-2.5, 2.5, 1, 0.8, 0.5]])\n"
     ]
    }
   ],
   "source": [
    "print(sample_dict.values())  # Muestra los valores"
   ]
  },
  {
   "cell_type": "code",
   "execution_count": 128,
   "id": "b1d7b64c-5039-420a-b38a-2a2dde35490d",
   "metadata": {},
   "outputs": [
    {
     "name": "stdout",
     "output_type": "stream",
     "text": [
      "dict_items([('pais', ['Argentina', 'Brasil', 'Chile', 'Uruguay', 'Colombia']), ('presidente', ['Javier Milei', 'Lula Da Silva', 'Gabriel Boric ', 'Luis Lacalle Pou', 'Gustavo Petro']), ('aprobacion_neta', [50.5, 55.0, 35.2, 34.5, 41.0]), ('pib', [100000, 300000, 90000, 30000, 60000]), ('poblacion', [46000000, 210000000, 19000000, 3500000, 51000000]), ('desempleo', [13.5, 3.0, 7.2, 6.1, 7.5]), ('crecimiento_pib', [-2.5, 2.5, 1, 0.8, 0.5])])\n"
     ]
    }
   ],
   "source": [
    "print(sample_dict.items())  # Muestra las pares clave-valor"
   ]
  },
  {
   "cell_type": "code",
   "execution_count": 129,
   "id": "c27a6bf9-f483-4dd1-aea7-2f0f69b015ea",
   "metadata": {},
   "outputs": [
    {
     "name": "stdout",
     "output_type": "stream",
     "text": [
      "[46000000, 210000000, 19000000, 3500000, 51000000]\n"
     ]
    }
   ],
   "source": [
    "print(sample_dict.get(\"poblacion\"))  # Obtiene el valor asociado a una clave"
   ]
  },
  {
   "cell_type": "code",
   "execution_count": 130,
   "id": "8d5b98ea-710a-436e-9430-a8bc517e5419",
   "metadata": {},
   "outputs": [],
   "source": [
    "sample_dict[\"ideología\"] = [\"globalista\",None,\"globalista\",\"globalista\",\"nacionalista\"]  # Añade una nueva clave-valor"
   ]
  },
  {
   "cell_type": "code",
   "execution_count": 131,
   "id": "c7804221-d1f9-4a60-9dab-2eb5d1c5d329",
   "metadata": {},
   "outputs": [
    {
     "data": {
      "text/plain": [
       "{'pais': ['Argentina', 'Brasil', 'Chile', 'Uruguay', 'Colombia'],\n",
       " 'presidente': ['Javier Milei',\n",
       "  'Lula Da Silva',\n",
       "  'Gabriel Boric ',\n",
       "  'Luis Lacalle Pou',\n",
       "  'Gustavo Petro'],\n",
       " 'aprobacion_neta': [50.5, 55.0, 35.2, 34.5, 41.0],\n",
       " 'pib': [100000, 300000, 90000, 30000, 60000],\n",
       " 'poblacion': [46000000, 210000000, 19000000, 3500000, 51000000],\n",
       " 'desempleo': [13.5, 3.0, 7.2, 6.1, 7.5],\n",
       " 'crecimiento_pib': [-2.5, 2.5, 1, 0.8, 0.5],\n",
       " 'ideología': ['globalista', None, 'globalista', 'globalista', 'nacionalista']}"
      ]
     },
     "execution_count": 131,
     "metadata": {},
     "output_type": "execute_result"
    }
   ],
   "source": [
    "sample_dict"
   ]
  },
  {
   "cell_type": "markdown",
   "id": "455f0642-0b11-40c6-8b24-7efd78c6f35e",
   "metadata": {},
   "source": [
    "### 4.Estructuras de control"
   ]
  },
  {
   "cell_type": "markdown",
   "id": "a700e074-db5a-48bd-b97d-037f1150c845",
   "metadata": {},
   "source": [
    "#### for"
   ]
  },
  {
   "cell_type": "code",
   "execution_count": 132,
   "id": "a23991b8-b4e2-4ae6-bfce-9fcf12973b8f",
   "metadata": {},
   "outputs": [
    {
     "name": "stdout",
     "output_type": "stream",
     "text": [
      "[5, 7, 6, 5, 6, 8, 7, 5]\n"
     ]
    }
   ],
   "source": [
    "# Convertir cada elemento de la lista redondeada en enteros\n",
    "desempleo_redondeado\n",
    "desempleo_entero = [int(num) for num in desempleo_redondeado]\n",
    "print(desempleo_entero)"
   ]
  },
  {
   "cell_type": "markdown",
   "id": "6f69f2c9-60d9-47bc-9a47-5ebba91b0520",
   "metadata": {},
   "source": [
    "Una variante del ejemplo anterior"
   ]
  },
  {
   "cell_type": "code",
   "execution_count": 133,
   "id": "e57cfc2c-5a13-40b6-8e30-c6f953868963",
   "metadata": {},
   "outputs": [
    {
     "name": "stdout",
     "output_type": "stream",
     "text": [
      "[5, 7, 6, 5, 6, 8, 7, 5]\n"
     ]
    }
   ],
   "source": [
    "# Lista vacía para almacenar los valores enteros\n",
    "desempleo_entero2 = []\n",
    "\n",
    "# Iterar sobre los elementos de la lista redondeada y convertir a enteros\n",
    "for num in desempleo_redondeado:\n",
    "    desempleo_entero2.append(int(num))\n",
    "\n",
    "# Mostrar la lista resultante\n",
    "print(desempleo_entero2)"
   ]
  },
  {
   "cell_type": "markdown",
   "id": "352b004c",
   "metadata": {},
   "source": [
    "### 5.Funciones"
   ]
  },
  {
   "cell_type": "code",
   "execution_count": 134,
   "id": "2529b3e7",
   "metadata": {},
   "outputs": [
    {
     "data": {
      "text/html": [
       "<div>\n",
       "<style scoped>\n",
       "    .dataframe tbody tr th:only-of-type {\n",
       "        vertical-align: middle;\n",
       "    }\n",
       "\n",
       "    .dataframe tbody tr th {\n",
       "        vertical-align: top;\n",
       "    }\n",
       "\n",
       "    .dataframe thead th {\n",
       "        text-align: right;\n",
       "    }\n",
       "</style>\n",
       "<table border=\"1\" class=\"dataframe\">\n",
       "  <thead>\n",
       "    <tr style=\"text-align: right;\">\n",
       "      <th></th>\n",
       "      <th>pais</th>\n",
       "      <th>anio</th>\n",
       "      <th>trimestre</th>\n",
       "      <th>presidente</th>\n",
       "      <th>presidente_genero</th>\n",
       "      <th>aprobacion_neta</th>\n",
       "      <th>pib</th>\n",
       "      <th>corrupcion</th>\n",
       "      <th>poblacion</th>\n",
       "      <th>desempleo</th>\n",
       "      <th>crecimiento_pib</th>\n",
       "    </tr>\n",
       "  </thead>\n",
       "  <tbody>\n",
       "    <tr>\n",
       "      <th>0</th>\n",
       "      <td>Argentina</td>\n",
       "      <td>2000</td>\n",
       "      <td>1</td>\n",
       "      <td>Fernando de la Rúa</td>\n",
       "      <td>Masculino</td>\n",
       "      <td>40</td>\n",
       "      <td>140152530670166</td>\n",
       "      <td>552151219031</td>\n",
       "      <td>37057452</td>\n",
       "      <td>15</td>\n",
       "      <td>-1</td>\n",
       "    </tr>\n",
       "    <tr>\n",
       "      <th>1</th>\n",
       "      <td>Argentina</td>\n",
       "      <td>2000</td>\n",
       "      <td>2</td>\n",
       "      <td>Fernando de la Rúa</td>\n",
       "      <td>Masculino</td>\n",
       "      <td>16</td>\n",
       "      <td>140152530670166</td>\n",
       "      <td>552151219031</td>\n",
       "      <td>37057452</td>\n",
       "      <td>15</td>\n",
       "      <td>-1</td>\n",
       "    </tr>\n",
       "    <tr>\n",
       "      <th>2</th>\n",
       "      <td>Argentina</td>\n",
       "      <td>2000</td>\n",
       "      <td>3</td>\n",
       "      <td>Fernando de la Rúa</td>\n",
       "      <td>Masculino</td>\n",
       "      <td>24</td>\n",
       "      <td>140152530670166</td>\n",
       "      <td>552151219031</td>\n",
       "      <td>37057452</td>\n",
       "      <td>15</td>\n",
       "      <td>-1</td>\n",
       "    </tr>\n",
       "    <tr>\n",
       "      <th>3</th>\n",
       "      <td>Argentina</td>\n",
       "      <td>2000</td>\n",
       "      <td>4</td>\n",
       "      <td>Fernando de la Rúa</td>\n",
       "      <td>Masculino</td>\n",
       "      <td>-18</td>\n",
       "      <td>140152530670166</td>\n",
       "      <td>552151219031</td>\n",
       "      <td>37057452</td>\n",
       "      <td>15</td>\n",
       "      <td>-1</td>\n",
       "    </tr>\n",
       "    <tr>\n",
       "      <th>4</th>\n",
       "      <td>Argentina</td>\n",
       "      <td>2001</td>\n",
       "      <td>1</td>\n",
       "      <td>Fernando de la Rúa</td>\n",
       "      <td>Masculino</td>\n",
       "      <td>-7</td>\n",
       "      <td>140152530670166</td>\n",
       "      <td>527807756979</td>\n",
       "      <td>37471509</td>\n",
       "      <td>18</td>\n",
       "      <td>-4</td>\n",
       "    </tr>\n",
       "    <tr>\n",
       "      <th>...</th>\n",
       "      <td>...</td>\n",
       "      <td>...</td>\n",
       "      <td>...</td>\n",
       "      <td>...</td>\n",
       "      <td>...</td>\n",
       "      <td>...</td>\n",
       "      <td>...</td>\n",
       "      <td>...</td>\n",
       "      <td>...</td>\n",
       "      <td>...</td>\n",
       "      <td>...</td>\n",
       "    </tr>\n",
       "    <tr>\n",
       "      <th>1015</th>\n",
       "      <td>Venezuela</td>\n",
       "      <td>2013</td>\n",
       "      <td>4</td>\n",
       "      <td>Nicolás Maduro</td>\n",
       "      <td>Masculino</td>\n",
       "      <td>-17</td>\n",
       "      <td>944239273071289</td>\n",
       "      <td>535572061141</td>\n",
       "      <td>30317848</td>\n",
       "      <td>8</td>\n",
       "      <td>1</td>\n",
       "    </tr>\n",
       "    <tr>\n",
       "      <th>1016</th>\n",
       "      <td>Venezuela</td>\n",
       "      <td>2014</td>\n",
       "      <td>1</td>\n",
       "      <td>Nicolás Maduro</td>\n",
       "      <td>Masculino</td>\n",
       "      <td>-18</td>\n",
       "      <td>944239273071289</td>\n",
       "      <td>514714815230</td>\n",
       "      <td>30738378</td>\n",
       "      <td>7</td>\n",
       "      <td>-4</td>\n",
       "    </tr>\n",
       "    <tr>\n",
       "      <th>1017</th>\n",
       "      <td>Venezuela</td>\n",
       "      <td>2014</td>\n",
       "      <td>2</td>\n",
       "      <td>Nicolás Maduro</td>\n",
       "      <td>Masculino</td>\n",
       "      <td>-19</td>\n",
       "      <td>944239273071289</td>\n",
       "      <td>514714815230</td>\n",
       "      <td>30738378</td>\n",
       "      <td>7</td>\n",
       "      <td>-4</td>\n",
       "    </tr>\n",
       "    <tr>\n",
       "      <th>1018</th>\n",
       "      <td>Venezuela</td>\n",
       "      <td>2014</td>\n",
       "      <td>3</td>\n",
       "      <td>Nicolás Maduro</td>\n",
       "      <td>Masculino</td>\n",
       "      <td>-22</td>\n",
       "      <td>944239273071289</td>\n",
       "      <td>514714815230</td>\n",
       "      <td>30738378</td>\n",
       "      <td>7</td>\n",
       "      <td>-4</td>\n",
       "    </tr>\n",
       "    <tr>\n",
       "      <th>1019</th>\n",
       "      <td>Venezuela</td>\n",
       "      <td>2014</td>\n",
       "      <td>4</td>\n",
       "      <td>Nicolás Maduro</td>\n",
       "      <td>Masculino</td>\n",
       "      <td>-25</td>\n",
       "      <td>944239273071289</td>\n",
       "      <td>514714815230</td>\n",
       "      <td>30738378</td>\n",
       "      <td>7</td>\n",
       "      <td>-4</td>\n",
       "    </tr>\n",
       "  </tbody>\n",
       "</table>\n",
       "<p>1020 rows × 11 columns</p>\n",
       "</div>"
      ],
      "text/plain": [
       "           pais  anio  trimestre          presidente presidente_genero  \\\n",
       "0     Argentina  2000          1  Fernando de la Rúa         Masculino   \n",
       "1     Argentina  2000          2  Fernando de la Rúa         Masculino   \n",
       "2     Argentina  2000          3  Fernando de la Rúa         Masculino   \n",
       "3     Argentina  2000          4  Fernando de la Rúa         Masculino   \n",
       "4     Argentina  2001          1  Fernando de la Rúa         Masculino   \n",
       "...         ...   ...        ...                 ...               ...   \n",
       "1015  Venezuela  2013          4      Nicolás Maduro         Masculino   \n",
       "1016  Venezuela  2014          1      Nicolás Maduro         Masculino   \n",
       "1017  Venezuela  2014          2      Nicolás Maduro         Masculino   \n",
       "1018  Venezuela  2014          3      Nicolás Maduro         Masculino   \n",
       "1019  Venezuela  2014          4      Nicolás Maduro         Masculino   \n",
       "\n",
       "      aprobacion_neta              pib   corrupcion  poblacion  desempleo  \\\n",
       "0                  40  140152530670166 552151219031   37057452         15   \n",
       "1                  16  140152530670166 552151219031   37057452         15   \n",
       "2                  24  140152530670166 552151219031   37057452         15   \n",
       "3                 -18  140152530670166 552151219031   37057452         15   \n",
       "4                  -7  140152530670166 527807756979   37471509         18   \n",
       "...               ...              ...          ...        ...        ...   \n",
       "1015              -17  944239273071289 535572061141   30317848          8   \n",
       "1016              -18  944239273071289 514714815230   30738378          7   \n",
       "1017              -19  944239273071289 514714815230   30738378          7   \n",
       "1018              -22  944239273071289 514714815230   30738378          7   \n",
       "1019              -25  944239273071289 514714815230   30738378          7   \n",
       "\n",
       "      crecimiento_pib  \n",
       "0                  -1  \n",
       "1                  -1  \n",
       "2                  -1  \n",
       "3                  -1  \n",
       "4                  -4  \n",
       "...               ...  \n",
       "1015                1  \n",
       "1016               -4  \n",
       "1017               -4  \n",
       "1018               -4  \n",
       "1019               -4  \n",
       "\n",
       "[1020 rows x 11 columns]"
      ]
     },
     "execution_count": 134,
     "metadata": {},
     "output_type": "execute_result"
    }
   ],
   "source": [
    "aprobacion"
   ]
  },
  {
   "cell_type": "code",
   "execution_count": 142,
   "id": "180f24ed",
   "metadata": {},
   "outputs": [
    {
     "name": "stdout",
     "output_type": "stream",
     "text": [
      "Positivo\n",
      "Negativo\n"
     ]
    }
   ],
   "source": [
    "# Creamos una funcion que nos devuelva si el crecimiento del PBI es \n",
    "# negativo o positivo para el pais y años indicados:\n",
    "\n",
    "def crecimiento_PBI(pais_buscado, ano_buscado):\n",
    "    for i in range(len(pais_list)):\n",
    "        if pais_list[i] == pais_buscado and anio_list[i] == ano_buscado:\n",
    "            crecimiento = crecimiento_pib_list[i]\n",
    "            if crecimiento > 0:\n",
    "                return 'Positivo'\n",
    "            elif crecimiento < 0:\n",
    "                return 'Negativo'\n",
    "            else:\n",
    "                return 'Neutro'\n",
    "    \n",
    "    return f\"No se encontró el crecimiento del PIB para {pais_buscado} en el año {ano_buscado}.\"\n",
    "\n",
    "\n",
    "# Ejemplo de uso:\n",
    "resultado = crecimiento_PBI('Venezuela', 2013)\n",
    "print(resultado)  \n",
    "resultado = crecimiento_PBI('Venezuela', 2014)\n",
    "print(resultado) "
   ]
  },
  {
   "cell_type": "code",
   "execution_count": 136,
   "id": "1ded19a4",
   "metadata": {},
   "outputs": [
    {
     "data": {
      "text/plain": [
       "'Negativo'"
      ]
     },
     "execution_count": 136,
     "metadata": {},
     "output_type": "execute_result"
    }
   ],
   "source": [
    "crecimiento_PBI('Argentina', 2014)"
   ]
  },
  {
   "cell_type": "code",
   "execution_count": 137,
   "id": "5a701890",
   "metadata": {},
   "outputs": [],
   "source": [
    "# Ahora queremos crear una funcion que nos devuelva el calculo de \n",
    "# PBI per capita (PBI / poblacion) para el pais y año indicados\n",
    "\n",
    "def pbi_pc(pais_buscado, ano_buscado):\n",
    "    for i in range(len(pais_list)):\n",
    "        if pais_list[i] == pais_buscado and anio_list[i] == ano_buscado:\n",
    "            pib = pib_list[i]\n",
    "            poblacion = poblacion_list[i]\n",
    "            return pib / poblacion\n",
    "    \n",
    "    return f\"No se encontró el PIB o la población para {pais_buscado} en el año {ano_buscado}.\"\n",
    "\n"
   ]
  },
  {
   "cell_type": "code",
   "execution_count": 140,
   "id": "c2615928",
   "metadata": {},
   "outputs": [
    {
     "data": {
      "text/plain": [
       "3782033.6560151516"
      ]
     },
     "execution_count": 140,
     "metadata": {},
     "output_type": "execute_result"
    }
   ],
   "source": [
    "pbi_pc('Argentina', 2000)"
   ]
  },
  {
   "cell_type": "markdown",
   "id": "f425d83f",
   "metadata": {},
   "source": []
  }
 ],
 "metadata": {
  "kernelspec": {
   "display_name": "Python 3 (ipykernel)",
   "language": "python",
   "name": "python3"
  },
  "language_info": {
   "codemirror_mode": {
    "name": "ipython",
    "version": 3
   },
   "file_extension": ".py",
   "mimetype": "text/x-python",
   "name": "python",
   "nbconvert_exporter": "python",
   "pygments_lexer": "ipython3",
   "version": "3.12.3"
  }
 },
 "nbformat": 4,
 "nbformat_minor": 5
}
