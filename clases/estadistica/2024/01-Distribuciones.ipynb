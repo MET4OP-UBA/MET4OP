{
 "cells": [
  {
   "cell_type": "markdown",
   "id": "299afda1-e04b-4dae-87d5-2220ecc08032",
   "metadata": {},
   "source": [
    "Importamos las librerías a utilizar"
   ]
  },
  {
   "cell_type": "code",
   "execution_count": 1,
   "id": "86d4784a-80bc-4578-9273-39c53b2bbd5e",
   "metadata": {},
   "outputs": [],
   "source": [
    "import pandas as pd\n",
    "import numpy as np\n",
    "import matplotlib.pyplot as plt"
   ]
  },
  {
   "cell_type": "code",
   "execution_count": 2,
   "id": "1f1d28ed-34a1-4fd0-bc10-448ffbb8e709",
   "metadata": {},
   "outputs": [],
   "source": [
    "# Importación de la tabla de datos\n",
    "ejercicio = pd.read_excel(\"data/ejercicio.xlsx\")"
   ]
  },
  {
   "cell_type": "code",
   "execution_count": 3,
   "id": "61e6c31b-b953-4e3c-af3d-90acabfa3fd5",
   "metadata": {},
   "outputs": [
    {
     "data": {
      "text/html": [
       "<div>\n",
       "<style scoped>\n",
       "    .dataframe tbody tr th:only-of-type {\n",
       "        vertical-align: middle;\n",
       "    }\n",
       "\n",
       "    .dataframe tbody tr th {\n",
       "        vertical-align: top;\n",
       "    }\n",
       "\n",
       "    .dataframe thead th {\n",
       "        text-align: right;\n",
       "    }\n",
       "</style>\n",
       "<table border=\"1\" class=\"dataframe\">\n",
       "  <thead>\n",
       "    <tr style=\"text-align: right;\">\n",
       "      <th></th>\n",
       "      <th>GUIA</th>\n",
       "      <th>Edad</th>\n",
       "      <th>Sexo</th>\n",
       "      <th>Vivo</th>\n",
       "      <th>TAs</th>\n",
       "      <th>TAd</th>\n",
       "      <th>ACV</th>\n",
       "      <th>ACVTIPO</th>\n",
       "    </tr>\n",
       "  </thead>\n",
       "  <tbody>\n",
       "    <tr>\n",
       "      <th>0</th>\n",
       "      <td>1</td>\n",
       "      <td>67</td>\n",
       "      <td>M</td>\n",
       "      <td>S</td>\n",
       "      <td>230</td>\n",
       "      <td>110</td>\n",
       "      <td>S</td>\n",
       "      <td>ISQUEMICO</td>\n",
       "    </tr>\n",
       "    <tr>\n",
       "      <th>1</th>\n",
       "      <td>2</td>\n",
       "      <td>81</td>\n",
       "      <td>F</td>\n",
       "      <td>N</td>\n",
       "      <td>160</td>\n",
       "      <td>100</td>\n",
       "      <td>S</td>\n",
       "      <td>HEMORRAGICO</td>\n",
       "    </tr>\n",
       "    <tr>\n",
       "      <th>2</th>\n",
       "      <td>3</td>\n",
       "      <td>61</td>\n",
       "      <td>M</td>\n",
       "      <td>S</td>\n",
       "      <td>170</td>\n",
       "      <td>110</td>\n",
       "      <td>N</td>\n",
       "      <td>NOCORRES</td>\n",
       "    </tr>\n",
       "    <tr>\n",
       "      <th>3</th>\n",
       "      <td>4</td>\n",
       "      <td>66</td>\n",
       "      <td>M</td>\n",
       "      <td>N</td>\n",
       "      <td>120</td>\n",
       "      <td>80</td>\n",
       "      <td>N</td>\n",
       "      <td>NOCORRES</td>\n",
       "    </tr>\n",
       "    <tr>\n",
       "      <th>4</th>\n",
       "      <td>5</td>\n",
       "      <td>65</td>\n",
       "      <td>M</td>\n",
       "      <td>S</td>\n",
       "      <td>210</td>\n",
       "      <td>110</td>\n",
       "      <td>N</td>\n",
       "      <td>NOCORRES</td>\n",
       "    </tr>\n",
       "  </tbody>\n",
       "</table>\n",
       "</div>"
      ],
      "text/plain": [
       "   GUIA  Edad Sexo Vivo  TAs  TAd ACV      ACVTIPO\n",
       "0     1    67    M    S  230  110   S    ISQUEMICO\n",
       "1     2    81    F    N  160  100   S  HEMORRAGICO\n",
       "2     3    61    M    S  170  110   N     NOCORRES\n",
       "3     4    66    M    N  120   80   N     NOCORRES\n",
       "4     5    65    M    S  210  110   N     NOCORRES"
      ]
     },
     "execution_count": 3,
     "metadata": {},
     "output_type": "execute_result"
    }
   ],
   "source": [
    "# Para ver el archivo de datos\n",
    "ejercicio.head()"
   ]
  },
  {
   "cell_type": "markdown",
   "id": "2144cfad-8a9d-4ee8-960c-313fb0d01d6e",
   "metadata": {},
   "source": [
    "Debemos saber que contienen nuestras variables. miremos la variable Vivo:"
   ]
  },
  {
   "cell_type": "code",
   "execution_count": 4,
   "id": "84e3a8f6-591a-45ef-a745-190abf159f78",
   "metadata": {},
   "outputs": [
    {
     "data": {
      "text/plain": [
       "array(['S', 'N', 'n'], dtype=object)"
      ]
     },
     "execution_count": 4,
     "metadata": {},
     "output_type": "execute_result"
    }
   ],
   "source": [
    "ejercicio['Vivo'].unique()"
   ]
  },
  {
   "cell_type": "markdown",
   "id": "883c4a3c-6f36-4c91-b22d-1aedf05471ec",
   "metadata": {},
   "source": [
    "Si no recodificamos esa N minuscula, vamos a tener muchos problemas"
   ]
  },
  {
   "cell_type": "code",
   "execution_count": 5,
   "id": "309abac7-af3b-492c-8b17-1f97a346a703",
   "metadata": {},
   "outputs": [],
   "source": [
    "# Recodificación\n",
    "ejercicio['Vivo'] = ejercicio['Vivo'].replace('n', 'N')"
   ]
  },
  {
   "cell_type": "markdown",
   "id": "e5a3600b-55dd-4240-b01f-7dd7704ca402",
   "metadata": {},
   "source": [
    "Volvemos a chequear"
   ]
  },
  {
   "cell_type": "code",
   "execution_count": 32,
   "id": "34da7024-2506-4fdb-b6b0-403454bacc10",
   "metadata": {},
   "outputs": [
    {
     "data": {
      "text/plain": [
       "array(['S', 'N'], dtype=object)"
      ]
     },
     "execution_count": 32,
     "metadata": {},
     "output_type": "execute_result"
    }
   ],
   "source": [
    "ejercicio['Vivo'].unique()"
   ]
  },
  {
   "cell_type": "code",
   "execution_count": 6,
   "id": "69eedddf-9d64-4189-89fa-c3d7abe3c352",
   "metadata": {},
   "outputs": [],
   "source": [
    "# Convertir valores de texto a categorías y luego a códigos numéricos\n",
    "ejercicio['Sexo'] = pd.Categorical(ejercicio['Sexo'], categories=[\"F\", \"M\"]).codes+1\n",
    "ejercicio['ACV'] = pd.Categorical(ejercicio['ACV'], categories=[\"N\", \"S\"]).codes\n",
    "ejercicio['ACVTIPO'] = pd.Categorical(ejercicio['ACVTIPO'], categories=[\"NOCORRES\",\"HEMORRAGICO\", \"ISQUEMICO\", \"TIA\"]).codes \n",
    "ejercicio['Vivo'] = pd.Categorical(ejercicio['Vivo'], categories=[\"N\", \"S\"]).codes"
   ]
  },
  {
   "cell_type": "code",
   "execution_count": 8,
   "id": "a517c68b-24ae-44b1-8a85-7963badbf99f",
   "metadata": {},
   "outputs": [
    {
     "name": "stdout",
     "output_type": "stream",
     "text": [
      "0    164\n",
      "2     19\n",
      "1      6\n",
      "3      6\n",
      "Name: ACVTIPO, dtype: int64\n",
      "----------------------------\n",
      "1    100\n",
      "2     95\n",
      "Name: Sexo, dtype: int64\n",
      "----------------------------\n",
      "1    120\n",
      "0     75\n",
      "Name: Vivo, dtype: int64\n",
      "----------------------------\n",
      "0    164\n",
      "1     31\n",
      "Name: ACV, dtype: int64\n"
     ]
    }
   ],
   "source": [
    "# Tabla de frecuencia absoluta para una variable\n",
    "print(ejercicio['ACVTIPO'].value_counts())\n",
    "print(\"----------------------------\")\n",
    "print(ejercicio['Sexo'].value_counts())\n",
    "print(\"----------------------------\")\n",
    "print(ejercicio['Vivo'].value_counts())\n",
    "print(\"----------------------------\")\n",
    "print(ejercicio['ACV'].value_counts())"
   ]
  },
  {
   "cell_type": "code",
   "execution_count": 9,
   "id": "d843c06d-0ca6-4387-b8d2-ecf556c7f733",
   "metadata": {},
   "outputs": [
    {
     "name": "stdout",
     "output_type": "stream",
     "text": [
      "0    0.841026\n",
      "2    0.097436\n",
      "1    0.030769\n",
      "3    0.030769\n",
      "Name: ACVTIPO, dtype: float64\n"
     ]
    }
   ],
   "source": [
    "# Tabla de frecuencia relativa para una variable\n",
    "print(ejercicio['ACVTIPO'].value_counts(normalize=True))  # en base 1"
   ]
  },
  {
   "cell_type": "code",
   "execution_count": 10,
   "id": "d3728cf7-7f03-4fdd-80b5-c1b1346d061d",
   "metadata": {},
   "outputs": [
    {
     "data": {
      "text/plain": [
       "0    84.102564\n",
       "2     9.743590\n",
       "1     3.076923\n",
       "3     3.076923\n",
       "Name: ACVTIPO, dtype: float64"
      ]
     },
     "execution_count": 10,
     "metadata": {},
     "output_type": "execute_result"
    }
   ],
   "source": [
    "ejercicio['ACVTIPO'].value_counts(normalize=True) * 100  # como porcentaje"
   ]
  },
  {
   "cell_type": "code",
   "execution_count": 11,
   "id": "4b192572-e2e4-43b5-80e2-e6f829254ba3",
   "metadata": {},
   "outputs": [
    {
     "name": "stderr",
     "output_type": "stream",
     "text": [
      "C:\\Users\\Manuel\\AppData\\Local\\Temp\\ipykernel_7540\\2506800030.py:2: FutureWarning: The series.append method is deprecated and will be removed from pandas in a future version. Use pandas.concat instead.\n",
      "  ejercicio['ACVTIPO'].value_counts().append(pd.Series({'Total': ejercicio['ACVTIPO'].count()}))\n"
     ]
    },
    {
     "data": {
      "text/plain": [
       "0        164\n",
       "2         19\n",
       "1          6\n",
       "3          6\n",
       "Total    195\n",
       "dtype: int64"
      ]
     },
     "execution_count": 11,
     "metadata": {},
     "output_type": "execute_result"
    }
   ],
   "source": [
    "# Tabla de frecuencia absoluta para una variable con total\n",
    "ejercicio['ACVTIPO'].value_counts().append(pd.Series({'Total': ejercicio['ACVTIPO'].count()}))"
   ]
  },
  {
   "cell_type": "code",
   "execution_count": 12,
   "id": "e6c30ae9-4a6c-4c21-8a45-e5b90880eeff",
   "metadata": {},
   "outputs": [
    {
     "data": {
      "text/html": [
       "<div>\n",
       "<style scoped>\n",
       "    .dataframe tbody tr th:only-of-type {\n",
       "        vertical-align: middle;\n",
       "    }\n",
       "\n",
       "    .dataframe tbody tr th {\n",
       "        vertical-align: top;\n",
       "    }\n",
       "\n",
       "    .dataframe thead th {\n",
       "        text-align: right;\n",
       "    }\n",
       "</style>\n",
       "<table border=\"1\" class=\"dataframe\">\n",
       "  <thead>\n",
       "    <tr style=\"text-align: right;\">\n",
       "      <th>ACVTIPO</th>\n",
       "      <th>0</th>\n",
       "      <th>1</th>\n",
       "      <th>2</th>\n",
       "      <th>3</th>\n",
       "    </tr>\n",
       "    <tr>\n",
       "      <th>Sexo</th>\n",
       "      <th></th>\n",
       "      <th></th>\n",
       "      <th></th>\n",
       "      <th></th>\n",
       "    </tr>\n",
       "  </thead>\n",
       "  <tbody>\n",
       "    <tr>\n",
       "      <th>1</th>\n",
       "      <td>87</td>\n",
       "      <td>5</td>\n",
       "      <td>6</td>\n",
       "      <td>2</td>\n",
       "    </tr>\n",
       "    <tr>\n",
       "      <th>2</th>\n",
       "      <td>77</td>\n",
       "      <td>1</td>\n",
       "      <td>13</td>\n",
       "      <td>4</td>\n",
       "    </tr>\n",
       "  </tbody>\n",
       "</table>\n",
       "</div>"
      ],
      "text/plain": [
       "ACVTIPO   0  1   2  3\n",
       "Sexo                 \n",
       "1        87  5   6  2\n",
       "2        77  1  13  4"
      ]
     },
     "execution_count": 12,
     "metadata": {},
     "output_type": "execute_result"
    }
   ],
   "source": [
    "# Tabla de contingencia frecuencias absolutas\n",
    "pd.crosstab(ejercicio['Sexo'], ejercicio['ACVTIPO'])"
   ]
  },
  {
   "cell_type": "code",
   "execution_count": 73,
   "id": "d237f5a3-915a-430d-bcb5-38e19772c861",
   "metadata": {},
   "outputs": [
    {
     "name": "stdout",
     "output_type": "stream",
     "text": [
      "ACVTIPO         0         1         2         3\n",
      "Sexo                                           \n",
      "1        0.870000  0.050000  0.060000  0.020000\n",
      "2        0.810526  0.010526  0.136842  0.042105\n",
      "------------------------------------------------\n",
      "ACVTIPO         0         1         2         3\n",
      "Sexo                                           \n",
      "1        0.870000  0.050000  0.060000  0.020000\n",
      "2        0.810526  0.010526  0.136842  0.042105\n",
      "------------------------------------------------\n",
      "ACVTIPO         0         1         2         3\n",
      "Sexo                                           \n",
      "1        0.530488  0.833333  0.315789  0.333333\n",
      "2        0.469512  0.166667  0.684211  0.666667\n"
     ]
    }
   ],
   "source": [
    "# Tabla de contingencia frecuencias relativas\n",
    "print(pd.crosstab(ejercicio['Sexo'], ejercicio['ACVTIPO'], normalize='all').apply(lambda r: r/r.sum(), axis=1))\n",
    "print(\"------------------------------------------------\")\n",
    "print(pd.crosstab(ejercicio['Sexo'], ejercicio['ACVTIPO'], normalize='index').apply(lambda r: r/r.sum(), axis=1))\n",
    "print(\"------------------------------------------------\")\n",
    "print(pd.crosstab(ejercicio['Sexo'], ejercicio['ACVTIPO'], normalize='columns').apply(lambda r: r/r.sum(), axis=0))"
   ]
  },
  {
   "cell_type": "code",
   "execution_count": 74,
   "id": "147b4af9-4fb3-4aa3-ad72-fbcd2f50a6e7",
   "metadata": {},
   "outputs": [
    {
     "name": "stdout",
     "output_type": "stream",
     "text": [
      "ACVTIPO    0  1   2  3  All\n",
      "Sexo                       \n",
      "1         87  5   6  2  100\n",
      "2         77  1  13  4   95\n",
      "All      164  6  19  6  195\n",
      "----------------------------\n",
      "ACVTIPO    0  1   2  3  All\n",
      "Sexo                       \n",
      "1         87  5   6  2  100\n",
      "2         77  1  13  4   95\n",
      "All      164  6  19  6  195\n"
     ]
    }
   ],
   "source": [
    "# Tabla de contingencia frecuencias absolutas con totales\n",
    "print(pd.crosstab(ejercicio['Sexo'], ejercicio['ACVTIPO'], margins=True))\n",
    "\n",
    "print(\"----------------------------\")\n",
    "\n",
    "# Tabla de contingencia frecuencias absolutas con totales y missings\n",
    "print(pd.crosstab(ejercicio['Sexo'], ejercicio['ACVTIPO'], margins=True, dropna=False))"
   ]
  },
  {
   "cell_type": "code",
   "execution_count": 59,
   "id": "5d1f6c49-f1ac-4d18-b2e0-c28566c12bf8",
   "metadata": {},
   "outputs": [
    {
     "data": {
      "image/png": "[encoded data removed]",
      "text/plain": [
       "<Figure size 640x480 with 1 Axes>"
      ]
     },
     "metadata": {},
     "output_type": "display_data"
    }
   ],
   "source": [
    "# Gráfico de barras de la frecuencia absoluta de tipo de ACV\n",
    "acv_counts = ejercicio['ACVTIPO'].value_counts().sort_index()\n",
    "plt.bar(acv_counts.index, acv_counts.values, color=['blue', 'orange', 'green', 'red'], edgecolor='black')  # Colores distintos para cada modalidad\n",
    "plt.title('Título distinto')\n",
    "plt.xlabel('Tipo de Acv')\n",
    "plt.ylabel('Frec. absolutas')\n",
    "plt.xticks(ticks=range(len(acv_counts)), labels=acv_counts.index)  # Eje X con categorías enteras\n",
    "plt.show()"
   ]
  },
  {
   "cell_type": "code",
   "execution_count": 61,
   "id": "b06e47c8-c7e1-4c9f-bc49-50fe039f2678",
   "metadata": {},
   "outputs": [
    {
     "data": {
      "image/png": "[encoded data removed]",
      "text/plain": [
       "<Figure size 640x480 with 1 Axes>"
      ]
     },
     "metadata": {},
     "output_type": "display_data"
    }
   ],
   "source": [
    "# Gráfico de barras de la frecuencia relativa de tipo de ACV\n",
    "acv_relative_counts = ejercicio['ACVTIPO'].value_counts(normalize=True).sort_index()\n",
    "plt.bar(acv_relative_counts.index, acv_relative_counts.values * 100, color=['blue', 'orange', 'green', 'red'], edgecolor='black')  # Colores distintos para cada modalidad\n",
    "plt.title('Tipo de Acv')\n",
    "plt.xlabel('Tipo')\n",
    "plt.ylabel('Frecuencia porcentual')\n",
    "plt.xticks(ticks=range(len(acv_relative_counts)), labels=acv_relative_counts.index)  # Eje X con categorías enteras\n",
    "plt.show()"
   ]
  },
  {
   "cell_type": "code",
   "execution_count": 63,
   "id": "9bc52ec2-e494-41be-aa7f-95a045c55f21",
   "metadata": {},
   "outputs": [
    {
     "data": {
      "image/png": "[encoded data removed]",
      "text/plain": [
       "<Figure size 640x480 with 1 Axes>"
      ]
     },
     "metadata": {},
     "output_type": "display_data"
    }
   ],
   "source": [
    "# Gráfico de tortas básico\n",
    "acv_counts = ejercicio['ACVTIPO'].value_counts().sort_index()\n",
    "plt.pie(acv_counts, labels=acv_counts.index, autopct='%1.1f%%', colors=['blue', 'orange', 'green', 'red'], startangle=140)\n",
    "plt.title('Tipo de Acv')\n",
    "plt.show()"
   ]
  },
  {
   "cell_type": "code",
   "execution_count": 66,
   "id": "6367bb16-c3f2-4917-b83b-423e0502120d",
   "metadata": {},
   "outputs": [
    {
     "data": {
      "image/png": "[encoded data removed]",
      "text/plain": [
       "<Figure size 640x480 with 1 Axes>"
      ]
     },
     "metadata": {},
     "output_type": "display_data"
    }
   ],
   "source": [
    "# Gráfico de barras para dos variables (frecuencias absolutas) con colores específicos\n",
    "crosstab_abs = pd.crosstab(ejercicio['Sexo'], ejercicio['ACVTIPO']).sort_index()\n",
    "crosstab_abs.plot(kind='bar', stacked=False, color=['blue', 'orange', 'green', 'red'])  # Colores específicos para las modalidades de ACVTIPO\n",
    "plt.title('Tipo de Acv según Sexo')\n",
    "plt.xlabel('Sexo')\n",
    "plt.ylabel('Frecuencia')\n",
    "plt.xticks(ticks=range(len(crosstab_abs.index)), labels=crosstab_abs.index, rotation=0)  # Eje X con categorías enteras\n",
    "plt.show()"
   ]
  },
  {
   "cell_type": "code",
   "execution_count": 68,
   "id": "4ec00cd6-efe2-4619-831e-b2e66eeb237d",
   "metadata": {},
   "outputs": [
    {
     "data": {
      "image/png": "[encoded data removed]",
      "text/plain": [
       "<Figure size 640x480 with 1 Axes>"
      ]
     },
     "metadata": {},
     "output_type": "display_data"
    }
   ],
   "source": [
    "# Gráfico de barras para dos variables (frecuencias relativas por columna) con colores específicos\n",
    "crosstab_rel = pd.crosstab(ejercicio['Sexo'], ejercicio['ACVTIPO'], normalize='index').sort_index()\n",
    "crosstab_rel.plot(kind='bar', stacked=False, color=['blue', 'orange', 'green', 'red'])  # Colores específicos para las modalidades de ACVTIPO\n",
    "plt.title('Tipo de Acv según Sexo')\n",
    "plt.xlabel('Sexo')\n",
    "plt.ylabel('Frecuencia')\n",
    "plt.xticks(ticks=range(len(crosstab_rel.index)), labels=crosstab_rel.index, rotation=0)  # Eje X con categorías enteras\n",
    "plt.legend(['NOCORRESP','HEMORRAGICO', 'ISQUEMICO','TIA'], loc='upper right')\n",
    "plt.show()"
   ]
  },
  {
   "cell_type": "markdown",
   "id": "b16f5481-6877-4860-a2cc-fddd113a2f63",
   "metadata": {},
   "source": []
  }
 ],
 "metadata": {
  "kernelspec": {
   "display_name": "Python 3 (ipykernel)",
   "language": "python",
   "name": "python3"
  },
  "language_info": {
   "codemirror_mode": {
    "name": "ipython",
    "version": 3
   },
   "file_extension": ".py",
   "mimetype": "text/x-python",
   "name": "python",
   "nbconvert_exporter": "python",
   "pygments_lexer": "ipython3",
   "version": "3.9.15"
  }
 },
 "nbformat": 4,
 "nbformat_minor": 5
}
