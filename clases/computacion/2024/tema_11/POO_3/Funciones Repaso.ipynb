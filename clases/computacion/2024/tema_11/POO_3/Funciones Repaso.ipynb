{
 "cells": [
  {
   "cell_type": "markdown",
   "id": "302148fd",
   "metadata": {},
   "source": [
    "## Asignar una funcion a una variable"
   ]
  },
  {
   "cell_type": "code",
   "execution_count": 1,
   "id": "9853aa43",
   "metadata": {},
   "outputs": [
    {
     "data": {
      "text/plain": [
       "5"
      ]
     },
     "execution_count": 1,
     "metadata": {},
     "output_type": "execute_result"
    }
   ],
   "source": [
    "def sumar_uno(numero):\n",
    "    return numero + 1\n",
    "\n",
    "agregar_uno_variable = sumar_uno\n",
    "agregar_uno_variable(4)"
   ]
  },
  {
   "cell_type": "markdown",
   "id": "1954f76f",
   "metadata": {},
   "source": [
    "## Definir una funcion dentro de otra"
   ]
  },
  {
   "cell_type": "code",
   "execution_count": 2,
   "id": "4d316b5e",
   "metadata": {},
   "outputs": [
    {
     "data": {
      "text/plain": [
       "5"
      ]
     },
     "execution_count": 2,
     "metadata": {},
     "output_type": "execute_result"
    }
   ],
   "source": [
    "def sumar_uno(numero):\n",
    "    def agregar_uno(numero):\n",
    "        return numero + 1\n",
    "\n",
    "\n",
    "    resultado = agregar_uno(numero)\n",
    "    return resultado\n",
    "sumar_uno(4)\n"
   ]
  },
  {
   "cell_type": "markdown",
   "id": "2aaae136",
   "metadata": {},
   "source": [
    "## Pasar una funcion como argumento de otra\n"
   ]
  },
  {
   "cell_type": "code",
   "execution_count": 3,
   "id": "9c0b7c25",
   "metadata": {},
   "outputs": [
    {
     "data": {
      "text/plain": [
       "6"
      ]
     },
     "execution_count": 3,
     "metadata": {},
     "output_type": "execute_result"
    }
   ],
   "source": [
    "def sumar_uno(numero):\n",
    "    return numero + 1\n",
    "\n",
    "def funcion_dos(function):\n",
    "    numero_sumar = 5\n",
    "    return function(numero_sumar)\n",
    "\n",
    "funcion_dos(sumar_uno)"
   ]
  },
  {
   "cell_type": "markdown",
   "id": "0bcdf079",
   "metadata": {},
   "source": [
    "## Función que retorne otra funcion"
   ]
  },
  {
   "cell_type": "code",
   "execution_count": 4,
   "id": "a32d7cbf",
   "metadata": {},
   "outputs": [
    {
     "data": {
      "text/plain": [
       "'Hola'"
      ]
     },
     "execution_count": 4,
     "metadata": {},
     "output_type": "execute_result"
    }
   ],
   "source": [
    "def hola_funcion():\n",
    "    def deci_hola():\n",
    "        return \"Hola\"\n",
    "    return deci_hola\n",
    "hola = hola_funcion()\n",
    "hola()"
   ]
  },
  {
   "cell_type": "markdown",
   "id": "53a02a6c",
   "metadata": {},
   "source": [
    "## Funciones anidadas con acceso al ámbito externo de la función"
   ]
  },
  {
   "cell_type": "markdown",
   "id": "c3abbb0e",
   "metadata": {},
   "source": [
    "Python permite que una función anidada acceda al ámbito externo de la función envolvente. Este concepto se conoce como __Closure__"
   ]
  },
  {
   "cell_type": "code",
   "execution_count": 5,
   "id": "c8d0ec57",
   "metadata": {},
   "outputs": [
    {
     "name": "stdout",
     "output_type": "stream",
     "text": [
      "Some random message\n"
     ]
    }
   ],
   "source": [
    "def print_message(message):\n",
    "    def message_sender():\n",
    "        print(message)\n",
    "\n",
    "    return message_sender()\n",
    "\n",
    "print_message(\"Some random message\")"
   ]
  },
  {
   "cell_type": "markdown",
   "id": "98735d67",
   "metadata": {},
   "source": [
    "## Decoradores"
   ]
  },
  {
   "cell_type": "code",
   "execution_count": 8,
   "id": "d2b7602d",
   "metadata": {},
   "outputs": [],
   "source": [
    "def uppercase_decorator(function):\n",
    "    def wrapper():\n",
    "        func = function()\n",
    "        make_uppercase = func.upper()\n",
    "        return make_uppercase\n",
    "\n",
    "    return wrapper"
   ]
  },
  {
   "cell_type": "code",
   "execution_count": 9,
   "id": "47ea86a2",
   "metadata": {},
   "outputs": [
    {
     "data": {
      "text/plain": [
       "'HELLO THERE'"
      ]
     },
     "execution_count": 9,
     "metadata": {},
     "output_type": "execute_result"
    }
   ],
   "source": [
    "@uppercase_decorator\n",
    "def say_hi():\n",
    "    return 'hello there'\n",
    "\n",
    "say_hi()"
   ]
  },
  {
   "cell_type": "code",
   "execution_count": null,
   "id": "033aaa79",
   "metadata": {},
   "outputs": [],
   "source": []
  }
 ],
 "metadata": {
  "kernelspec": {
   "display_name": "Python 3 (ipykernel)",
   "language": "python",
   "name": "python3"
  },
  "language_info": {
   "codemirror_mode": {
    "name": "ipython",
    "version": 3
   },
   "file_extension": ".py",
   "mimetype": "text/x-python",
   "name": "python",
   "nbconvert_exporter": "python",
   "pygments_lexer": "ipython3",
   "version": "3.9.12"
  }
 },
 "nbformat": 4,
 "nbformat_minor": 5
}
