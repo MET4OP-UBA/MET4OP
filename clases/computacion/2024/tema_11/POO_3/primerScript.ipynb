{
 "cells": [
  {
   "cell_type": "markdown",
   "metadata": {},
   "source": [
    "### Escenario 1"
   ]
  },
  {
   "cell_type": "markdown",
   "metadata": {},
   "source": [
    "Supongamos que creamos un script llamado primerScript.ipynb con el siguiente contenido:"
   ]
  },
  {
   "cell_type": "code",
   "execution_count": 5,
   "metadata": {},
   "outputs": [],
   "source": [
    "def miFuncion():\n",
    "    print(\"El valor de __name__ es  \" + __name__)\n"
   ]
  },
  {
   "cell_type": "code",
   "execution_count": 6,
   "metadata": {},
   "outputs": [],
   "source": [
    "def main():    miFuncion()"
   ]
  },
  {
   "cell_type": "code",
   "execution_count": 7,
   "metadata": {},
   "outputs": [
    {
     "name": "stdout",
     "output_type": "stream",
     "text": [
      "El valor de __name__ es  __main__\n"
     ]
    }
   ],
   "source": [
    "if __name__ == '__main__':    main()"
   ]
  },
  {
   "cell_type": "markdown",
   "metadata": {},
   "source": [
    "Si ejecutamos primerScript.ipynb se llevará a cabo el siguiente proceso."
   ]
  },
  {
   "cell_type": "markdown",
   "metadata": {},
   "source": [
    "![](escenario1.png)"
   ]
  },
  {
   "cell_type": "markdown",
   "metadata": {},
   "source": [
    "Antes de que se ejecute el resto del código, la variable __name__ se establece en __main__. Después de eso, se ejecutan las declaraciones def main y miFuncion. Dado que la condición se evalúa como verdadera, se llama a la función principal. Esto, a su vez, llama miFuncion. Esto imprime el valor de __main__."
   ]
  },
  {
   "cell_type": "markdown",
   "metadata": {},
   "source": [
    "[Vamos al otro script](escenario2.ipynb)\n",
    "\n",
    "En caso de no funcionar el enlace, ingresar al archivo escenario2.ipynb\n"
   ]
  },
  {
   "cell_type": "code",
   "execution_count": null,
   "metadata": {},
   "outputs": [],
   "source": []
  }
 ],
 "metadata": {
  "kernelspec": {
   "display_name": "Python 3 (ipykernel)",
   "language": "python",
   "name": "python3"
  },
  "language_info": {
   "codemirror_mode": {
    "name": "ipython",
    "version": 3
   },
   "file_extension": ".py",
   "mimetype": "text/x-python",
   "name": "python",
   "nbconvert_exporter": "python",
   "pygments_lexer": "ipython3",
   "version": "3.9.12"
  }
 },
 "nbformat": 4,
 "nbformat_minor": 4
}
