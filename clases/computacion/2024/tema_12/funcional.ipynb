{
 "cells": [
  {
   "attachments": {},
   "cell_type": "markdown",
   "metadata": {},
   "source": [
    "**I. Introducción a la Programación Funcional**\n",
    "\n",
    "La programación funcional es un paradigma de programación que se centra en el uso de funciones puras y la evitación de cambios de estado y datos mutables. A continuación, se presentan conceptos clave de la programación funcional:\n",
    "\n",
    "**Características de la Programación Funcional:**\n",
    "- Funciones Puras.\n",
    "- Datos Inmutables.\n",
    "- Efectos Secundarios Minimizados.\n",
    "\n",
    "**Ventajas de la Programación Funcional:**\n",
    "- Mayor Legibilidad.\n",
    "- Código más Reutilizable.\n",
    "- Facilita la Paralelización.\n",
    "\n",
    "**Ejemplo de Función Pura en Python:**"
   ]
  },
  {
   "cell_type": "code",
   "execution_count": 1,
   "metadata": {},
   "outputs": [],
   "source": [
    "\n",
    "def suma(a, b):\n",
    "    return a + b"
   ]
  },
  {
   "attachments": {},
   "cell_type": "markdown",
   "metadata": {},
   "source": [
    "\n",
    "En este ejemplo, la función `suma` es pura porque siempre produce el mismo resultado para las mismas entradas y no tiene efectos secundarios.\n",
    "\n",
    "**II. Fundamentos de Programación Funcional en Python (45 minutos)**\n",
    "\n",
    "**Funciones de Primera Clase:**\n",
    "\n",
    "En Python, las funciones son de primera clase, lo que significa que pueden tratarse como cualquier otro objeto, como números o cadenas. Ejemplo:\n"
   ]
  },
  {
   "cell_type": "code",
   "execution_count": 3,
   "metadata": {},
   "outputs": [
    {
     "data": {
      "text/plain": [
       "25"
      ]
     },
     "execution_count": 3,
     "metadata": {},
     "output_type": "execute_result"
    }
   ],
   "source": [
    "def cuadrado(x):\n",
    "    return x ** 2\n",
    "\n",
    "funcion = cuadrado\n",
    "resultado = funcion(5) # Resultado: 25\n",
    "resultado"
   ]
  },
  {
   "attachments": {},
   "cell_type": "markdown",
   "metadata": {},
   "source": [
    "Aquí, `funcion` es una función que puede asignarse y ejecutarse como cualquier otra variable.\n",
    "\n",
    "**Funciones Anónimas (Lambda):**\n",
    "\n",
    "Las funciones lambda son funciones anónimas de una sola expresión. Ejemplo:\n"
   ]
  },
  {
   "cell_type": "code",
   "execution_count": 6,
   "metadata": {},
   "outputs": [
    {
     "data": {
      "text/plain": [
       "16"
      ]
     },
     "execution_count": 6,
     "metadata": {},
     "output_type": "execute_result"
    }
   ],
   "source": [
    "cuadrado = lambda x: x ** 2\n",
    "resultado = cuadrado(4) # Resultado: 16\n",
    "resultado"
   ]
  },
  {
   "attachments": {},
   "cell_type": "markdown",
   "metadata": {},
   "source": [
    "\n",
    "En este caso, hemos definido una función lambda que calcula el cuadrado de un número.\n",
    "\n",
    "**Funciones de Orden Superior:**\n",
    "\n",
    "Las funciones de orden superior son aquellas que toman otras funciones como argumentos o devuelven funciones como resultados. Ejemplo:\n",
    "\n"
   ]
  },
  {
   "cell_type": "code",
   "execution_count": 8,
   "metadata": {},
   "outputs": [
    {
     "data": {
      "text/plain": [
       "[1, 8, 27, 64, 125]"
      ]
     },
     "execution_count": 8,
     "metadata": {},
     "output_type": "execute_result"
    }
   ],
   "source": [
    "def aplicar(funcion, lista):\n",
    "    return [funcion(x) for x in lista]\n",
    "\n",
    "numeros = [1, 2, 3, 4, 5]\n",
    "cubos = aplicar(lambda x: x ** 3, numeros)\n",
    "cubos"
   ]
  },
  {
   "attachments": {},
   "cell_type": "markdown",
   "metadata": {},
   "source": [
    "Hemos creado una función `aplicar` que toma una función y una lista, y aplica la función a cada elemento de la lista."
   ]
  },
  {
   "attachments": {},
   "cell_type": "markdown",
   "metadata": {},
   "source": [
    "**III. Constructos Funcionales en Python**\n",
    "\n",
    "**List Comprehensions y Generators:**\n",
    "\n",
    "Los list comprehensions y los generators son constructos poderosos para trabajar con colecciones de datos de manera funcional. Vamos a profundizar en estos conceptos y proporcionar ejemplos más avanzados:\n",
    "\n",
    "**List Comprehensions:**\n"
   ]
  },
  {
   "cell_type": "code",
   "execution_count": 14,
   "metadata": {},
   "outputs": [
    {
     "data": {
      "text/plain": [
       "[4, 16, 36, 64, 100]"
      ]
     },
     "execution_count": 14,
     "metadata": {},
     "output_type": "execute_result"
    }
   ],
   "source": [
    "numeros = [1, 2, 3, 4, 5, 6, 7, 8, 9, 10]\n",
    "cuadrados_pares = [x ** 2 for x in numeros if x % 2 == 0]\n",
    "cuadrados_pares"
   ]
  },
  {
   "cell_type": "markdown",
   "metadata": {},
   "source": [
    "\n",
    "**Generators:**\n"
   ]
  },
  {
   "cell_type": "code",
   "execution_count": 17,
   "metadata": {},
   "outputs": [
    {
     "name": "stdout",
     "output_type": "stream",
     "text": [
      "<generator object numeros_pares at 0x0000011C23F365F0>\n"
     ]
    }
   ],
   "source": [
    "def numeros_pares(n):\n",
    "    for i in range(n):\n",
    "        if i % 2 == 0:\n",
    "            yield i\n",
    "\n",
    "generador = numeros_pares(10)\n",
    "\n",
    "print(generador)"
   ]
  },
  {
   "cell_type": "code",
   "execution_count": 18,
   "metadata": {},
   "outputs": [
    {
     "name": "stdout",
     "output_type": "stream",
     "text": [
      "0\n",
      "2\n",
      "4\n",
      "6\n",
      "8\n"
     ]
    }
   ],
   "source": [
    "for numero in generador:\n",
    "    print(numero)"
   ]
  },
  {
   "cell_type": "markdown",
   "metadata": {},
   "source": [
    "\n",
    "**Funciones Lambda y Map/Filter/Reduce:**\n",
    "\n",
    "Las funciones lambda son funciones anónimas que pueden utilizarse con funciones como map, filter y reduce. Ampliaremos estos conceptos con ejemplos avanzados:\n",
    "\n",
    "**Función Lambda y Map:**\n",
    "\n"
   ]
  },
  {
   "cell_type": "code",
   "execution_count": 20,
   "metadata": {},
   "outputs": [
    {
     "data": {
      "text/plain": [
       "[1, 8, 27, 64, 125]"
      ]
     },
     "execution_count": 20,
     "metadata": {},
     "output_type": "execute_result"
    }
   ],
   "source": [
    "numeros = [1, 2, 3, 4, 5]\n",
    "cubos = list(map(lambda x: x ** 3, numeros))\n",
    "cubos"
   ]
  },
  {
   "cell_type": "markdown",
   "metadata": {},
   "source": [
    "**Función Lambda y Filter:**"
   ]
  },
  {
   "cell_type": "code",
   "execution_count": 27,
   "metadata": {},
   "outputs": [
    {
     "data": {
      "text/plain": [
       "[2, 4, 6, 8, 10]"
      ]
     },
     "execution_count": 27,
     "metadata": {},
     "output_type": "execute_result"
    }
   ],
   "source": [
    "numeros = [1, 2, 3, 4, 5, 6, 7, 8, 9, 10]\n",
    "pares = list(filter(lambda x: x % 2 == 0, numeros))\n",
    "pares"
   ]
  },
  {
   "cell_type": "markdown",
   "metadata": {},
   "source": [
    "**Función Lambda y Reduce:**"
   ]
  },
  {
   "cell_type": "code",
   "execution_count": 28,
   "metadata": {},
   "outputs": [
    {
     "data": {
      "text/plain": [
       "15"
      ]
     },
     "execution_count": 28,
     "metadata": {},
     "output_type": "execute_result"
    }
   ],
   "source": [
    "from functools import reduce\n",
    "\n",
    "numeros = [1, 2, 3, 4, 5]\n",
    "suma_total = reduce(lambda x, y: x + y, numeros)\n",
    "suma_total"
   ]
  },
  {
   "cell_type": "markdown",
   "metadata": {},
   "source": [
    "Estos ejemplos avanzados ilustran cómo utilizar list comprehensions, generators, funciones lambda y las funciones de alto orden map, filter y reduce para abordar problemas más complejos de manera funcional en Python."
   ]
  },
  {
   "cell_type": "code",
   "execution_count": null,
   "metadata": {},
   "outputs": [],
   "source": []
  }
 ],
 "metadata": {
  "kernelspec": {
   "display_name": "base",
   "language": "python",
   "name": "python3"
  },
  "language_info": {
   "codemirror_mode": {
    "name": "ipython",
    "version": 3
   },
   "file_extension": ".py",
   "mimetype": "text/x-python",
   "name": "python",
   "nbconvert_exporter": "python",
   "pygments_lexer": "ipython3",
   "version": "3.9.13 (main, Aug 25 2022, 23:51:50) [MSC v.1916 64 bit (AMD64)]"
  },
  "orig_nbformat": 4,
  "vscode": {
   "interpreter": {
    "hash": "14cf63c4cb29064de0413257ba8223bc953443d5d2ee58531bc37cacdebd8d23"
   }
  }
 },
 "nbformat": 4,
 "nbformat_minor": 2
}
