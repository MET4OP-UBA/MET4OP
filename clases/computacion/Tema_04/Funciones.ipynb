{
 "cells": [
  {
   "cell_type": "markdown",
   "metadata": {
    "id": "8SipsT1-lPID",
    "slideshow": {
     "slide_type": "slide"
    }
   },
   "source": [
    "# Funciones en Python"
   ]
  },
  {
   "cell_type": "markdown",
   "metadata": {
    "id": "tPaTNGCCOm2T",
    "slideshow": {
     "slide_type": "subslide"
    }
   },
   "source": [
    "### **¿Qué es una función?**\n",
    "**Una función cumple una tarea.**\n",
    "Podemos pensar que una <font color=\"# 006fdd\"> función </font> es como tomar un conjunto de instrucciones y empaquetarlas bajo el mismo nombre. Dicho de otra manera, es como un pequeño programa dentro del programa; una manera de crear nuestras propias instrucciones. Las funciones son bloques que nos permiten acortar el código para evitar repetir estructuras que necesitamos utilizar mucho. "
   ]
  },
  {
   "cell_type": "markdown",
   "metadata": {
    "id": "MQlGnUZtPqd0",
    "slideshow": {
     "slide_type": "slide"
    }
   },
   "source": [
    "## **Estructura de una función**\n",
    "Una funcion se define de la siguiente manera:\n",
    "\n",
    "```python\n",
    "def nombre_funcion(parámetro1, parámetro2,..., parámetroN):\n",
    "```"
   ]
  },
  {
   "attachments": {
    "funcion.png": {
     "image/png": "[encoded data removed]"
    }
   },
   "cell_type": "markdown",
   "metadata": {
    "slideshow": {
     "slide_type": "fragment"
    }
   },
   "source": [
    "![funcion.png](attachment:funcion.png)"
   ]
  },
  {
   "cell_type": "markdown",
   "metadata": {
    "slideshow": {
     "slide_type": "subslide"
    }
   },
   "source": [
    "La palabra <font color=\"# 006fdd\"> def </font> (abreviación de \"*define*\") le indica a Python que una función está siendo definida.<br>\n",
    "El <font color=\"# 006fdd\"> nombre </font> de la función debe ser lo más descriptiva posible, tal como el de las variables. De esta manera será más sencillo para el lector entender a qué objeto hace referencia.<br>\n",
    "Luego del nombre de la función se colocan sus <font color=\"# 006fdd\"> parámetros </font>. Los parámetros se escriben entre paréntesis y separados por comas.<br>\n",
    "Por último, la definición lleva <font color=\"# 006fdd\"> dos puntos (:) </font> seguidos por el cuerpo de la función. "
   ]
  },
  {
   "cell_type": "markdown",
   "metadata": {
    "slideshow": {
     "slide_type": "subslide"
    }
   },
   "source": [
    "*¿Cuál es la diferencia entre un parámetro y un argumento?*\n",
    "\n",
    "Un <font color=\"# 006fdd\"> parámetro </font> es la variable listada entre paréntesis en la definición de la función. Son utilizados para brindarle a la función nuevos datos. \n",
    "\n",
    "Un <font color=\"# 006fdd\"> argumento </font> es el valor que se envía a la función cuando se llama. En otras palabras, es ese dato que se agrega."
   ]
  },
  {
   "cell_type": "markdown",
   "metadata": {
    "id": "frn60ZbZf_jI",
    "slideshow": {
     "slide_type": "slide"
    }
   },
   "source": [
    "## ¿Cómo llamar a una función?\n",
    "\n",
    "\n",
    "```python\n",
    "nombre_funcion (argumento1, argumento2,..., argumentoN)\n",
    "```"
   ]
  },
  {
   "cell_type": "markdown",
   "metadata": {
    "slideshow": {
     "slide_type": "subslide"
    }
   },
   "source": [
    "Para dar un ejemplo nombramos la siguiente función <font color=\"# 006fdd\"> *suma* </font>. Nuestra función cuenta con doble parámetro:  <font color=\"# 006fdd\"> *x* </font> e <font color=\"# 006fdd\"> *y*</font>, ambos separados por una coma. Para que la función pueda devolver la operación <font color=\"# 006fdd\"> *resultado*</font>, primero deberá asignársele un argumento a cada variable mencionada dentro de sus parámetros. "
   ]
  },
  {
   "cell_type": "code",
   "execution_count": 14,
   "metadata": {
    "id": "fblYmwMxf_jJ",
    "slideshow": {
     "slide_type": "fragment"
    }
   },
   "outputs": [],
   "source": [
    "def suma(x, y):\n",
    "    resultado = x+y\n",
    "    return resultado"
   ]
  },
  {
   "cell_type": "code",
   "execution_count": 15,
   "metadata": {
    "colab": {
     "base_uri": "https://localhost:8080/"
    },
    "id": "IStsMov7SKiN",
    "outputId": "997fa88f-870c-4dbd-fcad-4d7e1d326d43",
    "slideshow": {
     "slide_type": "subslide"
    }
   },
   "outputs": [
    {
     "name": "stdout",
     "output_type": "stream",
     "text": [
      "6\n"
     ]
    }
   ],
   "source": [
    "x = 2\n",
    "y = 4\n",
    "z = suma(x, y)\n",
    "print(z)"
   ]
  },
  {
   "cell_type": "code",
   "execution_count": 3,
   "metadata": {
    "slideshow": {
     "slide_type": "fragment"
    }
   },
   "outputs": [
    {
     "data": {
      "text/plain": [
       "6"
      ]
     },
     "execution_count": 3,
     "metadata": {},
     "output_type": "execute_result"
    }
   ],
   "source": [
    "suma(x=2, y=4)"
   ]
  },
  {
   "cell_type": "code",
   "execution_count": 4,
   "metadata": {
    "slideshow": {
     "slide_type": "fragment"
    }
   },
   "outputs": [
    {
     "data": {
      "text/plain": [
       "6"
      ]
     },
     "execution_count": 4,
     "metadata": {},
     "output_type": "execute_result"
    }
   ],
   "source": [
    "suma(2, 4)"
   ]
  },
  {
   "cell_type": "markdown",
   "metadata": {
    "slideshow": {
     "slide_type": "slide"
    }
   },
   "source": [
    "## Función sin parámetros\n",
    "\n",
    "```python\n",
    "def nombre_funcion():\n",
    "```"
   ]
  },
  {
   "cell_type": "markdown",
   "metadata": {
    "slideshow": {
     "slide_type": "subslide"
    }
   },
   "source": [
    "A modo de ejemplo, nombramos la siguiente función <font color=\"# 006fdd\"> *bienvenida* </font>. Es una función bastante sencilla cuyo propósito es devolver un mensaje. Le pedimos que cada vez que alguien llame a nuestra función, python retorne un <font color=\"# 006fdd\"> \"Hola\" </font>."
   ]
  },
  {
   "cell_type": "code",
   "execution_count": 1,
   "metadata": {
    "slideshow": {
     "slide_type": "fragment"
    }
   },
   "outputs": [],
   "source": [
    "def bienvenida():\n",
    "    print('Hola')"
   ]
  },
  {
   "cell_type": "code",
   "execution_count": 3,
   "metadata": {
    "slideshow": {
     "slide_type": "fragment"
    }
   },
   "outputs": [
    {
     "name": "stdout",
     "output_type": "stream",
     "text": [
      "Hola\n"
     ]
    }
   ],
   "source": [
    "bienvenida()"
   ]
  },
  {
   "cell_type": "markdown",
   "metadata": {
    "id": "0MKxxvQ7TIid",
    "slideshow": {
     "slide_type": "subslide"
    }
   },
   "source": [
    "<font color=\"RED\"> IMPORTANTE </font>\n",
    "\n",
    "Cuando declaramos una función, ésta no retorna nada. \n",
    "\n",
    "La instrucción <font color=\"# 006fdd\"> return </font> sirve para indicar el resultado que la función *devuelve*. Una vez que se alcanza la instrucción *return* la función *termina* y devuelve el valor indicado. Si ninguna función es devuelta, Python devolverá un *None*, indicando un valor faltante.\n",
    "\n",
    "En general es preferible devolver una función usando *return* antes que hacer print ya que esto permite reutilizar la función para una cantidad de casos mayor, donde no siempre quiero mostrar el resultado en pantalla, aunque queda a criterio de cada uno para lo que necesite."
   ]
  },
  {
   "cell_type": "markdown",
   "metadata": {
    "slideshow": {
     "slide_type": "slide"
    }
   },
   "source": [
    "## Parametros con valores por defecto\n",
    "\n",
    "```python\n",
    "def nombre_funcion(parámetro1, parámetro2=\"valor_predeterminado\"):\n",
    "```"
   ]
  },
  {
   "cell_type": "markdown",
   "metadata": {
    "id": "zo05bKXbf_jS",
    "slideshow": {
     "slide_type": "subslide"
    }
   },
   "source": [
    "En Python podemos proporcionar valores predeterminados para los parámetros de una función. En caso de que el usuario no desee proporcionar valores para ellos, se estableceran los valores por defecto. Esto se hace con la ayuda de los valores de argumento predeterminados. El valor predeterminado se asigna mediante el operador de asignación (=).\n",
    "\n",
    "La principal ventaja del argumento predeterminado es que podemos dar valores solo a aquellos parámetros a los que queramos, siempre que los otros parámetros tengan valores de argumento predeterminados."
   ]
  },
  {
   "cell_type": "markdown",
   "metadata": {
    "id": "tuWfnYYT6hzl",
    "slideshow": {
     "slide_type": "subslide"
    }
   },
   "source": [
    "**Ejemplo**\n",
    "\n",
    "Una empresa hace una función <font color=\"# 006fdd\"> bienvenida </font> para darle la bienvenida a sus nuevos empleados. En general son de Argentina, pero a veces contratan gente de otros paises. Por esta razon decidieron poner por default \"Argentina\"."
   ]
  },
  {
   "cell_type": "code",
   "execution_count": null,
   "metadata": {
    "colab": {
     "base_uri": "https://localhost:8080/"
    },
    "id": "QjXcvgtdf_jS",
    "outputId": "006c7bef-8b2c-4617-8276-cf3e22ccc5ef",
    "slideshow": {
     "slide_type": "subslide"
    }
   },
   "outputs": [
    {
     "name": "stdout",
     "output_type": "stream",
     "text": [
      "Damos la bienvenida a la empresa a Pedro de Argentina\n"
     ]
    }
   ],
   "source": [
    "def bienvenida(nombre, pais=\"Argentina\"):\n",
    "    print(\"Damos la bienvenida a la empresa a \" + nombre + \" de \" + pais)\n",
    "    \n",
    "bienvenida(\"Pedro\")"
   ]
  },
  {
   "cell_type": "code",
   "execution_count": null,
   "metadata": {
    "colab": {
     "base_uri": "https://localhost:8080/"
    },
    "id": "41L3yq309AIr",
    "outputId": "d464726e-8318-4301-f587-1118a674dc7f",
    "slideshow": {
     "slide_type": "fragment"
    }
   },
   "outputs": [
    {
     "name": "stdout",
     "output_type": "stream",
     "text": [
      "Damos la bienvenida a la empresa a Pedro de Uruguay\n"
     ]
    }
   ],
   "source": [
    "bienvenida(\"Pedro\", pais= \"Uruguay\")"
   ]
  },
  {
   "cell_type": "code",
   "execution_count": null,
   "metadata": {
    "colab": {
     "base_uri": "https://localhost:8080/"
    },
    "id": "HVB1VWnGf_jT",
    "outputId": "ee2ebcfa-097c-4d6b-c916-110fc5bf8267",
    "slideshow": {
     "slide_type": "fragment"
    }
   },
   "outputs": [
    {
     "name": "stdout",
     "output_type": "stream",
     "text": [
      "Damos la bienvenida a la empresa a Pedro de Chile\n"
     ]
    }
   ],
   "source": [
    "bienvenida(\"Pedro\", \"Chile\")"
   ]
  },
  {
   "cell_type": "markdown",
   "metadata": {
    "slideshow": {
     "slide_type": "slide"
    }
   },
   "source": [
    "## **Número variable de argumentos**\n",
    "\n",
    "```python\n",
    "def nombre_funcion(*varArgs):\n",
    "```"
   ]
  },
  {
   "cell_type": "markdown",
   "metadata": {
    "id": "nFWbWVmSf_jU",
    "slideshow": {
     "slide_type": "subslide"
    }
   },
   "source": [
    "A veces, los programas pueden querer definir una función que pueda tomar cualquier número de parámetros, es decir, un número variable de argumentos, esto se puede lograr usando las estrellas (*). Esto es muy útil cuando no sabemos el número exacto de argumentos que se pasarán a una función."
   ]
  },
  {
   "cell_type": "code",
   "execution_count": 6,
   "metadata": {
    "colab": {
     "base_uri": "https://localhost:8080/"
    },
    "id": "unadE_IUf_jU",
    "outputId": "7e78555b-60c3-4f8c-c0ea-613a441e86f3",
    "slideshow": {
     "slide_type": "subslide"
    },
    "tags": []
   },
   "outputs": [
    {
     "name": "stdout",
     "output_type": "stream",
     "text": [
      "La raiz cuadrada de 1 es: 1.0\n",
      "La raiz cuadrada de 2 es: 1.4142135623730951\n",
      "La raiz cuadrada de 3 es: 1.7320508075688772\n",
      "La raiz cuadrada de 4 es: 2.0\n",
      "La raiz cuadrada de 5 es: 2.23606797749979\n",
      "La raiz cuadrada de 6 es: 2.449489742783178\n",
      "La raiz cuadrada de 7 es: 2.6457513110645907\n"
     ]
    }
   ],
   "source": [
    "import math\n",
    "def raiz_cuadrada(*args):\n",
    "    #Iterar sobre todos los valores \n",
    "    for i in args:\n",
    "        print(\"La raiz cuadrada de\", i,  \"es:\" , math.sqrt(i))\n",
    "\n",
    "raiz_cuadrada(1,2,3,4,5,6,7)"
   ]
  },
  {
   "cell_type": "markdown",
   "metadata": {
    "slideshow": {
     "slide_type": "slide"
    }
   },
   "source": [
    "## **Funciones con**  <font color=\"# 006fdd\"> if True </font>"
   ]
  },
  {
   "cell_type": "code",
   "execution_count": 7,
   "metadata": {
    "colab": {
     "base_uri": "https://localhost:8080/"
    },
    "id": "8Lek0pCDyDL3",
    "outputId": "4c4d260a-006c-4514-cf03-a9a07ad50cf1",
    "slideshow": {
     "slide_type": "subslide"
    }
   },
   "outputs": [
    {
     "name": "stdout",
     "output_type": "stream",
     "text": [
      "True\n"
     ]
    }
   ],
   "source": [
    "def impar(numero):\n",
    "  if numero%2 != 0:\n",
    "      return True\n",
    "  else:\n",
    "      return False\n",
    "\n",
    "print(impar(3))"
   ]
  },
  {
   "cell_type": "code",
   "execution_count": 8,
   "metadata": {
    "id": "kCk4AsDerUuc",
    "slideshow": {
     "slide_type": "fragment"
    }
   },
   "outputs": [
    {
     "name": "stdout",
     "output_type": "stream",
     "text": [
      "False\n"
     ]
    }
   ],
   "source": [
    "def impar(numero):\n",
    "  return numero%2 != 0\n",
    "   \n",
    "print(impar(2))"
   ]
  },
  {
   "cell_type": "markdown",
   "metadata": {
    "slideshow": {
     "slide_type": "slide"
    }
   },
   "source": [
    "## **Propiedades**"
   ]
  },
  {
   "cell_type": "markdown",
   "metadata": {
    "id": "-TfTHZvq46K3",
    "slideshow": {
     "slide_type": "subslide"
    }
   },
   "source": [
    "### **a) Polimorfismo**\n",
    "\n",
    "El concepto de polimorfismo (del griego *muchas formas*) implica que si en una porción de código se invoca un determinado método de un objeto, podrán obtenerse distintos resultados según la clase del objeto. Esto se debe a que distintos objetos pueden tener un método con un mismo nombre, pero que realice distintas operaciones."
   ]
  },
  {
   "cell_type": "code",
   "execution_count": 5,
   "metadata": {
    "id": "a1XywDIzf_jK",
    "outputId": "4c8b8482-9779-4d9d-90bf-af1bd2abca1f",
    "slideshow": {
     "slide_type": "subslide"
    }
   },
   "outputs": [
    {
     "data": {
      "text/plain": [
       "3"
      ]
     },
     "execution_count": 5,
     "metadata": {},
     "output_type": "execute_result"
    }
   ],
   "source": [
    "suma(1, 2)"
   ]
  },
  {
   "cell_type": "code",
   "execution_count": 8,
   "metadata": {
    "slideshow": {
     "slide_type": "fragment"
    }
   },
   "outputs": [
    {
     "data": {
      "text/plain": [
       "'12'"
      ]
     },
     "execution_count": 8,
     "metadata": {},
     "output_type": "execute_result"
    }
   ],
   "source": [
    "suma(\"1\",\"2\")"
   ]
  },
  {
   "cell_type": "code",
   "execution_count": 9,
   "metadata": {
    "id": "kICzKBLRf_jK",
    "outputId": "ac71dc35-c7a0-4123-f670-6b9d1edb9648",
    "slideshow": {
     "slide_type": "fragment"
    }
   },
   "outputs": [
    {
     "data": {
      "text/plain": [
       "'hola mundo'"
      ]
     },
     "execution_count": 9,
     "metadata": {},
     "output_type": "execute_result"
    }
   ],
   "source": [
    "suma(\"hola \",\"mundo\")"
   ]
  },
  {
   "cell_type": "markdown",
   "metadata": {
    "id": "RQ-w8jVO5wqQ",
    "slideshow": {
     "slide_type": "fragment"
    }
   },
   "source": [
    "¿Cuál es la diferencia?\n",
    "\n",
    "Cuando los parámetros asignados son números (int), la función <font color=\"# 006fdd\"> suma </font> los suma. En cambio, cuando recibe texto (str) los concatena."
   ]
  },
  {
   "cell_type": "markdown",
   "metadata": {
    "id": "GuFz6yWHf_jQ",
    "slideshow": {
     "slide_type": "subslide"
    }
   },
   "source": [
    "### **b) Variables locales y globales**"
   ]
  },
  {
   "cell_type": "markdown",
   "metadata": {
    "id": "L44M-nPm_Sbc",
    "slideshow": {
     "slide_type": "subslide"
    }
   },
   "source": [
    "El **ámbito de una variable** es el contexto en el que existe esa variable. Así, una variable existe en dicho ámbito a partir del momento en que se crea y deja de existir cuando desaparece su ámbito.\n",
    "\n",
    "Los principales tipos de ámbitos en Python son dos:"
   ]
  },
  {
   "cell_type": "markdown",
   "metadata": {
    "id": "E9dehkf-ATse",
    "slideshow": {
     "slide_type": "subslide"
    }
   },
   "source": [
    "### **Locales**\n",
    "\n",
    "Son aquellas definidas dentro de una función. Solamente son accesibles desde la propia función y dejan de existir cuando esta termina su ejecución. Los parámetros de una función también son considerados como variables locales."
   ]
  },
  {
   "cell_type": "code",
   "execution_count": 10,
   "metadata": {
    "colab": {
     "base_uri": "https://localhost:8080/"
    },
    "id": "JuBst0t288Bf",
    "outputId": "3ceaf7b1-d1f7-4051-b615-93b13000b566",
    "slideshow": {
     "slide_type": "fragment"
    }
   },
   "outputs": [
    {
     "data": {
      "text/plain": [
       "10"
      ]
     },
     "execution_count": 10,
     "metadata": {},
     "output_type": "execute_result"
    }
   ],
   "source": [
    "def multiplico_por_dos(x):\n",
    "    dos = 2\n",
    "    resultado = x*dos\n",
    "    return resultado\n",
    "\n",
    "multiplico_por_dos(5)"
   ]
  },
  {
   "cell_type": "code",
   "execution_count": 50,
   "metadata": {
    "colab": {
     "base_uri": "https://localhost:8080/",
     "height": 171
    },
    "id": "Yp5Hljfz9yd4",
    "outputId": "f1f24cee-5276-4a0e-d0f3-1dfdaaf553a0",
    "slideshow": {
     "slide_type": "subslide"
    }
   },
   "outputs": [
    {
     "ename": "NameError",
     "evalue": "name 'dos' is not defined",
     "output_type": "error",
     "traceback": [
      "\u001b[1;31m---------------------------------------------------------------------------\u001b[0m",
      "\u001b[1;31mNameError\u001b[0m                                 Traceback (most recent call last)",
      "\u001b[1;32m<ipython-input-50-3a829d44a182>\u001b[0m in \u001b[0;36m<module>\u001b[1;34m\u001b[0m\n\u001b[1;32m----> 1\u001b[1;33m \u001b[0mprint\u001b[0m\u001b[1;33m(\u001b[0m\u001b[0mdos\u001b[0m\u001b[1;33m)\u001b[0m\u001b[1;33m\u001b[0m\u001b[1;33m\u001b[0m\u001b[0m\n\u001b[0m",
      "\u001b[1;31mNameError\u001b[0m: name 'dos' is not defined"
     ]
    }
   ],
   "source": [
    "print(dos)"
   ]
  },
  {
   "cell_type": "markdown",
   "metadata": {
    "slideshow": {
     "slide_type": "fragment"
    }
   },
   "source": [
    "¿Por qué no puedo imprimir la variables <font color=\"# 006fdd\"> dos </font>?"
   ]
  },
  {
   "cell_type": "markdown",
   "metadata": {
    "id": "PGQ_1Blff_jQ",
    "slideshow": {
     "slide_type": "subslide"
    }
   },
   "source": [
    "### **Globales**\n",
    "\n",
    "Son aquellas definidas en el cuerpo principal del programa fuera de cualquier función. Son accesibles desde cualquier punto del programa, incluso desde dentro de funciones. También se puede acceder a las variables globales de otros programas o módulos importados."
   ]
  },
  {
   "cell_type": "code",
   "execution_count": 13,
   "metadata": {
    "colab": {
     "base_uri": "https://localhost:8080/"
    },
    "id": "EJbJtiIcf_jR",
    "outputId": "5355d00f-3083-4c5b-ed39-4521a982e0c5",
    "slideshow": {
     "slide_type": "subslide"
    }
   },
   "outputs": [
    {
     "data": {
      "text/plain": [
       "15"
      ]
     },
     "execution_count": 13,
     "metadata": {},
     "output_type": "execute_result"
    }
   ],
   "source": [
    "tres = 3\n",
    "\n",
    "def multiplico_por_tres(x):\n",
    "    resultado = x*tres\n",
    "    return resultado\n",
    "\n",
    "multiplico_por_tres(5)\n"
   ]
  },
  {
   "cell_type": "code",
   "execution_count": 12,
   "metadata": {
    "slideshow": {
     "slide_type": "fragment"
    }
   },
   "outputs": [
    {
     "name": "stdout",
     "output_type": "stream",
     "text": [
      "3\n"
     ]
    }
   ],
   "source": [
    "print(tres)"
   ]
  },
  {
   "cell_type": "markdown",
   "metadata": {
    "id": "OicGsbbef_jL",
    "slideshow": {
     "slide_type": "subslide"
    }
   },
   "source": [
    "### **c) Parámetros mutables o inmutables**"
   ]
  },
  {
   "cell_type": "markdown",
   "metadata": {
    "id": "J2uNNobx-gde",
    "slideshow": {
     "slide_type": "subslide"
    }
   },
   "source": [
    "Python tiene una peculiaridad y trata sus tipos de datos como mutables o inmutables.\n",
    "\n",
    "Será **inmutable** cuando <u>el valor no pueda cambiar</u>. Ej: enteros (int), float, string y tuplas\n",
    "\n",
    "Será **mutable** cuando <u>el valor pueda cambiar</u>. Ej: listas, diccionarios y set\n",
    "\n",
    "Los argumentos para la funciones siempre se pasan como una referencia **a** a un espacio de memoria, y luego se crea una variable local que comparte dicho espacio de memoria. Ahora bien, si modificamos el argumento dentro de la función se obtendran comportamientos distintos dependiendo de si el objeto es mutable o no."
   ]
  },
  {
   "cell_type": "markdown",
   "metadata": {
    "id": "b12xP3MVf_jL",
    "slideshow": {
     "slide_type": "subslide"
    }
   },
   "source": [
    "### **Inmutables**"
   ]
  },
  {
   "cell_type": "markdown",
   "metadata": {
    "id": "6AE7jut4f_jL",
    "slideshow": {
     "slide_type": "subslide"
    }
   },
   "source": [
    "Si fuera a pasar una variable con un entero **a** a una función, python generaría una variable local ***n*** que comparte el mismo espacio de memoria (mismo ID).\n",
    "<center><img src=https://github.com/taodeying/MET4OP/raw/4d4bd4c531a3ccb35f36c93e98bc61460122745a/clases/viejas/clase_03/extra/a.png width=400>\n",
    "<center><img \n",
    "src=https://github.com/taodeying/MET4OP/raw/4d4bd4c531a3ccb35f36c93e98bc61460122745a/clases/viejas/clase_03/extra/a2.png width=400>"
   ]
  },
  {
   "cell_type": "markdown",
   "metadata": {
    "id": "yR0EdUvYf_jL",
    "slideshow": {
     "slide_type": "subslide"
    }
   },
   "source": [
    "Si la función intenta modificar este número entero, python lo va a copiar en una nueva variable local rompiendo el enlace (cambia el ID).\n",
    "<center><img src=https://github.com/taodeying/MET4OP/raw/4d4bd4c531a3ccb35f36c93e98bc61460122745a/clases/viejas/clase_03/extra/a3.png width=400>\n",
    "<center><img src=https://github.com/taodeying/MET4OP/raw/4d4bd4c531a3ccb35f36c93e98bc61460122745a/clases/viejas/clase_03/extra/a4.png width=400>"
   ]
  },
  {
   "cell_type": "code",
   "execution_count": null,
   "metadata": {
    "colab": {
     "base_uri": "https://localhost:8080/"
    },
    "id": "ap_qPSYWf_jL",
    "outputId": "b8cb7dcd-7230-44ec-e0d9-52bbc236b4fb",
    "slideshow": {
     "slide_type": "subslide"
    }
   },
   "outputs": [
    {
     "name": "stdout",
     "output_type": "stream",
     "text": [
      "['global_1: ', 3, 93830955174464]\n",
      "['fn_1: ', 3, 93830955174464]\n",
      "['fn_2: ', 4, 93830955174496]\n",
      "['global_2: ', 3, 93830955174464]\n"
     ]
    }
   ],
   "source": [
    "def incremento(n):\n",
    "    print([\"fn_1: \", n, id(n)])\n",
    "    n += 1\n",
    "    print([\"fn_2: \", n, id(n)])\n",
    "\n",
    "a = 3\n",
    "\n",
    "print([\"global_1: \", a, id(a)])\n",
    "\n",
    "incremento(a) #llamo a la función incremento\n",
    "\n",
    "print([\"global_2: \", a, id(a)])"
   ]
  },
  {
   "cell_type": "markdown",
   "metadata": {
    "slideshow": {
     "slide_type": "fragment"
    }
   },
   "source": [
    "¿Qué pasó con los IDs?"
   ]
  },
  {
   "cell_type": "markdown",
   "metadata": {
    "id": "89e9XjsehZIc",
    "slideshow": {
     "slide_type": "subslide"
    }
   },
   "source": [
    "Las <font color=\"# 006fdd\"> tuplas </font> son una colección de objetos ordenados e inmutables. Las tuplas son secuencias, como listas. La principal diferencia entre las tuplas y las listas es que las tuplas no se pueden cambiar a diferencia de las listas. Las tuplas usan paréntesis, mientras que las listas usan corchetes."
   ]
  },
  {
   "cell_type": "code",
   "execution_count": 10,
   "metadata": {
    "slideshow": {
     "slide_type": "subslide"
    }
   },
   "outputs": [
    {
     "name": "stdout",
     "output_type": "stream",
     "text": [
      "('madera', 'piedra', 'bruja', 'pato', 0.1)\n",
      "madera\n",
      "('piedra', 'bruja')\n",
      "('bruja', 'pato', 0.1)\n",
      "('madera', 'pato', 'madera', 'pato')\n",
      "('madera', 'piedra', 'bruja', 'pato', 0.1, 'madera', 'pato')\n"
     ]
    }
   ],
   "source": [
    "tupla = ('madera', \"piedra\", \"bruja\", \"pato\", 0.10)\n",
    "tuplaita = ('madera', 'pato')\n",
    "\n",
    "print(tupla)  # Imprime complete list\n",
    "print(tupla[0])  # Imprime el primer elemento\n",
    "print(tupla[1:3])  # Imprime los elementos 2 y 3\n",
    "print(tupla[2:])  # Imprime elementos desde el 3 en adelante\n",
    "print(tuplaita * 2)  # Imprime lista 2 veces\n",
    "print(tupla + tuplaita)  # Imprime la lista concatenateda"
   ]
  },
  {
   "cell_type": "markdown",
   "metadata": {
    "slideshow": {
     "slide_type": "subslide"
    }
   },
   "source": [
    "¿Qué pasa si quiero modificar una tupla dentro de una función?"
   ]
  },
  {
   "cell_type": "code",
   "execution_count": 3,
   "metadata": {
    "slideshow": {
     "slide_type": "subslide"
    }
   },
   "outputs": [
    {
     "ename": "AttributeError",
     "evalue": "'tuple' object has no attribute 'append'",
     "output_type": "error",
     "traceback": [
      "\u001b[1;31m---------------------------------------------------------------------------\u001b[0m",
      "\u001b[1;31mAttributeError\u001b[0m                            Traceback (most recent call last)",
      "\u001b[1;32m<ipython-input-3-8e83e6f40c64>\u001b[0m in \u001b[0;36m<module>\u001b[1;34m\u001b[0m\n\u001b[0;32m      3\u001b[0m \u001b[1;33m\u001b[0m\u001b[0m\n\u001b[0;32m      4\u001b[0m \u001b[0mL\u001b[0m \u001b[1;33m=\u001b[0m \u001b[1;33m(\u001b[0m\u001b[1;36m1\u001b[0m\u001b[1;33m,\u001b[0m \u001b[1;36m2\u001b[0m\u001b[1;33m,\u001b[0m \u001b[1;36m3\u001b[0m\u001b[1;33m)\u001b[0m\u001b[1;33m\u001b[0m\u001b[1;33m\u001b[0m\u001b[0m\n\u001b[1;32m----> 5\u001b[1;33m \u001b[0mincremento\u001b[0m\u001b[1;33m(\u001b[0m\u001b[0mL\u001b[0m\u001b[1;33m)\u001b[0m\u001b[1;33m\u001b[0m\u001b[1;33m\u001b[0m\u001b[0m\n\u001b[0m\u001b[0;32m      6\u001b[0m \u001b[0mprint\u001b[0m\u001b[1;33m(\u001b[0m\u001b[0mL\u001b[0m\u001b[1;33m)\u001b[0m\u001b[1;33m\u001b[0m\u001b[1;33m\u001b[0m\u001b[0m\n",
      "\u001b[1;32m<ipython-input-3-8e83e6f40c64>\u001b[0m in \u001b[0;36mincremento\u001b[1;34m(n)\u001b[0m\n\u001b[0;32m      1\u001b[0m \u001b[1;32mdef\u001b[0m \u001b[0mincremento\u001b[0m\u001b[1;33m(\u001b[0m\u001b[0mn\u001b[0m\u001b[1;33m)\u001b[0m\u001b[1;33m:\u001b[0m\u001b[1;33m\u001b[0m\u001b[1;33m\u001b[0m\u001b[0m\n\u001b[1;32m----> 2\u001b[1;33m     \u001b[0mn\u001b[0m\u001b[1;33m.\u001b[0m\u001b[0mappend\u001b[0m\u001b[1;33m(\u001b[0m\u001b[1;36m4\u001b[0m\u001b[1;33m)\u001b[0m\u001b[1;33m\u001b[0m\u001b[1;33m\u001b[0m\u001b[0m\n\u001b[0m\u001b[0;32m      3\u001b[0m \u001b[1;33m\u001b[0m\u001b[0m\n\u001b[0;32m      4\u001b[0m \u001b[0mL\u001b[0m \u001b[1;33m=\u001b[0m \u001b[1;33m(\u001b[0m\u001b[1;36m1\u001b[0m\u001b[1;33m,\u001b[0m \u001b[1;36m2\u001b[0m\u001b[1;33m,\u001b[0m \u001b[1;36m3\u001b[0m\u001b[1;33m)\u001b[0m\u001b[1;33m\u001b[0m\u001b[1;33m\u001b[0m\u001b[0m\n\u001b[0;32m      5\u001b[0m \u001b[0mincremento\u001b[0m\u001b[1;33m(\u001b[0m\u001b[0mL\u001b[0m\u001b[1;33m)\u001b[0m\u001b[1;33m\u001b[0m\u001b[1;33m\u001b[0m\u001b[0m\n",
      "\u001b[1;31mAttributeError\u001b[0m: 'tuple' object has no attribute 'append'"
     ]
    }
   ],
   "source": [
    "def incremento(n):\n",
    "    n.append(4)\n",
    "\n",
    "L = (1, 2, 3)\n",
    "incremento(L)\n",
    "print(L)"
   ]
  },
  {
   "cell_type": "markdown",
   "metadata": {
    "slideshow": {
     "slide_type": "subslide"
    }
   },
   "source": [
    "¿Por qué no funciona?"
   ]
  },
  {
   "cell_type": "markdown",
   "metadata": {
    "slideshow": {
     "slide_type": "fragment"
    }
   },
   "source": [
    "Porque **las tuplas no son mutables** y, por lo tanto, no pueden ser modificadas."
   ]
  },
  {
   "attachments": {
    "python_list.jpg": {
     "image/jpeg": "[encoded data removed]"
    }
   },
   "cell_type": "markdown",
   "metadata": {
    "slideshow": {
     "slide_type": "subslide"
    }
   },
   "source": [
    "![python_list.jpg](attachment:python_list.jpg)"
   ]
  },
  {
   "cell_type": "markdown",
   "metadata": {
    "id": "Ykk9fS9If_jM",
    "slideshow": {
     "slide_type": "subslide"
    }
   },
   "source": [
    "### **Mutables**\n",
    "\n",
    "Python generará una variable local ***n*** que comparte el mismo espacio de memoria. Las funciones que toman listas como argumentos y las cambian durante la ejecución se denominan modificadores y los cambios que realizan se denominan efectos secundarios. \n",
    "\n",
    "Pasar una lista como argumento en realidad pasa una referencia a la lista, no una copia de la lista. Dado que las listas son mutables, los cambios realizados en los elementos a los que hace referencia el parámetro cambian la misma lista a la que hace referencia el argumento."
   ]
  },
  {
   "cell_type": "markdown",
   "metadata": {
    "id": "59Ed6Si_f_jM",
    "slideshow": {
     "slide_type": "subslide"
    }
   },
   "source": [
    "<center> <img src= https://github.com/taodeying/MET4OP/raw/4d4bd4c531a3ccb35f36c93e98bc61460122745a/clases/viejas/clase_03/extra/b1.png width=500>\n",
    "\n",
    "<center> <img src= https://github.com/taodeying/MET4OP/raw/4d4bd4c531a3ccb35f36c93e98bc61460122745a/clases/viejas/clase_03/extra/b2.png width=500>"
   ]
  },
  {
   "cell_type": "code",
   "execution_count": 4,
   "metadata": {
    "slideshow": {
     "slide_type": "subslide"
    }
   },
   "outputs": [
    {
     "name": "stdout",
     "output_type": "stream",
     "text": [
      "[1, 2, 3, 4]\n"
     ]
    }
   ],
   "source": [
    "def incremento(n):\n",
    "    n.append(4)\n",
    "\n",
    "L = [1, 2, 3]\n",
    "incremento(L)\n",
    "print(L)"
   ]
  },
  {
   "cell_type": "markdown",
   "metadata": {
    "id": "B7EADEqsf_jO",
    "slideshow": {
     "slide_type": "subslide"
    }
   },
   "source": [
    "Al ser mutable, modifica al objeto original\n",
    "\n",
    "<center> <img src= https://github.com/taodeying/MET4OP/raw/4d4bd4c531a3ccb35f36c93e98bc61460122745a/clases/viejas/clase_03/extra/b3.png widht=500>"
   ]
  },
  {
   "cell_type": "code",
   "execution_count": 1,
   "metadata": {
    "id": "BzMNDd8Rf_jP",
    "slideshow": {
     "slide_type": "subslide"
    }
   },
   "outputs": [
    {
     "name": "stdout",
     "output_type": "stream",
     "text": [
      "['global_1: ', [9, 1], 140508097129920]\n",
      "['global_2: ', [9, 2], 140508097129920]\n"
     ]
    }
   ],
   "source": [
    "def incremento(n):\n",
    "    \"\"\"\n",
    "    Esta función le suma 1 al elemento\n",
    "    que se encuentra en la posición 1. \n",
    "    \"\"\"\n",
    "    #print([\"fn_1: \", n, id(n)])\n",
    "    n[1] += 1\n",
    "    #print([\"fn_2: \", n, id(n)])\n",
    "\n",
    "lista = [9,1]\n",
    "print([\"global_1: \", lista, id(lista)])\n",
    "\n",
    "incremento(lista) #llamo a la función incremento\n",
    "\n",
    "print([\"global_2: \", lista, id(lista)]) #como queda la variable global luego la función"
   ]
  },
  {
   "cell_type": "markdown",
   "metadata": {
    "id": "Cs8Q-2OqtYZq",
    "slideshow": {
     "slide_type": "subslide"
    }
   },
   "source": [
    "¿Qué pasó con el ID de la lista?"
   ]
  },
  {
   "cell_type": "markdown",
   "metadata": {
    "slideshow": {
     "slide_type": "fragment"
    }
   },
   "source": [
    "Pues se modificó globalmente"
   ]
  },
  {
   "cell_type": "markdown",
   "metadata": {
    "id": "LKyeFM1tf_jP",
    "slideshow": {
     "slide_type": "subslide"
    }
   },
   "source": [
    "**Hay que tener cuidado con lo siguiente:**"
   ]
  },
  {
   "cell_type": "code",
   "execution_count": null,
   "metadata": {
    "colab": {
     "base_uri": "https://localhost:8080/"
    },
    "id": "rdSoUmVTf_jP",
    "outputId": "04567206-4705-4908-9786-8dbd2bd60bd9",
    "slideshow": {
     "slide_type": "fragment"
    }
   },
   "outputs": [
    {
     "name": "stdout",
     "output_type": "stream",
     "text": [
      "[1, 2, 3] 139988892220544 [4, 5, 6] 139988892228336\n",
      "[4, 5, 6] 139988892228336 [4, 5, 6] 139988892228336\n",
      "[1, 2, 3] 139988892220544 [4, 5, 6] 139988892228336\n"
     ]
    }
   ],
   "source": [
    "def asignar_valor(n, v):\n",
    "    n = v\n",
    "    print(n, id(n), v, id(v))\n",
    "    \n",
    "L1 = [1, 2, 3]\n",
    "L2 = [4, 5, 6]\n",
    "print(L1, id(L1), L2, id(L2))\n",
    "\n",
    "asignar_valor(L1, L2) #llamo a la función\n",
    "\n",
    "print(L1, id(L1), L2, id(L2))"
   ]
  },
  {
   "cell_type": "markdown",
   "metadata": {
    "id": "pzNgke7Hf_jQ",
    "slideshow": {
     "slide_type": "subslide"
    }
   },
   "source": [
    "Originalmente teníamos la siguiente situación:\n",
    "\n",
    "<center> <img src=https://github.com/taodeying/MET4OP/raw/4d4bd4c531a3ccb35f36c93e98bc61460122745a/clases/viejas/clase_03/extra/c1.png widht=500><center> \n"
   ]
  },
  {
   "cell_type": "markdown",
   "metadata": {
    "id": "fu9Md4HLJJ6N",
    "slideshow": {
     "slide_type": "subslide"
    }
   },
   "source": [
    "La función creó una variable local ***n*** que igualó a la variable global L1 y una variable local ***v*** que igualó a la variable global L2.\n",
    "\n",
    "<center> <img src= https://github.com/taodeying/MET4OP/raw/4d4bd4c531a3ccb35f36c93e98bc61460122745a/clases/viejas/clase_03/extra/c2.png width=500><center> "
   ]
  },
  {
   "cell_type": "markdown",
   "metadata": {
    "id": "eMel-d9If_jQ",
    "slideshow": {
     "slide_type": "subslide"
    }
   },
   "source": [
    "Sin embargo, cuando asignamos **v** a **n**, le asignamos el espacio de memoria correspondiente de **v** y por tanto de **L2**\n",
    "<center> <img src=https://github.com/taodeying/MET4OP/raw/4d4bd4c531a3ccb35f36c93e98bc61460122745a/clases/viejas/clase_03/extra/c3.png widht=500>"
   ]
  },
  {
   "cell_type": "code",
   "execution_count": null,
   "metadata": {
    "colab": {
     "base_uri": "https://localhost:8080/"
    },
    "id": "nJQIid1Af_jQ",
    "outputId": "714f7f1f-3d92-4981-d927-3b34c7b7e92f",
    "slideshow": {
     "slide_type": "subslide"
    }
   },
   "outputs": [
    {
     "name": "stdout",
     "output_type": "stream",
     "text": [
      "[1, 2, 3] 139635477889264 [4, 5, 6] 139635477734336\n",
      "[4, 5, 6] 139635477889264 [4, 5, 6] 139635477734336\n",
      "[4, 5, 6] 139635477889264 [4, 5, 6] 139635477734336\n"
     ]
    }
   ],
   "source": [
    "def asignar_valor(n, v):\n",
    "    n[:] = v[:]\n",
    "    print(n, id(n), v, id(v))\n",
    "\n",
    "L1 = [1, 2, 3]\n",
    "L2 = [4, 5, 6]\n",
    "print(L1, id(L1), L2, id(L2))\n",
    "\n",
    "asignar_valor(L1, L2) #llamo a la función\n",
    "\n",
    "print(L1, id(L1), L2, id(L2))"
   ]
  },
  {
   "cell_type": "markdown",
   "metadata": {
    "id": "-fLFZ7geRhCh",
    "slideshow": {
     "slide_type": "fragment"
    }
   },
   "source": [
    "La función hace una copia mediante slicing por lo que el ID no cambia pero sí los valores."
   ]
  },
  {
   "cell_type": "markdown",
   "metadata": {
    "slideshow": {
     "slide_type": "slide"
    }
   },
   "source": [
    "## **Funciones Lambda**\n",
    "\n",
    "```python \n",
    "lambda parametro1, parametro2: expresión\n",
    "```"
   ]
  },
  {
   "cell_type": "markdown",
   "metadata": {
    "id": "vEtTdWjaICeI",
    "slideshow": {
     "slide_type": "subslide"
    }
   },
   "source": [
    "Una función <font color=\"# 006fdd\"> Lambda </font>  se refiere a una pequeña función anónima. Las llamamos “funciones anónimas” porque técnicamente carecen de nombre. Todas las funciones Lambda en Python tienen exactamente la misma sintaxis.\n",
    "\n",
    "Al contrario que una función, no la definimos con la palabra clave estándar *def* que utilizamos en Python. En su lugar, las funciones Lambda se definen como una línea que ejecuta una sola expresión. Este tipo de funciones pueden tomar cualquier número de parámetros sin paréntesis y solo pueden tener una expresión. Se omite la palabra clave *return*, condensando aún más la sintaxis."
   ]
  },
  {
   "cell_type": "markdown",
   "metadata": {
    "id": "RVspxEiNwBIY",
    "slideshow": {
     "slide_type": "subslide"
    }
   },
   "source": [
    "**Ejemplos**\n",
    "\n",
    "Supongamos que se desea saber si un numero es impar, mediante una función podriamos hacerlo de la siguiente manera:"
   ]
  },
  {
   "cell_type": "code",
   "execution_count": null,
   "metadata": {
    "colab": {
     "base_uri": "https://localhost:8080/"
    },
    "id": "iXxXo4B1431z",
    "outputId": "5b6bd2e6-e5bf-4bf7-e54d-15d4c4b2d8da",
    "slideshow": {
     "slide_type": "fragment"
    }
   },
   "outputs": [
    {
     "name": "stdout",
     "output_type": "stream",
     "text": [
      "True\n"
     ]
    }
   ],
   "source": [
    "def impar(numero):\n",
    "  return numero%2 != 0\n",
    "   \n",
    "print(impar(3))"
   ]
  },
  {
   "cell_type": "markdown",
   "metadata": {
    "id": "1vfdEKPjwLyQ",
    "slideshow": {
     "slide_type": "subslide"
    }
   },
   "source": [
    "O se podría escribir esto en una línea con una función Lambda:"
   ]
  },
  {
   "cell_type": "code",
   "execution_count": 5,
   "metadata": {
    "colab": {
     "base_uri": "https://localhost:8080/"
    },
    "id": "tKZZXkh5ysmn",
    "outputId": "b89c8088-6b52-4ade-a8de-b07333e6edf0",
    "slideshow": {
     "slide_type": "fragment"
    }
   },
   "outputs": [
    {
     "data": {
      "text/plain": [
       "True"
      ]
     },
     "execution_count": 5,
     "metadata": {},
     "output_type": "execute_result"
    }
   ],
   "source": [
    "impar = lambda numero: numero%2 != 0\n",
    "impar(3)"
   ]
  },
  {
   "cell_type": "markdown",
   "metadata": {
    "id": "MzHkNN3SZBjd",
    "slideshow": {
     "slide_type": "subslide"
    }
   },
   "source": [
    "Ahora veamos un ejemplo un poco más complejo. \n",
    "\n",
    "Imaginemos que deseamos filtrar una lista de números para obtener solo los valores impares, mediante una función podría ser:\n"
   ]
  },
  {
   "cell_type": "code",
   "execution_count": null,
   "metadata": {
    "colab": {
     "base_uri": "https://localhost:8080/"
    },
    "id": "rpvBL7yIZAW2",
    "outputId": "c70f3e5d-b554-40fc-e461-fa29d9f8cc12",
    "slideshow": {
     "slide_type": "fragment"
    }
   },
   "outputs": [
    {
     "name": "stdout",
     "output_type": "stream",
     "text": [
      "[1, 3, 5, 7, 9]\n"
     ]
    }
   ],
   "source": [
    "def filtro_impares (lista_numeros):\n",
    "  lista_impares = []\n",
    "  for numero in lista_numeros:\n",
    "    if numero % 2 != 0:\n",
    "      lista_impares.append(numero)\n",
    "  print(lista_impares)\n",
    "\n",
    "valores = [1, 2, 3, 4, 5, 6, 7, 8, 9]\n",
    "\n",
    "filtro_impares(valores)"
   ]
  },
  {
   "cell_type": "markdown",
   "metadata": {
    "id": "9jGTbh-0bVaP",
    "slideshow": {
     "slide_type": "subslide"
    }
   },
   "source": [
    "Pero podemos usar la función **filter()*** y una función lambda para obtener el mismo resultado con una sola línea de código:\n",
    "<br>\n",
    "<br>\n",
    "*La función filter() filtra una lista de elementos para los que una función devuelve True.\n",
    "\n",
    "```python \n",
    "list(filter(lambda: una_funcion, una_lista))\n",
    "```"
   ]
  },
  {
   "cell_type": "code",
   "execution_count": null,
   "metadata": {
    "colab": {
     "base_uri": "https://localhost:8080/"
    },
    "id": "k5UHf3z0a4j2",
    "outputId": "cb10c14b-ec2b-4b41-c8d7-36500be735ca",
    "slideshow": {
     "slide_type": "fragment"
    }
   },
   "outputs": [
    {
     "name": "stdout",
     "output_type": "stream",
     "text": [
      "[1, 3, 5, 7, 9]\n"
     ]
    }
   ],
   "source": [
    "valores = [1, 2, 3, 4, 5, 6, 7, 8, 9]\n",
    "impares = list(filter(lambda x : x % 2 != 0, valores))\n",
    "print(impares)"
   ]
  },
  {
   "cell_type": "markdown",
   "metadata": {
    "id": "ZQgCjTIpfRIL",
    "slideshow": {
     "slide_type": "subslide"
    }
   },
   "source": [
    "¿Y si también queremos obtener los pares? ¡Se resuelve en dos lineas de código!"
   ]
  },
  {
   "cell_type": "code",
   "execution_count": null,
   "metadata": {
    "colab": {
     "base_uri": "https://localhost:8080/"
    },
    "id": "ed_IWzUsfMI6",
    "outputId": "3416028a-e4eb-4aee-cda7-3ba33327f3b4",
    "slideshow": {
     "slide_type": "fragment"
    }
   },
   "outputs": [
    {
     "name": "stdout",
     "output_type": "stream",
     "text": [
      "[2, 4, 6, 8]\n"
     ]
    }
   ],
   "source": [
    "pares = list(filter(lambda x : x % 2 == 0, valores))\n",
    "print(pares)"
   ]
  },
  {
   "cell_type": "markdown",
   "metadata": {
    "id": "OzUAvcpuIIvI",
    "slideshow": {
     "slide_type": "slide"
    }
   },
   "source": [
    "## **Resumen**"
   ]
  },
  {
   "cell_type": "markdown",
   "metadata": {
    "id": "n24t580IJIwt",
    "slideshow": {
     "slide_type": "subslide"
    }
   },
   "source": [
    "**¿Para qué escribimos funciones?**\n",
    "\n",
    "Para no repetir una misma parte de código muchas veces, de esta manera se pueden detectar más facilmente los errores y logra hacer más legible el código."
   ]
  },
  {
   "cell_type": "markdown",
   "metadata": {
    "slideshow": {
     "slide_type": "subslide"
    }
   },
   "source": [
    "**Cuando escribimos una función debemos decidir cuatro cosas:**"
   ]
  },
  {
   "cell_type": "markdown",
   "metadata": {
    "slideshow": {
     "slide_type": "subslide"
    }
   },
   "source": [
    "1 ¿Cómo debería llamarse nuestra función? \n",
    "\n",
    "Deberíamos darle un **nombre** que tenga sentido y describa lo que hace la función. Dado que una función hace algo, el nombre de una función suele ser un verbo o alguna descripción de lo que devuelve la función. Puede tener una o varias palabras."
   ]
  },
  {
   "cell_type": "markdown",
   "metadata": {
    "slideshow": {
     "slide_type": "subslide"
    }
   },
   "source": [
    "2 ¿Qué **argumentos** le pasaremos a la función? \n",
    "\n",
    "Al pensar en argumentos para pasar a una función, debemos pensar en cómo se utilizará la función y qué argumentos la harían más útil."
   ]
  },
  {
   "cell_type": "markdown",
   "metadata": {
    "slideshow": {
     "slide_type": "subslide"
    }
   },
   "source": [
    "3 ¿Qué debe hacer la función? ¿Cuál es su **propósito**? \n",
    "\n",
    "La función debe tener un propósito claramente definido, o debería devolver un valor o debería tener algún efecto secundario bien definido."
   ]
  },
  {
   "cell_type": "markdown",
   "metadata": {
    "slideshow": {
     "slide_type": "subslide"
    }
   },
   "source": [
    "4 Finalmente, ¿qué debería **devolver** nuestra función? \n",
    "\n",
    "Se debe considerar el tipo y el valor que se devolverá. Si la función va a devolver un valor, debemos decidir qué tipo de valor debe devolver."
   ]
  }
 ],
 "metadata": {
  "celltoolbar": "Slideshow",
  "colab": {
   "name": "Funciones.ipynb",
   "provenance": []
  },
  "kernelspec": {
   "display_name": "Python 3 (ipykernel)",
   "language": "python",
   "name": "python3"
  },
  "language_info": {
   "codemirror_mode": {
    "name": "ipython",
    "version": 3
   },
   "file_extension": ".py",
   "mimetype": "text/x-python",
   "name": "python",
   "nbconvert_exporter": "python",
   "pygments_lexer": "ipython3",
   "version": "3.9.12"
  },
  "latex_envs": {
   "LaTeX_envs_menu_present": true,
   "autoclose": true,
   "autocomplete": true,
   "bibliofile": "biblio.bib",
   "cite_by": "apalike",
   "current_citInitial": 1,
   "eqLabelWithNumbers": true,
   "eqNumInitial": 1,
   "hotkeys": {
    "equation": "Ctrl-E",
    "itemize": "Ctrl-I"
   },
   "labels_anchors": false,
   "latex_user_defs": false,
   "report_style_numbering": false,
   "user_envs_cfg": false
  },
  "toc": {
   "base_numbering": 1,
   "nav_menu": {},
   "number_sections": false,
   "sideBar": true,
   "skip_h1_title": false,
   "title_cell": "Table of Contents",
   "title_sidebar": "Contents",
   "toc_cell": false,
   "toc_position": {},
   "toc_section_display": true,
   "toc_window_display": true
  }
 },
 "nbformat": 4,
 "nbformat_minor": 2
}
