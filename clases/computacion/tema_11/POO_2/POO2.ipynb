{
 "cells": [
  {
   "cell_type": "markdown",
   "metadata": {
    "slideshow": {
     "slide_type": "slide"
    }
   },
   "source": [
    "# POO-2\n"
   ]
  },
  {
   "cell_type": "markdown",
   "metadata": {
    "slideshow": {
     "slide_type": "slide"
    }
   },
   "source": [
    "## CLASE\n"
   ]
  },
  {
   "cell_type": "markdown",
   "metadata": {
    "slideshow": {
     "slide_type": "slide"
    }
   },
   "source": [
    "Una clase es un modelo o prototipo que define los atributos y métodos comunes a todos los objetos de cierto grupo, un blueprint.\n",
    "- Atributo: características que tendrán los objetos pertenecientes a la clase.\n",
    "- Métodos: comportamientos que tendrán los objetos pertenecientes a la clase.\n"
   ]
  },
  {
   "cell_type": "markdown",
   "metadata": {
    "slideshow": {
     "slide_type": "slide"
    }
   },
   "source": [
    "## OBJETO"
   ]
  },
  {
   "cell_type": "markdown",
   "metadata": {
    "slideshow": {
     "slide_type": "slide"
    }
   },
   "source": [
    "Un objeto es una entidad que agrupa un estado y una funcionalidad relacionadas. El estado del objeto se define a través de los atributos, mientras que la funcionalidad se modela a través de los métodos."
   ]
  },
  {
   "cell_type": "markdown",
   "metadata": {
    "slideshow": {
     "slide_type": "slide"
    }
   },
   "source": [
    "### __init__ y self"
   ]
  },
  {
   "cell_type": "markdown",
   "metadata": {
    "slideshow": {
     "slide_type": "slide"
    }
   },
   "source": [
    "- El constructor __init__ : se ejecuta justo después de crear un nuevo objeto a partir de la clase, proceso que se conoce con el nombre de instanciación. \n",
    "\n",
    "- Parámetro self: el primer parámetro de __init__ y del resto de métodos de la clase es siempre self, y sirve para referirse al objeto actual. Este mecanismo es necesario para poder acceder a los atributos y métodos del objeto diferenciando, por ejemplo, una variable local mi_var de un atributo del objeto self.mi_var.\n",
    "Para crear un objeto se escribe el nombre de la clase seguido de cualquier parámetro que sea necesario entre paréntesis, excepto self. Estos parámetros son los que se pasarán al método __init__.\n"
   ]
  },
  {
   "cell_type": "markdown",
   "metadata": {
    "slideshow": {
     "slide_type": "slide"
    }
   },
   "source": [
    "### Herencia"
   ]
  },
  {
   "cell_type": "markdown",
   "metadata": {
    "slideshow": {
     "slide_type": "slide"
    }
   },
   "source": [
    "En un lenguaje orientado a objetos, cuando hacemos que una clase (subclase) herede de otra clase (súper-clase) estamos haciendo que la subclase contenga todos los atributos y métodos que tenía la súper-clase.\n",
    "Basta con escribir un nuevo método __init__ para ella que se ejecutaría en lugar del __init__ de la súperclase. Esto es lo que se conoce como sobreescribir métodos. Ahora bien, puede ocurrir en algunos casos que necesitemos sobreescribir un método de la clase padre, pero que en ese método queramos ejecutar el método de la clase padre porque nuestro nuevo método no necesite más que ejecutar un par de nuevas instrucciones extra. En ese caso usaríamos la sintaxis super().__init__(*args) para llamar al método de igual nombre de la clase padre.\n"
   ]
  },
  {
   "cell_type": "code",
   "execution_count": null,
   "metadata": {},
   "outputs": [],
   "source": [
    "## Práctica"
   ]
  },
  {
   "cell_type": "markdown",
   "metadata": {},
   "source": [
    "- 1- Crear una clase llamada sistema electoral con los atributos y métodos que crea correspondiente.\n",
    "- 2- Crear una clase hija con un sistemas electorales específico añadiendo atributos y métodos particulares.\n",
    "- 3- Instanciar dichas clases y aplicar sus métodos.\n",
    "- 4- Redefinir el método resultado() que se encuentra vacío para que, según el sistema electoral implementado, obtengamos los resultados correspondientes."
   ]
  },
  {
   "cell_type": "code",
   "execution_count": 1,
   "metadata": {},
   "outputs": [],
   "source": [
    "# clase padre\n",
    "class Sistema_electoral:\n",
    "    def __init__(self, nombre, cantidad_partidos, barrera_legal, metodo):\n",
    "        self.nombre = nombre\n",
    "        self.cantidad_partidos = cantidad_partidos\n",
    "        self.barrera_legal = barrera_legal\n",
    "        self.metodo = metodo\n",
    "    \n",
    "    def obtener_nombre(self):\n",
    "        print(f\"El nombre de este sistema electoral es {self.nombre}\")\n",
    "    \n",
    "    def describir(self):\n",
    "        print(f\"El sistema electoral conocido {self.nombre} posee {self.cantidad_partidos}. Tiene una barrera legal del {self.barrera_legal} % y su metodo es {self.metodo}\")\n",
    "        "
   ]
  },
  {
   "cell_type": "code",
   "execution_count": 2,
   "metadata": {},
   "outputs": [],
   "source": [
    "#clase hija 1\n",
    "class Dhondt(Sistema_electoral):\n",
    "    def __init__(self, nombre, cantidad_partidos, barrera_legal, metodo, cantidad_bancas):\n",
    "        super().__init__(nombre, cantidad_partidos, barrera_legal, metodo)\n",
    "        self.cantidad_bancas = cantidad_bancas\n",
    "    \n",
    "    def cargar_votos(self, competidores):\n",
    "        resultados = {}\n",
    "        for i in range(1,competidores+1):\n",
    "            candidato = (input(\"Ingrese el nombre del candidato \\n\"))\n",
    "            votos = int(input(\"Ingrese la cantidad de votos obtenida por el candidato\" + candidato + \"\\n\"))\n",
    "            resultados[candidato] = votos\n",
    "        return resultados\n",
    "    \n",
    "    def formula(self):\n",
    "        pass"
   ]
  },
  {
   "cell_type": "code",
   "execution_count": 3,
   "metadata": {},
   "outputs": [
    {
     "name": "stdout",
     "output_type": "stream",
     "text": [
      "El sistema electoral conocido Dhondt posee 3. Tiene una barrera legal del 1 % y su metodo es proporcional\n"
     ]
    }
   ],
   "source": [
    "seCordoba = Dhondt(\"Dhondt\", 3,1,\"proporcional\", 30)\n",
    "seCordoba.describir()"
   ]
  },
  {
   "cell_type": "code",
   "execution_count": 4,
   "metadata": {},
   "outputs": [
    {
     "name": "stdout",
     "output_type": "stream",
     "text": [
      "El nombre de este sistema electoral es Dhondt\n",
      "El sistema electoral conocido Dhondt posee 3. Tiene una barrera legal del 1 % y su metodo es proporcional\n",
      "Ingrese el nombre del candidato \n",
      "Pepe\n",
      "Ingrese la cantidad de votos obtenida por el candidatoPepe\n",
      "9000\n",
      "Ingrese el nombre del candidato \n",
      "Joao\n",
      "Ingrese la cantidad de votos obtenida por el candidatoJoao\n",
      "888\n",
      "Ingrese el nombre del candidato \n",
      "Am\n",
      "Ingrese la cantidad de votos obtenida por el candidatoAm\n",
      "19\n"
     ]
    },
    {
     "data": {
      "text/plain": [
       "{'Pepe': 9000, 'Joao': 888, 'Am': 19}"
      ]
     },
     "execution_count": 4,
     "metadata": {},
     "output_type": "execute_result"
    }
   ],
   "source": [
    "seCordoba.obtener_nombre()\n",
    "seCordoba.describir()\n",
    "seCordoba.cargar_votos(3)"
   ]
  },
  {
   "cell_type": "code",
   "execution_count": null,
   "metadata": {},
   "outputs": [],
   "source": []
  }
 ],
 "metadata": {
  "celltoolbar": "Slideshow",
  "kernelspec": {
   "display_name": "Python 3",
   "language": "python",
   "name": "python3"
  },
  "language_info": {
   "codemirror_mode": {
    "name": "ipython",
    "version": 3
   },
   "file_extension": ".py",
   "mimetype": "text/x-python",
   "name": "python",
   "nbconvert_exporter": "python",
   "pygments_lexer": "ipython3",
   "version": "3.8.5"
  }
 },
 "nbformat": 4,
 "nbformat_minor": 4
}
