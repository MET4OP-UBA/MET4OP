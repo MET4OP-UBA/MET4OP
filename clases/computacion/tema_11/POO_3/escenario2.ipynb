{
 "cells": [
  {
   "cell_type": "markdown",
   "metadata": {},
   "source": [
    "## Escenario 2"
   ]
  },
  {
   "cell_type": "code",
   "execution_count": 11,
   "metadata": {},
   "outputs": [
    {
     "name": "stdout",
     "output_type": "stream",
     "text": [
      "El valor de __name__ es  __main__\n"
     ]
    }
   ],
   "source": [
    "%run ./primerScript.ipynb\n",
    "import import_ipynb\n"
   ]
  },
  {
   "cell_type": "markdown",
   "metadata": {},
   "source": [
    "El código en escenario2.ipynb podría ser el siguiente:"
   ]
  },
  {
   "cell_type": "code",
   "execution_count": 12,
   "metadata": {},
   "outputs": [
    {
     "name": "stdout",
     "output_type": "stream",
     "text": [
      "importing Jupyter notebook from primerScript.ipynb\n",
      "El valor de __name__ es  primerScript\n"
     ]
    }
   ],
   "source": [
    "import primerScript as ns\n",
    "\n",
    "ns.miFuncion()"
   ]
  },
  {
   "cell_type": "markdown",
   "metadata": {},
   "source": [
    "Tenemos dos ámbitos: uno escenario2.ypnb y otro primerScript.ipynb.\n"
   ]
  },
  {
   "cell_type": "markdown",
   "metadata": {},
   "source": [
    "En la ilustración, verá en qué se diferencia del primer caso."
   ]
  },
  {
   "cell_type": "markdown",
   "metadata": {},
   "source": [
    "![](escenario2.png)"
   ]
  },
  {
   "cell_type": "markdown",
   "metadata": {},
   "source": [
    "En escenario2.ipynb, la variable __name__ se establece en __main__. Al importar primerScript, Python comienza a buscar un archivo llamado primerScript.ipynb. Luego ejecuta el código contenido en el archivo importado.\n",
    "\n",
    "Sin embargo, esta vez está configurado en escenario2.ipynb. De nuevo se ejecutan las declaraciones **def** para main y miFuncion. Pero ahora la condición se evalúa como falsa y no se llama a main.\n",
    "\n",
    "En escenario2.ipynb llamamos miFuncion que genera primerScript. primerScript es conocido por miFuncion cuando esta fue definida.\n",
    "\n",
    "Si imprimiera __name__ en el script de importación, esto generaría __main__. La razón de esto es que Python usa el valor conocido en el alcance de escenario2.ipynb."
   ]
  },
  {
   "cell_type": "markdown",
   "metadata": {},
   "source": [
    "[Volvamos al archivo principal](POO3.ipynb)\n",
    "\n",
    "El archivo principal es POO3.ipynb. En caso de no funcionar el enlace ingresar a dicho archivo.\n"
   ]
  },
  {
   "cell_type": "code",
   "execution_count": null,
   "metadata": {},
   "outputs": [],
   "source": []
  }
 ],
 "metadata": {
  "kernelspec": {
   "display_name": "Python 3 (ipykernel)",
   "language": "python",
   "name": "python3"
  },
  "language_info": {
   "codemirror_mode": {
    "name": "ipython",
    "version": 3
   },
   "file_extension": ".py",
   "mimetype": "text/x-python",
   "name": "python",
   "nbconvert_exporter": "python",
   "pygments_lexer": "ipython3",
   "version": "3.9.12"
  }
 },
 "nbformat": 4,
 "nbformat_minor": 4
}
