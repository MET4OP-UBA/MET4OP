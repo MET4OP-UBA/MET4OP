{
 "cells": [
  {
   "cell_type": "markdown",
   "metadata": {},
   "source": [
    "# Repaso"
   ]
  },
  {
   "cell_type": "markdown",
   "metadata": {},
   "source": [
    "- 1.Crear una clase llamada rectángulo. Calcular el area a partir de valores ingresados por el usuario."
   ]
  },
  {
   "cell_type": "code",
   "execution_count": 1,
   "metadata": {},
   "outputs": [
    {
     "name": "stdout",
     "output_type": "stream",
     "text": [
      "Proporciona la base: 1\n",
      "Proporciona la altura: 2\n",
      "Área rectángulo: 2\n",
      "Proporciona la base: 2\n",
      "Proporciona la altura: 2\n",
      "Área rectángulo: 4\n"
     ]
    }
   ],
   "source": [
    "class Rectangulo:\n",
    "    def __init__(self, base, altura):\n",
    "        self.base = base\n",
    "        self.altura = altura\n",
    "\n",
    "    def cacular_area(self):\n",
    "        return self.base * self.altura\n",
    "\n",
    "base = int(input('Proporciona la base: '))\n",
    "altura = int(input('Proporciona la altura: '))\n",
    "\n",
    "rectangulo1 = Rectangulo(base, altura)\n",
    "print(f'Área rectángulo: {rectangulo1.cacular_area()}')\n",
    "\n",
    "base = int(input('Proporciona la base: '))\n",
    "altura = int(input('Proporciona la altura: '))\n",
    "\n",
    "rectangulo2 = Rectangulo(base, altura)\n",
    "print(f'Área rectángulo: {rectangulo2.cacular_area()}')"
   ]
  },
  {
   "cell_type": "markdown",
   "metadata": {},
   "source": [
    "- 2. A partir del siguiente diagrama, crear las clases correspondientes con sus atributos."
   ]
  },
  {
   "cell_type": "markdown",
   "metadata": {},
   "source": [
    "![](diagrama.png)\n"
   ]
  },
  {
   "cell_type": "code",
   "execution_count": 2,
   "metadata": {},
   "outputs": [
    {
     "name": "stdout",
     "output_type": "stream",
     "text": [
      "Maria\n",
      "28\n",
      "5000\n"
     ]
    }
   ],
   "source": [
    "class Persona:\n",
    "    def __init__(self, nombre, edad):\n",
    "        self.nombre = nombre\n",
    "        self.edad = edad\n",
    "\n",
    "class Empleado(Persona):\n",
    "    def __init__(self, nombre, edad, sueldo):\n",
    "        super().__init__(nombre, edad)\n",
    "        self.sueldo = sueldo\n",
    "\n",
    "empleado1 = Empleado('Maria', 28, 5000)\n",
    "print(empleado1.nombre)\n",
    "print(empleado1.edad)\n",
    "print(empleado1.sueldo)"
   ]
  },
  {
   "cell_type": "markdown",
   "metadata": {},
   "source": [
    "## Robustecimiento de la función __init__"
   ]
  },
  {
   "cell_type": "markdown",
   "metadata": {},
   "source": [
    "Podemos añadir parámetros opcionales a nuestra función __init__() para robustecerla. \n",
    "Adicionalmente, colocando un asterisco por delante del parámetro, puedo indicar la posibilidad de ingresar una tupla.\n",
    "Colocando dos asteriscos por delante del parámetro indico la posibilidad de ingresar diccionarios."
   ]
  },
  {
   "cell_type": "code",
   "execution_count": 3,
   "metadata": {},
   "outputs": [
    {
     "name": "stdout",
     "output_type": "stream",
     "text": [
      "Persona: Juan Diaz 25 ('92734523', 2, 3, 5) {'b': 'banana', 'z': 'zanahoria'}\n",
      "Persona: Diego Armando 33 () {}\n"
     ]
    }
   ],
   "source": [
    "class Persona:\n",
    "    def __init__(self, nombre, apellido, edad, *valores, **terminos):\n",
    "        self.nombre = nombre\n",
    "        self.apellido = apellido\n",
    "        self.edad = edad\n",
    "        self.valores = valores\n",
    "        self.terminos = terminos\n",
    "\n",
    "    def mostrar_detalle(self):\n",
    "        print(f'Persona: {self.nombre} {self.apellido} {self.edad} {self.valores} {self.terminos}')\n",
    "\n",
    "persona1 = Persona('Juan', 'Diaz', 25, '92734523', 2, 3, 5, b='banana', z='zanahoria')\n",
    "persona1.mostrar_detalle()\n",
    "\n",
    "persona2 = Persona('Diego', 'Armando', 33)\n",
    "persona2.mostrar_detalle()"
   ]
  },
  {
   "cell_type": "markdown",
   "metadata": {},
   "source": [
    "## Encapsulamiento"
   ]
  },
  {
   "cell_type": "markdown",
   "metadata": {},
   "source": [
    "Consiste en reunir todos los elementos posibles de una entidad al mismo nivel de abstracción para aumentar la cohesión, contando con la posibilidad de ocultar los atributos de un objeto (en Python, sólo se ocultan en apariencia)."
   ]
  },
  {
   "cell_type": "markdown",
   "metadata": {},
   "source": [
    "### Decoradores"
   ]
  },
  {
   "cell_type": "markdown",
   "metadata": {},
   "source": [
    "Utilizaremos aquí **@decoradores**\n",
    "Los decoradores se corresponden con un patrón de diseño específico y alteran de manera dinámica la funcionalidad de una función, método o clase. Hacen más legible nuestro código de manera sencilla.\n",
    "\n",
    "- Reducen el código común y repetitivo (el llamado código boilerplate).\n",
    "- Favorecen la separación de responsabilidades del código.\n",
    "- Aumentan la legibilidad y la mantenibilidad."
   ]
  },
  {
   "cell_type": "markdown",
   "metadata": {},
   "source": [
    "### Creando un decorador"
   ]
  },
  {
   "cell_type": "markdown",
   "metadata": {},
   "source": [
    "@decorador\n",
    "def fn():\n",
    "    pass"
   ]
  },
  {
   "cell_type": "markdown",
   "metadata": {},
   "source": [
    "Los decoradores son funciones que toman como argumento una función y retornan otra función.\n",
    "Un decorador es una función a la que le pasamos como argumento otra función (fn()) y el cual retorna una nueva función que es asignada a fn."
   ]
  },
  {
   "cell_type": "markdown",
   "metadata": {},
   "source": [
    "### Ejemplo"
   ]
  },
  {
   "cell_type": "markdown",
   "metadata": {},
   "source": [
    "La siguiente función suma retorna la suma a + b."
   ]
  },
  {
   "cell_type": "code",
   "execution_count": 5,
   "metadata": {},
   "outputs": [],
   "source": [
    "def suma(a, b):\n",
    "    return a + b"
   ]
  },
  {
   "cell_type": "markdown",
   "metadata": {},
   "source": [
    "Supongamos, ahora, que queremos imprimir un mensaje cada vez que esta función es invocada. Para ello usaremos un decorador."
   ]
  },
  {
   "cell_type": "markdown",
   "metadata": {},
   "source": [
    "@debug\n",
    "def suma(a, b):\n",
    "    return a + b"
   ]
  },
  {
   "cell_type": "markdown",
   "metadata": {},
   "source": [
    "Debemos escribir el código de nuestro decorador para no tener errores. Recordemos que debe ser una función que tome como argumento otra función, por ello el parámetro f.\n",
    "\n"
   ]
  },
  {
   "cell_type": "code",
   "execution_count": 7,
   "metadata": {},
   "outputs": [],
   "source": [
    "def debug(f):\n",
    "    pass"
   ]
  },
  {
   "cell_type": "markdown",
   "metadata": {},
   "source": [
    "Además debe retornar una nueva función. "
   ]
  },
  {
   "cell_type": "code",
   "execution_count": 8,
   "metadata": {},
   "outputs": [],
   "source": [
    "def debug(f):\n",
    "    def nueva_funcion():\n",
    "        pass\n",
    "    return nueva_funcion"
   ]
  },
  {
   "cell_type": "markdown",
   "metadata": {},
   "source": [
    "Recordemos que Python nos permite definir unas funciones dentro de otras.\n",
    "Volviendo a nuestro código.\n"
   ]
  },
  {
   "cell_type": "code",
   "execution_count": 9,
   "metadata": {},
   "outputs": [],
   "source": [
    "def suma(a, b):\n",
    "    return a + b\n",
    "suma = debug(suma)"
   ]
  },
  {
   "cell_type": "markdown",
   "metadata": {},
   "source": [
    "Para que todas las llamadas a suma() en nuestro programa sigan funcionando, el decorador debe retornar una nueva función con la misma estructura de argumentos y funcionamiento que la original (esto es, tomar dos objetos como argumentos y retornar la suma que resulta de ellos). Nuestra nueva_funcion() no tiene ningún argumento, debemos incorporarlo."
   ]
  },
  {
   "cell_type": "code",
   "execution_count": 10,
   "metadata": {},
   "outputs": [],
   "source": [
    "def debug(f):\n",
    "    def nueva_funcion(a, b):\n",
    "        pass\n",
    "    return nueva_funcion"
   ]
  },
  {
   "cell_type": "markdown",
   "metadata": {},
   "source": [
    "No hace falta que repliquemos el código de suma() en nueva_funcion(), dado que ya la tenemos provista como un argumento. Simplemente debemos hacer lo siguiente:"
   ]
  },
  {
   "cell_type": "code",
   "execution_count": 11,
   "metadata": {},
   "outputs": [],
   "source": [
    "def debug(f):\n",
    "    def nueva_funcion(a, b):\n",
    "        return f(a, b)\n",
    "    return nueva_funcion"
   ]
  },
  {
   "cell_type": "markdown",
   "metadata": {},
   "source": [
    "Por último imprimimos un mensaje en pantalla como habíamos planeado."
   ]
  },
  {
   "cell_type": "code",
   "execution_count": 12,
   "metadata": {},
   "outputs": [
    {
     "name": "stdout",
     "output_type": "stream",
     "text": [
      "Function suma() llamada!\n",
      "13\n"
     ]
    }
   ],
   "source": [
    "def debug(f):\n",
    "    def nueva_funcion(a, b):\n",
    "        print(\"Function suma() llamada!\")\n",
    "        return f(a, b)\n",
    "    return nueva_funcion\n",
    "@debug\n",
    "def suma(a, b):\n",
    "    return a + b\n",
    "print(suma(4, 9))"
   ]
  },
  {
   "cell_type": "markdown",
   "metadata": {},
   "source": [
    "## Decoradores y POO"
   ]
  },
  {
   "cell_type": "markdown",
   "metadata": {},
   "source": [
    "Ahora incorporamos los decoradores a nuestra clase Persona"
   ]
  },
  {
   "cell_type": "code",
   "execution_count": 27,
   "metadata": {},
   "outputs": [
    {
     "name": "stdout",
     "output_type": "stream",
     "text": [
      "Diego\n",
      "Persona: Juan Chavez 33\n"
     ]
    }
   ],
   "source": [
    "class Persona:\n",
    "    def __init__(self, nombre, apellido, edad):\n",
    "        self._nombre = nombre\n",
    "        self._apellido = apellido\n",
    "        self._edad = edad\n",
    "\n",
    "    @property\n",
    "    def nombre(self):\n",
    "        return self._nombre\n",
    "\n",
    "    @nombre.setter\n",
    "    def nombre(self, nombre):\n",
    "           self._nombre = nombre\n",
    "\n",
    "    @property\n",
    "    def apellido(self):\n",
    "        return self._apellido\n",
    "\n",
    "    @apellido.setter\n",
    "    def apellido(self, apellido):\n",
    "        self._apellido = apellido\n",
    "\n",
    "    @property\n",
    "    def edad(self):\n",
    "        return self._edad\n",
    "\n",
    "    @edad.setter\n",
    "    def edad(self, edad):\n",
    "        self._edad = edad\n",
    "\n",
    "    def mostrar_detalle(self):\n",
    "        print(f'Persona: {self._nombre} {self._apellido} {self._edad}')\n",
    "\n",
    "persona1 = Persona('Diego', 'Martinez', 43)\n",
    "print((persona1.nombre))\n",
    "persona1.nombre = 'Juan'\n",
    "persona1.apellido = 'Chavez'\n",
    "persona1.edad = 33\n",
    "persona1.mostrar_detalle()\n",
    "\n",
    "# persona1._nombre = 'Cambio'\n",
    "# print(persona1._nombre)"
   ]
  },
  {
   "cell_type": "markdown",
   "metadata": {},
   "source": [
    "## Variable __name__"
   ]
  },
  {
   "cell_type": "markdown",
   "metadata": {},
   "source": [
    "La variable __name__ es una variable especial de Python. Obtiene su valor dependiendo de cómo ejecutemos el script que lo contiene.\n",
    "Gracias a esta variable puede decidirse si queremos ejecutar el script de un determinado módulo o archivo.\n",
    "Esto lo haremos en un archivo aparte para lograr mostrarlo con la mayor realidad posible.\n",
    "Los archivos se llaman primerScript.ipynb y escenario2.ypinb\n",
    "\n",
    "\n",
    "[Click aquí para continuar](primerScript.ipynb)\n",
    "En caso de funcionar el link, dirijirse a primerScript.ipynb y luego a escenario2.ypinb\n",
    "\n"
   ]
  },
  {
   "cell_type": "markdown",
   "metadata": {},
   "source": [
    "## El método __str__"
   ]
  },
  {
   "cell_type": "markdown",
   "metadata": {},
   "source": [
    "El método __str__ en Python representa los objetos de la clase como una cadena.\n",
    "Debe definirse de manera que sea fácil de leer y muestre todos los miembros una clase. \n",
    "Este método también se utiliza como herramienta de depuración."
   ]
  },
  {
   "cell_type": "markdown",
   "metadata": {},
   "source": [
    "El método __str__ es llamado cuando se invocan las siguientes funciones en un objeto. Retornan un string:\n",
    "- str()\n",
    "- print()\n"
   ]
  },
  {
   "cell_type": "markdown",
   "metadata": {},
   "source": [
    "Si no hemos definido el __str__, entonces se llamará al método __repr__. \n",
    "El método __repr__ devuelve una cadena que describe el puntero del objeto por defecto.\n"
   ]
  },
  {
   "cell_type": "code",
   "execution_count": 28,
   "metadata": {},
   "outputs": [
    {
     "name": "stdout",
     "output_type": "stream",
     "text": [
      "<__main__.Auto object at 0x7ff23252fc70>\n",
      "<__main__.Auto object at 0x7ff23252fc70>\n",
      "<__main__.Auto object at 0x7ff23252fc70>\n"
     ]
    }
   ],
   "source": [
    "class Auto:\n",
    "    def __init__(self, marca, duenio):\n",
    "        self.marca = marca\n",
    "        self.duenio = duenio\n",
    "\n",
    "mi_Auto1 = Auto(\"Fiat\", \"Jorge Arguello\")\n",
    "\n",
    "print(mi_Auto1.__str__())\n",
    "print(mi_Auto1.__repr__())\n",
    "print(mi_Auto1)"
   ]
  },
  {
   "cell_type": "markdown",
   "metadata": {},
   "source": [
    "Como vemos, tanto __str__ , __repr__ y mi_Auto1() arrojaron la misma salida que no es más que dirección de memoria que indica dónde el objeto Auto está almacenado en la memoria de nuestra computadora."
   ]
  },
  {
   "cell_type": "markdown",
   "metadata": {},
   "source": [
    "### Modificando el método __str__()"
   ]
  },
  {
   "cell_type": "code",
   "execution_count": 29,
   "metadata": {},
   "outputs": [
    {
     "name": "stdout",
     "output_type": "stream",
     "text": [
      "Auto(marca=Fiat , duenio=Jorge Arguello)\n",
      "Auto(marca=Fiat , duenio=Jorge Arguello)\n",
      "Auto(marca=Fiat , duenio=Jorge Arguello)\n",
      "<__main__.Auto object at 0x7ff2326d8820>\n"
     ]
    }
   ],
   "source": [
    "class Auto:\n",
    "    def __init__(self, marca, duenio):\n",
    "        self.marca = marca\n",
    "        self.duenio = duenio\n",
    "    def __str__ (self):\n",
    "        return 'Auto(marca=' + str(self.marca) + ' , duenio=' + self.duenio + ')'\n",
    "mi_Auto1 = Auto(\"Fiat\", \"Jorge Arguello\")\n",
    "\n",
    "print(mi_Auto1.__str__())\n",
    "print(mi_Auto1)\n",
    "print(str(mi_Auto1))\n",
    "print(mi_Auto1.__repr__())\n"
   ]
  },
  {
   "cell_type": "markdown",
   "metadata": {},
   "source": [
    "## El código anterior muestra la salida una vez que haya definido el método __str__. Cuando se llame a __str__, print () o str () obtendrá su salida definida."
   ]
  }
 ],
 "metadata": {
  "kernelspec": {
   "display_name": "Python 3 (ipykernel)",
   "language": "python",
   "name": "python3"
  },
  "language_info": {
   "codemirror_mode": {
    "name": "ipython",
    "version": 3
   },
   "file_extension": ".py",
   "mimetype": "text/x-python",
   "name": "python",
   "nbconvert_exporter": "python",
   "pygments_lexer": "ipython3",
   "version": "3.9.12"
  }
 },
 "nbformat": 4,
 "nbformat_minor": 4
}
