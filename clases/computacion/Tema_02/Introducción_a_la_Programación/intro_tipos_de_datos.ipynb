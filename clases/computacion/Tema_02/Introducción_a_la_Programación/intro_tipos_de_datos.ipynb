{
  "nbformat": 4,
  "nbformat_minor": 0,
  "metadata": {
    "file_extension": ".py",
    "kernelspec": {
      "name": "python3",
      "display_name": "Python 3.9.6 64-bit"
    },
    "language_info": {
      "codemirror_mode": {
        "name": "ipython",
        "version": 3
      },
      "file_extension": ".py",
      "mimetype": "text/x-python",
      "name": "python",
      "nbconvert_exporter": "python",
      "pygments_lexer": "ipython3",
      "version": "3.9.6"
    },
    "latex_envs": {
      "LaTeX_envs_menu_present": true,
      "autoclose": true,
      "autocomplete": true,
      "bibliofile": "biblio.bib",
      "cite_by": "apalike",
      "current_citInitial": 1,
      "eqLabelWithNumbers": true,
      "eqNumInitial": 1,
      "hotkeys": {
        "equation": "Ctrl-E",
        "itemize": "Ctrl-I"
      },
      "labels_anchors": false,
      "latex_user_defs": false,
      "report_style_numbering": false,
      "user_envs_cfg": false
    },
    "mimetype": "text/x-python",
    "name": "python",
    "npconvert_exporter": "python",
    "pygments_lexer": "ipython3",
    "toc": {
      "base_numbering": 1,
      "nav_menu": {},
      "number_sections": false,
      "sideBar": true,
      "skip_h1_title": false,
      "title_cell": "Table of Contents",
      "title_sidebar": "Contents",
      "toc_cell": false,
      "toc_position": {},
      "toc_section_display": true,
      "toc_window_display": true
    },
    "version": 3,
    "colab": {
      "name": "clase_01.ipynb",
      "provenance": [],
      "collapsed_sections": [
        "ZvZdua37ARrL",
        "0-BEREsEARws"
      ]
    },
    "interpreter": {
      "hash": "ac59ebe37160ed0dfa835113d9b8498d9f09ceb179beaac4002f036b9467c963"
    }
  },
  "cells": [
    {
      "source": [
        "## Computación: ¿Qué es?\n",
        "\n",
        "La base de las Ciencias de la computación es el estudio de algoritmos.\n",
        "\n",
        "Un algoritmo es la secuencia de claras y precisas instrucciones para resolver un problema en un tiempo finito. Un algoritmo se implementa al traducir el paso a paso de nuestras instrucciones a un programa de computadora. Este proceso se llama: programar."
      ],
      "cell_type": "markdown",
      "metadata": {}
    },
    {
      "source": [
        "## Tipos de Lenguajes\n",
        "\n",
        "Existen dos tipos de lenguajes: los compilados y los interpretados. Los lenguajes compilados utilizan un compilador que traduce el programa (algoritmos) a código que puede interpretar la máquina, esto ocurre previa a la ejecución de nuestro programa. En contraposición, los lenguajes interpretados tienen un interprete, un programa que analiza y ejecuta otros programas, que traduce algoritmos a medida que se ejecutan. Este tipo de ejecución hace que los lenguajes interpretados sean más lentos, pero no por eso menos populares."
      ],
      "cell_type": "markdown",
      "metadata": {}
    },
    {
      "source": [
        "Cada vez que ejecutamos un programa escrito en un lenguaje interpretado, el camino es el siguiente:\n",
        "\n",
        "1. El interprete obtiene la instrucción desde el código.\n",
        "2. Se ejecutan en forma secuencial (una atras de la otra) instrucciones base que tiene el interprete y se traduce el código.\n",
        "3. Estas instrucciones traducidas son enviadas a la CPU para su ejecución."
      ],
      "cell_type": "markdown",
      "metadata": {}
    },
    {
      "source": [
        "Python es un lenguaje interpetado. Y esto tiene particular relevancia al analizar los tipos de datos que podemos manejar que no solo son interpretados, sino dinámicos. Que un lenguaje sea dinámico, significa que es una clase de lenguaje de programación de alto nivel, que en tiempo de ejecución ejecuta muchos comportamientos de programación comunes que los lenguajes de programación estáticos realizan durante la compilación."
      ],
      "cell_type": "markdown",
      "metadata": {}
    },
    {
      "cell_type": "markdown",
      "metadata": {
        "id": "jlu7zZtGARnt",
        "colab_type": "text"
      },
      "source": [
        "# Variables y Tipos de datos en Python"
      ]
    },
    {
      "cell_type": "markdown",
      "metadata": {
        "id": "ubhXRS5-ARn9",
        "colab_type": "text"
      },
      "source": [
        "## Variables en Python\n",
        "\n",
        "Una variable es un nombre que refiere a un objeto que reside en la memoria.\n",
        "\n",
        "Cada variable debe tener un nombre único llamado identificador. Es útil pensar las variables como contenedores que contienen data que puede ser cambiada.\n",
        "\n",
        "Las variables tienen tipos de datos, los que proveen los lenguajes son denominados primitivos.\n",
        "\n",
        "A su vez, hay dos tipos de variables:\n",
        "* Constantes: que obtienen su valor al ser declaradas y no pueden ni deben ser modificadas.\n",
        "* Variables: que pueden cambiar su valor.\n"
      ]
    },
    {
      "cell_type": "code",
      "metadata": {
        "id": "5gL4lGFFARoA",
        "colab_type": "code",
        "colab": {}
      },
      "source": [
        "i  =  42"
      ],
      "execution_count": 198,
      "outputs": []
    },
    {
      "cell_type": "markdown",
      "metadata": {
        "id": "fj484OpXARoP",
        "colab_type": "text"
      },
      "source": [
        "El signo igual \"=\" en la asignación no debe verse como \"es igual a\". Debe interpretarse como \"se establece en\", es decir, en nuestro ejemplo \"la variable i se establece en 42\". Ahora aumentaremos el valor de esta variable en 1:"
      ]
    },
    {
      "cell_type": "code",
      "metadata": {
        "tags": [],
        "id": "2Bc2VAtoARoS",
        "colab_type": "code",
        "colab": {},
        "outputId": "12183cbd-61f0-4d8b-8275-476ac307604a"
      },
      "source": [
        "\n",
        "i  =  i  +  1 \n",
        "print( i )\n"
      ],
      "execution_count": 199,
      "outputs": [
        {
          "output_type": "stream",
          "name": "stdout",
          "text": "43\n"
        }
      ]
    },
    {
      "cell_type": "markdown",
      "metadata": {
        "id": "t-if85H8ARog",
        "colab_type": "text"
      },
      "source": [
        "El tipo de variable puede cambiar durante la ejecución de un script. O, para ser precisos se le asignará un nuevo objeto, que puede ser de cualquier tipo. Ilustramos esto en nuestro siguiente ejemplo:"
      ]
    },
    {
      "cell_type": "code",
      "metadata": {
        "id": "VLi1GeR7ARoi",
        "colab_type": "code",
        "colab": {}
      },
      "source": [
        "i = 42 # el tipo de datos se establece implícitamente en un entero\n",
        "i = 42 + 0.11 # el tipo de datos se cambia a flotante\n",
        "i = \"42\" # y ahora será una cadena "
      ],
      "execution_count": 200,
      "outputs": []
    },
    {
      "cell_type": "markdown",
      "metadata": {
        "id": "5l2srzqIARot",
        "colab_type": "text"
      },
      "source": [
        "En otras palabras, Python se encarga automáticamente de la representación física de los diferentes tipos de datos."
      ]
    },
    {
      "cell_type": "markdown",
      "metadata": {
        "id": "GxIXW5cbARq5",
        "colab_type": "text"
      },
      "source": [
        "## Tipos de Variables\n",
        "\n",
        "En programación, el tipo de datos es un concepto importante.\n",
        "\n",
        "Las variables pueden almacenar datos de diferentes tipos y los diferentes tipos pueden hacer cosas diferentes.\n",
        "\n",
        "Python tiene los siguientes tipos de datos integrados de forma predeterminada, en estas categorías:\n",
        "* Tipo de texto: \tstr\n",
        "* Tipos numéricos: \tint, float, complex\n",
        "* Tipos de secuencia: \tlist, tuple, range\n",
        "* Tipo de mapeo: \tdict\n",
        "* Tipos de conjuntos: \tset, frozenset\n",
        "* Tipo booleano: \tbool\n",
        "* Tipos binarios: \tbytes, bytearray, memoryview\n",
        "\n",
        "#### Obtener el tipo de datos\n",
        "\n",
        "Puede obtenerse el tipo de datos de cualquier objeto utilizando la función type():"
      ]
    },
    {
      "cell_type": "code",
      "metadata": {
        "tags": [],
        "id": "JXq4cTQUARq6",
        "colab_type": "code",
        "colab": {},
        "outputId": "335ed957-5761-4026-c4ce-39a16eefb7f2"
      },
      "source": [
        "x = 5\n",
        "print(type(x))"
      ],
      "execution_count": 209,
      "outputs": [
        {
          "output_type": "stream",
          "name": "stdout",
          "text": "<class 'int'>\n"
        }
      ]
    },
    {
      "cell_type": "markdown",
      "metadata": {
        "id": "7pgghwxCARrC",
        "colab_type": "text"
      },
      "source": [
        "#### Definir variables de diferentes tipos\n",
        "\n",
        "En Python, el tipo de datos se establece cuando asigna un valor a una variable:\n",
        "\n",
        "|  Ejemplo |  Tipo de Dato |\n",
        "| ----- | ----- |\n",
        "|  x = \"Hello World\" |  str |\n",
        "|  x = 20 |  int |\n",
        "|  x = 20.5 |  float |\n",
        "|  x = 1j |  complex |\n",
        "|  x = [\"apple\", \"banana\", \"cherry\"] |  list |\n",
        "|  x = (\"apple\", \"banana\", \"cherry\") |  tuple |\n",
        "|  x = range(6) |  range |\n",
        "|  x = {\"name\" : \"John\", \"age\" : 36} |  dict |\n",
        "|  x = {\"apple\", \"banana\", \"cherry\"} |  set |\n",
        "|  x = frozenset({\"apple\", \"banana\", \"cherry\"}) |  frozenset |\n",
        "|  x = True |  bool |\n",
        "|  x = b\"Hello\" |  bytes |\n",
        "|  x = bytearray(5) |  bytearray |\n",
        "|  x = memoryview(bytes(5)) |  memoryview |\n",
        "\n"
      ]
    },
    {
      "cell_type": "markdown",
      "metadata": {
        "id": "060VQN2gARrD",
        "colab_type": "text"
      },
      "source": [
        "Si se desea especificar el tipo de datos, se puede utilizar las siguientes funciones constructoras:\n",
        "\n",
        "|  Ejemplo |  Tipo de Dato |\n",
        "| ----- | ----- |  \n",
        "|  x = str(\"Hello World\") |  str |\n",
        "|  x = int(20) |  int |\n",
        "|  x = float(20.5) |  float |\n",
        "|  x = complex(1j) |  complex |\n",
        "|  x = list((\"apple\", \"banana\", \"cherry\")) |  list |\n",
        "|  x = tuple((\"apple\", \"banana\", \"cherry\")) |  tuple |\n",
        "|  x = range(6) |  range |\n",
        "|  x = dict(name=\"John\", age=36) |  dict |\n",
        "|  x = set((\"apple\", \"banana\", \"cherry\")) |  set |\n",
        "|  x = frozenset((\"apple\", \"banana\", \"cherry\")) |  frozenset |\n",
        "|  x = bool(5) |  bool |\n",
        "|  x = bytes(5) |  bytes |\n",
        "|  x = bytearray(5) |  bytearray |\n",
        "|  x = memoryview(bytes(5)) |  memoryview |"
      ]
    },
    {
      "cell_type": "markdown",
      "metadata": {
        "id": "KfLB3IfzARrF",
        "colab_type": "text"
      },
      "source": [
        "### Números\n",
        "\n",
        "Python admite diferentes tipos numéricos:\n",
        "\n",
        "* int (enteros con signo): a menudo se denominan solo enteros o ints . Son números enteros positivos o negativos sin punto decimal. Los enteros en Python 3 son de tamaño ilimitado. Python 2 tiene dos tipos de enteros: int y long. Ya no hay 'entero largo' en Python 3.\n",
        "\n",
        "* float (valores reales de coma flotante): también llamados flotantes, representan números reales y se escriben con una coma decimal que divide el número entero y las partes fraccionarias. Los flotantes también pueden estar en notación científica, con E o e indicando la potencia de 10 (2.5e2 = 2.5 x 10 2 = 250).\n",
        "\n",
        "* complex (números complejos): tienen la forma a + bJ, donde a y b son flotantes y J (o j) representa la raíz cuadrada de -1 (que es un número imaginario). La parte real del número es a y la parte imaginaria es b. \n",
        "\n"
      ]
    },
    {
      "cell_type": "code",
      "metadata": {
        "id": "HsWA49FlARrG",
        "colab_type": "code",
        "colab": {}
      },
      "source": [
        "significado = 42  # un número entero\n",
        "pi = 3.141592  # un número de coma flotante\n",
        "complejo = 2+4j  # un número complejo"
      ],
      "execution_count": 210,
      "outputs": []
    },
    {
      "cell_type": "markdown",
      "metadata": {
        "id": "ZvZdua37ARrL",
        "colab_type": "text"
      },
      "source": [
        "#### Conversión de tipo de número\n",
        "\n",
        "Python convierte los números internamente en una expresión que contiene tipos mixtos a un tipo común para su evaluación. A veces, es necesario forzar un número explícitamente de un tipo a otro para satisfacer los requisitos de un operador o parámetro de función.\n",
        "\n",
        "* int (x) para convertir x en un entero simple.\n",
        "\n",
        "* float (x) para convertir x en un número de punto flotante.\n",
        "\n",
        "* complex (x, y) para convertir x-y en un número complejo con la parte real x y la parte imaginaria y. xey son expresiones numéricas\n"
      ]
    },
    {
      "cell_type": "markdown",
      "metadata": {
        "id": "gn6zDo1tARrL",
        "colab_type": "text"
      },
      "source": [
        "### Strings\n",
        "\n",
        "#### Definiendo cadenas (strings)\n",
        "\n",
        "Los literales de cadena en Python están rodeados por comillas simples o comillas dobles.\n",
        "\"hola\" es lo mismo que \"hola\" ."
      ]
    },
    {
      "cell_type": "code",
      "metadata": {
        "tags": [],
        "id": "-I2PeNwLARrM",
        "colab_type": "code",
        "colab": {},
        "outputId": "2565b4bd-3485-4a91-8acf-033e6577e5ad"
      },
      "source": [
        "print(\"hola\")\n",
        "print('hola')"
      ],
      "execution_count": 211,
      "outputs": [
        {
          "output_type": "stream",
          "name": "stdout",
          "text": "hola\nhola\n"
        }
      ]
    },
    {
      "cell_type": "markdown",
      "metadata": {
        "id": "avSDmV0uARrV",
        "colab_type": "text"
      },
      "source": [
        "Puede asignar una cadena de varias líneas a una variable utilizando tres comillas:"
      ]
    },
    {
      "cell_type": "code",
      "metadata": {
        "tags": [],
        "id": "VXRCI3PHARrX",
        "colab_type": "code",
        "colab": {},
        "outputId": "adc31b9d-bd99-4ef1-fbe8-070f1825b1b9"
      },
      "source": [
        "a = \"\"\"Lorem ipsum dolor sit amet,\n",
        "consectetur adipiscing elit,\n",
        "sed do eiusmod tempor incididunt\n",
        "ut labore et dolore magna aliqua.\"\"\"\n",
        "print(a) "
      ],
      "execution_count": 212,
      "outputs": [
        {
          "output_type": "stream",
          "name": "stdout",
          "text": "Lorem ipsum dolor sit amet,\nconsectetur adipiscing elit,\nsed do eiusmod tempor incididunt\nut labore et dolore magna aliqua.\n"
        }
      ]
    },
    {
      "cell_type": "markdown",
      "metadata": {
        "id": "7W_I3ScxARre",
        "colab_type": "text"
      },
      "source": [
        "#### Las cadenas son arrays\n",
        "\n",
        "Como muchos otros lenguajes de programación populares, las cadenas en Python son matrices de bytes que representan caracteres Unicode. Sin embargo, Python no tiene un tipo de datos de carácter, un solo carácter es simplemente una cadena con una longitud de 1.\n",
        "\n",
        "Se pueden utilizar corchetes para acceder a elementos de la cadena."
      ]
    },
    {
      "cell_type": "code",
      "metadata": {
        "tags": [],
        "id": "b8s0_XMtARrf",
        "colab_type": "code",
        "colab": {},
        "outputId": "5d32262d-be85-44ab-b1dc-d981150528dd"
      },
      "source": [
        "texto = 'Romanes eunt'\n",
        "\n",
        "print(texto)  # Imprime la string\n",
        "print(texto[0])  # Imprime el primer caracter de la string\n",
        "print(texto[2:5])  # Imprime characteres, del 3 al 5\n",
        "print(texto[2:])  # Imprime characteres, del 3 al final\n"
      ],
      "execution_count": 213,
      "outputs": [
        {
          "output_type": "stream",
          "name": "stdout",
          "text": "Romanes eunt\nR\nman\nmanes eunt\n"
        }
      ]
    },
    {
      "cell_type": "markdown",
      "metadata": {
        "id": "NKFH5LDyARrn",
        "colab_type": "text"
      },
      "source": [
        "#### Métodos de cadena\n",
        "\n",
        "Python tiene un conjunto de métodos integrados que puede usar en cadenas.\n",
        "\n",
        "strip(): elimina cualquier espacio en blanco del principio o del final:\n"
      ]
    },
    {
      "cell_type": "code",
      "metadata": {
        "tags": [],
        "id": "hnGILCSIARrp",
        "colab_type": "code",
        "colab": {},
        "outputId": "0e3a84ab-0411-4a38-c4c0-5a0ffa1a3d10"
      },
      "source": [
        "a = \" Hola, Mundo! \"\n",
        "print(a.strip()) # devuelve \"Hola, Mundo!\" "
      ],
      "execution_count": 214,
      "outputs": [
        {
          "output_type": "stream",
          "name": "stdout",
          "text": "Hola, Mundo!\n"
        }
      ]
    },
    {
      "cell_type": "markdown",
      "metadata": {
        "id": "gzaB5-2CARry",
        "colab_type": "text"
      },
      "source": [
        "upper() / lower() devuelve la cadena en mayúsculas / minúsculas:\n"
      ]
    },
    {
      "cell_type": "code",
      "metadata": {
        "tags": [],
        "id": "kbD2bscUARrz",
        "colab_type": "code",
        "colab": {},
        "outputId": "3506e2ea-1974-4ab2-92f9-606a2d915a18"
      },
      "source": [
        "a = \"Hola, Mundo!\"\n",
        "print(a.upper())"
      ],
      "execution_count": 215,
      "outputs": [
        {
          "output_type": "stream",
          "name": "stdout",
          "text": "HOLA, MUNDO!\n"
        }
      ]
    },
    {
      "cell_type": "markdown",
      "metadata": {
        "id": "F6TM2SHGPnYr",
        "colab_type": "text"
      },
      "source": [
        "replace(): reemplaza una cadena con otra cadena"
      ]
    },
    {
      "cell_type": "code",
      "metadata": {
        "tags": [],
        "id": "BQYLNozoARsC",
        "colab_type": "code",
        "colab": {},
        "outputId": "73db8c32-75d1-4535-bb19-9b5a62c9e3d5"
      },
      "source": [
        "a = \"Hola, Mundo!\"\n",
        "print(a.replace(\"H\", \"J\"))"
      ],
      "execution_count": 216,
      "outputs": [
        {
          "output_type": "stream",
          "name": "stdout",
          "text": "Jola, Mundo!\n"
        }
      ]
    },
    {
      "cell_type": "markdown",
      "metadata": {
        "id": "-6bW1WfOQCbD",
        "colab_type": "text"
      },
      "source": [
        "split(): divide la cadena en subcadenas si encuentra instancias del separador"
      ]
    },
    {
      "cell_type": "code",
      "metadata": {
        "tags": [],
        "id": "kqensSXeARsX",
        "colab_type": "code",
        "colab": {},
        "outputId": "af02835d-59dc-4d52-c1be-f96e8bc2d342"
      },
      "source": [
        "a = \"Hola, Mundo!\"\n",
        "print(a.split(\",\"))"
      ],
      "execution_count": 217,
      "outputs": [
        {
          "output_type": "stream",
          "name": "stdout",
          "text": "['Hola', ' Mundo!']\n"
        }
      ]
    },
    {
      "cell_type": "markdown",
      "metadata": {
        "id": "9le7nNcWARsf",
        "colab_type": "text"
      },
      "source": [
        "## Colecciones de Python (arrays)\n",
        "\n",
        "Hay cuatro tipos de datos de recopilación en el lenguaje de programación Python:\n",
        "\n",
        "* Lista: es una colección ordenada y modificable. Permite miembros duplicados.\n",
        "* Tupla: es una colección ordenada e inmutable. Permite miembros duplicados.\n",
        "* Set: es una colección que no está ordenada ni indexada. No hay miembros duplicados.\n",
        "* Diccionario: es una colección desordenada, modificable e indexada."
      ]
    },
    {
      "cell_type": "markdown",
      "metadata": {
        "id": "7PUvmUwIARsh",
        "colab_type": "text"
      },
      "source": [
        "### Listas\n",
        "\n",
        "La estructura de datos más básica en Python es la secuencia. A cada elemento de una secuencia se le asigna un número: su posición o índice. El primer índice es cero, el segundo índice es uno y así sucesivamente. Hay ciertas cosas que puede hacer con todos los tipos de secuencia. Estas operaciones incluyen indexar, dividir, agregar, multiplicar y verificar la pertenencia. Además, Python tiene funciones integradas para encontrar la longitud de una secuencia y para encontrar sus elementos más grandes y más pequeños.\n",
        "\n",
        "La lista es el tipo de datos más versátil disponible en Python, que se puede escribir como una lista de valores (elementos) separados por comas entre corchetes. Lo importante de una lista es que los elementos de una lista no necesitan ser del mismo tipo.\n",
        "\n",
        "#### Creando una Lista"
      ]
    },
    {
      "cell_type": "code",
      "metadata": {
        "tags": [],
        "id": "_rVe3uGqARsi",
        "colab_type": "code",
        "colab": {}
      },
      "source": [
        "lista = ['madera', \"piedra\", \"bruja\", \"pato\", 0.10, 1 ]\n",
        "listita = ['madera', 'pato']\n"
      ],
      "execution_count": 218,
      "outputs": []
    },
    {
      "cell_type": "code",
      "metadata": {
        "id": "gNzy17bPARso",
        "colab_type": "code",
        "colab": {},
        "outputId": "a0c8f911-2a04-4f86-fae5-f0ee8e8785cb"
      },
      "source": [
        "# Lista completa\n",
        "lista"
      ],
      "execution_count": 219,
      "outputs": [
        {
          "output_type": "execute_result",
          "data": {
            "text/plain": "['madera', 'piedra', 'bruja', 'pato', 0.1, 1]"
          },
          "metadata": {},
          "execution_count": 219
        }
      ]
    },
    {
      "cell_type": "markdown",
      "metadata": {
        "id": "_BC5IubhARsu",
        "colab_type": "text"
      },
      "source": [
        "#### Acceder a los elementos de una lista"
      ]
    },
    {
      "cell_type": "code",
      "metadata": {
        "id": "JD2nt4nsARsv",
        "colab_type": "code",
        "colab": {},
        "outputId": "7b4c88eb-ffa5-489e-8d3a-dd0b69a65b50"
      },
      "source": [
        " # Extrae el primer elemento\n",
        "lista[0]"
      ],
      "execution_count": 220,
      "outputs": [
        {
          "output_type": "execute_result",
          "data": {
            "text/plain": "'madera'"
          },
          "metadata": {},
          "execution_count": 220
        }
      ]
    },
    {
      "cell_type": "code",
      "metadata": {
        "id": "cU0mmypHARsz",
        "colab_type": "code",
        "colab": {},
        "outputId": "c9dfcff7-d2b8-40b5-d909-e9d216c7687a"
      },
      "source": [
        "# Extrae los elementos 2 y 3\n",
        "lista[1:3]"
      ],
      "execution_count": 221,
      "outputs": [
        {
          "output_type": "execute_result",
          "data": {
            "text/plain": "['piedra', 'bruja']"
          },
          "metadata": {},
          "execution_count": 221
        }
      ]
    },
    {
      "cell_type": "code",
      "metadata": {
        "id": "B6zfpfdLARs7",
        "colab_type": "code",
        "colab": {},
        "outputId": "80f20389-3a30-4c75-d788-f00da3be1fad"
      },
      "source": [
        "# Extrae los elementos desde el 3 en adelante\n",
        "lista[2:]"
      ],
      "execution_count": 222,
      "outputs": [
        {
          "output_type": "execute_result",
          "data": {
            "text/plain": "['bruja', 'pato', 0.1, 1]"
          },
          "metadata": {},
          "execution_count": 222
        }
      ]
    },
    {
      "cell_type": "markdown",
      "metadata": {
        "id": "PMnxZxeSUDTN",
        "colab_type": "text"
      },
      "source": [
        "Si el índice es negativo, comienza de atras para adelante.\n",
        "\n",
        "-1: último elemento <br>\n",
        "-2: penúltimo elemento <br>\n",
        "Y así sucesivamente"
      ]
    },
    {
      "cell_type": "code",
      "metadata": {
        "id": "1EPoDx26Tv5w",
        "colab_type": "code",
        "colab": {
          "base_uri": "https://localhost:8080/",
          "height": 34
        },
        "outputId": "9d021d37-535b-4f89-d245-39372d95d99f"
      },
      "source": [
        "# Extrae el último elemento\n",
        "lista[-1]"
      ],
      "execution_count": 223,
      "outputs": [
        {
          "output_type": "execute_result",
          "data": {
            "text/plain": "1"
          },
          "metadata": {},
          "execution_count": 223
        }
      ]
    },
    {
      "cell_type": "code",
      "metadata": {
        "id": "uJkd5XCFVCmg",
        "colab_type": "code",
        "colab": {
          "base_uri": "https://localhost:8080/",
          "height": 34
        },
        "outputId": "3d46afcf-07f6-496a-b323-0497c80bb15f"
      },
      "source": [
        "# Extra el último y penútimo elemento\n",
        "lista [-2:]"
      ],
      "execution_count": 224,
      "outputs": [
        {
          "output_type": "execute_result",
          "data": {
            "text/plain": "[0.1, 1]"
          },
          "metadata": {},
          "execution_count": 224
        }
      ]
    },
    {
      "cell_type": "markdown",
      "metadata": {
        "id": "vx3v6ZNwARtA",
        "colab_type": "text"
      },
      "source": [
        "#### Modificar elemento de una lista"
      ]
    },
    {
      "cell_type": "code",
      "metadata": {
        "id": "-CCReM3gARtB",
        "colab_type": "code",
        "colab": {},
        "outputId": "f736bde9-2ed9-4710-8e7b-4e8271ed55ff"
      },
      "source": [
        "# Modifica el primer valor de la lista\n",
        "lista[0] = 'flota'\n",
        "lista"
      ],
      "execution_count": 225,
      "outputs": [
        {
          "output_type": "execute_result",
          "data": {
            "text/plain": "['flota', 'piedra', 'bruja', 'pato', 0.1, 1]"
          },
          "metadata": {},
          "execution_count": 225
        }
      ]
    },
    {
      "cell_type": "markdown",
      "metadata": {
        "id": "raCkigvKARtG",
        "colab_type": "text"
      },
      "source": [
        "#### Remover un elemento de una lista"
      ]
    },
    {
      "cell_type": "code",
      "metadata": {
        "id": "60iyTXNgARtH",
        "colab_type": "code",
        "colab": {},
        "outputId": "f0d0ae3a-82b7-49e6-bd60-ba2b09754db9"
      },
      "source": [
        "lista"
      ],
      "execution_count": 226,
      "outputs": [
        {
          "output_type": "execute_result",
          "data": {
            "text/plain": "['flota', 'piedra', 'bruja', 'pato', 0.1, 1]"
          },
          "metadata": {},
          "execution_count": 226
        }
      ]
    },
    {
      "cell_type": "code",
      "metadata": {
        "id": "748qD5xgARtO",
        "colab_type": "code",
        "colab": {},
        "outputId": "71afbfd2-51b3-4055-f9b4-c8d6fad617a7"
      },
      "source": [
        "# Modifica in situ a la lista\n",
        "del lista[5]\n",
        "lista"
      ],
      "execution_count": 227,
      "outputs": [
        {
          "output_type": "execute_result",
          "data": {
            "text/plain": "['flota', 'piedra', 'bruja', 'pato', 0.1]"
          },
          "metadata": {},
          "execution_count": 227
        }
      ]
    },
    {
      "cell_type": "markdown",
      "metadata": {
        "id": "oILl8bMoARtR",
        "colab_type": "text"
      },
      "source": [
        "#### Operaciones con Listas\n",
        "\n",
        "Longitud de la lista"
      ]
    },
    {
      "cell_type": "code",
      "metadata": {
        "id": "yG_7us7qARtS",
        "colab_type": "code",
        "colab": {},
        "outputId": "ce4673ca-ac06-4346-cb26-b838a1cce847"
      },
      "source": [
        "len(lista)"
      ],
      "execution_count": 228,
      "outputs": [
        {
          "output_type": "execute_result",
          "data": {
            "text/plain": "5"
          },
          "metadata": {},
          "execution_count": 228
        }
      ]
    },
    {
      "cell_type": "markdown",
      "metadata": {
        "id": "wL6uFSfQARtX",
        "colab_type": "text"
      },
      "source": [
        "Concatenar listas"
      ]
    },
    {
      "cell_type": "code",
      "metadata": {
        "id": "zbSoqKrEARtY",
        "colab_type": "code",
        "colab": {},
        "outputId": "900ffa85-c8ec-4f82-a066-e5aba969f471"
      },
      "source": [
        "lista + listita"
      ],
      "execution_count": 229,
      "outputs": [
        {
          "output_type": "execute_result",
          "data": {
            "text/plain": "['flota', 'piedra', 'bruja', 'pato', 0.1, 'madera', 'pato']"
          },
          "metadata": {},
          "execution_count": 229
        }
      ]
    },
    {
      "cell_type": "markdown",
      "metadata": {
        "id": "g2f75xC2ARtc",
        "colab_type": "text"
      },
      "source": [
        "Multiplicar la lista (lista * n)"
      ]
    },
    {
      "cell_type": "code",
      "metadata": {
        "id": "IVp1q7f1ARtd",
        "colab_type": "code",
        "colab": {},
        "outputId": "3bdb568f-5884-410a-9b42-c583f72bee06"
      },
      "source": [
        "listita * 2"
      ],
      "execution_count": 230,
      "outputs": [
        {
          "output_type": "execute_result",
          "data": {
            "text/plain": "['madera', 'pato', 'madera', 'pato']"
          },
          "metadata": {},
          "execution_count": 230
        }
      ]
    },
    {
      "cell_type": "markdown",
      "metadata": {
        "id": "TSDVZQQ3ARth",
        "colab_type": "text"
      },
      "source": [
        "#### Métodos para las Lista:\n",
        "\n",
        "Python incluye los siguientes métodos para las listas:"
      ]
    },
    {
      "cell_type": "code",
      "metadata": {
        "id": "_M4qRrX-ARti",
        "colab_type": "code",
        "colab": {}
      },
      "source": [
        "lista = [1 ,\"a\", 3]"
      ],
      "execution_count": 231,
      "outputs": []
    },
    {
      "cell_type": "markdown",
      "metadata": {
        "id": "4Pp94CBsARto",
        "colab_type": "text"
      },
      "source": [
        "list.append (obj): Agrega el objeto obj a la lista"
      ]
    },
    {
      "cell_type": "code",
      "metadata": {
        "id": "kPKu2Ld6ARtr",
        "colab_type": "code",
        "colab": {},
        "outputId": "90f3cb35-1653-4614-f80e-7b3965754169"
      },
      "source": [
        "lista.append(1)\n",
        "lista"
      ],
      "execution_count": 232,
      "outputs": [
        {
          "output_type": "execute_result",
          "data": {
            "text/plain": "[1, 'a', 3, 1]"
          },
          "metadata": {},
          "execution_count": 232
        }
      ]
    },
    {
      "cell_type": "markdown",
      "metadata": {
        "id": "GTpvr7yNARt2",
        "colab_type": "text"
      },
      "source": [
        "\n",
        "list.count (obj): Devuelve el recuento de cuántas veces aparece obj en la lista"
      ]
    },
    {
      "cell_type": "code",
      "metadata": {
        "id": "yUecRfbrARt3",
        "colab_type": "code",
        "colab": {},
        "outputId": "c6b2f406-c52d-4f8d-ed6c-3b3bd244fdd5"
      },
      "source": [
        "lista.count(1)"
      ],
      "execution_count": 233,
      "outputs": [
        {
          "output_type": "execute_result",
          "data": {
            "text/plain": "2"
          },
          "metadata": {},
          "execution_count": 233
        }
      ]
    },
    {
      "cell_type": "markdown",
      "metadata": {
        "id": "5-sfHN8LARt9",
        "colab_type": "text"
      },
      "source": [
        "list.extend (seq): Agrega el contenido de seq a la lista"
      ]
    },
    {
      "cell_type": "code",
      "metadata": {
        "id": "asjpKwR4ARuB",
        "colab_type": "code",
        "colab": {},
        "outputId": "5bf33664-025c-4aa8-875a-13e2071b1bfa"
      },
      "source": [
        "lista_2 = [\"a\",\"b\"]\n",
        "lista.extend(lista_2)\n",
        "lista"
      ],
      "execution_count": 234,
      "outputs": [
        {
          "output_type": "execute_result",
          "data": {
            "text/plain": "[1, 'a', 3, 1, 'a', 'b']"
          },
          "metadata": {},
          "execution_count": 234
        }
      ]
    },
    {
      "cell_type": "markdown",
      "metadata": {
        "id": "DMdnHgpkARuJ",
        "colab_type": "text"
      },
      "source": [
        "list.index (obj): Devuelve el índice más bajo en la lista que aparece obj"
      ]
    },
    {
      "cell_type": "code",
      "metadata": {
        "id": "Wki3aROyARuK",
        "colab_type": "code",
        "colab": {},
        "outputId": "59c9d5c5-df94-4db0-850b-ff89d11526be"
      },
      "source": [
        "lista.index(1)"
      ],
      "execution_count": 235,
      "outputs": [
        {
          "output_type": "execute_result",
          "data": {
            "text/plain": "0"
          },
          "metadata": {},
          "execution_count": 235
        }
      ]
    },
    {
      "cell_type": "markdown",
      "metadata": {
        "id": "Fl2RitrDARuR",
        "colab_type": "text"
      },
      "source": [
        "list.insert (índice, obj): Inserta el objeto obj en la lista en el índice de desplazamiento"
      ]
    },
    {
      "cell_type": "code",
      "metadata": {
        "id": "U9C3UsP_ARuS",
        "colab_type": "code",
        "colab": {},
        "outputId": "2dc3f6f5-7acb-43c2-87b2-292c6f7a1eda"
      },
      "source": [
        "lista"
      ],
      "execution_count": 236,
      "outputs": [
        {
          "output_type": "execute_result",
          "data": {
            "text/plain": "[1, 'a', 3, 1, 'a', 'b']"
          },
          "metadata": {},
          "execution_count": 236
        }
      ]
    },
    {
      "cell_type": "code",
      "metadata": {
        "id": "7ze9bZOYARua",
        "colab_type": "code",
        "colab": {},
        "outputId": "ccd81c3b-bb51-4623-f2fd-f74ffb75d155"
      },
      "source": [
        "lista.insert(2,\"z\")\n",
        "lista"
      ],
      "execution_count": 237,
      "outputs": [
        {
          "output_type": "execute_result",
          "data": {
            "text/plain": "[1, 'a', 'z', 3, 1, 'a', 'b']"
          },
          "metadata": {},
          "execution_count": 237
        }
      ]
    },
    {
      "cell_type": "markdown",
      "metadata": {
        "id": "nN43ig_pARuf",
        "colab_type": "text"
      },
      "source": [
        "list.pop (obj = list \\[-1\\]): Elimina y devuelve el último objeto u obj de la lista"
      ]
    },
    {
      "cell_type": "code",
      "metadata": {
        "id": "qBoMN2A4ARug",
        "colab_type": "code",
        "colab": {},
        "outputId": "e5d0d37a-0718-420b-ac8c-cd2aa3dc46db"
      },
      "source": [
        "aux = lista.pop()\n",
        "aux"
      ],
      "execution_count": 238,
      "outputs": [
        {
          "output_type": "execute_result",
          "data": {
            "text/plain": "'b'"
          },
          "metadata": {},
          "execution_count": 238
        }
      ]
    },
    {
      "cell_type": "code",
      "metadata": {
        "id": "a_x22gg3ARuk",
        "colab_type": "code",
        "colab": {},
        "outputId": "9fbf3df1-b987-4c85-e5f2-786df87a67e6"
      },
      "source": [
        "lista"
      ],
      "execution_count": 239,
      "outputs": [
        {
          "output_type": "execute_result",
          "data": {
            "text/plain": "[1, 'a', 'z', 3, 1, 'a']"
          },
          "metadata": {},
          "execution_count": 239
        }
      ]
    },
    {
      "cell_type": "code",
      "metadata": {
        "id": "ILa1s5wyARuq",
        "colab_type": "code",
        "colab": {},
        "outputId": "aa4a8b78-705c-4599-847c-949824969a71"
      },
      "source": [
        "aux = lista.pop(2)\n",
        "aux"
      ],
      "execution_count": 240,
      "outputs": [
        {
          "output_type": "execute_result",
          "data": {
            "text/plain": "'z'"
          },
          "metadata": {},
          "execution_count": 240
        }
      ]
    },
    {
      "cell_type": "code",
      "metadata": {
        "id": "dDLJJgrFARux",
        "colab_type": "code",
        "colab": {},
        "outputId": "17aa8e0e-d85d-416c-a7a1-2c08dadc2713"
      },
      "source": [
        "lista"
      ],
      "execution_count": 241,
      "outputs": [
        {
          "output_type": "execute_result",
          "data": {
            "text/plain": "[1, 'a', 3, 1, 'a']"
          },
          "metadata": {},
          "execution_count": 241
        }
      ]
    },
    {
      "cell_type": "markdown",
      "metadata": {
        "id": "qgpVt01sARu0",
        "colab_type": "text"
      },
      "source": [
        "list.remove (obj): Elimina el objeto obj de la lista"
      ]
    },
    {
      "cell_type": "code",
      "metadata": {
        "id": "34Y5diYVARu0",
        "colab_type": "code",
        "colab": {},
        "outputId": "c727cfe1-4b52-4cab-8ce4-ea671e15739c"
      },
      "source": [
        "aux = lista.remove(1)\n",
        "lista"
      ],
      "execution_count": 242,
      "outputs": [
        {
          "output_type": "execute_result",
          "data": {
            "text/plain": "['a', 3, 1, 'a']"
          },
          "metadata": {},
          "execution_count": 242
        }
      ]
    },
    {
      "cell_type": "markdown",
      "metadata": {
        "id": "nQZ37g1CARu7",
        "colab_type": "text"
      },
      "source": [
        "list.reverse (): Invierte los objetos de la lista en su lugar"
      ]
    },
    {
      "cell_type": "code",
      "metadata": {
        "id": "O7IAeZBdARu8",
        "colab_type": "code",
        "colab": {},
        "outputId": "10c3194f-9210-4293-f5f1-6a604a50f2a5"
      },
      "source": [
        "lista.reverse()\n",
        "lista"
      ],
      "execution_count": 243,
      "outputs": [
        {
          "output_type": "execute_result",
          "data": {
            "text/plain": "['a', 1, 3, 'a']"
          },
          "metadata": {},
          "execution_count": 243
        }
      ]
    },
    {
      "cell_type": "markdown",
      "metadata": {
        "id": "hPV85NX0ARvH",
        "colab_type": "text"
      },
      "source": [
        "list.sort ([func]): Ordena los objetos de la lista, use la función de comparación si se proporciona"
      ]
    },
    {
      "cell_type": "code",
      "metadata": {
        "id": "o8VUhig-ARvI",
        "colab_type": "code",
        "colab": {},
        "outputId": "39b92132-3e13-4a1d-c093-13fade460edd"
      },
      "source": [
        "lista = [1,4,0,3]\n",
        "lista.sort()\n",
        "lista"
      ],
      "execution_count": 244,
      "outputs": [
        {
          "output_type": "execute_result",
          "data": {
            "text/plain": "[0, 1, 3, 4]"
          },
          "metadata": {},
          "execution_count": 244
        }
      ]
    },
    {
      "cell_type": "markdown",
      "metadata": {
        "id": "wrjFQ7Q0ARvP",
        "colab_type": "text"
      },
      "source": [
        "### Tuplas\n",
        "\n",
        "Una tupla es una colección de objetos ordenados e inmutables. Las tuplas son secuencias, como listas. La principal diferencia entre las tuplas y las listas es que las tuplas no se pueden cambiar a diferencia de las listas. Las tuplas usan paréntesis, mientras que las listas usan corchetes."
      ]
    },
    {
      "cell_type": "code",
      "metadata": {
        "tags": [],
        "id": "IPba5hkVARvQ",
        "colab_type": "code",
        "colab": {},
        "outputId": "35f28805-6d43-4b01-88ba-71c95f30cba6"
      },
      "source": [
        "tupla = ('madera', \"piedra\", \"bruja\", \"pato\", 0.10)\n",
        "tuplaita = ('madera', 'pato')\n",
        "\n",
        "print(tupla)  # Imprime complete list\n",
        "print(tupla[0])  # Imprime el primer elemento\n",
        "print(tupla[1:3])  # Imprime los elementos 2 y 3\n",
        "print(tupla[2:])  # Imprime elementos desde el 3 en adelante\n",
        "print(tuplaita * 2)  # Imprime lista 2 veces\n",
        "print(tupla + tuplaita)  # Imprime la lista concatenateda"
      ],
      "execution_count": 245,
      "outputs": [
        {
          "output_type": "stream",
          "name": "stdout",
          "text": "('madera', 'piedra', 'bruja', 'pato', 0.1)\nmadera\n('piedra', 'bruja')\n('bruja', 'pato', 0.1)\n('madera', 'pato', 'madera', 'pato')\n('madera', 'piedra', 'bruja', 'pato', 0.1, 'madera', 'pato')\n"
        }
      ]
    },
    {
      "cell_type": "markdown",
      "metadata": {
        "id": "gQ-142PyARvZ",
        "colab_type": "text"
      },
      "source": [
        "#### Inmutabilidad"
      ]
    },
    {
      "cell_type": "code",
      "metadata": {
        "id": "lhqvYchQARva",
        "colab_type": "code",
        "colab": {},
        "outputId": "96a536f4-4ecd-4982-d4d9-1daf99050039"
      },
      "source": [
        "tupla[0] = 'flota' # Error\n"
      ],
      "execution_count": 247,
      "outputs": [
        {
          "output_type": "error",
          "ename": "TypeError",
          "evalue": "'tuple' object does not support item assignment",
          "traceback": [
            "\u001b[0;31m---------------------------------------------------------------------------\u001b[0m",
            "\u001b[0;31mTypeError\u001b[0m                                 Traceback (most recent call last)",
            "\u001b[0;32m<ipython-input-247-be56f0050120>\u001b[0m in \u001b[0;36m<module>\u001b[0;34m\u001b[0m\n\u001b[0;32m----> 1\u001b[0;31m \u001b[0mtupla\u001b[0m\u001b[0;34m[\u001b[0m\u001b[0;36m0\u001b[0m\u001b[0;34m]\u001b[0m \u001b[0;34m=\u001b[0m \u001b[0;34m'flota'\u001b[0m \u001b[0;31m# Error\u001b[0m\u001b[0;34m\u001b[0m\u001b[0;34m\u001b[0m\u001b[0m\n\u001b[0m",
            "\u001b[0;31mTypeError\u001b[0m: 'tuple' object does not support item assignment"
          ]
        }
      ]
    }
  ]
}