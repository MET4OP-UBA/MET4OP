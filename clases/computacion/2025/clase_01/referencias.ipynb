{
 "cells": [
  {
   "cell_type": "markdown",
   "metadata": {
    "slideshow": {
     "slide_type": "slide"
    },
    "tags": []
   },
   "source": [
    "# Referencias de objetos\n"
   ]
  },
  {
   "cell_type": "markdown",
   "metadata": {
    "id": "pjIg3eV2ARov",
    "slideshow": {
     "slide_type": "subslide"
    },
    "tags": []
   },
   "source": [
    "## Referencias de objetos\n",
    "\n",
    "Las **variables** son contenedores para almacenar valores.\n",
    "\n",
    "En Python, las variables, son referencias a objetos, pero los datos reales están contenidos en los objetos:\n",
    "\n",
    "<img src=https://www.python-course.eu/images/python_variable_1.png width=\"350\">\n",
    "\n",
    "\n",
    "Dado que las variables apuntan a objetos y los objetos pueden ser de tipos de datos arbitrarios, las variables no pueden tener tipos asociados. Esta es una gran diferencia con otros lengaujes (C, C ++ o Java), donde una variable está asociada con un tipo de datos fijo. En estos lenguajes, esta asociación no se puede cambiar mientras el programa se esté ejecutando.\n",
    "\n"
   ]
  },
  {
   "cell_type": "code",
   "execution_count": null,
   "metadata": {
    "slideshow": {
     "slide_type": "subslide"
    },
    "tags": []
   },
   "outputs": [],
   "source": [
    "En Python, es posible escribir código como el siguiente:"
   ]
  },
  {
   "cell_type": "code",
   "execution_count": 1,
   "metadata": {
    "colab": {
     "base_uri": "https://localhost:8080/"
    },
    "id": "5ACpR8TpARoy",
    "outputId": "f75360b4-1c6d-4e88-b6ce-5adcab0b6671",
    "slideshow": {
     "slide_type": "fragment"
    },
    "tags": []
   },
   "outputs": [
    {
     "name": "stdout",
     "output_type": "stream",
     "text": [
      "42\n"
     ]
    }
   ],
   "source": [
    "x  =  42 \n",
    "print( x )"
   ]
  },
  {
   "cell_type": "code",
   "execution_count": 2,
   "metadata": {
    "colab": {
     "base_uri": "https://localhost:8080/"
    },
    "id": "IxqEMP7rARpA",
    "outputId": "a255d949-1563-492d-8ced-b899a0110aa4",
    "slideshow": {
     "slide_type": "fragment"
    },
    "tags": []
   },
   "outputs": [
    {
     "name": "stdout",
     "output_type": "stream",
     "text": [
      "Ahora x hace referencia a una cadena\n"
     ]
    }
   ],
   "source": [
    "x  =  \"Ahora x hace referencia a una cadena\" \n",
    "print( x )"
   ]
  },
  {
   "cell_type": "markdown",
   "metadata": {
    "id": "tK3NI3WVARpN",
    "slideshow": {
     "slide_type": "fragment"
    },
    "tags": []
   },
   "source": [
    "Veamos el siguiente código:"
   ]
  },
  {
   "cell_type": "code",
   "execution_count": 3,
   "metadata": {
    "colab": {
     "base_uri": "https://localhost:8080/"
    },
    "id": "wE2iG-qAARpP",
    "outputId": "a684b618-940a-4a97-c419-06a5055abe9c",
    "slideshow": {
     "slide_type": "fragment"
    },
    "tags": []
   },
   "outputs": [
    {
     "name": "stdout",
     "output_type": "stream",
     "text": [
      "42\n",
      "42\n"
     ]
    }
   ],
   "source": [
    "x  =  42 \n",
    "y  =  x\n",
    "print(x)\n",
    "print(y)"
   ]
  },
  {
   "cell_type": "markdown",
   "metadata": {
    "id": "GQBH0716ARpb",
    "slideshow": {
     "slide_type": "subslide"
    },
    "tags": []
   },
   "source": [
    "Creamos un objeto 42 entero y lo asignamos a la variable x. Después de esto asignamos x a la variable y. Esto significa que ambas variables hacen referencia al mismo objeto. La siguiente imagen ilustra esto:\n",
    "\n",
    "<img src=https://www.python-course.eu/images/python_variable_2.png width=\"600\">"
   ]
  },
  {
   "cell_type": "markdown",
   "metadata": {
    "id": "epGh_mj1ARpd",
    "slideshow": {
     "slide_type": "subslide"
    },
    "tags": []
   },
   "source": [
    "Veamos el siguiente código:\n"
   ]
  },
  {
   "cell_type": "code",
   "execution_count": 4,
   "metadata": {
    "colab": {
     "base_uri": "https://localhost:8080/"
    },
    "id": "J5diECFtARpf",
    "outputId": "d822909e-fb19-4461-f30c-fd1bfce2f79b",
    "slideshow": {
     "slide_type": "fragment"
    },
    "tags": []
   },
   "outputs": [
    {
     "name": "stdout",
     "output_type": "stream",
     "text": [
      "42\n",
      "42\n"
     ]
    }
   ],
   "source": [
    "x = 42 \n",
    "y = x\n",
    "print(x)\n",
    "print(y)"
   ]
  },
  {
   "cell_type": "code",
   "execution_count": 5,
   "metadata": {
    "colab": {
     "base_uri": "https://localhost:8080/"
    },
    "id": "nu6oo72dUtsK",
    "outputId": "e5b32ae2-be31-4a9d-8696-ce93a79352c6",
    "slideshow": {
     "slide_type": "fragment"
    },
    "tags": []
   },
   "outputs": [
    {
     "name": "stdout",
     "output_type": "stream",
     "text": [
      "42\n",
      "78\n"
     ]
    }
   ],
   "source": [
    "y = 78\n",
    "print(x)\n",
    "print(y)"
   ]
  },
  {
   "cell_type": "markdown",
   "metadata": {
    "id": "1Ptaix6AARpp",
    "slideshow": {
     "slide_type": "subslide"
    },
    "tags": []
   },
   "source": [
    "Python creará un nuevo objeto entero con el contenido 78 y luego la variable y hará referencia a este objeto recién creado, como podemos ver en la siguiente imagen:\n",
    "\n",
    "<img src=https://www.python-course.eu/images/python_variable_3.png width=\"600\">"
   ]
  },
  {
   "cell_type": "markdown",
   "metadata": {
    "id": "2vg_eK7GARpr",
    "slideshow": {
     "slide_type": "subslide"
    },
    "tags": []
   },
   "source": [
    "Veamos el siguiente código:\n"
   ]
  },
  {
   "cell_type": "code",
   "execution_count": 6,
   "metadata": {
    "colab": {
     "base_uri": "https://localhost:8080/"
    },
    "id": "ZpBPNCYfARpu",
    "outputId": "fbb3bcee-189b-4f19-e764-69c0f3c64e4a",
    "slideshow": {
     "slide_type": "fragment"
    },
    "tags": []
   },
   "outputs": [
    {
     "name": "stdout",
     "output_type": "stream",
     "text": [
      "42\n",
      "42\n"
     ]
    }
   ],
   "source": [
    "x = 42 \n",
    "y = x\n",
    "print(x)\n",
    "print(y)"
   ]
  },
  {
   "cell_type": "code",
   "execution_count": 7,
   "metadata": {
    "colab": {
     "base_uri": "https://localhost:8080/"
    },
    "id": "IFhmPgbSUc5f",
    "outputId": "f199c472-2572-40cf-c672-25d821a17536",
    "slideshow": {
     "slide_type": "fragment"
    },
    "tags": []
   },
   "outputs": [
    {
     "name": "stdout",
     "output_type": "stream",
     "text": [
      "Text\n",
      "78\n"
     ]
    }
   ],
   "source": [
    "y = 78\n",
    "x = \"Text\"\n",
    "print(x)\n",
    "print(y)"
   ]
  },
  {
   "cell_type": "markdown",
   "metadata": {
    "id": "SsVEEiUEARqK",
    "slideshow": {
     "slide_type": "subslide"
    },
    "tags": []
   },
   "source": [
    "<img src=https://www.python-course.eu/images/python_variable_4.png width=\"600\">"
   ]
  },
  {
   "cell_type": "markdown",
   "metadata": {
    "id": "_xQXwYTiARqM",
    "slideshow": {
     "slide_type": "subslide"
    },
    "tags": []
   },
   "source": [
    "¿Cómo podemos ver o probar que x e y realmente hacen referencia al mismo objeto después de la asignación y = x de nuestro ejemplo anterior?\n",
    "\n",
    "La función de identidad id () se puede utilizar para este propósito. Cada instancia (objeto o variable) tiene una identidad, es decir, un número entero que es único dentro del script o programa, es decir, otros objetos tienen identidades diferentes."
   ]
  },
  {
   "cell_type": "code",
   "execution_count": 8,
   "metadata": {
    "colab": {
     "base_uri": "https://localhost:8080/"
    },
    "id": "UQyc-P0oARqO",
    "outputId": "11df0b26-58ad-4fbf-9d34-1fe504cec475",
    "slideshow": {
     "slide_type": "fragment"
    },
    "tags": []
   },
   "outputs": [
    {
     "data": {
      "text/plain": [
       "[139738187974160, 139738187974160]"
      ]
     },
     "execution_count": 8,
     "metadata": {},
     "output_type": "execute_result"
    }
   ],
   "source": [
    "x = 42\n",
    "y = x\n",
    "[id(x),id(y)]"
   ]
  },
  {
   "cell_type": "code",
   "execution_count": 9,
   "metadata": {
    "colab": {
     "base_uri": "https://localhost:8080/"
    },
    "id": "5Z-sllm7ARql",
    "outputId": "735af3e4-449a-460c-f6ac-3bd9ccc747a8",
    "slideshow": {
     "slide_type": "fragment"
    },
    "tags": []
   },
   "outputs": [
    {
     "data": {
      "text/plain": [
       "[139738187974160, 139738187975312]"
      ]
     },
     "execution_count": 9,
     "metadata": {},
     "output_type": "execute_result"
    }
   ],
   "source": [
    "y = 78\n",
    "[id(x),id(y)]"
   ]
  },
  {
   "cell_type": "code",
   "execution_count": 10,
   "metadata": {
    "colab": {
     "base_uri": "https://localhost:8080/"
    },
    "id": "KeJjvI6rARqz",
    "outputId": "6c0f67f2-dda5-46fe-e9c0-c94486dbb654",
    "slideshow": {
     "slide_type": "fragment"
    },
    "tags": []
   },
   "outputs": [
    {
     "data": {
      "text/plain": [
       "[139738185982128, 139738187975312]"
      ]
     },
     "execution_count": 10,
     "metadata": {},
     "output_type": "execute_result"
    }
   ],
   "source": [
    "x = \"Text\"\n",
    "[id(x),id(y)]"
   ]
  }
 ],
 "metadata": {
  "colab": {
   "collapsed_sections": [
    "ZvZdua37ARrL",
    "0-BEREsEARws"
   ],
   "name": "referencias.ipynb",
   "provenance": []
  },
  "file_extension": ".py",
  "kernelspec": {
   "display_name": "Python 3 (ipykernel)",
   "language": "python",
   "name": "python3"
  },
  "language_info": {
   "codemirror_mode": {
    "name": "ipython",
    "version": 3
   },
   "file_extension": ".py",
   "mimetype": "text/x-python",
   "name": "python",
   "nbconvert_exporter": "python",
   "pygments_lexer": "ipython3",
   "version": "3.10.6"
  },
  "latex_envs": {
   "LaTeX_envs_menu_present": true,
   "autoclose": true,
   "autocomplete": true,
   "bibliofile": "biblio.bib",
   "cite_by": "apalike",
   "current_citInitial": 1,
   "eqLabelWithNumbers": true,
   "eqNumInitial": 1,
   "hotkeys": {
    "equation": "Ctrl-E",
    "itemize": "Ctrl-I"
   },
   "labels_anchors": false,
   "latex_user_defs": false,
   "report_style_numbering": false,
   "user_envs_cfg": false
  },
  "mimetype": "text/x-python",
  "name": "python",
  "npconvert_exporter": "python",
  "pygments_lexer": "ipython3",
  "toc": {
   "base_numbering": 1,
   "nav_menu": {},
   "number_sections": false,
   "sideBar": true,
   "skip_h1_title": false,
   "title_cell": "Table of Contents",
   "title_sidebar": "Contents",
   "toc_cell": false,
   "toc_position": {},
   "toc_section_display": true,
   "toc_window_display": true
  },
  "version": 3,
  "vscode": {
   "interpreter": {
    "hash": "e02978c724626fa38a10fffa78abd13c3c684205fe378caa04a3127b04117b64"
   }
  }
 },
 "nbformat": 4,
 "nbformat_minor": 4
}
