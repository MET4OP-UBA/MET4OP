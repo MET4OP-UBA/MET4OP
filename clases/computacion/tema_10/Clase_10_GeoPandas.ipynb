{
 "cells": [
  {
   "cell_type": "markdown",
   "metadata": {
    "slideshow": {
     "slide_type": "slide"
    }
   },
   "source": [
    "# GeoPandas"
   ]
  },
  {
   "cell_type": "markdown",
   "metadata": {
    "slideshow": {
     "slide_type": "subslide"
    }
   },
   "source": [
    "<font color=\"# 006fdd\"> GeoPandas </font> es un proyecto open source diseñado para trabajar con datos geoespaciales en Python. \n",
    "\n",
    "Es una subclase de los pandas.DataFarme, tratándose de un tipo de estructura de datos geopandas.GeoDataFrame, que se caracteriza por contener geometrías y poder realizar operaciones especiales. \n",
    "\n",
    "Utiliza otras librerías como Pandas, MatPlotLib, Fiona y Descartes"
   ]
  },
  {
   "cell_type": "markdown",
   "metadata": {
    "slideshow": {
     "slide_type": "slide"
    }
   },
   "source": [
    "## Instalación de la librería"
   ]
  },
  {
   "cell_type": "markdown",
   "metadata": {
    "id": "M4CA7IQCV24J",
    "slideshow": {
     "slide_type": "subslide"
    }
   },
   "source": [
    "Vamos a instalar las librerías necesarias\n",
    "\n",
    "```bash\n",
    "conda install pandas fiona shapely pyproj rtree geopandas\n",
    "conda install contextily --channel conda-forge\n",
    "```"
   ]
  },
  {
   "cell_type": "code",
   "execution_count": 4,
   "metadata": {
    "slideshow": {
     "slide_type": "fragment"
    }
   },
   "outputs": [],
   "source": [
    "# Y luego las cargamos\n",
    "\n",
    "import pandas as pd, matplotlib.pyplot as plt, geopandas as gpd, contextily as ctx, numpy as np"
   ]
  },
  {
   "cell_type": "markdown",
   "metadata": {
    "id": "QUccLWXTV24Z",
    "slideshow": {
     "slide_type": "slide"
    }
   },
   "source": [
    "## Explorando un archivo con información geográfica\n",
    "\n",
    "\n"
   ]
  },
  {
   "attachments": {
    "geodataframe.png": {
     "image/png": "[encoded data removed]"
    }
   },
   "cell_type": "markdown",
   "metadata": {
    "slideshow": {
     "slide_type": "subslide"
    }
   },
   "source": [
    "![geodataframe.png](attachment:geodataframe.png)"
   ]
  },
  {
   "cell_type": "markdown",
   "metadata": {
    "slideshow": {
     "slide_type": "slide"
    }
   },
   "source": [
    "## Estructura de datos de GeoPandas"
   ]
  },
  {
   "cell_type": "markdown",
   "metadata": {
    "slideshow": {
     "slide_type": "subslide"
    }
   },
   "source": [
    "GeoPandas implementa dos estructuras de datos principales: <font color=\"# 006fdd\"> GeoSeries </font> y <font color=\"# 006fdd\"> GeoDataFrame </font>"
   ]
  },
  {
   "cell_type": "markdown",
   "metadata": {
    "slideshow": {
     "slide_type": "subslide"
    }
   },
   "source": [
    "## GeoSeries"
   ]
  },
  {
   "cell_type": "markdown",
   "metadata": {
    "slideshow": {
     "slide_type": "fragment"
    }
   },
   "source": [
    "<font color=\"# 006fdd\"> Es un vector donde cada entrada es un conjunto de formas que corresponde a una observación </font>\n",
    "\n",
    "Una entrada puede consistir de una sola forma (como un solo polígono) o múltiples formas que son destinado a ser considerado como una observación (como muchos polígonos)."
   ]
  },
  {
   "cell_type": "markdown",
   "metadata": {
    "slideshow": {
     "slide_type": "subslide"
    }
   },
   "source": [
    "GeoPandas tiene tres clases básicas de objetos geométricos (que en realidad son objetos bien formados):\n",
    "* Puntos / puntos múltiples\n",
    "* Líneas / Líneas múltiples\n",
    "* Polígonos / Multi-Polígonos"
   ]
  },
  {
   "cell_type": "markdown",
   "metadata": {
    "slideshow": {
     "slide_type": "fragment"
    }
   },
   "source": [
    "No todas las entradas en una GeoSeries necesitan ser del mismo tipo geométrico"
   ]
  },
  {
   "cell_type": "markdown",
   "metadata": {
    "slideshow": {
     "slide_type": "subslide"
    }
   },
   "source": [
    "En términos de WKT \n",
    "\n",
    "Ver: https://en.wikipedia.org/wiki/Well-known_text_representation_of_geometry"
   ]
  },
  {
   "cell_type": "markdown",
   "metadata": {
    "slideshow": {
     "slide_type": "subslide"
    }
   },
   "source": [
    "<img src=https://github.com/MET4OP-UBA/MET4OP/raw/b0d43d76299156cc1b051933708091e9fe74c56a/clases/viejas/clase_07/extra/VirtWktGeomerticObjects.png>"
   ]
  },
  {
   "cell_type": "markdown",
   "metadata": {
    "slideshow": {
     "slide_type": "subslide"
    }
   },
   "source": [
    "<font color=\"# 006fdd\"> Atributos </font>\n",
    "\n",
    "| Atributo          | Descripción\n",
    "|-------------------|---------------------------------------------------------------------------------------------------------|\n",
    "|GeoSeries.area     | Returns a Series containing the area of each geometry in the GeoSeries expressed in the units of the CRS|\n",
    "|GeoSeries.total_bounds | Returns a tuple containing minx, miny, maxx, maxy values for the bounds of the series as a whole    |\n",
    "|GeoSeries.geom_type| Returns a Series of strings specifying the Geometry Type of each object                                 |\n",
    "|GeoSeries.is_valid | Returns a Series of dtype('bool') with value True for geometries that are valid                         |"
   ]
  },
  {
   "cell_type": "markdown",
   "metadata": {
    "id": "fUQyB3QbV24b",
    "slideshow": {
     "slide_type": "subslide"
    }
   },
   "source": [
    "<font color=\"# 006fdd\"> Métodos básicos </font>\n",
    "\n",
    "| Atributo          | Descripción\n",
    "|-------------------|---------------------------------------------------------------------------------------------------------|\n",
    "|distance           | Returns a Series containing the distance to aligned other                                               |\n",
    "|centroid           | Returns a GeoSeries of points representing the centroid of each geometry                                |\n",
    "|representative_point| Returns a GeoSeries of (cheaply computed) points that are guaranteed to be within each geometry        |\n",
    "|to_crs             | Returns a GeoSeries with all geometries transformed to a new coordinate reference system                |\n",
    "|plot               | plot GeoSeries                                                                                          |"
   ]
  },
  {
   "cell_type": "markdown",
   "metadata": {
    "id": "fUQyB3QbV24b",
    "slideshow": {
     "slide_type": "subslide"
    }
   },
   "source": [
    "<font color=\"# 006fdd\"> Pruebas de relación </font>\n",
    "\n",
    "| Atributo          | Descripción\n",
    "|-------------------|---------------------------------------------------------------------------------------------------------|\n",
    "|geom_almost_equals | Returns a Series of dtype('bool') with value True if each aligned geometry is approximately equal to other|                                              \n",
    "|contains           | Returns a Series of dtype('bool') with value True for each aligned geometry that contains other         |\n",
    "|intersects         | Returns a Series of dtype('bool') with value True for each aligned geometry that intersects other       |\n"
   ]
  },
  {
   "cell_type": "markdown",
   "metadata": {
    "slideshow": {
     "slide_type": "subslide"
    }
   },
   "source": [
    "## GeoDataFrame"
   ]
  },
  {
   "cell_type": "markdown",
   "metadata": {
    "slideshow": {
     "slide_type": "fragment"
    }
   },
   "source": [
    "<font color=\"# 006fdd\"> Es una estructura de datos tabular que contiene un GeoSeries </font> "
   ]
  },
  {
   "cell_type": "markdown",
   "metadata": {
    "id": "fUQyB3QbV24b",
    "slideshow": {
     "slide_type": "subslide"
    }
   },
   "source": [
    "La propiedad más importante de un GeoDataFrame es que siempre tiene una\n",
    "columna GeoSeries que tiene un estado especial. \n",
    "\n",
    "Esta GeoSeries se conoce como la <font color=\"# 006fdd\"> geometría </font> del GeoDataFrame."
   ]
  },
  {
   "cell_type": "markdown",
   "metadata": {
    "id": "fUQyB3QbV24b",
    "slideshow": {
     "slide_type": "subslide"
    }
   },
   "source": [
    "Se puede acceder a la columna con la *geometría*, sin importar su nombre, a través del atributo de geometry \n",
    "\n",
    "```\n",
    "gdf.geometry\n",
    "```\n",
    "\n",
    "y se puede encontrar el nombre de la columna de geometry escribiendo \n",
    "\n",
    "```\n",
    "gdf.geometry.name\n",
    "```"
   ]
  },
  {
   "cell_type": "markdown",
   "metadata": {
    "slideshow": {
     "slide_type": "subslide"
    }
   },
   "source": [
    "Un GeoDataFrame también puede contener otras columnas con objetos geométricos (bien formados), pero solo una columna puede ser la geometría activa a la vez. Para cambiar qué columna es la columna de geometría activa, use el método \n",
    "\n",
    "```\n",
    "set_geometry\n",
    "```"
   ]
  },
  {
   "cell_type": "markdown",
   "metadata": {
    "slideshow": {
     "slide_type": "subslide"
    }
   },
   "source": [
    "**Nota**: Un GeoDataFrame realiza un seguimiento de la columna activa por\n",
    "nombre, por lo que si cambia el nombre de la columna de geometría activa,\n",
    "también debe restablecer la geometría:\n",
    "\n",
    "```python\n",
    "gdf = gdf.rename(columns = {'old_name': 'new_name'}).set_geometry( 'new_name' )\n",
    "```\n"
   ]
  },
  {
   "cell_type": "markdown",
   "metadata": {
    "slideshow": {
     "slide_type": "subslide"
    }
   },
   "source": [
    "\n",
    "**Nota 2**: De manera predeterminada el comando \n",
    "\n",
    "```\n",
    "read_file \n",
    "```\n",
    "\n",
    "establece a la columna que se denomina *geometry* como la columna de la geometría activa.  Lo recomendable es siempre denominar a la columna con la geoemtría de esa forma. Caso contrario, se puede asignar manualmente la columna con el comando\n",
    "\n",
    "```\n",
    "set_geometry\n",
    "```"
   ]
  },
  {
   "cell_type": "markdown",
   "metadata": {
    "slideshow": {
     "slide_type": "subslide"
    }
   },
   "source": [
    "El comando\n",
    "\n",
    "```\n",
    "gdf.geometry\n",
    "```\n",
    "\n",
    "siempre devolverá la columna de la geometría activa."
   ]
  },
  {
   "cell_type": "markdown",
   "metadata": {
    "slideshow": {
     "slide_type": "subslide"
    }
   },
   "source": [
    "<font color=\"# 006fdd\"> Atributos y métodos </font>\n",
    "\n",
    "\n",
    "Todos los atributos y métodos descritos para un GeoSeries funcionan tambiénen un GeoDataFrame.\n",
    "\n",
    "Sólo se aplican a la GeoSeries *geometría*.\n",
    "\n",
    "Sin embargo, los GeoDataFrames también tienen algunos métodos adicionales para entrada y salida que se describen en la página Entrada y Salida y para la geocodificación con Geocoding. "
   ]
  },
  {
   "cell_type": "markdown",
   "metadata": {
    "slideshow": {
     "slide_type": "subslide"
    }
   },
   "source": [
    "<font color=\"# 006fdd\"> Indexación y selección de datos </font>\n",
    "\n",
    "GeoPandas hereda los métodos pandas estándar para indexar/seleccionar datos. Esto incluye la indexación basada en etiquetas con *.loc* y la indexación basada en la posición de enteros con *.iloc*, que se aplican tanto a objetos GeoSeries como GeoDataFrame. Para obtener más información sobre indexación / selección, consulte la documentación de pandas. \n"
   ]
  },
  {
   "cell_type": "markdown",
   "metadata": {
    "slideshow": {
     "slide_type": "slide"
    }
   },
   "source": [
    "## Importar archivos geoespaciales"
   ]
  },
  {
   "cell_type": "markdown",
   "metadata": {
    "slideshow": {
     "slide_type": "subslide"
    }
   },
   "source": [
    "A modo de ejemplo, usaremos datos tomados del portal de datos abiertos de la Ciudad de Buenos Aires."
   ]
  },
  {
   "cell_type": "markdown",
   "metadata": {
    "slideshow": {
     "slide_type": "fragment"
    }
   },
   "source": [
    "Trabajaremos con los <font color=\"# 006fdd\"> radios censales </font> que son particiones de la superficie de la ciudad que contienen una cantidad similar de hogares. Fueron definidos por el INDEC para facilitar la labor durante la jornada del censo. La idea es asignar a cada censista un radio censal, estimando que puede recorrer todos los hogares del radio durante el día. \n",
    "\n",
    "Los radios censales son la unidad de análisis espacial por excelencia, debido a que combinan alta granularidad con abundante información asociada de acceso público, producida como resultado del Censo."
   ]
  },
  {
   "cell_type": "code",
   "execution_count": null,
   "metadata": {
    "id": "kyMB5S4pV24Z",
    "outputId": "288deb39-3956-4944-d8fd-1b32dc5425bf",
    "slideshow": {
     "slide_type": "subslide"
    }
   },
   "outputs": [
    {
     "data": {
      "text/plain": [
       "AREA          float64\n",
       "PERIMETER     float64\n",
       "PAIS0210_       int64\n",
       "PAIS0210_I      int64\n",
       "PROV           object\n",
       "DEPTO          object\n",
       "FRAC           object\n",
       "RADIO          object\n",
       "TIPO           object\n",
       "LINK           object\n",
       "VARONES       float64\n",
       "MUJERES       float64\n",
       "TOT_POB       float64\n",
       "HOGARES       float64\n",
       "VIV_PART      float64\n",
       "VIV_PART_H    float64\n",
       "geometry       object\n",
       "dtype: object"
      ]
     },
     "execution_count": 3,
     "metadata": {},
     "output_type": "execute_result"
    }
   ],
   "source": [
    "censo = gpd.read_file(\n",
    "    \"dataset/censo2010/radios_censales/Codgeo_CABA_con_datos/cabaxrdatos.shp\"\n",
    ")\n",
    "censo.head()\n",
    "censo.dtypes"
   ]
  },
  {
   "cell_type": "markdown",
   "metadata": {
    "id": "p5KNHElyV24f",
    "slideshow": {
     "slide_type": "slide"
    }
   },
   "source": [
    "## Fusionar datos"
   ]
  },
  {
   "cell_type": "markdown",
   "metadata": {
    "slideshow": {
     "slide_type": "fragment"
    }
   },
   "source": [
    "Hay dos formas de combinar conjuntos de datos en GeoPandas: <font color=\"# 006fdd\"> uniones de atributos </font> y <font color=\"# 006fdd\"> uniones espaciales </font>"
   ]
  },
  {
   "cell_type": "markdown",
   "metadata": {
    "slideshow": {
     "slide_type": "subslide"
    }
   },
   "source": [
    "### Por atributo"
   ]
  },
  {
   "cell_type": "markdown",
   "metadata": {
    "slideshow": {
     "slide_type": "fragment"
    }
   },
   "source": [
    "En una unión de atributo, un GeoSeries o GeoDataFrame se combina con una Series pandas regular o un DataFrame basado en una variable común. Esto es análogo a la fusión o unión normal en pandas."
   ]
  },
  {
   "cell_type": "markdown",
   "metadata": {
    "slideshow": {
     "slide_type": "subslide"
    }
   },
   "source": [
    "Las uniones de atributos se logran utilizando el método de <font color=\"# 006fdd\"> merge </font>. \n",
    "\n",
    "En general, se recomienda utilizar el método de *merge* llamado desde el conjunto de datos espaciales, si se desea conservar la columna con la geometría activa. \n",
    "\n",
    "Caso contrario, y a modo de ejemplo, si un DataFrame está en el argumento left y un GeoDataFrame está en la posición right, el resultado ya no será un GeoDataFrame. "
   ]
  },
  {
   "cell_type": "markdown",
   "metadata": {
    "slideshow": {
     "slide_type": "subslide"
    }
   },
   "source": [
    "### Uniones espaciales"
   ]
  },
  {
   "cell_type": "markdown",
   "metadata": {
    "slideshow": {
     "slide_type": "fragment"
    }
   },
   "source": [
    "En una unión espacial, dos objetos de geometría se fusionan en función de su relación espacial entre sí. "
   ]
  },
  {
   "cell_type": "markdown",
   "metadata": {
    "slideshow": {
     "slide_type": "subslide"
    }
   },
   "source": [
    "<font color=\"# 006fdd\"> Sintaxis </font> \n",
    "\n",
    "```python\n",
    "gpd.sjoin(gpd_DF_1, gpd_DF_1, how=\"XXX\", op='YYY')\n",
    "```"
   ]
  },
  {
   "cell_type": "markdown",
   "metadata": {
    "slideshow": {
     "slide_type": "fragment"
    }
   },
   "source": [
    "Las uniones espaciales (*sjoin.()*) tienen dos argumentos centrales: *op* y *how*"
   ]
  },
  {
   "cell_type": "markdown",
   "metadata": {
    "slideshow": {
     "slide_type": "subslide"
    }
   },
   "source": [
    "<font color=\"# 006fdd\"> OP </font> \n",
    "\n",
    "El argumento *op* especifica si unir o no los atributos de un objeto a otro. Hay tres opciones de unión diferentes de la siguiente manera:\n",
    "\n",
    "| OP                | Descripción\n",
    "|-------------------|---------------------------------------------------------------------------------------------------------|\n",
    "|intersects  | los atributos se unirán si el límite y el interior del objeto se cruzan de alguna manera con el límite y / o el interior del otro objeto|                                              \n",
    "|within      | los atributos se unirán si el límite y el interior del objeto se cruzan solo con el interior del otro objeto (no su límite o exterior)|\n",
    "|contains    | los atributos se unirán si el interior del objeto contiene el límite y el interior del otro objeto y sus límites no se tocan en absoluto|\n",
    "\n",
    "Puede leer más sobre cada tipo de combinación en la documentación de Shapely ."
   ]
  },
  {
   "cell_type": "markdown",
   "metadata": {
    "slideshow": {
     "slide_type": "subslide"
    }
   },
   "source": [
    "<font color=\"# 006fdd\"> How </font> \n",
    "\n",
    "El argumento de cómo especifica el tipo de unión que ocurrirá y qué geometría se retiene en el geodataframe resultante. Acepta las siguientes opciones:\n",
    "\n",
    "| How               | Descripción\n",
    "|-------------------|---------------------------------------------------------------------------------------------------------|\n",
    "|left  | use el índice del primer (o left_df ) geodataframe que proporcione para sjoin ; retener solo la columna de geometría left_df|                                              \n",
    "|right | usa index from second (o right_df ); retener solo la columna de geometría right_df                               |\n",
    "|inner | usa la intersección de los valores de índice de ambos geodataframes; retener solo la columna de geometría left_df|"
   ]
  },
  {
   "cell_type": "markdown",
   "metadata": {
    "slideshow": {
     "slide_type": "subslide"
    }
   },
   "source": [
    "### Overlay"
   ]
  },
  {
   "cell_type": "markdown",
   "metadata": {
    "slideshow": {
     "slide_type": "subslide"
    }
   },
   "source": [
    "Esta operación opera en todo el DataFrame, y no en la cada geometría individualmente. Funciona creando nuevas geometrías basadas en los espacios en los que, las geometrías dadas, se superposicionan (o no).\n",
    "\n",
    "Se especifica el tipo de overlay haciendo uso del *how*.\n",
    "\n",
    "En efecto, sobre cada geometría que se encuentre en la izquierda (*left*), las siguientes operaciones se ejecutaran contra la geometría de la derecha (*right*) del GeoDataFrame:"
   ]
  },
  {
   "attachments": {
    "overlay_operations.png": {
     "image/png": "[encoded data removed]"
    }
   },
   "cell_type": "markdown",
   "metadata": {
    "slideshow": {
     "slide_type": "subslide"
    }
   },
   "source": [
    "![overlay_operations.png](attachment:overlay_operations.png)"
   ]
  },
  {
   "cell_type": "markdown",
   "metadata": {
    "slideshow": {
     "slide_type": "slide"
    }
   },
   "source": [
    "## Material extra\n",
    "\n",
    "Repositorios de datos geoespaciales abiertos de Argentina:\n",
    "\n",
    "* https://datos.gob.ar/\n",
    "* https://catalogo.datos.gba.gob.ar/\n",
    "* https://data.buenosaires.gob.ar/\n",
    "* https://poblaciones.org/category/cartografias/"
   ]
  }
 ],
 "metadata": {
  "celltoolbar": "Slideshow",
  "colab": {
   "name": "Clase_07_GeoPandas.ipynb",
   "provenance": []
  },
  "file_extension": ".py",
  "kernelspec": {
   "display_name": "Python 3",
   "language": "python",
   "name": "python3"
  },
  "language_info": {
   "codemirror_mode": {
    "name": "ipython",
    "version": 3
   },
   "file_extension": ".py",
   "mimetype": "text/x-python",
   "name": "python",
   "nbconvert_exporter": "python",
   "pygments_lexer": "ipython3",
   "version": "3.7.5"
  },
  "latex_envs": {
   "LaTeX_envs_menu_present": true,
   "autoclose": true,
   "autocomplete": true,
   "bibliofile": "biblio.bib",
   "cite_by": "apalike",
   "current_citInitial": 1,
   "eqLabelWithNumbers": true,
   "eqNumInitial": 1,
   "hotkeys": {
    "equation": "Ctrl-E",
    "itemize": "Ctrl-I"
   },
   "labels_anchors": false,
   "latex_user_defs": false,
   "report_style_numbering": false,
   "user_envs_cfg": false
  },
  "mimetype": "text/x-python",
  "name": "python",
  "npconvert_exporter": "python",
  "pygments_lexer": "ipython3",
  "toc": {
   "base_numbering": 1,
   "nav_menu": {},
   "number_sections": false,
   "sideBar": true,
   "skip_h1_title": false,
   "title_cell": "Table of Contents",
   "title_sidebar": "Contents",
   "toc_cell": false,
   "toc_position": {},
   "toc_section_display": true,
   "toc_window_display": true
  },
  "version": 3
 },
 "nbformat": 4,
 "nbformat_minor": 1
}
