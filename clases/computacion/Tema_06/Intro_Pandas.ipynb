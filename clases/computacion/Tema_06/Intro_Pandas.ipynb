{
 "cells": [
  {
   "cell_type": "markdown",
   "metadata": {},
   "source": [
    "## ¿Qué es Pandas?\n",
    "\n",
    "Pandas es una de librería de Python para la manipulación y el análisis de datos basada en NumPy.\n",
    "\n",
    "![](files/320px-Pandas_logo.png)\n",
    "\n"
   ]
  },
  {
   "cell_type": "code",
   "execution_count": 4,
   "metadata": {},
   "outputs": [],
   "source": [
    "import pandas as pd\n",
    "import numpy as np"
   ]
  },
  {
   "cell_type": "markdown",
   "metadata": {},
   "source": [
    "### Series\n",
    "La Serie es el componente básico de Pandas. Una serie es una estructura de datos unidimensional indexada basada en el array de NumPy.\n",
    "\n",
    "La ventaja de las Series son:\n",
    "- Posibilidad de asignarle un nombre.\n",
    "- Mayor flexibilidad en los índices.\n",
    "\n",
    "El constructor pd.Series() se utiliza para construir una serie a partir de distintos elemendos tales como valores escalares, listas, tuplas, diccionarios, arrays, etc.\n",
    "\n",
    "Probemos definir una serie a partir de una lista:"
   ]
  },
  {
   "cell_type": "code",
   "execution_count": 5,
   "metadata": {},
   "outputs": [
    {
     "data": {
      "text/plain": [
       "0    1.0\n",
       "1    3.0\n",
       "2    5.0\n",
       "3    NaN\n",
       "4    6.0\n",
       "5    8.0\n",
       "dtype: float64"
      ]
     },
     "execution_count": 5,
     "metadata": {},
     "output_type": "execute_result"
    }
   ],
   "source": [
    "s1 = pd.Series([1, 3, 5, np.nan, 6, 8])\n",
    "s1"
   ]
  },
  {
   "cell_type": "markdown",
   "metadata": {},
   "source": [
    "Las series se crean con un índice automático que empieza en cero y termina en seis (recordar que Python empieza a contar desde cero y se refiere al último elemento de un rango de forma EXclusive. "
   ]
  },
  {
   "cell_type": "code",
   "execution_count": 6,
   "metadata": {},
   "outputs": [
    {
     "data": {
      "text/plain": [
       "RangeIndex(start=0, stop=6, step=1)"
      ]
     },
     "execution_count": 6,
     "metadata": {},
     "output_type": "execute_result"
    }
   ],
   "source": [
    "s1.index"
   ]
  },
  {
   "cell_type": "markdown",
   "metadata": {},
   "source": [
    "En este caso el valor de stop coincide con la cantidad de elementos de nuestro índice, pero atención que esto solo sucede porque nuestro índice va uno en uno (step). Si nuestra intención es conocer cuántos elementos tiene nuestro índice, es más apropiado usar el método size."
   ]
  },
  {
   "cell_type": "code",
   "execution_count": 7,
   "metadata": {},
   "outputs": [
    {
     "data": {
      "text/plain": [
       "6"
      ]
     },
     "execution_count": 7,
     "metadata": {},
     "output_type": "execute_result"
    }
   ],
   "source": [
    "s1.size"
   ]
  },
  {
   "cell_type": "markdown",
   "metadata": {},
   "source": [
    "Nosotros podemos redefinir nuestro índice, probemos con un índice que empiece en 5 y se incremente de 5 en 5."
   ]
  },
  {
   "cell_type": "code",
   "execution_count": 8,
   "metadata": {},
   "outputs": [
    {
     "data": {
      "text/plain": [
       "5     1.0\n",
       "10    3.0\n",
       "15    5.0\n",
       "20    NaN\n",
       "25    6.0\n",
       "30    8.0\n",
       "dtype: float64"
      ]
     },
     "execution_count": 8,
     "metadata": {},
     "output_type": "execute_result"
    }
   ],
   "source": [
    "s1.index = pd.RangeIndex(start=5, stop=35, step=5)\n",
    "s1"
   ]
  },
  {
   "cell_type": "markdown",
   "metadata": {},
   "source": [
    "Los índice también pueden ser del tipo string, ello lo podemos lograr pasándole una lista con strings en el argumento **index**:"
   ]
  },
  {
   "cell_type": "code",
   "execution_count": 9,
   "metadata": {},
   "outputs": [
    {
     "data": {
      "text/plain": [
       "a    1\n",
       "b    2\n",
       "c    3\n",
       "d    4\n",
       "e    5\n",
       "dtype: int64"
      ]
     },
     "execution_count": 9,
     "metadata": {},
     "output_type": "execute_result"
    }
   ],
   "source": [
    "s2 = pd.Series([1,2,3,4,5], index=[\"a\",\"b\",\"c\",\"d\",\"e\"])\n",
    "s2"
   ]
  },
  {
   "cell_type": "markdown",
   "metadata": {},
   "source": [
    "Como habíamos dicho, también podemos podemos crear series a partir de otros elementos, por ejemplo un diccionario.\n",
    "\n",
    "**Recordemos que los diccionarios se definen de la siguiente manera:**\n",
    "diccionario = {clave_1: valor_1, clave_2: valor_2, clave_n: valor_n}\n",
    "\n",
    "Cuando convertimos un diccionario en una Serie, las claves de este pasarán a ser el índice. \n"
   ]
  },
  {
   "cell_type": "code",
   "execution_count": 10,
   "metadata": {},
   "outputs": [
    {
     "data": {
      "text/plain": [
       "Ana       8.0\n",
       "Pedro     7.0\n",
       "Laura     9.0\n",
       "Martín    8.5\n",
       "Name: Nota, dtype: float64"
      ]
     },
     "execution_count": 10,
     "metadata": {},
     "output_type": "execute_result"
    }
   ],
   "source": [
    "notas_parcial = {\"Ana\": 8, \"Pedro\": 7, \"Laura\": 9, \"Martín\": 8.5}\n",
    "s3 = pd.Series(notas_parcial, name=\"Nota\")\n",
    "s3"
   ]
  },
  {
   "cell_type": "markdown",
   "metadata": {},
   "source": [
    "Además, aprovechamos y le agregamos un nombre a nuestra Serie con el argumento **name**, este nombre va ser el nombre de la columna en caso de convertir la Serie en una \"tabla\" o DataFrame (spoiler alert!)."
   ]
  },
  {
   "cell_type": "code",
   "execution_count": 11,
   "metadata": {},
   "outputs": [
    {
     "data": {
      "text/html": [
       "<div>\n",
       "<style scoped>\n",
       "    .dataframe tbody tr th:only-of-type {\n",
       "        vertical-align: middle;\n",
       "    }\n",
       "\n",
       "    .dataframe tbody tr th {\n",
       "        vertical-align: top;\n",
       "    }\n",
       "\n",
       "    .dataframe thead th {\n",
       "        text-align: right;\n",
       "    }\n",
       "</style>\n",
       "<table border=\"1\" class=\"dataframe\">\n",
       "  <thead>\n",
       "    <tr style=\"text-align: right;\">\n",
       "      <th></th>\n",
       "      <th>Nota</th>\n",
       "    </tr>\n",
       "  </thead>\n",
       "  <tbody>\n",
       "    <tr>\n",
       "      <th>Ana</th>\n",
       "      <td>8.0</td>\n",
       "    </tr>\n",
       "    <tr>\n",
       "      <th>Pedro</th>\n",
       "      <td>7.0</td>\n",
       "    </tr>\n",
       "    <tr>\n",
       "      <th>Laura</th>\n",
       "      <td>9.0</td>\n",
       "    </tr>\n",
       "    <tr>\n",
       "      <th>Martín</th>\n",
       "      <td>8.5</td>\n",
       "    </tr>\n",
       "  </tbody>\n",
       "</table>\n",
       "</div>"
      ],
      "text/plain": [
       "        Nota\n",
       "Ana      8.0\n",
       "Pedro    7.0\n",
       "Laura    9.0\n",
       "Martín   8.5"
      ]
     },
     "execution_count": 11,
     "metadata": {},
     "output_type": "execute_result"
    }
   ],
   "source": [
    "df = pd.DataFrame(s3)\n",
    "df"
   ]
  },
  {
   "cell_type": "markdown",
   "metadata": {},
   "source": [
    "Antes de pasar a los dataframes, veámos algunos conceptos restantes de las series que también aplican a los dataframes. Recordemos a la que le habíamos cambiado el índice para que se incremente de 5 en 5.\n",
    "\n",
    "#### reset_index"
   ]
  },
  {
   "cell_type": "code",
   "execution_count": 12,
   "metadata": {},
   "outputs": [
    {
     "data": {
      "text/plain": [
       "5     1.0\n",
       "10    3.0\n",
       "15    5.0\n",
       "20    NaN\n",
       "25    6.0\n",
       "30    8.0\n",
       "dtype: float64"
      ]
     },
     "execution_count": 12,
     "metadata": {},
     "output_type": "execute_result"
    }
   ],
   "source": [
    "s1"
   ]
  },
  {
   "cell_type": "markdown",
   "metadata": {},
   "source": [
    "Si nosotros quisiéramos volver al índice original, deberíamos usar reset_index()"
   ]
  },
  {
   "cell_type": "code",
   "execution_count": 13,
   "metadata": {},
   "outputs": [
    {
     "data": {
      "text/html": [
       "<div>\n",
       "<style scoped>\n",
       "    .dataframe tbody tr th:only-of-type {\n",
       "        vertical-align: middle;\n",
       "    }\n",
       "\n",
       "    .dataframe tbody tr th {\n",
       "        vertical-align: top;\n",
       "    }\n",
       "\n",
       "    .dataframe thead th {\n",
       "        text-align: right;\n",
       "    }\n",
       "</style>\n",
       "<table border=\"1\" class=\"dataframe\">\n",
       "  <thead>\n",
       "    <tr style=\"text-align: right;\">\n",
       "      <th></th>\n",
       "      <th>index</th>\n",
       "      <th>0</th>\n",
       "    </tr>\n",
       "  </thead>\n",
       "  <tbody>\n",
       "    <tr>\n",
       "      <th>0</th>\n",
       "      <td>5</td>\n",
       "      <td>1.0</td>\n",
       "    </tr>\n",
       "    <tr>\n",
       "      <th>1</th>\n",
       "      <td>10</td>\n",
       "      <td>3.0</td>\n",
       "    </tr>\n",
       "    <tr>\n",
       "      <th>2</th>\n",
       "      <td>15</td>\n",
       "      <td>5.0</td>\n",
       "    </tr>\n",
       "    <tr>\n",
       "      <th>3</th>\n",
       "      <td>20</td>\n",
       "      <td>NaN</td>\n",
       "    </tr>\n",
       "    <tr>\n",
       "      <th>4</th>\n",
       "      <td>25</td>\n",
       "      <td>6.0</td>\n",
       "    </tr>\n",
       "    <tr>\n",
       "      <th>5</th>\n",
       "      <td>30</td>\n",
       "      <td>8.0</td>\n",
       "    </tr>\n",
       "  </tbody>\n",
       "</table>\n",
       "</div>"
      ],
      "text/plain": [
       "   index    0\n",
       "0      5  1.0\n",
       "1     10  3.0\n",
       "2     15  5.0\n",
       "3     20  NaN\n",
       "4     25  6.0\n",
       "5     30  8.0"
      ]
     },
     "execution_count": 13,
     "metadata": {},
     "output_type": "execute_result"
    }
   ],
   "source": [
    "s1.reset_index()"
   ]
  },
  {
   "cell_type": "code",
   "execution_count": 14,
   "metadata": {},
   "outputs": [
    {
     "data": {
      "text/plain": [
       "pandas.core.frame.DataFrame"
      ]
     },
     "execution_count": 14,
     "metadata": {},
     "output_type": "execute_result"
    }
   ],
   "source": [
    "type(s1.reset_index())"
   ]
  },
  {
   "cell_type": "markdown",
   "metadata": {},
   "source": [
    "¿Por qué Pandas convirtió nuestra serie en un dataframe? Recordemos que las series son unidimensionales, por lo tanto solo pueden tener una sola columna. Pandas creó un nuevo índice pero a nuestro viejo índice lo convirtió en la columna \"index\" y esto es importante porque Pandas evitó que perdiéramos datos. En este ejemplo resulta abstracto, pero en el caso de las Notas (s3), si Pandas no preservara el índice original, hubiéramos perdido el nombre de los alumnos.\n",
    "\n",
    "Si no nos interesa conservar el índice anterior o queremos evitar que Pandas convierta la serie en un dataframe utilizamos el argumento drop en True. "
   ]
  },
  {
   "cell_type": "code",
   "execution_count": 15,
   "metadata": {},
   "outputs": [
    {
     "data": {
      "text/plain": [
       "0    8.0\n",
       "1    7.0\n",
       "2    9.0\n",
       "3    8.5\n",
       "Name: Nota, dtype: float64"
      ]
     },
     "execution_count": 15,
     "metadata": {},
     "output_type": "execute_result"
    }
   ],
   "source": [
    "#Notas\n",
    "s3.reset_index(drop=True)"
   ]
  },
  {
   "cell_type": "markdown",
   "metadata": {},
   "source": [
    "#### Inplace\n",
    "\n",
    "Nosotros podemos resetear el índice de dos maneras:\n",
    "\n",
    "1. **Redefiniendo el objeto:** \"pisándolo\" con uno nuevo.\n",
    "2. **Sobre el mismo objeto:** (inplace=True).\n",
    "\n",
    "Veamos cómo hacerlo de las dos formas."
   ]
  },
  {
   "cell_type": "code",
   "execution_count": 16,
   "metadata": {},
   "outputs": [
    {
     "data": {
      "text/plain": [
       "1001    100\n",
       "1002    110\n",
       "1003    120\n",
       "1004    110\n",
       "dtype: int64"
      ]
     },
     "execution_count": 16,
     "metadata": {},
     "output_type": "execute_result"
    }
   ],
   "source": [
    "#1) Redefiniendo el objeto\n",
    "#Creamos una serie para resetearle el índice\n",
    "s4 = pd.Series([100,110,120,110], index=[1001,1002,1003,1004])\n",
    "s4"
   ]
  },
  {
   "cell_type": "code",
   "execution_count": 17,
   "metadata": {},
   "outputs": [
    {
     "data": {
      "text/plain": [
       "0    100\n",
       "1    110\n",
       "2    120\n",
       "3    110\n",
       "dtype: int64"
      ]
     },
     "execution_count": 17,
     "metadata": {},
     "output_type": "execute_result"
    }
   ],
   "source": [
    "#Reseteamos el índice descartando el índice anterior (drop=True)\n",
    "s4= s4.reset_index(drop=True)\n",
    "s4"
   ]
  },
  {
   "cell_type": "markdown",
   "metadata": {},
   "source": [
    "**Lo que hicimos fue redefinir el objeto s4 indicándole que será igual al objeto s4 pero con el índice reseteado.**\n",
    "\n",
    "Ahora probemos hacerlo de la segunda manera:"
   ]
  },
  {
   "cell_type": "code",
   "execution_count": 18,
   "metadata": {},
   "outputs": [
    {
     "data": {
      "text/plain": [
       "1001    100.0\n",
       "1002    110.0\n",
       "1003    120.0\n",
       "1004    110.0\n",
       "1005      NaN\n",
       "dtype: float64"
      ]
     },
     "execution_count": 18,
     "metadata": {},
     "output_type": "execute_result"
    }
   ],
   "source": [
    "#2) Sobre el mismo objeto:\n",
    "\n",
    "#Creamos una serie para resetearle el índice\n",
    "s5 = pd.Series([100,110,120,110,np.nan], index=[1001,1002,1003,1004,1005])\n",
    "s5"
   ]
  },
  {
   "cell_type": "code",
   "execution_count": 19,
   "metadata": {},
   "outputs": [
    {
     "data": {
      "text/plain": [
       "0    100.0\n",
       "1    110.0\n",
       "2    120.0\n",
       "3    110.0\n",
       "4      NaN\n",
       "dtype: float64"
      ]
     },
     "execution_count": 19,
     "metadata": {},
     "output_type": "execute_result"
    }
   ],
   "source": [
    "#Reseteamos el índice sin guardar el índice anterior (drop=True)\n",
    "s5.reset_index(inplace= True, drop=True)\n",
    "s5"
   ]
  },
  {
   "cell_type": "markdown",
   "metadata": {},
   "source": [
    "**En este caso, al utilizar el argumento inplace en True, no tuvimos necesidad de definir nuevamente el objeto (s5 = ...)**"
   ]
  },
  {
   "cell_type": "markdown",
   "metadata": {},
   "source": [
    "#### value_counts\n",
    "Con el método value_counts() podemos obtener la distribución de frecuencias de una serie, por defecto omite los valores nan.\n",
    "\n",
    "* **ascending= True:** Ordena de menor a mayor.\n",
    "* **normalize= True:** Expresa los resultados al tanto por uno.\n",
    "* **dropna= True:** Omite los nan."
   ]
  },
  {
   "cell_type": "code",
   "execution_count": 20,
   "metadata": {},
   "outputs": [
    {
     "data": {
      "text/plain": [
       "110.0    2\n",
       "100.0    1\n",
       "120.0    1\n",
       "dtype: int64"
      ]
     },
     "execution_count": 20,
     "metadata": {},
     "output_type": "execute_result"
    }
   ],
   "source": [
    "s5.value_counts()"
   ]
  },
  {
   "cell_type": "code",
   "execution_count": 21,
   "metadata": {},
   "outputs": [
    {
     "data": {
      "text/plain": [
       "100.0    0.2\n",
       "120.0    0.2\n",
       "NaN      0.2\n",
       "110.0    0.4\n",
       "dtype: float64"
      ]
     },
     "execution_count": 21,
     "metadata": {},
     "output_type": "execute_result"
    }
   ],
   "source": [
    "s5.value_counts(ascending=True, normalize=True, dropna=False)"
   ]
  },
  {
   "cell_type": "markdown",
   "metadata": {},
   "source": [
    "### DataFrames\n",
    "\n",
    "Un DataFrame es una estructura de datos indexada bidimensional con columnas de tipos potencialmente diferentes. Puede pensarse como una tabla en un hoja de cálculo, una tabla de una base de datos SQL, o un diccionario de objetos.\n",
    "\n",
    "Podemos construir dataframes a partir de listas anidadas, tuplas anidadas, arrays, diccionarios, series o a través de la lectura de archivos.\n",
    "\n",
    "Cada columna del dataframe puede ser te un tipo distinto, más adelante veremos esto."
   ]
  },
  {
   "cell_type": "markdown",
   "metadata": {},
   "source": [
    "* **Desde listas anidadas:**\n",
    "\n",
    "Cada una de las listas anidadas, será una fila de nuestro dataframe. La cantidad de elementos que contengan nuestras listas determinará la cantidad de columnas. En nuestro caso, nuestra primera lista anidada tiene solo tres elementos, pero las restantes contienen cuatro, por ello la primer fila se completa automáticamente con un valor NaN."
   ]
  },
  {
   "cell_type": "code",
   "execution_count": 22,
   "metadata": {},
   "outputs": [
    {
     "data": {
      "text/plain": [
       "[[0, 1, 2], [3, 4, 5, 6], [7, 8, 9, nan]]"
      ]
     },
     "execution_count": 22,
     "metadata": {},
     "output_type": "execute_result"
    }
   ],
   "source": [
    "Lista_anidada = [[0,1,2] , [3,4,5,6] , [7,8,9,np.nan]]\n",
    "Lista_anidada"
   ]
  },
  {
   "cell_type": "code",
   "execution_count": 23,
   "metadata": {},
   "outputs": [
    {
     "data": {
      "text/html": [
       "<div>\n",
       "<style scoped>\n",
       "    .dataframe tbody tr th:only-of-type {\n",
       "        vertical-align: middle;\n",
       "    }\n",
       "\n",
       "    .dataframe tbody tr th {\n",
       "        vertical-align: top;\n",
       "    }\n",
       "\n",
       "    .dataframe thead th {\n",
       "        text-align: right;\n",
       "    }\n",
       "</style>\n",
       "<table border=\"1\" class=\"dataframe\">\n",
       "  <thead>\n",
       "    <tr style=\"text-align: right;\">\n",
       "      <th></th>\n",
       "      <th>0</th>\n",
       "      <th>1</th>\n",
       "      <th>2</th>\n",
       "      <th>3</th>\n",
       "    </tr>\n",
       "  </thead>\n",
       "  <tbody>\n",
       "    <tr>\n",
       "      <th>0</th>\n",
       "      <td>0</td>\n",
       "      <td>1</td>\n",
       "      <td>2</td>\n",
       "      <td>NaN</td>\n",
       "    </tr>\n",
       "    <tr>\n",
       "      <th>1</th>\n",
       "      <td>3</td>\n",
       "      <td>4</td>\n",
       "      <td>5</td>\n",
       "      <td>6.0</td>\n",
       "    </tr>\n",
       "    <tr>\n",
       "      <th>2</th>\n",
       "      <td>7</td>\n",
       "      <td>8</td>\n",
       "      <td>9</td>\n",
       "      <td>NaN</td>\n",
       "    </tr>\n",
       "  </tbody>\n",
       "</table>\n",
       "</div>"
      ],
      "text/plain": [
       "   0  1  2    3\n",
       "0  0  1  2  NaN\n",
       "1  3  4  5  6.0\n",
       "2  7  8  9  NaN"
      ]
     },
     "execution_count": 23,
     "metadata": {},
     "output_type": "execute_result"
    }
   ],
   "source": [
    "pd.DataFrame(Lista_anidada)"
   ]
  },
  {
   "cell_type": "markdown",
   "metadata": {},
   "source": [
    "Pero nuestro dataframe todavía es muy poco legible, si no asignamos un nombre a priori, los nombres de las columnas estarán dados por números que, como todo en Python empiezan en cero. Empecemos bien y creemos un dataframe con nombres claros."
   ]
  },
  {
   "cell_type": "code",
   "execution_count": 24,
   "metadata": {},
   "outputs": [
    {
     "data": {
      "text/html": [
       "<div>\n",
       "<style scoped>\n",
       "    .dataframe tbody tr th:only-of-type {\n",
       "        vertical-align: middle;\n",
       "    }\n",
       "\n",
       "    .dataframe tbody tr th {\n",
       "        vertical-align: top;\n",
       "    }\n",
       "\n",
       "    .dataframe thead th {\n",
       "        text-align: right;\n",
       "    }\n",
       "</style>\n",
       "<table border=\"1\" class=\"dataframe\">\n",
       "  <thead>\n",
       "    <tr style=\"text-align: right;\">\n",
       "      <th></th>\n",
       "      <th>Columna_A</th>\n",
       "      <th>Columna_B</th>\n",
       "      <th>Columna_C</th>\n",
       "      <th>Columna_D</th>\n",
       "    </tr>\n",
       "  </thead>\n",
       "  <tbody>\n",
       "    <tr>\n",
       "      <th>0</th>\n",
       "      <td>0</td>\n",
       "      <td>1</td>\n",
       "      <td>2</td>\n",
       "      <td>NaN</td>\n",
       "    </tr>\n",
       "    <tr>\n",
       "      <th>1</th>\n",
       "      <td>3</td>\n",
       "      <td>4</td>\n",
       "      <td>5</td>\n",
       "      <td>6.0</td>\n",
       "    </tr>\n",
       "    <tr>\n",
       "      <th>2</th>\n",
       "      <td>7</td>\n",
       "      <td>8</td>\n",
       "      <td>9</td>\n",
       "      <td>NaN</td>\n",
       "    </tr>\n",
       "  </tbody>\n",
       "</table>\n",
       "</div>"
      ],
      "text/plain": [
       "   Columna_A  Columna_B  Columna_C  Columna_D\n",
       "0          0          1          2        NaN\n",
       "1          3          4          5        6.0\n",
       "2          7          8          9        NaN"
      ]
     },
     "execution_count": 24,
     "metadata": {},
     "output_type": "execute_result"
    }
   ],
   "source": [
    "df1 = pd.DataFrame(Lista_anidada,\n",
    "                   columns=[\"Columna_A\", \"Columna_B\", \"Columna_C\",\"Columna_D\"])\n",
    "df1"
   ]
  },
  {
   "cell_type": "markdown",
   "metadata": {},
   "source": [
    "Al igual que en las series, también podemos personalizar los índices al crear el dataframe pasando los nombres de las columnas como una lista."
   ]
  },
  {
   "cell_type": "code",
   "execution_count": 25,
   "metadata": {},
   "outputs": [
    {
     "data": {
      "text/html": [
       "<div>\n",
       "<style scoped>\n",
       "    .dataframe tbody tr th:only-of-type {\n",
       "        vertical-align: middle;\n",
       "    }\n",
       "\n",
       "    .dataframe tbody tr th {\n",
       "        vertical-align: top;\n",
       "    }\n",
       "\n",
       "    .dataframe thead th {\n",
       "        text-align: right;\n",
       "    }\n",
       "</style>\n",
       "<table border=\"1\" class=\"dataframe\">\n",
       "  <thead>\n",
       "    <tr style=\"text-align: right;\">\n",
       "      <th></th>\n",
       "      <th>Columna_A</th>\n",
       "      <th>Columna_B</th>\n",
       "      <th>Columna_C</th>\n",
       "      <th>Columna_D</th>\n",
       "    </tr>\n",
       "  </thead>\n",
       "  <tbody>\n",
       "    <tr>\n",
       "      <th>ID_1</th>\n",
       "      <td>0</td>\n",
       "      <td>1</td>\n",
       "      <td>2</td>\n",
       "      <td>NaN</td>\n",
       "    </tr>\n",
       "    <tr>\n",
       "      <th>ID_2</th>\n",
       "      <td>3</td>\n",
       "      <td>4</td>\n",
       "      <td>5</td>\n",
       "      <td>6.0</td>\n",
       "    </tr>\n",
       "    <tr>\n",
       "      <th>ID_3</th>\n",
       "      <td>7</td>\n",
       "      <td>8</td>\n",
       "      <td>9</td>\n",
       "      <td>NaN</td>\n",
       "    </tr>\n",
       "  </tbody>\n",
       "</table>\n",
       "</div>"
      ],
      "text/plain": [
       "      Columna_A  Columna_B  Columna_C  Columna_D\n",
       "ID_1          0          1          2        NaN\n",
       "ID_2          3          4          5        6.0\n",
       "ID_3          7          8          9        NaN"
      ]
     },
     "execution_count": 25,
     "metadata": {},
     "output_type": "execute_result"
    }
   ],
   "source": [
    "df1 = pd.DataFrame(Lista_anidada,\n",
    "                   columns=[\"Columna_A\", \"Columna_B\", \"Columna_C\",\"Columna_D\"],\n",
    "                  index= [\"ID_1\",\"ID_2\",\"ID_3\"])\n",
    "df1"
   ]
  },
  {
   "cell_type": "markdown",
   "metadata": {},
   "source": [
    "* **Desde tuplas anidadas:**"
   ]
  },
  {
   "cell_type": "code",
   "execution_count": 26,
   "metadata": {},
   "outputs": [
    {
     "data": {
      "text/plain": [
       "((0, 1, 2), (3, 4, 5, 6), (7, 8, 9, nan))"
      ]
     },
     "execution_count": 26,
     "metadata": {},
     "output_type": "execute_result"
    }
   ],
   "source": [
    "Tupla_anidada = ((0,1,2),(3,4,5,6),(7,8,9,np.nan))\n",
    "Tupla_anidada"
   ]
  },
  {
   "cell_type": "code",
   "execution_count": 27,
   "metadata": {},
   "outputs": [
    {
     "data": {
      "text/html": [
       "<div>\n",
       "<style scoped>\n",
       "    .dataframe tbody tr th:only-of-type {\n",
       "        vertical-align: middle;\n",
       "    }\n",
       "\n",
       "    .dataframe tbody tr th {\n",
       "        vertical-align: top;\n",
       "    }\n",
       "\n",
       "    .dataframe thead th {\n",
       "        text-align: right;\n",
       "    }\n",
       "</style>\n",
       "<table border=\"1\" class=\"dataframe\">\n",
       "  <thead>\n",
       "    <tr style=\"text-align: right;\">\n",
       "      <th></th>\n",
       "      <th>Columna_A</th>\n",
       "      <th>Columna_B</th>\n",
       "      <th>Columna_C</th>\n",
       "      <th>Columna_D</th>\n",
       "    </tr>\n",
       "  </thead>\n",
       "  <tbody>\n",
       "    <tr>\n",
       "      <th>ID_1</th>\n",
       "      <td>0</td>\n",
       "      <td>1</td>\n",
       "      <td>2</td>\n",
       "      <td>NaN</td>\n",
       "    </tr>\n",
       "    <tr>\n",
       "      <th>ID_2</th>\n",
       "      <td>3</td>\n",
       "      <td>4</td>\n",
       "      <td>5</td>\n",
       "      <td>6.0</td>\n",
       "    </tr>\n",
       "    <tr>\n",
       "      <th>ID_3</th>\n",
       "      <td>7</td>\n",
       "      <td>8</td>\n",
       "      <td>9</td>\n",
       "      <td>NaN</td>\n",
       "    </tr>\n",
       "  </tbody>\n",
       "</table>\n",
       "</div>"
      ],
      "text/plain": [
       "      Columna_A  Columna_B  Columna_C  Columna_D\n",
       "ID_1          0          1          2        NaN\n",
       "ID_2          3          4          5        6.0\n",
       "ID_3          7          8          9        NaN"
      ]
     },
     "execution_count": 27,
     "metadata": {},
     "output_type": "execute_result"
    }
   ],
   "source": [
    "df2 = pd.DataFrame(Tupla_anidada,\n",
    "                   columns=[\"Columna_A\", \"Columna_B\", \"Columna_C\",\"Columna_D\"],\n",
    "                  index= [\"ID_1\",\"ID_2\",\"ID_3\"])\n",
    "df2"
   ]
  },
  {
   "cell_type": "markdown",
   "metadata": {},
   "source": [
    "El ejemplo anterior es bastante trivial, por eso utilizamos tuplas anidades en tuplas, lo más probable es que si nos encontramos con un script que convierte tuplas anidadas en un dataframe, estas estén anidadas en una lista ***[(x1,y1,z1),(x2,y2,z2)]*** en lugar de una tupla ya que las tuplas son elementos inmutables."
   ]
  },
  {
   "cell_type": "markdown",
   "metadata": {},
   "source": [
    "* **Desde diccionario:** \n",
    "\n",
    "En este caso, en cada clave definimos las columnas y en sus valores se encontrarán dentro de listas.\n",
    "\n",
    "Diccionario = {\"Clave: valor}\n",
    "\n",
    "DataFrame desde diccionario = {\"Columna\": [cada,valor,de,la,columna]}\n",
    "\n",
    "**Tener en cuenta que cuando creamos un dataframe desde un diccionario, cada lista que contenga los elementos debe tener la misma longitud.**"
   ]
  },
  {
   "cell_type": "code",
   "execution_count": 28,
   "metadata": {},
   "outputs": [
    {
     "data": {
      "text/html": [
       "<div>\n",
       "<style scoped>\n",
       "    .dataframe tbody tr th:only-of-type {\n",
       "        vertical-align: middle;\n",
       "    }\n",
       "\n",
       "    .dataframe tbody tr th {\n",
       "        vertical-align: top;\n",
       "    }\n",
       "\n",
       "    .dataframe thead th {\n",
       "        text-align: right;\n",
       "    }\n",
       "</style>\n",
       "<table border=\"1\" class=\"dataframe\">\n",
       "  <thead>\n",
       "    <tr style=\"text-align: right;\">\n",
       "      <th></th>\n",
       "      <th>Columna_A</th>\n",
       "      <th>Columna_B</th>\n",
       "      <th>Columna_C</th>\n",
       "      <th>Columna_D</th>\n",
       "    </tr>\n",
       "  </thead>\n",
       "  <tbody>\n",
       "    <tr>\n",
       "      <th>0</th>\n",
       "      <td>0</td>\n",
       "      <td>1</td>\n",
       "      <td>2</td>\n",
       "      <td>NaN</td>\n",
       "    </tr>\n",
       "    <tr>\n",
       "      <th>1</th>\n",
       "      <td>3</td>\n",
       "      <td>4</td>\n",
       "      <td>5</td>\n",
       "      <td>6.0</td>\n",
       "    </tr>\n",
       "    <tr>\n",
       "      <th>2</th>\n",
       "      <td>7</td>\n",
       "      <td>8</td>\n",
       "      <td>9</td>\n",
       "      <td>NaN</td>\n",
       "    </tr>\n",
       "  </tbody>\n",
       "</table>\n",
       "</div>"
      ],
      "text/plain": [
       "   Columna_A  Columna_B  Columna_C  Columna_D\n",
       "0          0          1          2        NaN\n",
       "1          3          4          5        6.0\n",
       "2          7          8          9        NaN"
      ]
     },
     "execution_count": 28,
     "metadata": {},
     "output_type": "execute_result"
    }
   ],
   "source": [
    "pd.DataFrame({\"Columna_A\": [0,3,7],\n",
    "             \"Columna_B\": [1,4,8],\n",
    "             \"Columna_C\": [2,5,9],\n",
    "             \"Columna_D\": [np.nan,6,np.nan]\n",
    "             })"
   ]
  },
  {
   "cell_type": "code",
   "execution_count": 29,
   "metadata": {},
   "outputs": [
    {
     "data": {
      "text/html": [
       "<div>\n",
       "<style scoped>\n",
       "    .dataframe tbody tr th:only-of-type {\n",
       "        vertical-align: middle;\n",
       "    }\n",
       "\n",
       "    .dataframe tbody tr th {\n",
       "        vertical-align: top;\n",
       "    }\n",
       "\n",
       "    .dataframe thead th {\n",
       "        text-align: right;\n",
       "    }\n",
       "</style>\n",
       "<table border=\"1\" class=\"dataframe\">\n",
       "  <thead>\n",
       "    <tr style=\"text-align: right;\">\n",
       "      <th></th>\n",
       "      <th>Columna_A</th>\n",
       "      <th>Columna_B</th>\n",
       "      <th>Columna_C</th>\n",
       "      <th>Columna_D</th>\n",
       "    </tr>\n",
       "  </thead>\n",
       "  <tbody>\n",
       "    <tr>\n",
       "      <th>0</th>\n",
       "      <td>0.0</td>\n",
       "      <td>1.0</td>\n",
       "      <td>2.0</td>\n",
       "      <td>NaN</td>\n",
       "    </tr>\n",
       "    <tr>\n",
       "      <th>1</th>\n",
       "      <td>3.0</td>\n",
       "      <td>4.0</td>\n",
       "      <td>5.0</td>\n",
       "      <td>6.0</td>\n",
       "    </tr>\n",
       "    <tr>\n",
       "      <th>2</th>\n",
       "      <td>7.0</td>\n",
       "      <td>8.0</td>\n",
       "      <td>9.0</td>\n",
       "      <td>NaN</td>\n",
       "    </tr>\n",
       "  </tbody>\n",
       "</table>\n",
       "</div>"
      ],
      "text/plain": [
       "   Columna_A  Columna_B  Columna_C  Columna_D\n",
       "0        0.0        1.0        2.0        NaN\n",
       "1        3.0        4.0        5.0        6.0\n",
       "2        7.0        8.0        9.0        NaN"
      ]
     },
     "execution_count": 29,
     "metadata": {},
     "output_type": "execute_result"
    }
   ],
   "source": [
    "array = np.array([[0,1,2,np.nan],[3,4,5,6],[7,8,9,np.nan]])\n",
    "pd.DataFrame(array, columns=[\"Columna_A\", \"Columna_B\", \"Columna_C\",\"Columna_D\"])"
   ]
  },
  {
   "cell_type": "markdown",
   "metadata": {},
   "source": [
    "#### Tipos de datos"
   ]
  },
  {
   "cell_type": "markdown",
   "metadata": {},
   "source": [
    "\n",
    "| Pandas dtype     | Python type     | NumPy type     | Usage|\n",
    "|-----------------|:---------------------:|:---------------------:|:---------------------:|\n",
    "| object     | str     | string_, unicode_     | Text|\n",
    "| int64     | int     | int_, int8, int16, int32, int64, uint8, uint16, uint32, uint64     | Integer numbers|\n",
    "| float64     | float     | float_, float16, float32, float64     | Floating point numbers|\n",
    "| bool     | bool     | bool_     | True/False values|\n",
    "| datetime64     | NA     | datetime64[ns]     | Date and time values|\n",
    "| timedelta[ns]     | NA     | NA     | Differences between two datetimes|\n",
    "| category     | NA     | NA     | Finite list of text values |\n",
    "\n",
    "**Recuerden que cada columna de puede contener datos de distinto tipo.**\n",
    "\n",
    "Por ejemplo:"
   ]
  },
  {
   "cell_type": "code",
   "execution_count": 30,
   "metadata": {},
   "outputs": [
    {
     "data": {
      "text/html": [
       "<div>\n",
       "<style scoped>\n",
       "    .dataframe tbody tr th:only-of-type {\n",
       "        vertical-align: middle;\n",
       "    }\n",
       "\n",
       "    .dataframe tbody tr th {\n",
       "        vertical-align: top;\n",
       "    }\n",
       "\n",
       "    .dataframe thead th {\n",
       "        text-align: right;\n",
       "    }\n",
       "</style>\n",
       "<table border=\"1\" class=\"dataframe\">\n",
       "  <thead>\n",
       "    <tr style=\"text-align: right;\">\n",
       "      <th></th>\n",
       "      <th>A</th>\n",
       "      <th>B</th>\n",
       "      <th>C</th>\n",
       "      <th>D</th>\n",
       "      <th>E</th>\n",
       "      <th>F</th>\n",
       "      <th>G</th>\n",
       "    </tr>\n",
       "  </thead>\n",
       "  <tbody>\n",
       "    <tr>\n",
       "      <th>0</th>\n",
       "      <td>1.0</td>\n",
       "      <td>2021-08-10</td>\n",
       "      <td>1.0</td>\n",
       "      <td>3</td>\n",
       "      <td>test</td>\n",
       "      <td>foo</td>\n",
       "      <td>1</td>\n",
       "    </tr>\n",
       "    <tr>\n",
       "      <th>1</th>\n",
       "      <td>1.0</td>\n",
       "      <td>2021-08-10</td>\n",
       "      <td>1.0</td>\n",
       "      <td>3</td>\n",
       "      <td>train</td>\n",
       "      <td>foo</td>\n",
       "      <td>2</td>\n",
       "    </tr>\n",
       "    <tr>\n",
       "      <th>2</th>\n",
       "      <td>1.0</td>\n",
       "      <td>2021-08-10</td>\n",
       "      <td>1.0</td>\n",
       "      <td>3</td>\n",
       "      <td>test</td>\n",
       "      <td>foo</td>\n",
       "      <td>1</td>\n",
       "    </tr>\n",
       "    <tr>\n",
       "      <th>3</th>\n",
       "      <td>1.0</td>\n",
       "      <td>2021-08-10</td>\n",
       "      <td>1.0</td>\n",
       "      <td>3</td>\n",
       "      <td>train</td>\n",
       "      <td>foo</td>\n",
       "      <td>2</td>\n",
       "    </tr>\n",
       "  </tbody>\n",
       "</table>\n",
       "</div>"
      ],
      "text/plain": [
       "     A          B    C  D      E    F  G\n",
       "0  1.0 2021-08-10  1.0  3   test  foo  1\n",
       "1  1.0 2021-08-10  1.0  3  train  foo  2\n",
       "2  1.0 2021-08-10  1.0  3   test  foo  1\n",
       "3  1.0 2021-08-10  1.0  3  train  foo  2"
      ]
     },
     "execution_count": 30,
     "metadata": {},
     "output_type": "execute_result"
    }
   ],
   "source": [
    "df3 = pd.DataFrame({\n",
    "    'A': 1.,\n",
    "    'B': pd.Timestamp('20210810'),\n",
    "    'C': pd.Series(1, index=list(range(4)), dtype='float32'),\n",
    "    'D': np.array([3] * 4, dtype='int32'),\n",
    "    'E': pd.Categorical([\"test\", \"train\", \"test\", \"train\"]),\n",
    "    'F': 'foo',\n",
    "    'G': [1,2,1,2]\n",
    "})\n",
    "df3"
   ]
  },
  {
   "cell_type": "markdown",
   "metadata": {},
   "source": [
    "Inspeccionemos los tipos de nuestras columnas:"
   ]
  },
  {
   "cell_type": "code",
   "execution_count": 31,
   "metadata": {},
   "outputs": [
    {
     "data": {
      "text/plain": [
       "A           float64\n",
       "B    datetime64[ns]\n",
       "C           float32\n",
       "D             int32\n",
       "E          category\n",
       "F            object\n",
       "G             int64\n",
       "dtype: object"
      ]
     },
     "execution_count": 31,
     "metadata": {},
     "output_type": "execute_result"
    }
   ],
   "source": [
    "df3.dtypes"
   ]
  },
  {
   "cell_type": "markdown",
   "metadata": {},
   "source": [
    "En nuestro ejemplo, tenemos números fraccionarios y enteros con distinto nivel de precisión, fechas, una variable ordinal (category) y una de tipo object que contiene solo datos de tipo string. "
   ]
  },
  {
   "cell_type": "markdown",
   "metadata": {},
   "source": [
    "* **Importar datos desde archivos:**\n",
    "\n",
    "En nuestro caso vamos a estudiar cómo importar archivos con extensión .csv pero también es posible convertir a dataframe archivos .txt, .json, .xlsx, xls, etc. Invitamos a leer la documentación de Pandas para ampliar este tema.\n",
    "\n",
    "**¿Qué es un archivo .csv?**\n",
    "\n",
    "Los archivos con extensión .csv (*comma-separated values*) son archivos de texto plano cuyos valores se encuentran separados por un delimitador, por lo general una \",\".\n",
    "\n",
    "Si abrimos un archivo csv en un bloc de notas veremos algo así:\n",
    "\n",
    "*make,price,mpg,rep78,headroom,trunk,weight,length,turn,displacement,gear_ratio,foreign\n",
    "AMC Concord,4099,22,3,2.5,11,2930,186,40,121,3.5799999,Domestic\n",
    "AMC Pacer,4749,17,3,3,11,3350,173,40,258,2.53,Domestic\n",
    "AMC Spirit,3799,22,,3,12,2640,168,35,121,3.0799999,Domestic\n",
    "Buick Century,4816,20,3,4.5,16,3250,196,40,196,2.9300001,Domestic*\n",
    "\n",
    "La primera fila representa el nombre de nuestras columnas (el header) y las restantes son las filas de nuestro dataframe. "
   ]
  },
  {
   "cell_type": "code",
   "execution_count": 32,
   "metadata": {},
   "outputs": [
    {
     "data": {
      "text/html": [
       "<div>\n",
       "<style scoped>\n",
       "    .dataframe tbody tr th:only-of-type {\n",
       "        vertical-align: middle;\n",
       "    }\n",
       "\n",
       "    .dataframe tbody tr th {\n",
       "        vertical-align: top;\n",
       "    }\n",
       "\n",
       "    .dataframe thead th {\n",
       "        text-align: right;\n",
       "    }\n",
       "</style>\n",
       "<table border=\"1\" class=\"dataframe\">\n",
       "  <thead>\n",
       "    <tr style=\"text-align: right;\">\n",
       "      <th></th>\n",
       "      <th>price</th>\n",
       "      <th>mpg</th>\n",
       "      <th>rep78</th>\n",
       "      <th>headroom</th>\n",
       "      <th>trunk</th>\n",
       "      <th>weight</th>\n",
       "      <th>length</th>\n",
       "      <th>turn</th>\n",
       "      <th>displacement</th>\n",
       "      <th>gear_ratio</th>\n",
       "      <th>foreig</th>\n",
       "    </tr>\n",
       "    <tr>\n",
       "      <th>make</th>\n",
       "      <th></th>\n",
       "      <th></th>\n",
       "      <th></th>\n",
       "      <th></th>\n",
       "      <th></th>\n",
       "      <th></th>\n",
       "      <th></th>\n",
       "      <th></th>\n",
       "      <th></th>\n",
       "      <th></th>\n",
       "      <th></th>\n",
       "    </tr>\n",
       "  </thead>\n",
       "  <tbody>\n",
       "    <tr>\n",
       "      <th>AMC Concord</th>\n",
       "      <td>4099</td>\n",
       "      <td>22</td>\n",
       "      <td>3.0</td>\n",
       "      <td>2.5</td>\n",
       "      <td>11</td>\n",
       "      <td>2930</td>\n",
       "      <td>186</td>\n",
       "      <td>40</td>\n",
       "      <td>121</td>\n",
       "      <td>3.58</td>\n",
       "      <td>Domestic</td>\n",
       "    </tr>\n",
       "    <tr>\n",
       "      <th>AMC Pacer</th>\n",
       "      <td>4749</td>\n",
       "      <td>17</td>\n",
       "      <td>3.0</td>\n",
       "      <td>3.0</td>\n",
       "      <td>11</td>\n",
       "      <td>3350</td>\n",
       "      <td>173</td>\n",
       "      <td>40</td>\n",
       "      <td>258</td>\n",
       "      <td>2.53</td>\n",
       "      <td>Domestic</td>\n",
       "    </tr>\n",
       "    <tr>\n",
       "      <th>AMC Spirit</th>\n",
       "      <td>3799</td>\n",
       "      <td>22</td>\n",
       "      <td>NaN</td>\n",
       "      <td>3.0</td>\n",
       "      <td>12</td>\n",
       "      <td>2640</td>\n",
       "      <td>168</td>\n",
       "      <td>35</td>\n",
       "      <td>121</td>\n",
       "      <td>3.08</td>\n",
       "      <td>Domestic</td>\n",
       "    </tr>\n",
       "    <tr>\n",
       "      <th>Buick Century</th>\n",
       "      <td>4816</td>\n",
       "      <td>20</td>\n",
       "      <td>3.0</td>\n",
       "      <td>4.5</td>\n",
       "      <td>16</td>\n",
       "      <td>3250</td>\n",
       "      <td>196</td>\n",
       "      <td>40</td>\n",
       "      <td>196</td>\n",
       "      <td>2.93</td>\n",
       "      <td>Domestic</td>\n",
       "    </tr>\n",
       "    <tr>\n",
       "      <th>Buick Electra</th>\n",
       "      <td>7827</td>\n",
       "      <td>15</td>\n",
       "      <td>4.0</td>\n",
       "      <td>4.0</td>\n",
       "      <td>20</td>\n",
       "      <td>4080</td>\n",
       "      <td>222</td>\n",
       "      <td>43</td>\n",
       "      <td>350</td>\n",
       "      <td>2.41</td>\n",
       "      <td>Domestic</td>\n",
       "    </tr>\n",
       "    <tr>\n",
       "      <th>...</th>\n",
       "      <td>...</td>\n",
       "      <td>...</td>\n",
       "      <td>...</td>\n",
       "      <td>...</td>\n",
       "      <td>...</td>\n",
       "      <td>...</td>\n",
       "      <td>...</td>\n",
       "      <td>...</td>\n",
       "      <td>...</td>\n",
       "      <td>...</td>\n",
       "      <td>...</td>\n",
       "    </tr>\n",
       "    <tr>\n",
       "      <th>VW Dasher</th>\n",
       "      <td>7140</td>\n",
       "      <td>23</td>\n",
       "      <td>4.0</td>\n",
       "      <td>2.5</td>\n",
       "      <td>12</td>\n",
       "      <td>2160</td>\n",
       "      <td>172</td>\n",
       "      <td>36</td>\n",
       "      <td>97</td>\n",
       "      <td>3.74</td>\n",
       "      <td>Foreign</td>\n",
       "    </tr>\n",
       "    <tr>\n",
       "      <th>VW Diesel</th>\n",
       "      <td>5397</td>\n",
       "      <td>41</td>\n",
       "      <td>5.0</td>\n",
       "      <td>3.0</td>\n",
       "      <td>15</td>\n",
       "      <td>2040</td>\n",
       "      <td>155</td>\n",
       "      <td>35</td>\n",
       "      <td>90</td>\n",
       "      <td>3.78</td>\n",
       "      <td>Foreign</td>\n",
       "    </tr>\n",
       "    <tr>\n",
       "      <th>VW Rabbit</th>\n",
       "      <td>4697</td>\n",
       "      <td>25</td>\n",
       "      <td>4.0</td>\n",
       "      <td>3.0</td>\n",
       "      <td>15</td>\n",
       "      <td>1930</td>\n",
       "      <td>155</td>\n",
       "      <td>35</td>\n",
       "      <td>89</td>\n",
       "      <td>3.78</td>\n",
       "      <td>Foreign</td>\n",
       "    </tr>\n",
       "    <tr>\n",
       "      <th>VW Scirocco</th>\n",
       "      <td>6850</td>\n",
       "      <td>25</td>\n",
       "      <td>4.0</td>\n",
       "      <td>2.0</td>\n",
       "      <td>16</td>\n",
       "      <td>1990</td>\n",
       "      <td>156</td>\n",
       "      <td>36</td>\n",
       "      <td>97</td>\n",
       "      <td>3.78</td>\n",
       "      <td>Foreign</td>\n",
       "    </tr>\n",
       "    <tr>\n",
       "      <th>Volvo 260</th>\n",
       "      <td>11995</td>\n",
       "      <td>17</td>\n",
       "      <td>5.0</td>\n",
       "      <td>2.5</td>\n",
       "      <td>14</td>\n",
       "      <td>3170</td>\n",
       "      <td>193</td>\n",
       "      <td>37</td>\n",
       "      <td>163</td>\n",
       "      <td>2.98</td>\n",
       "      <td>Foreign</td>\n",
       "    </tr>\n",
       "  </tbody>\n",
       "</table>\n",
       "<p>74 rows × 11 columns</p>\n",
       "</div>"
      ],
      "text/plain": [
       "               price  mpg  rep78  headroom  trunk  weight  length  turn  \\\n",
       "make                                                                      \n",
       "AMC Concord     4099   22    3.0       2.5     11    2930     186    40   \n",
       "AMC Pacer       4749   17    3.0       3.0     11    3350     173    40   \n",
       "AMC Spirit      3799   22    NaN       3.0     12    2640     168    35   \n",
       "Buick Century   4816   20    3.0       4.5     16    3250     196    40   \n",
       "Buick Electra   7827   15    4.0       4.0     20    4080     222    43   \n",
       "...              ...  ...    ...       ...    ...     ...     ...   ...   \n",
       "VW Dasher       7140   23    4.0       2.5     12    2160     172    36   \n",
       "VW Diesel       5397   41    5.0       3.0     15    2040     155    35   \n",
       "VW Rabbit       4697   25    4.0       3.0     15    1930     155    35   \n",
       "VW Scirocco     6850   25    4.0       2.0     16    1990     156    36   \n",
       "Volvo 260      11995   17    5.0       2.5     14    3170     193    37   \n",
       "\n",
       "               displacement  gear_ratio    foreig  \n",
       "make                                               \n",
       "AMC Concord             121        3.58  Domestic  \n",
       "AMC Pacer               258        2.53  Domestic  \n",
       "AMC Spirit              121        3.08  Domestic  \n",
       "Buick Century           196        2.93  Domestic  \n",
       "Buick Electra           350        2.41  Domestic  \n",
       "...                     ...         ...       ...  \n",
       "VW Dasher                97        3.74   Foreign  \n",
       "VW Diesel                90        3.78   Foreign  \n",
       "VW Rabbit                89        3.78   Foreign  \n",
       "VW Scirocco              97        3.78   Foreign  \n",
       "Volvo 260               163        2.98   Foreign  \n",
       "\n",
       "[74 rows x 11 columns]"
      ]
     },
     "execution_count": 32,
     "metadata": {},
     "output_type": "execute_result"
    }
   ],
   "source": [
    "df4 = pd.read_csv(\n",
    "    'data/auto.csv',     # file path\n",
    "    delimiter=',',       # delimitador ',',';','|','\\t'\n",
    "    header=0,            # número de fila como nombre de columna\n",
    "    names=None,          # nombre de las columnas (ojo con header)\n",
    "    index_col=0,         # que col es el índice\n",
    "    usecols=None,        # que col usar. Ej: [0, 1, 2], ['foo', 'bar', 'baz']\n",
    "    dtype=None,          # Tipo de col {'a': np.int32, 'b': str} \n",
    "    skiprows=None,       # saltear filas al inicio\n",
    "    skipfooter=0,        # saltear filas al final\n",
    "    nrows=None,          # n de filas a leer\n",
    "    decimal='.',         # separador de decimal. Ej: ',' para EU dat\n",
    "    quotechar='\"',       # char para reconocer str\n",
    "    #encoding=None,      # archivos con tilde y ñ por lo general utilizan \"utf-8\" etc \n",
    ")\n",
    "\n",
    "df4"
   ]
  },
  {
   "cell_type": "markdown",
   "metadata": {},
   "source": [
    "Si quisiésemos hacer el camino inverso y guardar el dataframe en csv..."
   ]
  },
  {
   "cell_type": "code",
   "execution_count": 33,
   "metadata": {},
   "outputs": [],
   "source": [
    "df4.to_csv(\"data/df4_a_csv.csv\",\n",
    "           index=False,       #Index false para que no guarde el índice como una columna\n",
    "          encoding= \"utf-8\")  #No es el caso pero si estuvíeramos usando un df en español"
   ]
  },
  {
   "cell_type": "markdown",
   "metadata": {},
   "source": [
    "Ahora revisemos un poco nuestro dataframe...\n",
    "\n",
    "**Descripción del índice:**"
   ]
  },
  {
   "cell_type": "code",
   "execution_count": 34,
   "metadata": {},
   "outputs": [
    {
     "data": {
      "text/plain": [
       "Index(['AMC Concord', 'AMC Pacer', 'AMC Spirit', 'Buick Century',\n",
       "       'Buick Electra', 'Buick LeSabre', 'Buick Opel', 'Buick Regal',\n",
       "       'Buick Riviera', 'Buick Skylark', 'Cad. Deville', 'Cad. Eldorado',\n",
       "       'Cad. Seville', 'Chev. Chevette', 'Chev. Impala', 'Chev. Malibu',\n",
       "       'Chev. Monte Carlo', 'Chev. Monza', 'Chev. Nova', 'Dodge Colt',\n",
       "       'Dodge Diplomat', 'Dodge Magnum', 'Dodge St. Regis', 'Ford Fiesta',\n",
       "       'Ford Mustang', 'Linc. Continental', 'Linc. Mark V', 'Linc. Versailles',\n",
       "       'Merc. Bobcat', 'Merc. Cougar', 'Merc. Marquis', 'Merc. Monarch',\n",
       "       'Merc. XR-7', 'Merc. Zephyr', 'Olds 98', 'Olds Cutl Supr',\n",
       "       'Olds Cutlass', 'Olds Delta 88', 'Olds Omega', 'Olds Starfire',\n",
       "       'Olds Toronado', 'Plym. Arrow', 'Plym. Champ', 'Plym. Horizon',\n",
       "       'Plym. Sapporo', 'Plym. Volare', 'Pont. Catalina', 'Pont. Firebird',\n",
       "       'Pont. Grand Prix', 'Pont. Le Mans', 'Pont. Phoenix', 'Pont. Sunbird',\n",
       "       'Audi 5000', 'Audi Fox', 'BMW 320i', 'Datsun 200', 'Datsun 210',\n",
       "       'Datsun 510', 'Datsun 810', 'Fiat Strada', 'Honda Accord',\n",
       "       'Honda Civic', 'Mazda GLC', 'Peugeot 604', 'Renault Le Car', 'Subaru',\n",
       "       'Toyota Celica', 'Toyota Corolla', 'Toyota Corona', 'VW Dasher',\n",
       "       'VW Diesel', 'VW Rabbit', 'VW Scirocco', 'Volvo 260'],\n",
       "      dtype='object', name='make')"
      ]
     },
     "execution_count": 34,
     "metadata": {},
     "output_type": "execute_result"
    }
   ],
   "source": [
    "df4.index"
   ]
  },
  {
   "cell_type": "markdown",
   "metadata": {},
   "source": [
    "**Nombres de las columnas:**\n",
    "\n",
    "Columns devuelve un array con los nombres de las columnas. Tenemos que tener en cuenta que el índice no es una columna, es una etiqueta para nuestras filas."
   ]
  },
  {
   "cell_type": "code",
   "execution_count": 35,
   "metadata": {},
   "outputs": [
    {
     "data": {
      "text/plain": [
       "Index(['price', 'mpg', 'rep78', 'headroom', 'trunk', 'weight', 'length',\n",
       "       'turn', 'displacement', 'gear_ratio', 'foreig'],\n",
       "      dtype='object')"
      ]
     },
     "execution_count": 35,
     "metadata": {},
     "output_type": "execute_result"
    }
   ],
   "source": [
    "df4.columns"
   ]
  },
  {
   "cell_type": "markdown",
   "metadata": {},
   "source": [
    "**Tipos de datos:**\n",
    "\n",
    "dtypes devuelve una serie con el tipo de de cada columna."
   ]
  },
  {
   "cell_type": "code",
   "execution_count": 36,
   "metadata": {},
   "outputs": [
    {
     "data": {
      "text/plain": [
       "price             int64\n",
       "mpg               int64\n",
       "rep78           float64\n",
       "headroom        float64\n",
       "trunk             int64\n",
       "weight            int64\n",
       "length            int64\n",
       "turn              int64\n",
       "displacement      int64\n",
       "gear_ratio      float64\n",
       "foreig           object\n",
       "dtype: object"
      ]
     },
     "execution_count": 36,
     "metadata": {},
     "output_type": "execute_result"
    }
   ],
   "source": [
    "df4.dtypes"
   ]
  },
  {
   "cell_type": "markdown",
   "metadata": {},
   "source": [
    "**Forma del dataframe:**\n",
    "\n",
    "Shape devuelve una tupla con la cantidad de filas y de columnas (filas, columnas)."
   ]
  },
  {
   "cell_type": "code",
   "execution_count": 37,
   "metadata": {},
   "outputs": [
    {
     "data": {
      "text/plain": [
       "(74, 11)"
      ]
     },
     "execution_count": 37,
     "metadata": {},
     "output_type": "execute_result"
    }
   ],
   "source": [
    "df4.shape"
   ]
  },
  {
   "cell_type": "markdown",
   "metadata": {},
   "source": [
    "También podemos descomponer la tupla para obtener la cantidad de filas o columnas individualmente:"
   ]
  },
  {
   "cell_type": "code",
   "execution_count": 38,
   "metadata": {},
   "outputs": [
    {
     "data": {
      "text/plain": [
       "74"
      ]
     },
     "execution_count": 38,
     "metadata": {},
     "output_type": "execute_result"
    }
   ],
   "source": [
    "df4.shape[0] #Filas"
   ]
  },
  {
   "cell_type": "code",
   "execution_count": 39,
   "metadata": {},
   "outputs": [
    {
     "data": {
      "text/plain": [
       "11"
      ]
     },
     "execution_count": 39,
     "metadata": {},
     "output_type": "execute_result"
    }
   ],
   "source": [
    "df4.shape[1] #Columnas"
   ]
  },
  {
   "cell_type": "markdown",
   "metadata": {},
   "source": [
    "Contar solo las filas:"
   ]
  },
  {
   "cell_type": "code",
   "execution_count": 40,
   "metadata": {},
   "outputs": [
    {
     "data": {
      "text/plain": [
       "74"
      ]
     },
     "execution_count": 40,
     "metadata": {},
     "output_type": "execute_result"
    }
   ],
   "source": [
    "len(df4)"
   ]
  },
  {
   "cell_type": "markdown",
   "metadata": {},
   "source": [
    "Contar solo las columnas."
   ]
  },
  {
   "cell_type": "code",
   "execution_count": 41,
   "metadata": {},
   "outputs": [
    {
     "data": {
      "text/plain": [
       "11"
      ]
     },
     "execution_count": 41,
     "metadata": {},
     "output_type": "execute_result"
    }
   ],
   "source": [
    "len(df4.columns)"
   ]
  },
  {
   "cell_type": "markdown",
   "metadata": {},
   "source": [
    "**Ver dataframe como un array de Numpy:**"
   ]
  },
  {
   "cell_type": "code",
   "execution_count": 42,
   "metadata": {},
   "outputs": [
    {
     "data": {
      "text/plain": [
       "array([[4099, 22, 3.0, 2.5, 11, 2930, 186, 40, 121, 3.5799999,\n",
       "        'Domestic'],\n",
       "       [4749, 17, 3.0, 3.0, 11, 3350, 173, 40, 258, 2.53, 'Domestic'],\n",
       "       [3799, 22, nan, 3.0, 12, 2640, 168, 35, 121, 3.0799999,\n",
       "        'Domestic'],\n",
       "       [4816, 20, 3.0, 4.5, 16, 3250, 196, 40, 196, 2.9300001,\n",
       "        'Domestic'],\n",
       "       [7827, 15, 4.0, 4.0, 20, 4080, 222, 43, 350, 2.4100001,\n",
       "        'Domestic']], dtype=object)"
      ]
     },
     "execution_count": 42,
     "metadata": {},
     "output_type": "execute_result"
    }
   ],
   "source": [
    "df4.values[:5] #Utilizamos \"[:5]\" para ver lo que serían las primeras 5 filas y el output no sea eterno."
   ]
  },
  {
   "cell_type": "code",
   "execution_count": 43,
   "metadata": {},
   "outputs": [
    {
     "data": {
      "text/plain": [
       "numpy.ndarray"
      ]
     },
     "execution_count": 43,
     "metadata": {},
     "output_type": "execute_result"
    }
   ],
   "source": [
    "type(df4.values)"
   ]
  },
  {
   "cell_type": "markdown",
   "metadata": {},
   "source": [
    "**Uso de memoria:**\n",
    "\n",
    "memory_usage() nos devuelve una serie con la cantidad de memoria ram en bytes que ocupa cada columna del dataframe. Se recomienda utilizar el argumento deep para tener una respuesta de mayor precisión."
   ]
  },
  {
   "cell_type": "code",
   "execution_count": 44,
   "metadata": {},
   "outputs": [
    {
     "data": {
      "text/plain": [
       "Index           5089\n",
       "price            592\n",
       "mpg              592\n",
       "rep78            592\n",
       "headroom         592\n",
       "trunk            592\n",
       "weight           592\n",
       "length           592\n",
       "turn             592\n",
       "displacement     592\n",
       "gear_ratio       592\n",
       "foreig          4788\n",
       "dtype: int64"
      ]
     },
     "execution_count": 44,
     "metadata": {},
     "output_type": "execute_result"
    }
   ],
   "source": [
    "df4.memory_usage(deep=True) "
   ]
  },
  {
   "cell_type": "markdown",
   "metadata": {},
   "source": [
    "Para ver el total de memoria utilzada por el dataframe:"
   ]
  },
  {
   "cell_type": "code",
   "execution_count": 45,
   "metadata": {},
   "outputs": [
    {
     "data": {
      "text/plain": [
       "15797"
      ]
     },
     "execution_count": 45,
     "metadata": {},
     "output_type": "execute_result"
    }
   ],
   "source": [
    "df4.memory_usage(deep=True).sum()"
   ]
  },
  {
   "cell_type": "markdown",
   "metadata": {},
   "source": [
    "Expresado en megabytes:"
   ]
  },
  {
   "cell_type": "code",
   "execution_count": 46,
   "metadata": {},
   "outputs": [
    {
     "data": {
      "text/plain": [
       "0.015065193176269531"
      ]
     },
     "execution_count": 46,
     "metadata": {},
     "output_type": "execute_result"
    }
   ],
   "source": [
    "df4.memory_usage(deep=True).sum()/(1024**2)"
   ]
  },
  {
   "cell_type": "markdown",
   "metadata": {},
   "source": [
    "1 kilobyte = 1024 bytes\n",
    "\n",
    "1 megabyte = 1024 kilobytes\n",
    "\n",
    "1 gigabyte = 1024 megabytes\n",
    "\n",
    "1 terabyte = 1024 gigabytes\n",
    "  \n",
    "y así sucesivamente..."
   ]
  },
  {
   "cell_type": "markdown",
   "metadata": {},
   "source": [
    "**Contar valores no NaN:**"
   ]
  },
  {
   "cell_type": "code",
   "execution_count": 47,
   "metadata": {},
   "outputs": [
    {
     "data": {
      "text/plain": [
       "price           74\n",
       "mpg             74\n",
       "rep78           69\n",
       "headroom        74\n",
       "trunk           74\n",
       "weight          74\n",
       "length          74\n",
       "turn            74\n",
       "displacement    74\n",
       "gear_ratio      74\n",
       "foreig          74\n",
       "dtype: int64"
      ]
     },
     "execution_count": 47,
     "metadata": {},
     "output_type": "execute_result"
    }
   ],
   "source": [
    "df4.count()"
   ]
  },
  {
   "cell_type": "markdown",
   "metadata": {},
   "source": [
    "**Resumen general:**\n",
    "\n",
    "Devuelve gran parte de lo solicitado individualmente hasta ahora. Tener en cuenta que al solicitar todo lo anterior a la vez, en grandes dataframes esto puede demorar un poco.\n",
    "\n",
    "Nota: El uso de memoria lo devuelve con el argumento deep en False."
   ]
  },
  {
   "cell_type": "code",
   "execution_count": 48,
   "metadata": {},
   "outputs": [
    {
     "name": "stdout",
     "output_type": "stream",
     "text": [
      "<class 'pandas.core.frame.DataFrame'>\n",
      "Index: 74 entries, AMC Concord to Volvo 260\n",
      "Data columns (total 11 columns):\n",
      " #   Column        Non-Null Count  Dtype  \n",
      "---  ------        --------------  -----  \n",
      " 0   price         74 non-null     int64  \n",
      " 1   mpg           74 non-null     int64  \n",
      " 2   rep78         69 non-null     float64\n",
      " 3   headroom      74 non-null     float64\n",
      " 4   trunk         74 non-null     int64  \n",
      " 5   weight        74 non-null     int64  \n",
      " 6   length        74 non-null     int64  \n",
      " 7   turn          74 non-null     int64  \n",
      " 8   displacement  74 non-null     int64  \n",
      " 9   gear_ratio    74 non-null     float64\n",
      " 10  foreig        74 non-null     object \n",
      "dtypes: float64(3), int64(7), object(1)\n",
      "memory usage: 6.9+ KB\n"
     ]
    }
   ],
   "source": [
    "df4.info()"
   ]
  },
  {
   "cell_type": "markdown",
   "metadata": {},
   "source": [
    "**Contar valores NaN:**"
   ]
  },
  {
   "cell_type": "code",
   "execution_count": 49,
   "metadata": {},
   "outputs": [
    {
     "data": {
      "text/plain": [
       "price           0\n",
       "mpg             0\n",
       "rep78           5\n",
       "headroom        0\n",
       "trunk           0\n",
       "weight          0\n",
       "length          0\n",
       "turn            0\n",
       "displacement    0\n",
       "gear_ratio      0\n",
       "foreig          0\n",
       "dtype: int64"
      ]
     },
     "execution_count": 49,
     "metadata": {},
     "output_type": "execute_result"
    }
   ],
   "source": [
    "df4.isnull().sum()"
   ]
  },
  {
   "cell_type": "markdown",
   "metadata": {},
   "source": [
    "### JSON"
   ]
  },
  {
   "cell_type": "markdown",
   "metadata": {},
   "source": [
    "JSON (JavaScript Object Notation) es un formato texto plano utilizado para almacenar datos, si bien surgió en JavaScript, al ser independiente de este lenguaje pudo lograr gran popularidad para el intercambio de datos.\n",
    "\n",
    "Los archivos JSON dieron lugar a los formatos GeoJSON y TopoJSON que permiten almacenar datos espaciales. Una de las ventajas de estos últimos frente otros formatos de almacenamiento de datos espaciales, es que todos los datos se guardan en un único archivo, mientras que los tradicionales archivos shape se guardan en por lo menos en tres archivos distintos dependiendo  (.shp, .shx y .dbf) de los datos almacenados.\n",
    "\n",
    "Probemos ahora guardar nuestro DataFrame de autos en JSON."
   ]
  },
  {
   "cell_type": "code",
   "execution_count": 50,
   "metadata": {},
   "outputs": [],
   "source": [
    "df4.to_json(\"data/auto.json\")"
   ]
  },
  {
   "cell_type": "markdown",
   "metadata": {},
   "source": [
    "Para leer un JSON y guardar un DataFrame como archivo JSON, Pandas ofrece varios parámetros, para profundizar en ellos consultar:\n",
    "\n",
    "* https://pandas.pydata.org/docs/reference/api/pandas.DataFrame.to_json.html\n",
    "\n",
    "* https://pandas.pydata.org/docs/reference/api/pandas.io.json.read_json.html\n",
    "\n",
    "Ahora abramos nuestro archivo auto.json"
   ]
  },
  {
   "cell_type": "code",
   "execution_count": 51,
   "metadata": {},
   "outputs": [
    {
     "data": {
      "text/html": [
       "<div>\n",
       "<style scoped>\n",
       "    .dataframe tbody tr th:only-of-type {\n",
       "        vertical-align: middle;\n",
       "    }\n",
       "\n",
       "    .dataframe tbody tr th {\n",
       "        vertical-align: top;\n",
       "    }\n",
       "\n",
       "    .dataframe thead th {\n",
       "        text-align: right;\n",
       "    }\n",
       "</style>\n",
       "<table border=\"1\" class=\"dataframe\">\n",
       "  <thead>\n",
       "    <tr style=\"text-align: right;\">\n",
       "      <th></th>\n",
       "      <th>price</th>\n",
       "      <th>mpg</th>\n",
       "      <th>rep78</th>\n",
       "      <th>headroom</th>\n",
       "      <th>trunk</th>\n",
       "      <th>weight</th>\n",
       "      <th>length</th>\n",
       "      <th>turn</th>\n",
       "      <th>displacement</th>\n",
       "      <th>gear_ratio</th>\n",
       "      <th>foreig</th>\n",
       "    </tr>\n",
       "  </thead>\n",
       "  <tbody>\n",
       "    <tr>\n",
       "      <th>AMC Concord</th>\n",
       "      <td>4099</td>\n",
       "      <td>22</td>\n",
       "      <td>3.0</td>\n",
       "      <td>2.5</td>\n",
       "      <td>11</td>\n",
       "      <td>2930</td>\n",
       "      <td>186</td>\n",
       "      <td>40</td>\n",
       "      <td>121</td>\n",
       "      <td>3.58</td>\n",
       "      <td>Domestic</td>\n",
       "    </tr>\n",
       "    <tr>\n",
       "      <th>AMC Pacer</th>\n",
       "      <td>4749</td>\n",
       "      <td>17</td>\n",
       "      <td>3.0</td>\n",
       "      <td>3.0</td>\n",
       "      <td>11</td>\n",
       "      <td>3350</td>\n",
       "      <td>173</td>\n",
       "      <td>40</td>\n",
       "      <td>258</td>\n",
       "      <td>2.53</td>\n",
       "      <td>Domestic</td>\n",
       "    </tr>\n",
       "    <tr>\n",
       "      <th>AMC Spirit</th>\n",
       "      <td>3799</td>\n",
       "      <td>22</td>\n",
       "      <td>NaN</td>\n",
       "      <td>3.0</td>\n",
       "      <td>12</td>\n",
       "      <td>2640</td>\n",
       "      <td>168</td>\n",
       "      <td>35</td>\n",
       "      <td>121</td>\n",
       "      <td>3.08</td>\n",
       "      <td>Domestic</td>\n",
       "    </tr>\n",
       "    <tr>\n",
       "      <th>Buick Century</th>\n",
       "      <td>4816</td>\n",
       "      <td>20</td>\n",
       "      <td>3.0</td>\n",
       "      <td>4.5</td>\n",
       "      <td>16</td>\n",
       "      <td>3250</td>\n",
       "      <td>196</td>\n",
       "      <td>40</td>\n",
       "      <td>196</td>\n",
       "      <td>2.93</td>\n",
       "      <td>Domestic</td>\n",
       "    </tr>\n",
       "    <tr>\n",
       "      <th>Buick Electra</th>\n",
       "      <td>7827</td>\n",
       "      <td>15</td>\n",
       "      <td>4.0</td>\n",
       "      <td>4.0</td>\n",
       "      <td>20</td>\n",
       "      <td>4080</td>\n",
       "      <td>222</td>\n",
       "      <td>43</td>\n",
       "      <td>350</td>\n",
       "      <td>2.41</td>\n",
       "      <td>Domestic</td>\n",
       "    </tr>\n",
       "    <tr>\n",
       "      <th>...</th>\n",
       "      <td>...</td>\n",
       "      <td>...</td>\n",
       "      <td>...</td>\n",
       "      <td>...</td>\n",
       "      <td>...</td>\n",
       "      <td>...</td>\n",
       "      <td>...</td>\n",
       "      <td>...</td>\n",
       "      <td>...</td>\n",
       "      <td>...</td>\n",
       "      <td>...</td>\n",
       "    </tr>\n",
       "    <tr>\n",
       "      <th>VW Dasher</th>\n",
       "      <td>7140</td>\n",
       "      <td>23</td>\n",
       "      <td>4.0</td>\n",
       "      <td>2.5</td>\n",
       "      <td>12</td>\n",
       "      <td>2160</td>\n",
       "      <td>172</td>\n",
       "      <td>36</td>\n",
       "      <td>97</td>\n",
       "      <td>3.74</td>\n",
       "      <td>Foreign</td>\n",
       "    </tr>\n",
       "    <tr>\n",
       "      <th>VW Diesel</th>\n",
       "      <td>5397</td>\n",
       "      <td>41</td>\n",
       "      <td>5.0</td>\n",
       "      <td>3.0</td>\n",
       "      <td>15</td>\n",
       "      <td>2040</td>\n",
       "      <td>155</td>\n",
       "      <td>35</td>\n",
       "      <td>90</td>\n",
       "      <td>3.78</td>\n",
       "      <td>Foreign</td>\n",
       "    </tr>\n",
       "    <tr>\n",
       "      <th>VW Rabbit</th>\n",
       "      <td>4697</td>\n",
       "      <td>25</td>\n",
       "      <td>4.0</td>\n",
       "      <td>3.0</td>\n",
       "      <td>15</td>\n",
       "      <td>1930</td>\n",
       "      <td>155</td>\n",
       "      <td>35</td>\n",
       "      <td>89</td>\n",
       "      <td>3.78</td>\n",
       "      <td>Foreign</td>\n",
       "    </tr>\n",
       "    <tr>\n",
       "      <th>VW Scirocco</th>\n",
       "      <td>6850</td>\n",
       "      <td>25</td>\n",
       "      <td>4.0</td>\n",
       "      <td>2.0</td>\n",
       "      <td>16</td>\n",
       "      <td>1990</td>\n",
       "      <td>156</td>\n",
       "      <td>36</td>\n",
       "      <td>97</td>\n",
       "      <td>3.78</td>\n",
       "      <td>Foreign</td>\n",
       "    </tr>\n",
       "    <tr>\n",
       "      <th>Volvo 260</th>\n",
       "      <td>11995</td>\n",
       "      <td>17</td>\n",
       "      <td>5.0</td>\n",
       "      <td>2.5</td>\n",
       "      <td>14</td>\n",
       "      <td>3170</td>\n",
       "      <td>193</td>\n",
       "      <td>37</td>\n",
       "      <td>163</td>\n",
       "      <td>2.98</td>\n",
       "      <td>Foreign</td>\n",
       "    </tr>\n",
       "  </tbody>\n",
       "</table>\n",
       "<p>74 rows × 11 columns</p>\n",
       "</div>"
      ],
      "text/plain": [
       "               price  mpg  rep78  headroom  trunk  weight  length  turn  \\\n",
       "AMC Concord     4099   22    3.0       2.5     11    2930     186    40   \n",
       "AMC Pacer       4749   17    3.0       3.0     11    3350     173    40   \n",
       "AMC Spirit      3799   22    NaN       3.0     12    2640     168    35   \n",
       "Buick Century   4816   20    3.0       4.5     16    3250     196    40   \n",
       "Buick Electra   7827   15    4.0       4.0     20    4080     222    43   \n",
       "...              ...  ...    ...       ...    ...     ...     ...   ...   \n",
       "VW Dasher       7140   23    4.0       2.5     12    2160     172    36   \n",
       "VW Diesel       5397   41    5.0       3.0     15    2040     155    35   \n",
       "VW Rabbit       4697   25    4.0       3.0     15    1930     155    35   \n",
       "VW Scirocco     6850   25    4.0       2.0     16    1990     156    36   \n",
       "Volvo 260      11995   17    5.0       2.5     14    3170     193    37   \n",
       "\n",
       "               displacement  gear_ratio    foreig  \n",
       "AMC Concord             121        3.58  Domestic  \n",
       "AMC Pacer               258        2.53  Domestic  \n",
       "AMC Spirit              121        3.08  Domestic  \n",
       "Buick Century           196        2.93  Domestic  \n",
       "Buick Electra           350        2.41  Domestic  \n",
       "...                     ...         ...       ...  \n",
       "VW Dasher                97        3.74   Foreign  \n",
       "VW Diesel                90        3.78   Foreign  \n",
       "VW Rabbit                89        3.78   Foreign  \n",
       "VW Scirocco              97        3.78   Foreign  \n",
       "Volvo 260               163        2.98   Foreign  \n",
       "\n",
       "[74 rows x 11 columns]"
      ]
     },
     "execution_count": 51,
     "metadata": {},
     "output_type": "execute_result"
    }
   ],
   "source": [
    "pd.read_json(\"data/auto.json\")"
   ]
  },
  {
   "cell_type": "code",
   "execution_count": 52,
   "metadata": {},
   "outputs": [],
   "source": [
    "import json\n",
    "auto_json = open(\"data/auto.json\")\n",
    "auto_json = json.load(auto_json)"
   ]
  },
  {
   "cell_type": "markdown",
   "metadata": {},
   "source": [
    "Como podemos ver, los archivos json se guardan por default con una estructura de diccionario anidado."
   ]
  },
  {
   "cell_type": "code",
   "execution_count": 53,
   "metadata": {},
   "outputs": [
    {
     "data": {
      "text/plain": [
       "dict"
      ]
     },
     "execution_count": 53,
     "metadata": {},
     "output_type": "execute_result"
    }
   ],
   "source": [
    "type(auto_json)"
   ]
  },
  {
   "cell_type": "code",
   "execution_count": 54,
   "metadata": {},
   "outputs": [
    {
     "data": {
      "text/plain": [
       "{'price': {'AMC Concord': 4099,\n",
       "  'AMC Pacer': 4749,\n",
       "  'AMC Spirit': 3799,\n",
       "  'Buick Century': 4816,\n",
       "  'Buick Electra': 7827,\n",
       "  'Buick LeSabre': 5788,\n",
       "  'Buick Opel': 4453,\n",
       "  'Buick Regal': 5189,\n",
       "  'Buick Riviera': 10372,\n",
       "  'Buick Skylark': 4082,\n",
       "  'Cad. Deville': 11385,\n",
       "  'Cad. Eldorado': 14500,\n",
       "  'Cad. Seville': 15906,\n",
       "  'Chev. Chevette': 3299,\n",
       "  'Chev. Impala': 5705,\n",
       "  'Chev. Malibu': 4504,\n",
       "  'Chev. Monte Carlo': 5104,\n",
       "  'Chev. Monza': 3667,\n",
       "  'Chev. Nova': 3955,\n",
       "  'Dodge Colt': 3984,\n",
       "  'Dodge Diplomat': 4010,\n",
       "  'Dodge Magnum': 5886,\n",
       "  'Dodge St. Regis': 6342,\n",
       "  'Ford Fiesta': 4389,\n",
       "  'Ford Mustang': 4187,\n",
       "  'Linc. Continental': 11497,\n",
       "  'Linc. Mark V': 13594,\n",
       "  'Linc. Versailles': 13466,\n",
       "  'Merc. Bobcat': 3829,\n",
       "  'Merc. Cougar': 5379,\n",
       "  'Merc. Marquis': 6165,\n",
       "  'Merc. Monarch': 4516,\n",
       "  'Merc. XR-7': 6303,\n",
       "  'Merc. Zephyr': 3291,\n",
       "  'Olds 98': 8814,\n",
       "  'Olds Cutl Supr': 5172,\n",
       "  'Olds Cutlass': 4733,\n",
       "  'Olds Delta 88': 4890,\n",
       "  'Olds Omega': 4181,\n",
       "  'Olds Starfire': 4195,\n",
       "  'Olds Toronado': 10371,\n",
       "  'Plym. Arrow': 4647,\n",
       "  'Plym. Champ': 4425,\n",
       "  'Plym. Horizon': 4482,\n",
       "  'Plym. Sapporo': 6486,\n",
       "  'Plym. Volare': 4060,\n",
       "  'Pont. Catalina': 5798,\n",
       "  'Pont. Firebird': 4934,\n",
       "  'Pont. Grand Prix': 5222,\n",
       "  'Pont. Le Mans': 4723,\n",
       "  'Pont. Phoenix': 4424,\n",
       "  'Pont. Sunbird': 4172,\n",
       "  'Audi 5000': 9690,\n",
       "  'Audi Fox': 6295,\n",
       "  'BMW 320i': 9735,\n",
       "  'Datsun 200': 6229,\n",
       "  'Datsun 210': 4589,\n",
       "  'Datsun 510': 5079,\n",
       "  'Datsun 810': 8129,\n",
       "  'Fiat Strada': 4296,\n",
       "  'Honda Accord': 5799,\n",
       "  'Honda Civic': 4499,\n",
       "  'Mazda GLC': 3995,\n",
       "  'Peugeot 604': 12990,\n",
       "  'Renault Le Car': 3895,\n",
       "  'Subaru': 3798,\n",
       "  'Toyota Celica': 5899,\n",
       "  'Toyota Corolla': 3748,\n",
       "  'Toyota Corona': 5719,\n",
       "  'VW Dasher': 7140,\n",
       "  'VW Diesel': 5397,\n",
       "  'VW Rabbit': 4697,\n",
       "  'VW Scirocco': 6850,\n",
       "  'Volvo 260': 11995},\n",
       " 'mpg': {'AMC Concord': 22,\n",
       "  'AMC Pacer': 17,\n",
       "  'AMC Spirit': 22,\n",
       "  'Buick Century': 20,\n",
       "  'Buick Electra': 15,\n",
       "  'Buick LeSabre': 18,\n",
       "  'Buick Opel': 26,\n",
       "  'Buick Regal': 20,\n",
       "  'Buick Riviera': 16,\n",
       "  'Buick Skylark': 19,\n",
       "  'Cad. Deville': 14,\n",
       "  'Cad. Eldorado': 14,\n",
       "  'Cad. Seville': 21,\n",
       "  'Chev. Chevette': 29,\n",
       "  'Chev. Impala': 16,\n",
       "  'Chev. Malibu': 22,\n",
       "  'Chev. Monte Carlo': 22,\n",
       "  'Chev. Monza': 24,\n",
       "  'Chev. Nova': 19,\n",
       "  'Dodge Colt': 30,\n",
       "  'Dodge Diplomat': 18,\n",
       "  'Dodge Magnum': 16,\n",
       "  'Dodge St. Regis': 17,\n",
       "  'Ford Fiesta': 28,\n",
       "  'Ford Mustang': 21,\n",
       "  'Linc. Continental': 12,\n",
       "  'Linc. Mark V': 12,\n",
       "  'Linc. Versailles': 14,\n",
       "  'Merc. Bobcat': 22,\n",
       "  'Merc. Cougar': 14,\n",
       "  'Merc. Marquis': 15,\n",
       "  'Merc. Monarch': 18,\n",
       "  'Merc. XR-7': 14,\n",
       "  'Merc. Zephyr': 20,\n",
       "  'Olds 98': 21,\n",
       "  'Olds Cutl Supr': 19,\n",
       "  'Olds Cutlass': 19,\n",
       "  'Olds Delta 88': 18,\n",
       "  'Olds Omega': 19,\n",
       "  'Olds Starfire': 24,\n",
       "  'Olds Toronado': 16,\n",
       "  'Plym. Arrow': 28,\n",
       "  'Plym. Champ': 34,\n",
       "  'Plym. Horizon': 25,\n",
       "  'Plym. Sapporo': 26,\n",
       "  'Plym. Volare': 18,\n",
       "  'Pont. Catalina': 18,\n",
       "  'Pont. Firebird': 18,\n",
       "  'Pont. Grand Prix': 19,\n",
       "  'Pont. Le Mans': 19,\n",
       "  'Pont. Phoenix': 19,\n",
       "  'Pont. Sunbird': 24,\n",
       "  'Audi 5000': 17,\n",
       "  'Audi Fox': 23,\n",
       "  'BMW 320i': 25,\n",
       "  'Datsun 200': 23,\n",
       "  'Datsun 210': 35,\n",
       "  'Datsun 510': 24,\n",
       "  'Datsun 810': 21,\n",
       "  'Fiat Strada': 21,\n",
       "  'Honda Accord': 25,\n",
       "  'Honda Civic': 28,\n",
       "  'Mazda GLC': 30,\n",
       "  'Peugeot 604': 14,\n",
       "  'Renault Le Car': 26,\n",
       "  'Subaru': 35,\n",
       "  'Toyota Celica': 18,\n",
       "  'Toyota Corolla': 31,\n",
       "  'Toyota Corona': 18,\n",
       "  'VW Dasher': 23,\n",
       "  'VW Diesel': 41,\n",
       "  'VW Rabbit': 25,\n",
       "  'VW Scirocco': 25,\n",
       "  'Volvo 260': 17},\n",
       " 'rep78': {'AMC Concord': 3.0,\n",
       "  'AMC Pacer': 3.0,\n",
       "  'AMC Spirit': None,\n",
       "  'Buick Century': 3.0,\n",
       "  'Buick Electra': 4.0,\n",
       "  'Buick LeSabre': 3.0,\n",
       "  'Buick Opel': None,\n",
       "  'Buick Regal': 3.0,\n",
       "  'Buick Riviera': 3.0,\n",
       "  'Buick Skylark': 3.0,\n",
       "  'Cad. Deville': 3.0,\n",
       "  'Cad. Eldorado': 2.0,\n",
       "  'Cad. Seville': 3.0,\n",
       "  'Chev. Chevette': 3.0,\n",
       "  'Chev. Impala': 4.0,\n",
       "  'Chev. Malibu': 3.0,\n",
       "  'Chev. Monte Carlo': 2.0,\n",
       "  'Chev. Monza': 2.0,\n",
       "  'Chev. Nova': 3.0,\n",
       "  'Dodge Colt': 5.0,\n",
       "  'Dodge Diplomat': 2.0,\n",
       "  'Dodge Magnum': 2.0,\n",
       "  'Dodge St. Regis': 2.0,\n",
       "  'Ford Fiesta': 4.0,\n",
       "  'Ford Mustang': 3.0,\n",
       "  'Linc. Continental': 3.0,\n",
       "  'Linc. Mark V': 3.0,\n",
       "  'Linc. Versailles': 3.0,\n",
       "  'Merc. Bobcat': 4.0,\n",
       "  'Merc. Cougar': 4.0,\n",
       "  'Merc. Marquis': 3.0,\n",
       "  'Merc. Monarch': 3.0,\n",
       "  'Merc. XR-7': 4.0,\n",
       "  'Merc. Zephyr': 3.0,\n",
       "  'Olds 98': 4.0,\n",
       "  'Olds Cutl Supr': 3.0,\n",
       "  'Olds Cutlass': 3.0,\n",
       "  'Olds Delta 88': 4.0,\n",
       "  'Olds Omega': 3.0,\n",
       "  'Olds Starfire': 1.0,\n",
       "  'Olds Toronado': 3.0,\n",
       "  'Plym. Arrow': 3.0,\n",
       "  'Plym. Champ': 5.0,\n",
       "  'Plym. Horizon': 3.0,\n",
       "  'Plym. Sapporo': None,\n",
       "  'Plym. Volare': 2.0,\n",
       "  'Pont. Catalina': 4.0,\n",
       "  'Pont. Firebird': 1.0,\n",
       "  'Pont. Grand Prix': 3.0,\n",
       "  'Pont. Le Mans': 3.0,\n",
       "  'Pont. Phoenix': None,\n",
       "  'Pont. Sunbird': 2.0,\n",
       "  'Audi 5000': 5.0,\n",
       "  'Audi Fox': 3.0,\n",
       "  'BMW 320i': 4.0,\n",
       "  'Datsun 200': 4.0,\n",
       "  'Datsun 210': 5.0,\n",
       "  'Datsun 510': 4.0,\n",
       "  'Datsun 810': 4.0,\n",
       "  'Fiat Strada': 3.0,\n",
       "  'Honda Accord': 5.0,\n",
       "  'Honda Civic': 4.0,\n",
       "  'Mazda GLC': 4.0,\n",
       "  'Peugeot 604': None,\n",
       "  'Renault Le Car': 3.0,\n",
       "  'Subaru': 5.0,\n",
       "  'Toyota Celica': 5.0,\n",
       "  'Toyota Corolla': 5.0,\n",
       "  'Toyota Corona': 5.0,\n",
       "  'VW Dasher': 4.0,\n",
       "  'VW Diesel': 5.0,\n",
       "  'VW Rabbit': 4.0,\n",
       "  'VW Scirocco': 4.0,\n",
       "  'Volvo 260': 5.0},\n",
       " 'headroom': {'AMC Concord': 2.5,\n",
       "  'AMC Pacer': 3.0,\n",
       "  'AMC Spirit': 3.0,\n",
       "  'Buick Century': 4.5,\n",
       "  'Buick Electra': 4.0,\n",
       "  'Buick LeSabre': 4.0,\n",
       "  'Buick Opel': 3.0,\n",
       "  'Buick Regal': 2.0,\n",
       "  'Buick Riviera': 3.5,\n",
       "  'Buick Skylark': 3.5,\n",
       "  'Cad. Deville': 4.0,\n",
       "  'Cad. Eldorado': 3.5,\n",
       "  'Cad. Seville': 3.0,\n",
       "  'Chev. Chevette': 2.5,\n",
       "  'Chev. Impala': 4.0,\n",
       "  'Chev. Malibu': 3.5,\n",
       "  'Chev. Monte Carlo': 2.0,\n",
       "  'Chev. Monza': 2.0,\n",
       "  'Chev. Nova': 3.5,\n",
       "  'Dodge Colt': 2.0,\n",
       "  'Dodge Diplomat': 4.0,\n",
       "  'Dodge Magnum': 4.0,\n",
       "  'Dodge St. Regis': 4.5,\n",
       "  'Ford Fiesta': 1.5,\n",
       "  'Ford Mustang': 2.0,\n",
       "  'Linc. Continental': 3.5,\n",
       "  'Linc. Mark V': 2.5,\n",
       "  'Linc. Versailles': 3.5,\n",
       "  'Merc. Bobcat': 3.0,\n",
       "  'Merc. Cougar': 3.5,\n",
       "  'Merc. Marquis': 3.5,\n",
       "  'Merc. Monarch': 3.0,\n",
       "  'Merc. XR-7': 3.0,\n",
       "  'Merc. Zephyr': 3.5,\n",
       "  'Olds 98': 4.0,\n",
       "  'Olds Cutl Supr': 2.0,\n",
       "  'Olds Cutlass': 4.5,\n",
       "  'Olds Delta 88': 4.0,\n",
       "  'Olds Omega': 4.5,\n",
       "  'Olds Starfire': 2.0,\n",
       "  'Olds Toronado': 3.5,\n",
       "  'Plym. Arrow': 2.0,\n",
       "  'Plym. Champ': 2.5,\n",
       "  'Plym. Horizon': 4.0,\n",
       "  'Plym. Sapporo': 1.5,\n",
       "  'Plym. Volare': 5.0,\n",
       "  'Pont. Catalina': 4.0,\n",
       "  'Pont. Firebird': 1.5,\n",
       "  'Pont. Grand Prix': 2.0,\n",
       "  'Pont. Le Mans': 3.5,\n",
       "  'Pont. Phoenix': 3.5,\n",
       "  'Pont. Sunbird': 2.0,\n",
       "  'Audi 5000': 3.0,\n",
       "  'Audi Fox': 2.5,\n",
       "  'BMW 320i': 2.5,\n",
       "  'Datsun 200': 1.5,\n",
       "  'Datsun 210': 2.0,\n",
       "  'Datsun 510': 2.5,\n",
       "  'Datsun 810': 2.5,\n",
       "  'Fiat Strada': 2.5,\n",
       "  'Honda Accord': 3.0,\n",
       "  'Honda Civic': 2.5,\n",
       "  'Mazda GLC': 3.5,\n",
       "  'Peugeot 604': 3.5,\n",
       "  'Renault Le Car': 3.0,\n",
       "  'Subaru': 2.5,\n",
       "  'Toyota Celica': 2.5,\n",
       "  'Toyota Corolla': 3.0,\n",
       "  'Toyota Corona': 2.0,\n",
       "  'VW Dasher': 2.5,\n",
       "  'VW Diesel': 3.0,\n",
       "  'VW Rabbit': 3.0,\n",
       "  'VW Scirocco': 2.0,\n",
       "  'Volvo 260': 2.5},\n",
       " 'trunk': {'AMC Concord': 11,\n",
       "  'AMC Pacer': 11,\n",
       "  'AMC Spirit': 12,\n",
       "  'Buick Century': 16,\n",
       "  'Buick Electra': 20,\n",
       "  'Buick LeSabre': 21,\n",
       "  'Buick Opel': 10,\n",
       "  'Buick Regal': 16,\n",
       "  'Buick Riviera': 17,\n",
       "  'Buick Skylark': 13,\n",
       "  'Cad. Deville': 20,\n",
       "  'Cad. Eldorado': 16,\n",
       "  'Cad. Seville': 13,\n",
       "  'Chev. Chevette': 9,\n",
       "  'Chev. Impala': 20,\n",
       "  'Chev. Malibu': 17,\n",
       "  'Chev. Monte Carlo': 16,\n",
       "  'Chev. Monza': 7,\n",
       "  'Chev. Nova': 13,\n",
       "  'Dodge Colt': 8,\n",
       "  'Dodge Diplomat': 17,\n",
       "  'Dodge Magnum': 17,\n",
       "  'Dodge St. Regis': 21,\n",
       "  'Ford Fiesta': 9,\n",
       "  'Ford Mustang': 10,\n",
       "  'Linc. Continental': 22,\n",
       "  'Linc. Mark V': 18,\n",
       "  'Linc. Versailles': 15,\n",
       "  'Merc. Bobcat': 9,\n",
       "  'Merc. Cougar': 16,\n",
       "  'Merc. Marquis': 23,\n",
       "  'Merc. Monarch': 15,\n",
       "  'Merc. XR-7': 16,\n",
       "  'Merc. Zephyr': 17,\n",
       "  'Olds 98': 20,\n",
       "  'Olds Cutl Supr': 16,\n",
       "  'Olds Cutlass': 16,\n",
       "  'Olds Delta 88': 20,\n",
       "  'Olds Omega': 14,\n",
       "  'Olds Starfire': 10,\n",
       "  'Olds Toronado': 17,\n",
       "  'Plym. Arrow': 11,\n",
       "  'Plym. Champ': 11,\n",
       "  'Plym. Horizon': 17,\n",
       "  'Plym. Sapporo': 8,\n",
       "  'Plym. Volare': 16,\n",
       "  'Pont. Catalina': 20,\n",
       "  'Pont. Firebird': 7,\n",
       "  'Pont. Grand Prix': 16,\n",
       "  'Pont. Le Mans': 17,\n",
       "  'Pont. Phoenix': 13,\n",
       "  'Pont. Sunbird': 7,\n",
       "  'Audi 5000': 15,\n",
       "  'Audi Fox': 11,\n",
       "  'BMW 320i': 12,\n",
       "  'Datsun 200': 6,\n",
       "  'Datsun 210': 8,\n",
       "  'Datsun 510': 8,\n",
       "  'Datsun 810': 8,\n",
       "  'Fiat Strada': 16,\n",
       "  'Honda Accord': 10,\n",
       "  'Honda Civic': 5,\n",
       "  'Mazda GLC': 11,\n",
       "  'Peugeot 604': 14,\n",
       "  'Renault Le Car': 10,\n",
       "  'Subaru': 11,\n",
       "  'Toyota Celica': 14,\n",
       "  'Toyota Corolla': 9,\n",
       "  'Toyota Corona': 11,\n",
       "  'VW Dasher': 12,\n",
       "  'VW Diesel': 15,\n",
       "  'VW Rabbit': 15,\n",
       "  'VW Scirocco': 16,\n",
       "  'Volvo 260': 14},\n",
       " 'weight': {'AMC Concord': 2930,\n",
       "  'AMC Pacer': 3350,\n",
       "  'AMC Spirit': 2640,\n",
       "  'Buick Century': 3250,\n",
       "  'Buick Electra': 4080,\n",
       "  'Buick LeSabre': 3670,\n",
       "  'Buick Opel': 2230,\n",
       "  'Buick Regal': 3280,\n",
       "  'Buick Riviera': 3880,\n",
       "  'Buick Skylark': 3400,\n",
       "  'Cad. Deville': 4330,\n",
       "  'Cad. Eldorado': 3900,\n",
       "  'Cad. Seville': 4290,\n",
       "  'Chev. Chevette': 2110,\n",
       "  'Chev. Impala': 3690,\n",
       "  'Chev. Malibu': 3180,\n",
       "  'Chev. Monte Carlo': 3220,\n",
       "  'Chev. Monza': 2750,\n",
       "  'Chev. Nova': 3430,\n",
       "  'Dodge Colt': 2120,\n",
       "  'Dodge Diplomat': 3600,\n",
       "  'Dodge Magnum': 3600,\n",
       "  'Dodge St. Regis': 3740,\n",
       "  'Ford Fiesta': 1800,\n",
       "  'Ford Mustang': 2650,\n",
       "  'Linc. Continental': 4840,\n",
       "  'Linc. Mark V': 4720,\n",
       "  'Linc. Versailles': 3830,\n",
       "  'Merc. Bobcat': 2580,\n",
       "  'Merc. Cougar': 4060,\n",
       "  'Merc. Marquis': 3720,\n",
       "  'Merc. Monarch': 3370,\n",
       "  'Merc. XR-7': 4130,\n",
       "  'Merc. Zephyr': 2830,\n",
       "  'Olds 98': 4060,\n",
       "  'Olds Cutl Supr': 3310,\n",
       "  'Olds Cutlass': 3300,\n",
       "  'Olds Delta 88': 3690,\n",
       "  'Olds Omega': 3370,\n",
       "  'Olds Starfire': 2730,\n",
       "  'Olds Toronado': 4030,\n",
       "  'Plym. Arrow': 3260,\n",
       "  'Plym. Champ': 1800,\n",
       "  'Plym. Horizon': 2200,\n",
       "  'Plym. Sapporo': 2520,\n",
       "  'Plym. Volare': 3330,\n",
       "  'Pont. Catalina': 3700,\n",
       "  'Pont. Firebird': 3470,\n",
       "  'Pont. Grand Prix': 3210,\n",
       "  'Pont. Le Mans': 3200,\n",
       "  'Pont. Phoenix': 3420,\n",
       "  'Pont. Sunbird': 2690,\n",
       "  'Audi 5000': 2830,\n",
       "  'Audi Fox': 2070,\n",
       "  'BMW 320i': 2650,\n",
       "  'Datsun 200': 2370,\n",
       "  'Datsun 210': 2020,\n",
       "  'Datsun 510': 2280,\n",
       "  'Datsun 810': 2750,\n",
       "  'Fiat Strada': 2130,\n",
       "  'Honda Accord': 2240,\n",
       "  'Honda Civic': 1760,\n",
       "  'Mazda GLC': 1980,\n",
       "  'Peugeot 604': 3420,\n",
       "  'Renault Le Car': 1830,\n",
       "  'Subaru': 2050,\n",
       "  'Toyota Celica': 2410,\n",
       "  'Toyota Corolla': 2200,\n",
       "  'Toyota Corona': 2670,\n",
       "  'VW Dasher': 2160,\n",
       "  'VW Diesel': 2040,\n",
       "  'VW Rabbit': 1930,\n",
       "  'VW Scirocco': 1990,\n",
       "  'Volvo 260': 3170},\n",
       " 'length': {'AMC Concord': 186,\n",
       "  'AMC Pacer': 173,\n",
       "  'AMC Spirit': 168,\n",
       "  'Buick Century': 196,\n",
       "  'Buick Electra': 222,\n",
       "  'Buick LeSabre': 218,\n",
       "  'Buick Opel': 170,\n",
       "  'Buick Regal': 200,\n",
       "  'Buick Riviera': 207,\n",
       "  'Buick Skylark': 200,\n",
       "  'Cad. Deville': 221,\n",
       "  'Cad. Eldorado': 204,\n",
       "  'Cad. Seville': 204,\n",
       "  'Chev. Chevette': 163,\n",
       "  'Chev. Impala': 212,\n",
       "  'Chev. Malibu': 193,\n",
       "  'Chev. Monte Carlo': 200,\n",
       "  'Chev. Monza': 179,\n",
       "  'Chev. Nova': 197,\n",
       "  'Dodge Colt': 163,\n",
       "  'Dodge Diplomat': 206,\n",
       "  'Dodge Magnum': 206,\n",
       "  'Dodge St. Regis': 220,\n",
       "  'Ford Fiesta': 147,\n",
       "  'Ford Mustang': 179,\n",
       "  'Linc. Continental': 233,\n",
       "  'Linc. Mark V': 230,\n",
       "  'Linc. Versailles': 201,\n",
       "  'Merc. Bobcat': 169,\n",
       "  'Merc. Cougar': 221,\n",
       "  'Merc. Marquis': 212,\n",
       "  'Merc. Monarch': 198,\n",
       "  'Merc. XR-7': 217,\n",
       "  'Merc. Zephyr': 195,\n",
       "  'Olds 98': 220,\n",
       "  'Olds Cutl Supr': 198,\n",
       "  'Olds Cutlass': 198,\n",
       "  'Olds Delta 88': 218,\n",
       "  'Olds Omega': 200,\n",
       "  'Olds Starfire': 180,\n",
       "  'Olds Toronado': 206,\n",
       "  'Plym. Arrow': 170,\n",
       "  'Plym. Champ': 157,\n",
       "  'Plym. Horizon': 165,\n",
       "  'Plym. Sapporo': 182,\n",
       "  'Plym. Volare': 201,\n",
       "  'Pont. Catalina': 214,\n",
       "  'Pont. Firebird': 198,\n",
       "  'Pont. Grand Prix': 201,\n",
       "  'Pont. Le Mans': 199,\n",
       "  'Pont. Phoenix': 203,\n",
       "  'Pont. Sunbird': 179,\n",
       "  'Audi 5000': 189,\n",
       "  'Audi Fox': 174,\n",
       "  'BMW 320i': 177,\n",
       "  'Datsun 200': 170,\n",
       "  'Datsun 210': 165,\n",
       "  'Datsun 510': 170,\n",
       "  'Datsun 810': 184,\n",
       "  'Fiat Strada': 161,\n",
       "  'Honda Accord': 172,\n",
       "  'Honda Civic': 149,\n",
       "  'Mazda GLC': 154,\n",
       "  'Peugeot 604': 192,\n",
       "  'Renault Le Car': 142,\n",
       "  'Subaru': 164,\n",
       "  'Toyota Celica': 174,\n",
       "  'Toyota Corolla': 165,\n",
       "  'Toyota Corona': 175,\n",
       "  'VW Dasher': 172,\n",
       "  'VW Diesel': 155,\n",
       "  'VW Rabbit': 155,\n",
       "  'VW Scirocco': 156,\n",
       "  'Volvo 260': 193},\n",
       " 'turn': {'AMC Concord': 40,\n",
       "  'AMC Pacer': 40,\n",
       "  'AMC Spirit': 35,\n",
       "  'Buick Century': 40,\n",
       "  'Buick Electra': 43,\n",
       "  'Buick LeSabre': 43,\n",
       "  'Buick Opel': 34,\n",
       "  'Buick Regal': 42,\n",
       "  'Buick Riviera': 43,\n",
       "  'Buick Skylark': 42,\n",
       "  'Cad. Deville': 44,\n",
       "  'Cad. Eldorado': 43,\n",
       "  'Cad. Seville': 45,\n",
       "  'Chev. Chevette': 34,\n",
       "  'Chev. Impala': 43,\n",
       "  'Chev. Malibu': 31,\n",
       "  'Chev. Monte Carlo': 41,\n",
       "  'Chev. Monza': 40,\n",
       "  'Chev. Nova': 43,\n",
       "  'Dodge Colt': 35,\n",
       "  'Dodge Diplomat': 46,\n",
       "  'Dodge Magnum': 46,\n",
       "  'Dodge St. Regis': 46,\n",
       "  'Ford Fiesta': 33,\n",
       "  'Ford Mustang': 43,\n",
       "  'Linc. Continental': 51,\n",
       "  'Linc. Mark V': 48,\n",
       "  'Linc. Versailles': 41,\n",
       "  'Merc. Bobcat': 39,\n",
       "  'Merc. Cougar': 48,\n",
       "  'Merc. Marquis': 44,\n",
       "  'Merc. Monarch': 41,\n",
       "  'Merc. XR-7': 45,\n",
       "  'Merc. Zephyr': 43,\n",
       "  'Olds 98': 43,\n",
       "  'Olds Cutl Supr': 42,\n",
       "  'Olds Cutlass': 42,\n",
       "  'Olds Delta 88': 42,\n",
       "  'Olds Omega': 43,\n",
       "  'Olds Starfire': 40,\n",
       "  'Olds Toronado': 43,\n",
       "  'Plym. Arrow': 37,\n",
       "  'Plym. Champ': 37,\n",
       "  'Plym. Horizon': 36,\n",
       "  'Plym. Sapporo': 38,\n",
       "  'Plym. Volare': 44,\n",
       "  'Pont. Catalina': 42,\n",
       "  'Pont. Firebird': 42,\n",
       "  'Pont. Grand Prix': 45,\n",
       "  'Pont. Le Mans': 40,\n",
       "  'Pont. Phoenix': 43,\n",
       "  'Pont. Sunbird': 41,\n",
       "  'Audi 5000': 37,\n",
       "  'Audi Fox': 36,\n",
       "  'BMW 320i': 34,\n",
       "  'Datsun 200': 35,\n",
       "  'Datsun 210': 32,\n",
       "  'Datsun 510': 34,\n",
       "  'Datsun 810': 38,\n",
       "  'Fiat Strada': 36,\n",
       "  'Honda Accord': 36,\n",
       "  'Honda Civic': 34,\n",
       "  'Mazda GLC': 33,\n",
       "  'Peugeot 604': 38,\n",
       "  'Renault Le Car': 34,\n",
       "  'Subaru': 36,\n",
       "  'Toyota Celica': 36,\n",
       "  'Toyota Corolla': 35,\n",
       "  'Toyota Corona': 36,\n",
       "  'VW Dasher': 36,\n",
       "  'VW Diesel': 35,\n",
       "  'VW Rabbit': 35,\n",
       "  'VW Scirocco': 36,\n",
       "  'Volvo 260': 37},\n",
       " 'displacement': {'AMC Concord': 121,\n",
       "  'AMC Pacer': 258,\n",
       "  'AMC Spirit': 121,\n",
       "  'Buick Century': 196,\n",
       "  'Buick Electra': 350,\n",
       "  'Buick LeSabre': 231,\n",
       "  'Buick Opel': 304,\n",
       "  'Buick Regal': 196,\n",
       "  'Buick Riviera': 231,\n",
       "  'Buick Skylark': 231,\n",
       "  'Cad. Deville': 425,\n",
       "  'Cad. Eldorado': 350,\n",
       "  'Cad. Seville': 350,\n",
       "  'Chev. Chevette': 231,\n",
       "  'Chev. Impala': 250,\n",
       "  'Chev. Malibu': 200,\n",
       "  'Chev. Monte Carlo': 200,\n",
       "  'Chev. Monza': 151,\n",
       "  'Chev. Nova': 250,\n",
       "  'Dodge Colt': 98,\n",
       "  'Dodge Diplomat': 318,\n",
       "  'Dodge Magnum': 318,\n",
       "  'Dodge St. Regis': 225,\n",
       "  'Ford Fiesta': 98,\n",
       "  'Ford Mustang': 140,\n",
       "  'Linc. Continental': 400,\n",
       "  'Linc. Mark V': 400,\n",
       "  'Linc. Versailles': 302,\n",
       "  'Merc. Bobcat': 140,\n",
       "  'Merc. Cougar': 302,\n",
       "  'Merc. Marquis': 302,\n",
       "  'Merc. Monarch': 250,\n",
       "  'Merc. XR-7': 302,\n",
       "  'Merc. Zephyr': 140,\n",
       "  'Olds 98': 350,\n",
       "  'Olds Cutl Supr': 231,\n",
       "  'Olds Cutlass': 231,\n",
       "  'Olds Delta 88': 231,\n",
       "  'Olds Omega': 231,\n",
       "  'Olds Starfire': 151,\n",
       "  'Olds Toronado': 350,\n",
       "  'Plym. Arrow': 156,\n",
       "  'Plym. Champ': 86,\n",
       "  'Plym. Horizon': 105,\n",
       "  'Plym. Sapporo': 119,\n",
       "  'Plym. Volare': 225,\n",
       "  'Pont. Catalina': 231,\n",
       "  'Pont. Firebird': 231,\n",
       "  'Pont. Grand Prix': 231,\n",
       "  'Pont. Le Mans': 231,\n",
       "  'Pont. Phoenix': 231,\n",
       "  'Pont. Sunbird': 151,\n",
       "  'Audi 5000': 131,\n",
       "  'Audi Fox': 97,\n",
       "  'BMW 320i': 121,\n",
       "  'Datsun 200': 119,\n",
       "  'Datsun 210': 85,\n",
       "  'Datsun 510': 119,\n",
       "  'Datsun 810': 146,\n",
       "  'Fiat Strada': 105,\n",
       "  'Honda Accord': 107,\n",
       "  'Honda Civic': 91,\n",
       "  'Mazda GLC': 86,\n",
       "  'Peugeot 604': 163,\n",
       "  'Renault Le Car': 79,\n",
       "  'Subaru': 97,\n",
       "  'Toyota Celica': 134,\n",
       "  'Toyota Corolla': 97,\n",
       "  'Toyota Corona': 134,\n",
       "  'VW Dasher': 97,\n",
       "  'VW Diesel': 90,\n",
       "  'VW Rabbit': 89,\n",
       "  'VW Scirocco': 97,\n",
       "  'Volvo 260': 163},\n",
       " 'gear_ratio': {'AMC Concord': 3.5799999,\n",
       "  'AMC Pacer': 2.53,\n",
       "  'AMC Spirit': 3.0799999,\n",
       "  'Buick Century': 2.9300001,\n",
       "  'Buick Electra': 2.4100001,\n",
       "  'Buick LeSabre': 2.73,\n",
       "  'Buick Opel': 2.8699999,\n",
       "  'Buick Regal': 2.9300001,\n",
       "  'Buick Riviera': 2.9300001,\n",
       "  'Buick Skylark': 3.0799999,\n",
       "  'Cad. Deville': 2.28,\n",
       "  'Cad. Eldorado': 2.1900001,\n",
       "  'Cad. Seville': 2.24,\n",
       "  'Chev. Chevette': 2.9300001,\n",
       "  'Chev. Impala': 2.5599999,\n",
       "  'Chev. Malibu': 2.73,\n",
       "  'Chev. Monte Carlo': 2.73,\n",
       "  'Chev. Monza': 2.73,\n",
       "  'Chev. Nova': 2.5599999,\n",
       "  'Dodge Colt': 3.54,\n",
       "  'Dodge Diplomat': 2.47,\n",
       "  'Dodge Magnum': 2.47,\n",
       "  'Dodge St. Regis': 2.9400001,\n",
       "  'Ford Fiesta': 3.1500001,\n",
       "  'Ford Mustang': 3.0799999,\n",
       "  'Linc. Continental': 2.47,\n",
       "  'Linc. Mark V': 2.47,\n",
       "  'Linc. Versailles': 2.47,\n",
       "  'Merc. Bobcat': 2.73,\n",
       "  'Merc. Cougar': 2.75,\n",
       "  'Merc. Marquis': 2.26,\n",
       "  'Merc. Monarch': 2.4300001,\n",
       "  'Merc. XR-7': 2.75,\n",
       "  'Merc. Zephyr': 3.0799999,\n",
       "  'Olds 98': 2.4100001,\n",
       "  'Olds Cutl Supr': 2.9300001,\n",
       "  'Olds Cutlass': 2.9300001,\n",
       "  'Olds Delta 88': 2.73,\n",
       "  'Olds Omega': 3.0799999,\n",
       "  'Olds Starfire': 2.73,\n",
       "  'Olds Toronado': 2.4100001,\n",
       "  'Plym. Arrow': 3.05,\n",
       "  'Plym. Champ': 2.97,\n",
       "  'Plym. Horizon': 3.3699999,\n",
       "  'Plym. Sapporo': 3.54,\n",
       "  'Plym. Volare': 3.23,\n",
       "  'Pont. Catalina': 2.73,\n",
       "  'Pont. Firebird': 3.0799999,\n",
       "  'Pont. Grand Prix': 2.9300001,\n",
       "  'Pont. Le Mans': 2.9300001,\n",
       "  'Pont. Phoenix': 3.0799999,\n",
       "  'Pont. Sunbird': 2.73,\n",
       "  'Audi 5000': 3.2,\n",
       "  'Audi Fox': 3.7,\n",
       "  'BMW 320i': 3.6400001,\n",
       "  'Datsun 200': 3.8900001,\n",
       "  'Datsun 210': 3.7,\n",
       "  'Datsun 510': 3.54,\n",
       "  'Datsun 810': 3.55,\n",
       "  'Fiat Strada': 3.3699999,\n",
       "  'Honda Accord': 3.05,\n",
       "  'Honda Civic': 3.3,\n",
       "  'Mazda GLC': 3.73,\n",
       "  'Peugeot 604': 3.5799999,\n",
       "  'Renault Le Car': 3.72,\n",
       "  'Subaru': 3.8099999,\n",
       "  'Toyota Celica': 3.0599999,\n",
       "  'Toyota Corolla': 3.21,\n",
       "  'Toyota Corona': 3.05,\n",
       "  'VW Dasher': 3.74,\n",
       "  'VW Diesel': 3.78,\n",
       "  'VW Rabbit': 3.78,\n",
       "  'VW Scirocco': 3.78,\n",
       "  'Volvo 260': 2.98},\n",
       " 'foreig': {'AMC Concord': 'Domestic',\n",
       "  'AMC Pacer': 'Domestic',\n",
       "  'AMC Spirit': 'Domestic',\n",
       "  'Buick Century': 'Domestic',\n",
       "  'Buick Electra': 'Domestic',\n",
       "  'Buick LeSabre': 'Domestic',\n",
       "  'Buick Opel': 'Domestic',\n",
       "  'Buick Regal': 'Domestic',\n",
       "  'Buick Riviera': 'Domestic',\n",
       "  'Buick Skylark': 'Domestic',\n",
       "  'Cad. Deville': 'Domestic',\n",
       "  'Cad. Eldorado': 'Domestic',\n",
       "  'Cad. Seville': 'Domestic',\n",
       "  'Chev. Chevette': 'Domestic',\n",
       "  'Chev. Impala': 'Domestic',\n",
       "  'Chev. Malibu': 'Domestic',\n",
       "  'Chev. Monte Carlo': 'Domestic',\n",
       "  'Chev. Monza': 'Domestic',\n",
       "  'Chev. Nova': 'Domestic',\n",
       "  'Dodge Colt': 'Domestic',\n",
       "  'Dodge Diplomat': 'Domestic',\n",
       "  'Dodge Magnum': 'Domestic',\n",
       "  'Dodge St. Regis': 'Domestic',\n",
       "  'Ford Fiesta': 'Domestic',\n",
       "  'Ford Mustang': 'Domestic',\n",
       "  'Linc. Continental': 'Domestic',\n",
       "  'Linc. Mark V': 'Domestic',\n",
       "  'Linc. Versailles': 'Domestic',\n",
       "  'Merc. Bobcat': 'Domestic',\n",
       "  'Merc. Cougar': 'Domestic',\n",
       "  'Merc. Marquis': 'Domestic',\n",
       "  'Merc. Monarch': 'Domestic',\n",
       "  'Merc. XR-7': 'Domestic',\n",
       "  'Merc. Zephyr': 'Domestic',\n",
       "  'Olds 98': 'Domestic',\n",
       "  'Olds Cutl Supr': 'Domestic',\n",
       "  'Olds Cutlass': 'Domestic',\n",
       "  'Olds Delta 88': 'Domestic',\n",
       "  'Olds Omega': 'Domestic',\n",
       "  'Olds Starfire': 'Domestic',\n",
       "  'Olds Toronado': 'Domestic',\n",
       "  'Plym. Arrow': 'Domestic',\n",
       "  'Plym. Champ': 'Domestic',\n",
       "  'Plym. Horizon': 'Domestic',\n",
       "  'Plym. Sapporo': 'Domestic',\n",
       "  'Plym. Volare': 'Domestic',\n",
       "  'Pont. Catalina': 'Domestic',\n",
       "  'Pont. Firebird': 'Domestic',\n",
       "  'Pont. Grand Prix': 'Domestic',\n",
       "  'Pont. Le Mans': 'Domestic',\n",
       "  'Pont. Phoenix': 'Domestic',\n",
       "  'Pont. Sunbird': 'Domestic',\n",
       "  'Audi 5000': 'Foreign',\n",
       "  'Audi Fox': 'Foreign',\n",
       "  'BMW 320i': 'Foreign',\n",
       "  'Datsun 200': 'Foreign',\n",
       "  'Datsun 210': 'Foreign',\n",
       "  'Datsun 510': 'Foreign',\n",
       "  'Datsun 810': 'Foreign',\n",
       "  'Fiat Strada': 'Foreign',\n",
       "  'Honda Accord': 'Foreign',\n",
       "  'Honda Civic': 'Foreign',\n",
       "  'Mazda GLC': 'Foreign',\n",
       "  'Peugeot 604': 'Foreign',\n",
       "  'Renault Le Car': 'Foreign',\n",
       "  'Subaru': 'Foreign',\n",
       "  'Toyota Celica': 'Foreign',\n",
       "  'Toyota Corolla': 'Foreign',\n",
       "  'Toyota Corona': 'Foreign',\n",
       "  'VW Dasher': 'Foreign',\n",
       "  'VW Diesel': 'Foreign',\n",
       "  'VW Rabbit': 'Foreign',\n",
       "  'VW Scirocco': 'Foreign',\n",
       "  'Volvo 260': 'Foreign'}}"
      ]
     },
     "execution_count": 54,
     "metadata": {},
     "output_type": "execute_result"
    }
   ],
   "source": [
    "auto_json"
   ]
  },
  {
   "cell_type": "markdown",
   "metadata": {},
   "source": [
    "No es la intención de este apartado profundizar en los archivos JSON, pero sí debemos familiarizarnos con ellos, ya que a partir de sus variantes que soportan datos geográficos, aprenderemos un poco de análisis espacial."
   ]
  }
 ],
 "metadata": {
  "kernelspec": {
   "display_name": "Python 3.10.6 ('met4op')",
   "language": "python",
   "name": "python3"
  },
  "language_info": {
   "codemirror_mode": {
    "name": "ipython",
    "version": 3
   },
   "file_extension": ".py",
   "mimetype": "text/x-python",
   "name": "python",
   "nbconvert_exporter": "python",
   "pygments_lexer": "ipython3",
   "version": "3.10.6"
  },
  "vscode": {
   "interpreter": {
    "hash": "e02978c724626fa38a10fffa78abd13c3c684205fe378caa04a3127b04117b64"
   }
  }
 },
 "nbformat": 4,
 "nbformat_minor": 4
}
