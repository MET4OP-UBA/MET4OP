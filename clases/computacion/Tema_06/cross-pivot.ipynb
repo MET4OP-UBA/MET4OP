{
 "cells": [
  {
   "cell_type": "markdown",
   "id": "75e999bb-b06a-4ec2-af7f-becc9b9d4834",
   "metadata": {},
   "source": [
    "# Pandas"
   ]
  },
  {
   "cell_type": "markdown",
   "id": "e2c46637-b94f-4360-83f6-c6e138349164",
   "metadata": {},
   "source": [
    "## Pivot Table"
   ]
  },
  {
   "cell_type": "code",
   "execution_count": 7,
   "id": "0c577b43-865c-4bd9-bdef-5e2d893690c3",
   "metadata": {},
   "outputs": [],
   "source": [
    "import pandas as pd"
   ]
  },
  {
   "cell_type": "markdown",
   "id": "0d77999f-0279-4471-9f5f-2ffe545d0e2c",
   "metadata": {},
   "source": [
    "- Reorganización de los datos: Permite reestructurar el conjunto de datos para que se presente de una manera más comprensible y útil. Los valores de una columna pueden convertirse en filas, y los de una fila en columnas.\n",
    "\n",
    "- Agrupación de datos: Se puede agrupar datos por categorías o valores específicos, lo que permite resúmenes a nivel de grupo.\n",
    "\n",
    "- Agregación de datos: Los datos numéricos se pueden sumar, promediar, contar o aplicar cualquier otra función agregada para obtener información relevante sobre los grupos de datos.\n",
    "\n",
    "- Personalización: Puedes elegir qué columnas y filas utilizar como categorías, qué valores numéricos agregar, y cómo visualizar los datos (suma, promedio, conteo, etc.)."
   ]
  },
  {
   "cell_type": "code",
   "execution_count": 8,
   "id": "07b4f7b6-8907-4de1-944f-d9a193da1e9c",
   "metadata": {},
   "outputs": [
    {
     "name": "stdout",
     "output_type": "stream",
     "text": [
      "                sum                            mean                        \n",
      "Año            2020    2021    2022    2023    2020    2021    2022    2023\n",
      "Sector                                                                     \n",
      "Agricultura  5000.0  5200.0     NaN  5300.0  5000.0  5200.0     NaN  5300.0\n",
      "Industria    8000.0     NaN  8100.0  8200.0  8000.0     NaN  8100.0  8200.0\n",
      "Servicios       NaN  9000.0  9500.0     NaN     NaN  9000.0  9500.0     NaN\n"
     ]
    }
   ],
   "source": [
    "# DataFrame de ejemplo con datos ficticios\n",
    "data = {\n",
    "    'Año': [2020, 2020, 2021, 2021, 2022, 2022, 2023, 2023],\n",
    "    'Sector': ['Agricultura', 'Industria', 'Agricultura', 'Servicios', 'Industria', 'Servicios', 'Agricultura', 'Industria'],\n",
    "    'Ventas': [5000, 8000, 5200, 9000, 8100, 9500, 5300, 8200]\n",
    "}\n",
    "\n",
    "df = pd.DataFrame(data)\n",
    "\n",
    "# Crear tabla pivote\n",
    "pivot_table = pd.pivot_table(df, values='Ventas', index='Sector', columns='Año', aggfunc=['sum', 'mean'])\n",
    "\n",
    "# Mostrar la tabla pivote\n",
    "print(pivot_table)\n"
   ]
  },
  {
   "cell_type": "markdown",
   "id": "6386b601-5839-4ba7-bb58-6c2ae0f1edc0",
   "metadata": {},
   "source": [
    "- df: Es el DataFrame sobre el que estamos creando la tabla pivote.\n",
    "- values='Ventas': Especifica que queremos que los valores en la tabla pivote provengan de la columna Ventas (es decir, las cifras de ventas).\n",
    "- index='Sector': Indica que los sectores económicos (Agricultura, Industria, Servicios) serán usados como las filas de la tabla pivote.\n",
    "- columns='Año': Indica que los años (2020, 2021, 2022, 2023) serán usados como las columnas de la tabla pivote.\n",
    "- aggfunc=['sum', 'mean']: Especifica que queremos agregar los datos de ventas usando las funciones de suma (sum) y promedio (mean). Esto quiere decir que la tabla mostrará tanto la suma de ventas para cada sector y año, como el promedio de ventas en esos años."
   ]
  },
  {
   "cell_type": "markdown",
   "id": "031809b8-a54b-4aee-8924-29c2f92a0717",
   "metadata": {},
   "source": [
    "### CrossTabs"
   ]
  },
  {
   "cell_type": "markdown",
   "id": "d6f1d71e-800e-4985-90bd-2d952144f29a",
   "metadata": {},
   "source": [
    "- Variables categóricas: Normalmente se usa para analizar la relación entre variables cualitativas (categóricas) o discretas.\n",
    "\n",
    "- Frecuencias: Muestra el número de ocurrencias o frecuencias de combinaciones específicas de las categorías.\n",
    "\n",
    "- Distribución conjunta: Permite observar cómo se distribuyen los valores de una variable en función de otra, l-o que puede ayudar a detectar asociaciones o patrones.\n",
    "\n",
    "- Totalización: Puede incluir totales marginales, es decir, la suma de las frecuencias por filas y columnas, para mostrar las frecuencias totales de cada categoría."
   ]
  },
  {
   "cell_type": "code",
   "execution_count": 13,
   "id": "3c14b2ec-dce5-4a86-9219-18ab6fbb77cd",
   "metadata": {},
   "outputs": [
    {
     "name": "stdout",
     "output_type": "stream",
     "text": [
      "Nivel_Ingreso    Alto  Bajo  Medio\n",
      "Nivel_Educativo                   \n",
      "Primaria            0     2      1\n",
      "Secundaria          0     1      1\n",
      "Universitaria       2     0      1\n"
     ]
    }
   ],
   "source": [
    "# DataFrame de ejemplo\n",
    "df = pd.DataFrame({\n",
    "    'Nivel_Educativo': ['Primaria', 'Secundaria', 'Universitaria', 'Secundaria', 'Primaria', 'Universitaria', 'Primaria', 'Universitaria'],\n",
    "    'Nivel_Ingreso': ['Bajo', 'Medio', 'Alto', 'Bajo', 'Bajo', 'Alto', 'Medio', 'Medio']\n",
    "})\n",
    "\n",
    "# Crear tabla cruzada\n",
    "cross_table = pd.crosstab(df['Nivel_Educativo'], df['Nivel_Ingreso'])\n",
    "print(cross_table)"
   ]
  },
  {
   "cell_type": "markdown",
   "id": "cb3b4b3b-63e2-4956-bd33-b32b47ee4f2a",
   "metadata": {},
   "source": [
    "- Nivel_Educativo: Los niveles educativos de las personas, que pueden ser \"Primaria\", \"Secundaria\", o \"Universitaria\".\n",
    "- Nivel_Ingreso: El nivel de ingreso de las personas, categorizado como \"Bajo\", \"Medio\", o \"Alto\".\n",
    "- df['Nivel_Educativo']: Este parámetro especifica que queremos que los niveles educativos sean las filas de la tabla cruzada.\n",
    "- df['Nivel_Ingreso']: Este parámetro indica que los niveles de ingreso serán las columnas de la tabla cruzada.\n",
    "- pd.crosstab(): El método crosstab crea una tabla que cruza estas dos variables, contando la cantidad de veces que ocurre cada combinación de nivel educativo y nivel de ingreso.\n",
    "El resultado de crosstab es una tabla donde:\n",
    "- Las filas representan los distintos niveles educativos.\n",
    "- Las columnas representan los distintos niveles de ingreso.\n",
    "- Las celdas contienen el conteo de cuántas veces ocurre cada combinación de Nivel_Educativo y Nivel_Ingreso."
   ]
  },
  {
   "cell_type": "code",
   "execution_count": null,
   "id": "1e6763ad-f47c-4c97-8ba6-0003a4d2023a",
   "metadata": {},
   "outputs": [],
   "source": []
  }
 ],
 "metadata": {
  "kernelspec": {
   "display_name": "Python 3 (ipykernel)",
   "language": "python",
   "name": "python3"
  },
  "language_info": {
   "codemirror_mode": {
    "name": "ipython",
    "version": 3
   },
   "file_extension": ".py",
   "mimetype": "text/x-python",
   "name": "python",
   "nbconvert_exporter": "python",
   "pygments_lexer": "ipython3",
   "version": "3.9.19"
  }
 },
 "nbformat": 4,
 "nbformat_minor": 5
}
