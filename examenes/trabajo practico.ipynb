{
 "cells": [
  {
   "cell_type": "code",
   "execution_count": 5,
   "source": [
    "#punto numero 1\r\n",
    "#Detector de numeros primos \r\n",
    "\r\n",
    "#La idea basicamente es crear una funcion que detecte si un numero es primo o no y en base a eso iterar en una lista determinada sumando +1 al contador cada vez que encuentra un numero primo\r\n",
    "#cuando llega al numero primo n(el que nos piden) corta la operacion y nos devuelve que numero es\r\n",
    "\r\n",
    "def esPrimo(x):\r\n",
    "    divisores = 0 #Cuntos divisores tiene. Tiene que ser 2.\r\n",
    "    contador = 1 #x=5 --- contador = 1,2,3,4,5\r\n",
    "    while divisores < 3 and contador <= x:\r\n",
    "        cociente = x/contador\r\n",
    "        if cociente.is_integer() == True:\r\n",
    "            divisores = divisores + 1\r\n",
    "        contador = contador + 1\r\n",
    "\r\n",
    "    if divisores > 2:\r\n",
    "        return False\r\n",
    "    else: \r\n",
    "        return True\r\n",
    "\r\n",
    "def contador (x) :\r\n",
    "    acumulador = 0                                    #por cada primo encontrado suma 1 y cuando llega al x buscado corta\r\n",
    "    numero = 1                                        #sirve para generar numeros 1 por 1 hasta que acumulador llegue al numero deseado, arranca por 1 ya que el primer primo es el numero 2\r\n",
    "    while acumulador < x :                            #siempre y cuando el acumulador sea menor al x buscado agrega numeros a la lista de primos\r\n",
    "        numero +=1                                    #aca se generan los numeros uno por uno asi la funcion va probandolos y sacando cual es primo y cual no\r\n",
    "        if esPrimo(numero) :                          #llama a la funcion definida anteriormente \"esPrimo\" para checkear los numeros generados anteriormente\r\n",
    "            acumulador += 1                           #cada vez que encuentra un primo le agrega 1 al acumulador\r\n",
    "    return (\"el primo numero \",x, \"es igual a\", numero)                 #devuelve la posicion y el primo  \r\n",
    "\r\n",
    "print(contador(1000))\r\n",
    "#en teoria funciona, aunque despues estaria bueno hacerlo mas lindo con un imput para poner x y ver si se puede hacer mas rapido todo"
   ],
   "outputs": [
    {
     "output_type": "stream",
     "name": "stdout",
     "text": [
      "('el primo numero ', 1000, 'es igual a', 7919)\n"
     ]
    }
   ],
   "metadata": {}
  }
 ],
 "metadata": {
  "orig_nbformat": 4,
  "language_info": {
   "name": "python",
   "version": "3.8.8",
   "mimetype": "text/x-python",
   "codemirror_mode": {
    "name": "ipython",
    "version": 3
   },
   "pygments_lexer": "ipython3",
   "nbconvert_exporter": "python",
   "file_extension": ".py"
  },
  "kernelspec": {
   "name": "python3",
   "display_name": "Python 3.8.8 64-bit ('base': conda)"
  },
  "interpreter": {
   "hash": "5ee03c025ecb2f378fd5d2aaa2624abdeb98f861818a99abb51d00849b4c6f80"
  }
 },
 "nbformat": 4,
 "nbformat_minor": 2
}